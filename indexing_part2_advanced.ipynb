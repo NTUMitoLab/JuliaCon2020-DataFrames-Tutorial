{
 "cells": [
  {
   "cell_type": "markdown",
   "metadata": {},
   "source": [
    "# A deep dive into DataFrames.jl indexing\n",
    "# Part 2: implementation of indexing in DataFrames.jl\n",
    "### Bogumił Kamiński"
   ]
  },
  {
   "cell_type": "code",
   "execution_count": 1,
   "metadata": {},
   "outputs": [],
   "source": [
    "using DataFrames"
   ]
  },
  {
   "cell_type": "code",
   "execution_count": 2,
   "metadata": {},
   "outputs": [
    {
     "data": {
      "text/html": [
       "<table class=\"data-frame\"><thead><tr><th></th></tr><tr><th></th></tr></thead><tbody><p>0 rows × 0 columns</p></tbody></table>"
      ],
      "text/latex": [
       "\\begin{tabular}{r|}\n",
       "\t& \\\\\n",
       "\t\\hline\n",
       "\t& \\\\\n",
       "\t\\hline\n",
       "\\end{tabular}\n"
      ],
      "text/plain": [
       "0×0 DataFrame\n"
      ]
     },
     "execution_count": 2,
     "metadata": {},
     "output_type": "execute_result"
    }
   ],
   "source": [
    "df = DataFrame()"
   ]
  },
  {
   "cell_type": "code",
   "execution_count": 3,
   "metadata": {},
   "outputs": [
    {
     "data": {
      "text/plain": [
       "(0, 0)"
      ]
     },
     "execution_count": 3,
     "metadata": {},
     "output_type": "execute_result"
    }
   ],
   "source": [
    "size(df)"
   ]
  },
  {
   "cell_type": "markdown",
   "metadata": {},
   "source": [
    "we get that number of rows is `0` but actually for `setindex!` it is treated as *undefined*"
   ]
  },
  {
   "cell_type": "code",
   "execution_count": 8,
   "metadata": {},
   "outputs": [
    {
     "data": {
      "text/plain": [
       "3-element Array{Int64,1}:\n",
       " 1\n",
       " 2\n",
       " 3"
      ]
     },
     "execution_count": 8,
     "metadata": {},
     "output_type": "execute_result"
    }
   ],
   "source": [
    "df.x = [1, 2, 3]"
   ]
  },
  {
   "cell_type": "code",
   "execution_count": 9,
   "metadata": {},
   "outputs": [
    {
     "data": {
      "text/html": [
       "<table class=\"data-frame\"><thead><tr><th></th><th>x</th></tr><tr><th></th><th>Int64</th></tr></thead><tbody><p>3 rows × 1 columns</p><tr><th>1</th><td>1</td></tr><tr><th>2</th><td>2</td></tr><tr><th>3</th><td>3</td></tr></tbody></table>"
      ],
      "text/latex": [
       "\\begin{tabular}{r|c}\n",
       "\t& x\\\\\n",
       "\t\\hline\n",
       "\t& Int64\\\\\n",
       "\t\\hline\n",
       "\t1 & 1 \\\\\n",
       "\t2 & 2 \\\\\n",
       "\t3 & 3 \\\\\n",
       "\\end{tabular}\n"
      ],
      "text/plain": [
       "3×1 DataFrame\n",
       "│ Row │ x     │\n",
       "│     │ \u001b[90mInt64\u001b[39m │\n",
       "├─────┼───────┤\n",
       "│ 1   │ 1     │\n",
       "│ 2   │ 2     │\n",
       "│ 3   │ 3     │"
      ]
     },
     "execution_count": 9,
     "metadata": {},
     "output_type": "execute_result"
    }
   ],
   "source": [
    "df"
   ]
  },
  {
   "cell_type": "code",
   "execution_count": 10,
   "metadata": {},
   "outputs": [
    {
     "ename": "ArgumentError",
     "evalue": "ArgumentError: New columns must have the same length as old columns",
     "output_type": "error",
     "traceback": [
      "ArgumentError: New columns must have the same length as old columns",
      "",
      "Stacktrace:",
      " [1] insert_single_column!(::DataFrame, ::Array{Int64,1}, ::Symbol) at D:\\AppData\\.julia\\packages\\DataFrames\\htZzm\\src\\dataframe\\dataframe.jl:496",
      " [2] setindex! at D:\\AppData\\.julia\\packages\\DataFrames\\htZzm\\src\\dataframe\\dataframe.jl:544 [inlined]",
      " [3] setproperty!(::DataFrame, ::Symbol, ::Array{Int64,1}) at D:\\AppData\\.julia\\packages\\DataFrames\\htZzm\\src\\dataframe\\dataframe.jl:550",
      " [4] top-level scope at In[10]:1"
     ]
    }
   ],
   "source": [
    "df.y = [1,2]"
   ]
  },
  {
   "cell_type": "markdown",
   "metadata": {},
   "source": [
    "but for `broadcast!` it is treated as `0` rows (we have to assume something)"
   ]
  },
  {
   "cell_type": "code",
   "execution_count": 11,
   "metadata": {},
   "outputs": [
    {
     "data": {
      "text/plain": [
       "Int64[]"
      ]
     },
     "execution_count": 11,
     "metadata": {},
     "output_type": "execute_result"
    }
   ],
   "source": [
    "df = DataFrame()\n",
    "df[!, :x] .= 1"
   ]
  },
  {
   "cell_type": "code",
   "execution_count": 12,
   "metadata": {},
   "outputs": [
    {
     "data": {
      "text/html": [
       "<table class=\"data-frame\"><thead><tr><th></th><th>x</th></tr><tr><th></th><th>Int64</th></tr></thead><tbody><p>0 rows × 1 columns</p></tbody></table>"
      ],
      "text/latex": [
       "\\begin{tabular}{r|c}\n",
       "\t& x\\\\\n",
       "\t\\hline\n",
       "\t& Int64\\\\\n",
       "\t\\hline\n",
       "\\end{tabular}\n"
      ],
      "text/plain": [
       "0×1 DataFrame\n"
      ]
     },
     "execution_count": 12,
     "metadata": {},
     "output_type": "execute_result"
    }
   ],
   "source": [
    "df"
   ]
  },
  {
   "cell_type": "markdown",
   "metadata": {},
   "source": [
    "Now a most common question is why the following statement fails:"
   ]
  },
  {
   "cell_type": "code",
   "execution_count": 13,
   "metadata": {},
   "outputs": [
    {
     "ename": "ArgumentError",
     "evalue": "ArgumentError: column name :y not found in the data frame; existing most similar names are: :x",
     "output_type": "error",
     "traceback": [
      "ArgumentError: column name :y not found in the data frame; existing most similar names are: :x",
      "",
      "Stacktrace:",
      " [1] lookupname at D:\\AppData\\.julia\\packages\\DataFrames\\htZzm\\src\\other\\index.jl:289 [inlined]",
      " [2] getindex at D:\\AppData\\.julia\\packages\\DataFrames\\htZzm\\src\\other\\index.jl:295 [inlined]",
      " [3] getindex(::DataFrame, ::typeof(!), ::Symbol) at D:\\AppData\\.julia\\packages\\DataFrames\\htZzm\\src\\dataframe\\dataframe.jl:435",
      " [4] getproperty(::DataFrame, ::Symbol) at D:\\AppData\\.julia\\packages\\DataFrames\\htZzm\\src\\abstractdataframe\\abstractdataframe.jl:346",
      " [5] top-level scope at In[13]:1"
     ]
    }
   ],
   "source": [
    "df.y .= 1"
   ]
  },
  {
   "cell_type": "markdown",
   "metadata": {},
   "source": [
    "while this works:"
   ]
  },
  {
   "cell_type": "code",
   "execution_count": 14,
   "metadata": {},
   "outputs": [
    {
     "data": {
      "text/plain": [
       "Int64[]"
      ]
     },
     "execution_count": 14,
     "metadata": {},
     "output_type": "execute_result"
    }
   ],
   "source": [
    "df[!, :y] .= 1"
   ]
  },
  {
   "cell_type": "code",
   "execution_count": 15,
   "metadata": {},
   "outputs": [
    {
     "data": {
      "text/html": [
       "<table class=\"data-frame\"><thead><tr><th></th><th>x</th><th>y</th></tr><tr><th></th><th>Int64</th><th>Int64</th></tr></thead><tbody><p>0 rows × 2 columns</p></tbody></table>"
      ],
      "text/latex": [
       "\\begin{tabular}{r|cc}\n",
       "\t& x & y\\\\\n",
       "\t\\hline\n",
       "\t& Int64 & Int64\\\\\n",
       "\t\\hline\n",
       "\\end{tabular}\n"
      ],
      "text/plain": [
       "0×2 DataFrame\n"
      ]
     },
     "execution_count": 15,
     "metadata": {},
     "output_type": "execute_result"
    }
   ],
   "source": [
    "df"
   ]
  },
  {
   "cell_type": "markdown",
   "metadata": {},
   "source": [
    "To understand this consider:"
   ]
  },
  {
   "cell_type": "code",
   "execution_count": 16,
   "metadata": {},
   "outputs": [
    {
     "name": "stdout",
     "output_type": "stream",
     "text": [
      "Variables\n",
      "  #self#\u001b[36m::Core.Compiler.Const(var\"#1#2\"(), false)\u001b[39m\n",
      "  df\u001b[36m::DataFrame\u001b[39m\n",
      "\n",
      "Body\u001b[91m\u001b[1m::Any\u001b[22m\u001b[39m\n",
      "\u001b[90m1 ─\u001b[39m %1 = Base.getproperty(df, :z)\u001b[91m\u001b[1m::AbstractArray{T,1} where T\u001b[22m\u001b[39m\n",
      "\u001b[90m│  \u001b[39m %2 = Base.broadcasted(Base.identity, 1)\u001b[36m::Core.Compiler.Const(Base.Broadcast.Broadcasted(identity, (1,)), false)\u001b[39m\n",
      "\u001b[90m│  \u001b[39m %3 = Base.materialize!(%1, %2)\u001b[91m\u001b[1m::Any\u001b[22m\u001b[39m\n",
      "\u001b[90m└──\u001b[39m      return %3\n"
     ]
    }
   ],
   "source": [
    "@code_warntype (df -> df.z .= 1)(df)"
   ]
  },
  {
   "cell_type": "markdown",
   "metadata": {},
   "source": [
    "vs"
   ]
  },
  {
   "cell_type": "code",
   "execution_count": 17,
   "metadata": {},
   "outputs": [
    {
     "name": "stdout",
     "output_type": "stream",
     "text": [
      "Variables\n",
      "  #self#\u001b[36m::Core.Compiler.Const(var\"#3#4\"(), false)\u001b[39m\n",
      "  df\u001b[36m::DataFrame\u001b[39m\n",
      "\n",
      "Body\u001b[91m\u001b[1m::Any\u001b[22m\u001b[39m\n",
      "\u001b[90m1 ─\u001b[39m %1 = Base.dotview(df, Main.:(:), :z)\u001b[91m\u001b[1m::Union{DataFrames.LazyNewColDataFrame{Symbol}, SubArray}\u001b[22m\u001b[39m\n",
      "\u001b[90m│  \u001b[39m %2 = Base.broadcasted(Base.identity, 1)\u001b[36m::Core.Compiler.Const(Base.Broadcast.Broadcasted(identity, (1,)), false)\u001b[39m\n",
      "\u001b[90m│  \u001b[39m %3 = Base.materialize!(%1, %2)\u001b[91m\u001b[1m::Any\u001b[22m\u001b[39m\n",
      "\u001b[90m└──\u001b[39m      return %3\n"
     ]
    }
   ],
   "source": [
    "@code_warntype (df -> df[:, :z] .= 1)(df)"
   ]
  },
  {
   "cell_type": "markdown",
   "metadata": {},
   "source": [
    "We see that in `df.z .= 1` Julia does the following steps:\n",
    "1. takes a property `:z` from `df`\n",
    "2. does broadcasting into the result of `df.z`\n",
    "\n",
    "And since `:z` does not exist in `df` we get an error."
   ]
  },
  {
   "cell_type": "markdown",
   "metadata": {},
   "source": [
    "Now note that if we do"
   ]
  },
  {
   "cell_type": "code",
   "execution_count": 18,
   "metadata": {},
   "outputs": [
    {
     "ename": "MethodError",
     "evalue": "MethodError: Cannot `convert` an object of type String to an object of type Int64\nClosest candidates are:\n  convert(::Type{T}, !Matched::T) where T<:Number at number.jl:6\n  convert(::Type{T}, !Matched::Number) where T<:Number at number.jl:7\n  convert(::Type{T}, !Matched::Ptr) where T<:Integer at pointer.jl:23\n  ...",
     "output_type": "error",
     "traceback": [
      "MethodError: Cannot `convert` an object of type String to an object of type Int64\nClosest candidates are:\n  convert(::Type{T}, !Matched::T) where T<:Number at number.jl:6\n  convert(::Type{T}, !Matched::Number) where T<:Number at number.jl:7\n  convert(::Type{T}, !Matched::Ptr) where T<:Integer at pointer.jl:23\n  ...",
      "",
      "Stacktrace:",
      " [1] fill!(::Array{Int64,1}, ::String) at .\\array.jl:357",
      " [2] copyto! at .\\broadcast.jl:894 [inlined]",
      " [3] materialize! at .\\broadcast.jl:848 [inlined]",
      " [4] materialize!(::Array{Int64,1}, ::Base.Broadcast.Broadcasted{Base.Broadcast.DefaultArrayStyle{0},Nothing,typeof(identity),Tuple{Base.RefValue{String}}}) at .\\broadcast.jl:845",
      " [5] top-level scope at In[18]:1"
     ]
    }
   ],
   "source": [
    "df.x .= \"a\""
   ]
  },
  {
   "cell_type": "markdown",
   "metadata": {},
   "source": [
    "We also get an error. Now we understand why - we try to broadcast `\"a\"` into `df.x` which allows only integer values."
   ]
  },
  {
   "cell_type": "markdown",
   "metadata": {},
   "source": [
    "Now what happens in `df[:, :z] .= 1` is that try to broadcast into a result of `Base.dotview(df, :, :z)`.\n",
    "\n",
    "Let us check what it returns:"
   ]
  },
  {
   "cell_type": "code",
   "execution_count": 19,
   "metadata": {},
   "outputs": [
    {
     "data": {
      "text/plain": [
       "DataFrames.LazyNewColDataFrame{Symbol}(0×2 DataFrame\n",
       ", :z)"
      ]
     },
     "execution_count": 19,
     "metadata": {},
     "output_type": "execute_result"
    }
   ],
   "source": [
    "Base.dotview(df, :, :z)"
   ]
  },
  {
   "cell_type": "code",
   "execution_count": 20,
   "metadata": {},
   "outputs": [
    {
     "data": {
      "text/plain": [
       "0-element view(::Array{Int64,1}, :) with eltype Int64"
      ]
     },
     "execution_count": 20,
     "metadata": {},
     "output_type": "execute_result"
    }
   ],
   "source": [
    "Base.dotview(df, :, :x)"
   ]
  },
  {
   "cell_type": "code",
   "execution_count": 22,
   "metadata": {},
   "outputs": [
    {
     "data": {
      "text/plain": [
       "DataFrames.LazyNewColDataFrame{Symbol}(0×2 DataFrame\n",
       ", :z)"
      ]
     },
     "execution_count": 22,
     "metadata": {},
     "output_type": "execute_result"
    }
   ],
   "source": [
    "Base.dotview(df, !, :z)"
   ]
  },
  {
   "cell_type": "code",
   "execution_count": 23,
   "metadata": {},
   "outputs": [
    {
     "data": {
      "text/plain": [
       "DataFrames.LazyNewColDataFrame{Symbol}(0×2 DataFrame\n",
       ", :x)"
      ]
     },
     "execution_count": 23,
     "metadata": {},
     "output_type": "execute_result"
    }
   ],
   "source": [
    "Base.dotview(df, !, :x)"
   ]
  },
  {
   "cell_type": "markdown",
   "metadata": {},
   "source": [
    "So we can see that:\n",
    "1. if we use `df[:, :x]` (an existing column) - we get just a view into it; a particular consequence is that we cannot cheange the `eltype` of the column (just like with `df.x .= 1`)\n",
    "2. if we use `df[!, ...]` (any column) or `df[:, :z]` (non existing column) we get a `LazyNewColDataFrame` object.\n",
    "\n",
    "Let us try to understand what `LazyNewColDataFrame` does."
   ]
  },
  {
   "cell_type": "markdown",
   "metadata": {},
   "source": [
    "First check what needs to be implemented for custom broadcasting to work: https://docs.julialang.org/en/latest/manual/interfaces/#man-interfaces-broadcasting-1"
   ]
  },
  {
   "cell_type": "code",
   "execution_count": 27,
   "metadata": {},
   "outputs": [
    {
     "data": {
      "text/html": [
       "# 1 method for generic function <b>copyto!</b>:<ul><li> copyto!(lazydf::<b>DataFrames.LazyNewColDataFrame</b>, bc::<b>Base.Broadcast.Broadcasted{T,Axes,F,Args} where Args<:Tuple where F where Axes</b>)<i> where T</i> in DataFrames at <a href=\"file://D:/AppData/.julia/packages/DataFrames/htZzm/src/other/broadcasting.jl\" target=\"_blank\">D:\\AppData\\.julia\\packages\\DataFrames\\htZzm\\src\\other\\broadcasting.jl:124</a></li> </ul>"
      ],
      "text/plain": [
       "# 1 method for generic function \"copyto!\":\n",
       "[1] copyto!(lazydf::DataFrames.LazyNewColDataFrame, bc::Base.Broadcast.Broadcasted{T,Axes,F,Args} where Args<:Tuple where F where Axes) where T in DataFrames at D:\\AppData\\.julia\\packages\\DataFrames\\htZzm\\src\\other\\broadcasting.jl:124"
      ]
     },
     "execution_count": 27,
     "metadata": {},
     "output_type": "execute_result"
    }
   ],
   "source": [
    "methods(copyto!, (DataFrames.LazyNewColDataFrame, Any))"
   ]
  }
 ],
 "metadata": {
  "@webio": {
   "lastCommId": null,
   "lastKernelId": null
  },
  "kernelspec": {
   "display_name": "Julia 1.5.0-rc1",
   "language": "julia",
   "name": "julia-1.5"
  },
  "language_info": {
   "file_extension": ".jl",
   "mimetype": "application/julia",
   "name": "julia",
   "version": "1.5.0"
  }
 },
 "nbformat": 4,
 "nbformat_minor": 2
}
