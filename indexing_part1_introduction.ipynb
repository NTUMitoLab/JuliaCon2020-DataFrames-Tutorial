{
 "cells": [
  {
   "cell_type": "markdown",
   "metadata": {},
   "source": [
    "# A deep dive into DataFrames.jl indexing\n",
    "# Part 1: indexing in DataFrames.jl by example\n",
    "### Bogumił Kamiński"
   ]
  },
  {
   "cell_type": "markdown",
   "metadata": {},
   "source": [
    "What are we going to cover:\n",
    "* `getindex`, a.k.a. `x[...]`\n",
    "* `setindex!`, a.k.a. `x[...] =`\n",
    "* `broadcast`, a.k.a. `fun.(x)`\n",
    "* `broadcat!`, a.k.a. `x .= ...`\n",
    "\n",
    "Indexable types that DataFrames.jl defines:\n",
    "* `DataFrame`\n",
    "* `SubDataFrame`\n",
    "* `DataFrameRow`\n",
    "* `DataFrameRows`\n",
    "* `DataFrameColumns`\n",
    "* `GroupedDataFrame`\n",
    "* `GroupKeys`\n",
    "* `GroupKey`\n",
    "* `StackedVector`\n",
    "* `RepeatedVector`"
   ]
  },
  {
   "cell_type": "markdown",
   "metadata": {},
   "source": [
    "### Environment setup"
   ]
  },
  {
   "cell_type": "code",
   "execution_count": 1,
   "metadata": {},
   "outputs": [],
   "source": [
    "using DataFrames"
   ]
  },
  {
   "cell_type": "code",
   "execution_count": 2,
   "metadata": {},
   "outputs": [],
   "source": [
    "using CSV"
   ]
  },
  {
   "cell_type": "code",
   "execution_count": 3,
   "metadata": {},
   "outputs": [],
   "source": [
    "using BenchmarkTools"
   ]
  },
  {
   "cell_type": "code",
   "execution_count": 4,
   "metadata": {},
   "outputs": [],
   "source": [
    "using Dates"
   ]
  },
  {
   "cell_type": "code",
   "execution_count": 5,
   "metadata": {},
   "outputs": [],
   "source": [
    "using Statistics"
   ]
  },
  {
   "cell_type": "code",
   "execution_count": 6,
   "metadata": {},
   "outputs": [
    {
     "data": {
      "text/plain": [
       "500"
      ]
     },
     "execution_count": 6,
     "metadata": {},
     "output_type": "execute_result"
    }
   ],
   "source": [
    "ENV[\"COLUMNS\"] = 500 # allow output up to 500 characters wide not to be truncated when displayed"
   ]
  },
  {
   "cell_type": "code",
   "execution_count": 7,
   "metadata": {},
   "outputs": [
    {
     "data": {
      "text/plain": [
       "15"
      ]
     },
     "execution_count": 7,
     "metadata": {},
     "output_type": "execute_result"
    }
   ],
   "source": [
    "ENV[\"LINES\"] = 15 # we do not need to see too many lines in the examples we work with"
   ]
  },
  {
   "cell_type": "code",
   "execution_count": 8,
   "metadata": {
    "scrolled": false
   },
   "outputs": [
    {
     "data": {
      "text/html": [
       "<table class=\"data-frame\"><thead><tr><th></th><th>date</th><th>volume</th><th>open</th><th>high</th><th>low</th><th>close</th><th>adjclose</th><th>symbol</th></tr><tr><th></th><th>Date</th><th>Int64</th><th>Float64</th><th>Float64</th><th>Float64</th><th>Float64</th><th>Float64</th><th>String</th></tr></thead><tbody><p>6,852,038 rows × 8 columns</p><tr><th>1</th><td>2020-07-02</td><td>257500</td><td>17.64</td><td>17.74</td><td>17.62</td><td>17.71</td><td>17.71</td><td>AAAU</td></tr><tr><th>2</th><td>2020-07-01</td><td>468100</td><td>17.73</td><td>17.73</td><td>17.54</td><td>17.68</td><td>17.68</td><td>AAAU</td></tr><tr><th>3</th><td>2020-06-30</td><td>319100</td><td>17.65</td><td>17.8</td><td>17.61</td><td>17.78</td><td>17.78</td><td>AAAU</td></tr><tr><th>4</th><td>2020-06-29</td><td>405500</td><td>17.67</td><td>17.69</td><td>17.63</td><td>17.68</td><td>17.68</td><td>AAAU</td></tr><tr><th>5</th><td>2020-06-26</td><td>335100</td><td>17.49</td><td>17.67</td><td>17.42</td><td>17.67</td><td>17.67</td><td>AAAU</td></tr><tr><th>6</th><td>2020-06-25</td><td>246800</td><td>17.6</td><td>17.6</td><td>17.52</td><td>17.59</td><td>17.59</td><td>AAAU</td></tr><tr><th>7</th><td>2020-06-24</td><td>329200</td><td>17.61</td><td>17.71</td><td>17.56</td><td>17.61</td><td>17.61</td><td>AAAU</td></tr><tr><th>8</th><td>2020-06-23</td><td>351800</td><td>17.55</td><td>17.66</td><td>17.55</td><td>17.66</td><td>17.66</td><td>AAAU</td></tr><tr><th>9</th><td>2020-06-22</td><td>308300</td><td>17.5</td><td>17.57</td><td>17.44</td><td>17.5</td><td>17.5</td><td>AAAU</td></tr><tr><th>10</th><td>2020-06-19</td><td>153800</td><td>17.27</td><td>17.4</td><td>17.26</td><td>17.4</td><td>17.4</td><td>AAAU</td></tr><tr><th>11</th><td>2020-06-18</td><td>102200</td><td>17.27</td><td>17.27</td><td>17.14</td><td>17.23</td><td>17.23</td><td>AAAU</td></tr><tr><th>12</th><td>2020-06-17</td><td>153900</td><td>17.19</td><td>17.25</td><td>17.16</td><td>17.25</td><td>17.25</td><td>AAAU</td></tr><tr><th>13</th><td>2020-06-16</td><td>165800</td><td>17.15</td><td>17.25</td><td>17.11</td><td>17.21</td><td>17.21</td><td>AAAU</td></tr><tr><th>14</th><td>2020-06-15</td><td>308700</td><td>17.03</td><td>17.23</td><td>17.0</td><td>17.2</td><td>17.2</td><td>AAAU</td></tr><tr><th>15</th><td>2020-06-12</td><td>161400</td><td>17.34</td><td>17.37</td><td>17.25</td><td>17.27</td><td>17.27</td><td>AAAU</td></tr><tr><th>&vellip;</th><td>&vellip;</td><td>&vellip;</td><td>&vellip;</td><td>&vellip;</td><td>&vellip;</td><td>&vellip;</td><td>&vellip;</td><td>&vellip;</td></tr></tbody></table>"
      ],
      "text/latex": [
       "\\begin{tabular}{r|cccccccc}\n",
       "\t& date & volume & open & high & low & close & adjclose & symbol\\\\\n",
       "\t\\hline\n",
       "\t& Date & Int64 & Float64 & Float64 & Float64 & Float64 & Float64 & String\\\\\n",
       "\t\\hline\n",
       "\t1 & 2020-07-02 & 257500 & 17.64 & 17.74 & 17.62 & 17.71 & 17.71 & AAAU \\\\\n",
       "\t2 & 2020-07-01 & 468100 & 17.73 & 17.73 & 17.54 & 17.68 & 17.68 & AAAU \\\\\n",
       "\t3 & 2020-06-30 & 319100 & 17.65 & 17.8 & 17.61 & 17.78 & 17.78 & AAAU \\\\\n",
       "\t4 & 2020-06-29 & 405500 & 17.67 & 17.69 & 17.63 & 17.68 & 17.68 & AAAU \\\\\n",
       "\t5 & 2020-06-26 & 335100 & 17.49 & 17.67 & 17.42 & 17.67 & 17.67 & AAAU \\\\\n",
       "\t6 & 2020-06-25 & 246800 & 17.6 & 17.6 & 17.52 & 17.59 & 17.59 & AAAU \\\\\n",
       "\t7 & 2020-06-24 & 329200 & 17.61 & 17.71 & 17.56 & 17.61 & 17.61 & AAAU \\\\\n",
       "\t8 & 2020-06-23 & 351800 & 17.55 & 17.66 & 17.55 & 17.66 & 17.66 & AAAU \\\\\n",
       "\t9 & 2020-06-22 & 308300 & 17.5 & 17.57 & 17.44 & 17.5 & 17.5 & AAAU \\\\\n",
       "\t10 & 2020-06-19 & 153800 & 17.27 & 17.4 & 17.26 & 17.4 & 17.4 & AAAU \\\\\n",
       "\t11 & 2020-06-18 & 102200 & 17.27 & 17.27 & 17.14 & 17.23 & 17.23 & AAAU \\\\\n",
       "\t12 & 2020-06-17 & 153900 & 17.19 & 17.25 & 17.16 & 17.25 & 17.25 & AAAU \\\\\n",
       "\t13 & 2020-06-16 & 165800 & 17.15 & 17.25 & 17.11 & 17.21 & 17.21 & AAAU \\\\\n",
       "\t14 & 2020-06-15 & 308700 & 17.03 & 17.23 & 17.0 & 17.2 & 17.2 & AAAU \\\\\n",
       "\t15 & 2020-06-12 & 161400 & 17.34 & 17.37 & 17.25 & 17.27 & 17.27 & AAAU \\\\\n",
       "\t$\\dots$ & $\\dots$ & $\\dots$ & $\\dots$ & $\\dots$ & $\\dots$ & $\\dots$ & $\\dots$ & $\\dots$ \\\\\n",
       "\\end{tabular}\n"
      ],
      "text/plain": [
       "6852038×8 DataFrame\n",
       "│ Row     │ date       │ volume │ open    │ high    │ low     │ close   │ adjclose │ symbol │\n",
       "│         │ \u001b[90mDate\u001b[39m       │ \u001b[90mInt64\u001b[39m  │ \u001b[90mFloat64\u001b[39m │ \u001b[90mFloat64\u001b[39m │ \u001b[90mFloat64\u001b[39m │ \u001b[90mFloat64\u001b[39m │ \u001b[90mFloat64\u001b[39m  │ \u001b[90mString\u001b[39m │\n",
       "├─────────┼────────────┼────────┼─────────┼─────────┼─────────┼─────────┼──────────┼────────┤\n",
       "│ 1       │ 2020-07-02 │ 257500 │ 17.64   │ 17.74   │ 17.62   │ 17.71   │ 17.71    │ AAAU   │\n",
       "│ 2       │ 2020-07-01 │ 468100 │ 17.73   │ 17.73   │ 17.54   │ 17.68   │ 17.68    │ AAAU   │\n",
       "│ 3       │ 2020-06-30 │ 319100 │ 17.65   │ 17.8    │ 17.61   │ 17.78   │ 17.78    │ AAAU   │\n",
       "⋮\n",
       "│ 6852035 │ 2015-01-09 │ 200    │ 0.15    │ 0.15    │ 0.15    │ 0.15    │ 0.146038 │ ZYXI   │\n",
       "│ 6852036 │ 2015-01-07 │ 8100   │ 0.14    │ 0.15    │ 0.13    │ 0.15    │ 0.146038 │ ZYXI   │\n",
       "│ 6852037 │ 2015-01-05 │ 33200  │ 0.22    │ 0.22    │ 0.14    │ 0.16    │ 0.155774 │ ZYXI   │\n",
       "│ 6852038 │ 2015-01-02 │ 100    │ 0.18    │ 0.18    │ 0.18    │ 0.18    │ 0.175245 │ ZYXI   │"
      ]
     },
     "execution_count": 8,
     "metadata": {},
     "output_type": "execute_result"
    }
   ],
   "source": [
    "df = CSV.File(\"fh_5yrs.csv\") |> DataFrame"
   ]
  },
  {
   "cell_type": "markdown",
   "metadata": {},
   "source": [
    "#### Warm up exercises"
   ]
  },
  {
   "cell_type": "markdown",
   "metadata": {},
   "source": [
    "*Get short description of columns in our data frame*"
   ]
  },
  {
   "cell_type": "code",
   "execution_count": null,
   "metadata": {},
   "outputs": [],
   "source": []
  },
  {
   "cell_type": "markdown",
   "metadata": {},
   "source": [
    "(see https://github.com/JuliaData/DataFrames.jl/issues/2269 for a discussion of the design decisions here, feel free to comment there if you have an opinion)"
   ]
  },
  {
   "cell_type": "markdown",
   "metadata": {},
   "source": [
    "*Get information about exact types of the columns stored in the data frame*"
   ]
  },
  {
   "cell_type": "code",
   "execution_count": null,
   "metadata": {},
   "outputs": [],
   "source": []
  },
  {
   "cell_type": "markdown",
   "metadata": {},
   "source": [
    "*Get names of columns as strings*"
   ]
  },
  {
   "cell_type": "code",
   "execution_count": null,
   "metadata": {},
   "outputs": [],
   "source": []
  },
  {
   "cell_type": "markdown",
   "metadata": {},
   "source": [
    "*Get names of columns as `Symbol`s*"
   ]
  },
  {
   "cell_type": "code",
   "execution_count": null,
   "metadata": {},
   "outputs": [],
   "source": []
  },
  {
   "cell_type": "markdown",
   "metadata": {},
   "source": [
    "## `getindex`"
   ]
  },
  {
   "cell_type": "markdown",
   "metadata": {},
   "source": [
    "Get a single column as a whole without copying"
   ]
  },
  {
   "cell_type": "code",
   "execution_count": 9,
   "metadata": {},
   "outputs": [
    {
     "data": {
      "text/plain": [
       "1-element Array{Array{Date,1},1}:\n",
       " [Date(\"2020-07-02\"), Date(\"2020-07-01\"), Date(\"2020-06-30\"), Date(\"2020-06-29\"), Date(\"2020-06-26\"), Date(\"2020-06-25\"), Date(\"2020-06-24\"), Date(\"2020-06-23\"), Date(\"2020-06-22\"), Date(\"2020-06-19\")  …  Date(\"2015-01-21\"), Date(\"2015-01-20\"), Date(\"2015-01-16\"), Date(\"2015-01-14\"), Date(\"2015-01-13\"), Date(\"2015-01-12\"), Date(\"2015-01-09\"), Date(\"2015-01-07\"), Date(\"2015-01-05\"), Date(\"2015-01-02\")]"
      ]
     },
     "execution_count": 9,
     "metadata": {},
     "output_type": "execute_result"
    }
   ],
   "source": [
    "unique([df.date,\n",
    "        df.\"date\",\n",
    "        df[!, 1],\n",
    "        df[!, :date],\n",
    "        df[!, \"date\"]])"
   ]
  },
  {
   "cell_type": "code",
   "execution_count": 10,
   "metadata": {},
   "outputs": [
    {
     "data": {
      "text/plain": [
       "1-element Array{Array{Date,1},1}:\n",
       " [Date(\"2020-07-02\"), Date(\"2020-07-01\"), Date(\"2020-06-30\"), Date(\"2020-06-29\"), Date(\"2020-06-26\"), Date(\"2020-06-25\"), Date(\"2020-06-24\"), Date(\"2020-06-23\"), Date(\"2020-06-22\"), Date(\"2020-06-19\")  …  Date(\"2015-01-21\"), Date(\"2015-01-20\"), Date(\"2015-01-16\"), Date(\"2015-01-14\"), Date(\"2015-01-13\"), Date(\"2015-01-12\"), Date(\"2015-01-09\"), Date(\"2015-01-07\"), Date(\"2015-01-05\"), Date(\"2015-01-02\")]"
      ]
     },
     "execution_count": 10,
     "metadata": {},
     "output_type": "execute_result"
    }
   ],
   "source": [
    "unique([getproperty(df, :date),\n",
    "        getproperty(df, \"date\"),\n",
    "        getindex(df, !, 1),\n",
    "        getindex(df, !, :date),\n",
    "        getindex(df,!, \"date\")])"
   ]
  },
  {
   "cell_type": "markdown",
   "metadata": {},
   "source": [
    "Get a single column as a whole with copying"
   ]
  },
  {
   "cell_type": "code",
   "execution_count": 11,
   "metadata": {},
   "outputs": [
    {
     "data": {
      "text/plain": [
       "1-element Array{Array{Date,1},1}:\n",
       " [Date(\"2020-07-02\"), Date(\"2020-07-01\"), Date(\"2020-06-30\"), Date(\"2020-06-29\"), Date(\"2020-06-26\"), Date(\"2020-06-25\"), Date(\"2020-06-24\"), Date(\"2020-06-23\"), Date(\"2020-06-22\"), Date(\"2020-06-19\")  …  Date(\"2015-01-21\"), Date(\"2015-01-20\"), Date(\"2015-01-16\"), Date(\"2015-01-14\"), Date(\"2015-01-13\"), Date(\"2015-01-12\"), Date(\"2015-01-09\"), Date(\"2015-01-07\"), Date(\"2015-01-05\"), Date(\"2015-01-02\")]"
      ]
     },
     "execution_count": 11,
     "metadata": {},
     "output_type": "execute_result"
    }
   ],
   "source": [
    "unique([copy(df.date),\n",
    "        copy(df.\"date\"),\n",
    "        df[:, 1],\n",
    "        df[:, :date],\n",
    "        df[:, \"date\"]])"
   ]
  },
  {
   "cell_type": "markdown",
   "metadata": {},
   "source": [
    "Let us compare the performance of various ways to get a column without copying"
   ]
  },
  {
   "cell_type": "code",
   "execution_count": 12,
   "metadata": {},
   "outputs": [
    {
     "name": "stdout",
     "output_type": "stream",
     "text": [
      "  13.326 ns (0 allocations: 0 bytes)\n",
      "  41.069 ns (0 allocations: 0 bytes)\n",
      "  4.599 ns (0 allocations: 0 bytes)\n",
      "  13.412 ns (0 allocations: 0 bytes)\n",
      "  36.894 ns (0 allocations: 0 bytes)\n"
     ]
    }
   ],
   "source": [
    "@btime $df.date\n",
    "@btime $df.\"date\"\n",
    "@btime $df[!, 1]\n",
    "@btime $df[!, :date]\n",
    "@btime $df[!, \"date\"];"
   ]
  },
  {
   "cell_type": "markdown",
   "metadata": {},
   "source": [
    "#### Exercise"
   ]
  },
  {
   "cell_type": "markdown",
   "metadata": {},
   "source": [
    "Check the same but with copying"
   ]
  },
  {
   "cell_type": "code",
   "execution_count": null,
   "metadata": {},
   "outputs": [],
   "source": []
  },
  {
   "cell_type": "markdown",
   "metadata": {},
   "source": [
    "Do you think it really matters in practice how fast is an access to column of a data frame?"
   ]
  },
  {
   "cell_type": "markdown",
   "metadata": {},
   "source": [
    "Let us check how lookup speed scales with the number of columns:"
   ]
  },
  {
   "cell_type": "code",
   "execution_count": 13,
   "metadata": {},
   "outputs": [
    {
     "name": "stdout",
     "output_type": "stream",
     "text": [
      "  0.076042 seconds (599.57 k allocations: 47.574 MiB)\n"
     ]
    },
    {
     "data": {
      "text/html": [
       "<table class=\"data-frame\"><thead><tr><th></th><th>x1</th><th>x2</th><th>x3</th><th>x4</th><th>x5</th><th>x6</th><th>x7</th><th>x8</th><th>x9</th><th>x10</th><th>x11</th><th>x12</th><th>x13</th><th>x14</th><th>x15</th><th>x16</th><th>x17</th><th>x18</th><th>x19</th><th>x20</th><th>x21</th><th>x22</th><th>x23</th><th>x24</th><th>x25</th><th>x26</th><th>x27</th><th>x28</th><th>x29</th><th>x30</th><th>x31</th><th>x32</th><th>x33</th><th>x34</th><th>x35</th><th>x36</th><th>x37</th><th>x38</th><th>x39</th><th>x40</th><th>x41</th><th>x42</th><th>x43</th><th>x44</th><th>x45</th><th>x46</th><th>x47</th><th>x48</th><th>x49</th><th>x50</th><th>x51</th><th>x52</th><th>x53</th><th>x54</th><th>x55</th><th>x56</th></tr><tr><th></th><th>Float64</th><th>Float64</th><th>Float64</th><th>Float64</th><th>Float64</th><th>Float64</th><th>Float64</th><th>Float64</th><th>Float64</th><th>Float64</th><th>Float64</th><th>Float64</th><th>Float64</th><th>Float64</th><th>Float64</th><th>Float64</th><th>Float64</th><th>Float64</th><th>Float64</th><th>Float64</th><th>Float64</th><th>Float64</th><th>Float64</th><th>Float64</th><th>Float64</th><th>Float64</th><th>Float64</th><th>Float64</th><th>Float64</th><th>Float64</th><th>Float64</th><th>Float64</th><th>Float64</th><th>Float64</th><th>Float64</th><th>Float64</th><th>Float64</th><th>Float64</th><th>Float64</th><th>Float64</th><th>Float64</th><th>Float64</th><th>Float64</th><th>Float64</th><th>Float64</th><th>Float64</th><th>Float64</th><th>Float64</th><th>Float64</th><th>Float64</th><th>Float64</th><th>Float64</th><th>Float64</th><th>Float64</th><th>Float64</th><th>Float64</th></tr></thead><tbody><p>1 rows × 100,000 columns (omitted printing of 99944 columns)</p><tr><th>1</th><td>1.0</td><td>1.0</td><td>1.0</td><td>1.0</td><td>1.0</td><td>1.0</td><td>1.0</td><td>1.0</td><td>1.0</td><td>1.0</td><td>1.0</td><td>1.0</td><td>1.0</td><td>1.0</td><td>1.0</td><td>1.0</td><td>1.0</td><td>1.0</td><td>1.0</td><td>1.0</td><td>1.0</td><td>1.0</td><td>1.0</td><td>1.0</td><td>1.0</td><td>1.0</td><td>1.0</td><td>1.0</td><td>1.0</td><td>1.0</td><td>1.0</td><td>1.0</td><td>1.0</td><td>1.0</td><td>1.0</td><td>1.0</td><td>1.0</td><td>1.0</td><td>1.0</td><td>1.0</td><td>1.0</td><td>1.0</td><td>1.0</td><td>1.0</td><td>1.0</td><td>1.0</td><td>1.0</td><td>1.0</td><td>1.0</td><td>1.0</td><td>1.0</td><td>1.0</td><td>1.0</td><td>1.0</td><td>1.0</td><td>1.0</td></tr></tbody></table>"
      ],
      "text/latex": [
       "\\begin{tabular}{r|ccccccccccccccccccccccccccccccccccccccccccccccccccccccccc}\n",
       "\t& x1 & x2 & x3 & x4 & x5 & x6 & x7 & x8 & x9 & x10 & x11 & x12 & x13 & x14 & x15 & x16 & x17 & x18 & x19 & x20 & x21 & x22 & x23 & x24 & x25 & x26 & x27 & x28 & x29 & x30 & x31 & x32 & x33 & x34 & x35 & x36 & x37 & x38 & x39 & x40 & x41 & x42 & x43 & x44 & x45 & x46 & x47 & x48 & x49 & x50 & x51 & x52 & x53 & x54 & x55 & x56 & \\\\\n",
       "\t\\hline\n",
       "\t& Float64 & Float64 & Float64 & Float64 & Float64 & Float64 & Float64 & Float64 & Float64 & Float64 & Float64 & Float64 & Float64 & Float64 & Float64 & Float64 & Float64 & Float64 & Float64 & Float64 & Float64 & Float64 & Float64 & Float64 & Float64 & Float64 & Float64 & Float64 & Float64 & Float64 & Float64 & Float64 & Float64 & Float64 & Float64 & Float64 & Float64 & Float64 & Float64 & Float64 & Float64 & Float64 & Float64 & Float64 & Float64 & Float64 & Float64 & Float64 & Float64 & Float64 & Float64 & Float64 & Float64 & Float64 & Float64 & Float64 & \\\\\n",
       "\t\\hline\n",
       "\t1 & 1.0 & 1.0 & 1.0 & 1.0 & 1.0 & 1.0 & 1.0 & 1.0 & 1.0 & 1.0 & 1.0 & 1.0 & 1.0 & 1.0 & 1.0 & 1.0 & 1.0 & 1.0 & 1.0 & 1.0 & 1.0 & 1.0 & 1.0 & 1.0 & 1.0 & 1.0 & 1.0 & 1.0 & 1.0 & 1.0 & 1.0 & 1.0 & 1.0 & 1.0 & 1.0 & 1.0 & 1.0 & 1.0 & 1.0 & 1.0 & 1.0 & 1.0 & 1.0 & 1.0 & 1.0 & 1.0 & 1.0 & 1.0 & 1.0 & 1.0 & 1.0 & 1.0 & 1.0 & 1.0 & 1.0 & 1.0 & $\\dots$ \\\\\n",
       "\\end{tabular}\n"
      ],
      "text/plain": [
       "1×100000 DataFrame. Omitted printing of 99951 columns\n",
       "│ Row │ x1      │ x2      │ x3      │ x4      │ x5      │ x6      │ x7      │ x8      │ x9      │ x10     │ x11     │ x12     │ x13     │ x14     │ x15     │ x16     │ x17     │ x18     │ x19     │ x20     │ x21     │ x22     │ x23     │ x24     │ x25     │ x26     │ x27     │ x28     │ x29     │ x30     │ x31     │ x32     │ x33     │ x34     │ x35     │ x36     │ x37     │ x38     │ x39     │ x40     │ x41     │ x42     │ x43     │ x44     │ x45     │ x46     │ x47     │ x48     │ x49     │\n",
       "│     │ \u001b[90mFloat64\u001b[39m │ \u001b[90mFloat64\u001b[39m │ \u001b[90mFloat64\u001b[39m │ \u001b[90mFloat64\u001b[39m │ \u001b[90mFloat64\u001b[39m │ \u001b[90mFloat64\u001b[39m │ \u001b[90mFloat64\u001b[39m │ \u001b[90mFloat64\u001b[39m │ \u001b[90mFloat64\u001b[39m │ \u001b[90mFloat64\u001b[39m │ \u001b[90mFloat64\u001b[39m │ \u001b[90mFloat64\u001b[39m │ \u001b[90mFloat64\u001b[39m │ \u001b[90mFloat64\u001b[39m │ \u001b[90mFloat64\u001b[39m │ \u001b[90mFloat64\u001b[39m │ \u001b[90mFloat64\u001b[39m │ \u001b[90mFloat64\u001b[39m │ \u001b[90mFloat64\u001b[39m │ \u001b[90mFloat64\u001b[39m │ \u001b[90mFloat64\u001b[39m │ \u001b[90mFloat64\u001b[39m │ \u001b[90mFloat64\u001b[39m │ \u001b[90mFloat64\u001b[39m │ \u001b[90mFloat64\u001b[39m │ \u001b[90mFloat64\u001b[39m │ \u001b[90mFloat64\u001b[39m │ \u001b[90mFloat64\u001b[39m │ \u001b[90mFloat64\u001b[39m │ \u001b[90mFloat64\u001b[39m │ \u001b[90mFloat64\u001b[39m │ \u001b[90mFloat64\u001b[39m │ \u001b[90mFloat64\u001b[39m │ \u001b[90mFloat64\u001b[39m │ \u001b[90mFloat64\u001b[39m │ \u001b[90mFloat64\u001b[39m │ \u001b[90mFloat64\u001b[39m │ \u001b[90mFloat64\u001b[39m │ \u001b[90mFloat64\u001b[39m │ \u001b[90mFloat64\u001b[39m │ \u001b[90mFloat64\u001b[39m │ \u001b[90mFloat64\u001b[39m │ \u001b[90mFloat64\u001b[39m │ \u001b[90mFloat64\u001b[39m │ \u001b[90mFloat64\u001b[39m │ \u001b[90mFloat64\u001b[39m │ \u001b[90mFloat64\u001b[39m │ \u001b[90mFloat64\u001b[39m │ \u001b[90mFloat64\u001b[39m │\n",
       "├─────┼─────────┼─────────┼─────────┼─────────┼─────────┼─────────┼─────────┼─────────┼─────────┼─────────┼─────────┼─────────┼─────────┼─────────┼─────────┼─────────┼─────────┼─────────┼─────────┼─────────┼─────────┼─────────┼─────────┼─────────┼─────────┼─────────┼─────────┼─────────┼─────────┼─────────┼─────────┼─────────┼─────────┼─────────┼─────────┼─────────┼─────────┼─────────┼─────────┼─────────┼─────────┼─────────┼─────────┼─────────┼─────────┼─────────┼─────────┼─────────┼─────────┤\n",
       "│ 1   │ 1.0     │ 1.0     │ 1.0     │ 1.0     │ 1.0     │ 1.0     │ 1.0     │ 1.0     │ 1.0     │ 1.0     │ 1.0     │ 1.0     │ 1.0     │ 1.0     │ 1.0     │ 1.0     │ 1.0     │ 1.0     │ 1.0     │ 1.0     │ 1.0     │ 1.0     │ 1.0     │ 1.0     │ 1.0     │ 1.0     │ 1.0     │ 1.0     │ 1.0     │ 1.0     │ 1.0     │ 1.0     │ 1.0     │ 1.0     │ 1.0     │ 1.0     │ 1.0     │ 1.0     │ 1.0     │ 1.0     │ 1.0     │ 1.0     │ 1.0     │ 1.0     │ 1.0     │ 1.0     │ 1.0     │ 1.0     │ 1.0     │"
      ]
     },
     "execution_count": 13,
     "metadata": {},
     "output_type": "execute_result"
    }
   ],
   "source": [
    "@time df_tmp = DataFrame(ones(1, 100_000))"
   ]
  },
  {
   "cell_type": "code",
   "execution_count": 14,
   "metadata": {},
   "outputs": [
    {
     "name": "stdout",
     "output_type": "stream",
     "text": [
      "  15.730 ns (0 allocations: 0 bytes)\n",
      "  49.898 ns (0 allocations: 0 bytes)\n",
      "  5.099 ns (0 allocations: 0 bytes)\n"
     ]
    }
   ],
   "source": [
    "@btime $df_tmp.x100000\n",
    "@btime $df_tmp.\"x100000\"\n",
    "@btime $df_tmp[!, 100000];"
   ]
  },
  {
   "cell_type": "markdown",
   "metadata": {},
   "source": [
    "Get a single column, but take a subset of rows: you can either make a copy or get a view"
   ]
  },
  {
   "cell_type": "code",
   "execution_count": 15,
   "metadata": {},
   "outputs": [
    {
     "data": {
      "text/plain": [
       "2-element Array{Date,1}:\n",
       " 2020-07-02\n",
       " 2020-07-01"
      ]
     },
     "execution_count": 15,
     "metadata": {},
     "output_type": "execute_result"
    }
   ],
   "source": [
    "df[1:2, :date]"
   ]
  },
  {
   "cell_type": "code",
   "execution_count": 16,
   "metadata": {},
   "outputs": [
    {
     "data": {
      "text/plain": [
       "2-element view(::Array{Date,1}, 1:2) with eltype Date:\n",
       " 2020-07-02\n",
       " 2020-07-01"
      ]
     },
     "execution_count": 16,
     "metadata": {},
     "output_type": "execute_result"
    }
   ],
   "source": [
    "view(df, 1:2, :date)"
   ]
  },
  {
   "cell_type": "markdown",
   "metadata": {},
   "source": [
    "this is the same as:"
   ]
  },
  {
   "cell_type": "code",
   "execution_count": 17,
   "metadata": {},
   "outputs": [
    {
     "data": {
      "text/plain": [
       "2-element Array{Date,1}:\n",
       " 2020-07-02\n",
       " 2020-07-01"
      ]
     },
     "execution_count": 17,
     "metadata": {},
     "output_type": "execute_result"
    }
   ],
   "source": [
    "df.date[1:2]"
   ]
  },
  {
   "cell_type": "code",
   "execution_count": 18,
   "metadata": {},
   "outputs": [
    {
     "data": {
      "text/plain": [
       "2-element view(::Array{Date,1}, 1:2) with eltype Date:\n",
       " 2020-07-02\n",
       " 2020-07-01"
      ]
     },
     "execution_count": 18,
     "metadata": {},
     "output_type": "execute_result"
    }
   ],
   "source": [
    "view(df.date, 1:2)"
   ]
  },
  {
   "cell_type": "markdown",
   "metadata": {},
   "source": [
    "you can use `Not` for inverted selection"
   ]
  },
  {
   "cell_type": "code",
   "execution_count": 19,
   "metadata": {},
   "outputs": [
    {
     "data": {
      "text/plain": [
       "2-element Array{Date,1}:\n",
       " 2020-07-02\n",
       " 2020-07-01"
      ]
     },
     "execution_count": 19,
     "metadata": {},
     "output_type": "execute_result"
    }
   ],
   "source": [
    "df[Not(3:end), :date]"
   ]
  },
  {
   "cell_type": "markdown",
   "metadata": {},
   "source": [
    "Get a single cell in a data frame: you can either get a value or a view"
   ]
  },
  {
   "cell_type": "code",
   "execution_count": 20,
   "metadata": {},
   "outputs": [
    {
     "data": {
      "text/plain": [
       "2020-07-02"
      ]
     },
     "execution_count": 20,
     "metadata": {},
     "output_type": "execute_result"
    }
   ],
   "source": [
    "df[1, :date]"
   ]
  },
  {
   "cell_type": "code",
   "execution_count": 21,
   "metadata": {},
   "outputs": [
    {
     "data": {
      "text/plain": [
       "0-dimensional view(::Array{Date,1}, 1) with eltype Date:\n",
       "Date(\"2020-07-02\")"
      ]
     },
     "execution_count": 21,
     "metadata": {},
     "output_type": "execute_result"
    }
   ],
   "source": [
    "view(df, 1, :date)"
   ]
  },
  {
   "cell_type": "markdown",
   "metadata": {},
   "source": [
    "#### Exercise"
   ]
  },
  {
   "cell_type": "markdown",
   "metadata": {},
   "source": [
    "In what case you might want to use a view instead of getting a value?"
   ]
  },
  {
   "cell_type": "markdown",
   "metadata": {},
   "source": [
    "Check what is the consequence of running the following lines:"
   ]
  },
  {
   "cell_type": "code",
   "execution_count": 22,
   "metadata": {},
   "outputs": [
    {
     "data": {
      "text/plain": [
       "0-dimensional view(::Array{Date,1}, 1) with eltype Date:\n",
       "Date(\"2020-07-02\")"
      ]
     },
     "execution_count": 22,
     "metadata": {},
     "output_type": "execute_result"
    }
   ],
   "source": [
    "tmp_cell = view(df, 1, :date)"
   ]
  },
  {
   "cell_type": "code",
   "execution_count": 23,
   "metadata": {},
   "outputs": [
    {
     "data": {
      "text/plain": [
       "2020-07-02"
      ]
     },
     "execution_count": 23,
     "metadata": {},
     "output_type": "execute_result"
    }
   ],
   "source": [
    "tmp_cell2 = getindex(df, 1, :date)"
   ]
  },
  {
   "cell_type": "code",
   "execution_count": 24,
   "metadata": {},
   "outputs": [
    {
     "data": {
      "text/plain": [
       "2222-07-02"
      ]
     },
     "execution_count": 24,
     "metadata": {},
     "output_type": "execute_result"
    }
   ],
   "source": [
    "tmp_cell[] = Date(\"2222-07-02\")"
   ]
  },
  {
   "cell_type": "code",
   "execution_count": null,
   "metadata": {},
   "outputs": [],
   "source": []
  },
  {
   "cell_type": "markdown",
   "metadata": {},
   "source": [
    "Revert the change we have just made"
   ]
  },
  {
   "cell_type": "markdown",
   "metadata": {},
   "source": [
    "To conclude note that with `view` there is not difference between `!` and `:`:"
   ]
  },
  {
   "cell_type": "code",
   "execution_count": 25,
   "metadata": {},
   "outputs": [
    {
     "data": {
      "text/plain": [
       "6852038-element view(::Array{Date,1}, :) with eltype Date:\n",
       " 2222-07-02\n",
       " 2020-07-01\n",
       " 2020-06-30\n",
       " 2020-06-29\n",
       " 2020-06-26\n",
       " ⋮\n",
       " 2015-01-12\n",
       " 2015-01-09\n",
       " 2015-01-07\n",
       " 2015-01-05\n",
       " 2015-01-02"
      ]
     },
     "execution_count": 25,
     "metadata": {},
     "output_type": "execute_result"
    }
   ],
   "source": [
    "@view df[!, 1]"
   ]
  },
  {
   "cell_type": "code",
   "execution_count": 26,
   "metadata": {},
   "outputs": [
    {
     "data": {
      "text/plain": [
       "6852038-element view(::Array{Date,1}, :) with eltype Date:\n",
       " 2222-07-02\n",
       " 2020-07-01\n",
       " 2020-06-30\n",
       " 2020-06-29\n",
       " 2020-06-26\n",
       " ⋮\n",
       " 2015-01-12\n",
       " 2015-01-09\n",
       " 2015-01-07\n",
       " 2015-01-05\n",
       " 2015-01-02"
      ]
     },
     "execution_count": 26,
     "metadata": {},
     "output_type": "execute_result"
    }
   ],
   "source": [
    "@view df[:, 1]"
   ]
  },
  {
   "cell_type": "markdown",
   "metadata": {},
   "source": [
    "Summary:\n",
    "\n",
    "> passing a single column as an integer, `Symbol` or string drops one dimension of\n",
    "> a data frame and allows you to select or subset a column from it"
   ]
  },
  {
   "cell_type": "markdown",
   "metadata": {},
   "source": [
    "Multiple column selection options:\n",
    "* a vector of `Symbol` (does not have to be a subtype of `AbstractVector{Symbol}`);\n",
    "* a vector of `AbstractString` (does not have to be a subtype of `AbstractVector{<:AbstractString}`);\n",
    "* a vector of `Integer` other than `Bool` (does not have to be a subtype of `AbstractVector{<:Integer}`);\n",
    "* a vector of `Bool` that has to be a subtype of `AbstractVector{Bool}`;\n",
    "* a regular expression, which gets expanded to a vector of matching column names;\n",
    "* a `Not` expression;\n",
    "* an `All` or `Between` expression;\n",
    "* a colon literal :."
   ]
  },
  {
   "cell_type": "markdown",
   "metadata": {},
   "source": [
    "The type of output depends on the row selecor:\n",
    "* if it is a single row you get a `DataFrameRow` (a dimension is dropped)\n",
    "* if it is a collection of rows you get a data frame"
   ]
  },
  {
   "cell_type": "markdown",
   "metadata": {},
   "source": [
    "Single row selection is always a view that is `DataFrameRow`:"
   ]
  },
  {
   "cell_type": "code",
   "execution_count": 27,
   "metadata": {},
   "outputs": [
    {
     "data": {
      "text/html": [
       "<p>DataFrameRow (1 columns)</p><table class=\"data-frame\"><thead><tr><th></th><th>date</th></tr><tr><th></th><th>Date</th></tr></thead><tbody><tr><th>1</th><td>2222-07-02</td></tr></tbody></table>"
      ],
      "text/latex": [
       "\\begin{tabular}{r|c}\n",
       "\t& date\\\\\n",
       "\t\\hline\n",
       "\t& Date\\\\\n",
       "\t\\hline\n",
       "\t1 & 2222-07-02 \\\\\n",
       "\\end{tabular}\n"
      ],
      "text/plain": [
       "DataFrameRow\n",
       "│ Row │ date       │\n",
       "│     │ \u001b[90mDate\u001b[39m       │\n",
       "├─────┼────────────┤\n",
       "│ 1   │ 2222-07-02 │"
      ]
     },
     "execution_count": 27,
     "metadata": {},
     "output_type": "execute_result"
    }
   ],
   "source": [
    "df[1, [:date]]"
   ]
  },
  {
   "cell_type": "code",
   "execution_count": 28,
   "metadata": {},
   "outputs": [
    {
     "data": {
      "text/html": [
       "<p>DataFrameRow (1 columns)</p><table class=\"data-frame\"><thead><tr><th></th><th>date</th></tr><tr><th></th><th>Date</th></tr></thead><tbody><tr><th>1</th><td>2222-07-02</td></tr></tbody></table>"
      ],
      "text/latex": [
       "\\begin{tabular}{r|c}\n",
       "\t& date\\\\\n",
       "\t\\hline\n",
       "\t& Date\\\\\n",
       "\t\\hline\n",
       "\t1 & 2222-07-02 \\\\\n",
       "\\end{tabular}\n"
      ],
      "text/plain": [
       "DataFrameRow\n",
       "│ Row │ date       │\n",
       "│     │ \u001b[90mDate\u001b[39m       │\n",
       "├─────┼────────────┤\n",
       "│ 1   │ 2222-07-02 │"
      ]
     },
     "execution_count": 28,
     "metadata": {},
     "output_type": "execute_result"
    }
   ],
   "source": [
    "@view df[1, [:date]]"
   ]
  },
  {
   "cell_type": "markdown",
   "metadata": {},
   "source": [
    "Note that `DataFrameRow` is one-dimensional (as usual - single value indexing drops a dimension). You can think of it as a mutable `NamedTuple`."
   ]
  },
  {
   "cell_type": "markdown",
   "metadata": {},
   "source": [
    "Multiple row selection is a `DataFrame` for `getindex`:"
   ]
  },
  {
   "cell_type": "code",
   "execution_count": 29,
   "metadata": {},
   "outputs": [
    {
     "data": {
      "text/html": [
       "<table class=\"data-frame\"><thead><tr><th></th><th>date</th><th>volume</th></tr><tr><th></th><th>Date</th><th>Int64</th></tr></thead><tbody><p>2 rows × 2 columns</p><tr><th>1</th><td>2222-07-02</td><td>257500</td></tr><tr><th>2</th><td>2020-07-01</td><td>468100</td></tr></tbody></table>"
      ],
      "text/latex": [
       "\\begin{tabular}{r|cc}\n",
       "\t& date & volume\\\\\n",
       "\t\\hline\n",
       "\t& Date & Int64\\\\\n",
       "\t\\hline\n",
       "\t1 & 2222-07-02 & 257500 \\\\\n",
       "\t2 & 2020-07-01 & 468100 \\\\\n",
       "\\end{tabular}\n"
      ],
      "text/plain": [
       "2×2 DataFrame\n",
       "│ Row │ date       │ volume │\n",
       "│     │ \u001b[90mDate\u001b[39m       │ \u001b[90mInt64\u001b[39m  │\n",
       "├─────┼────────────┼────────┤\n",
       "│ 1   │ 2222-07-02 │ 257500 │\n",
       "│ 2   │ 2020-07-01 │ 468100 │"
      ]
     },
     "execution_count": 29,
     "metadata": {},
     "output_type": "execute_result"
    }
   ],
   "source": [
    "df[1:2, 1:2]"
   ]
  },
  {
   "cell_type": "code",
   "execution_count": 30,
   "metadata": {},
   "outputs": [
    {
     "data": {
      "text/html": [
       "<table class=\"data-frame\"><thead><tr><th></th><th>date</th><th>volume</th></tr><tr><th></th><th>Date</th><th>Int64</th></tr></thead><tbody><p>6,852,038 rows × 2 columns</p><tr><th>1</th><td>2222-07-02</td><td>257500</td></tr><tr><th>2</th><td>2020-07-01</td><td>468100</td></tr><tr><th>3</th><td>2020-06-30</td><td>319100</td></tr><tr><th>4</th><td>2020-06-29</td><td>405500</td></tr><tr><th>5</th><td>2020-06-26</td><td>335100</td></tr><tr><th>6</th><td>2020-06-25</td><td>246800</td></tr><tr><th>7</th><td>2020-06-24</td><td>329200</td></tr><tr><th>8</th><td>2020-06-23</td><td>351800</td></tr><tr><th>9</th><td>2020-06-22</td><td>308300</td></tr><tr><th>10</th><td>2020-06-19</td><td>153800</td></tr><tr><th>11</th><td>2020-06-18</td><td>102200</td></tr><tr><th>12</th><td>2020-06-17</td><td>153900</td></tr><tr><th>13</th><td>2020-06-16</td><td>165800</td></tr><tr><th>14</th><td>2020-06-15</td><td>308700</td></tr><tr><th>15</th><td>2020-06-12</td><td>161400</td></tr><tr><th>&vellip;</th><td>&vellip;</td><td>&vellip;</td></tr></tbody></table>"
      ],
      "text/latex": [
       "\\begin{tabular}{r|cc}\n",
       "\t& date & volume\\\\\n",
       "\t\\hline\n",
       "\t& Date & Int64\\\\\n",
       "\t\\hline\n",
       "\t1 & 2222-07-02 & 257500 \\\\\n",
       "\t2 & 2020-07-01 & 468100 \\\\\n",
       "\t3 & 2020-06-30 & 319100 \\\\\n",
       "\t4 & 2020-06-29 & 405500 \\\\\n",
       "\t5 & 2020-06-26 & 335100 \\\\\n",
       "\t6 & 2020-06-25 & 246800 \\\\\n",
       "\t7 & 2020-06-24 & 329200 \\\\\n",
       "\t8 & 2020-06-23 & 351800 \\\\\n",
       "\t9 & 2020-06-22 & 308300 \\\\\n",
       "\t10 & 2020-06-19 & 153800 \\\\\n",
       "\t11 & 2020-06-18 & 102200 \\\\\n",
       "\t12 & 2020-06-17 & 153900 \\\\\n",
       "\t13 & 2020-06-16 & 165800 \\\\\n",
       "\t14 & 2020-06-15 & 308700 \\\\\n",
       "\t15 & 2020-06-12 & 161400 \\\\\n",
       "\t$\\dots$ & $\\dots$ & $\\dots$ \\\\\n",
       "\\end{tabular}\n"
      ],
      "text/plain": [
       "6852038×2 DataFrame\n",
       "│ Row     │ date       │ volume │\n",
       "│         │ \u001b[90mDate\u001b[39m       │ \u001b[90mInt64\u001b[39m  │\n",
       "├─────────┼────────────┼────────┤\n",
       "│ 1       │ 2222-07-02 │ 257500 │\n",
       "│ 2       │ 2020-07-01 │ 468100 │\n",
       "│ 3       │ 2020-06-30 │ 319100 │\n",
       "⋮\n",
       "│ 6852035 │ 2015-01-09 │ 200    │\n",
       "│ 6852036 │ 2015-01-07 │ 8100   │\n",
       "│ 6852037 │ 2015-01-05 │ 33200  │\n",
       "│ 6852038 │ 2015-01-02 │ 100    │"
      ]
     },
     "execution_count": 30,
     "metadata": {},
     "output_type": "execute_result"
    }
   ],
   "source": [
    "df2 = df[!, 1:2] # this does not copy columns"
   ]
  },
  {
   "cell_type": "code",
   "execution_count": 31,
   "metadata": {},
   "outputs": [
    {
     "data": {
      "text/plain": [
       "true"
      ]
     },
     "execution_count": 31,
     "metadata": {},
     "output_type": "execute_result"
    }
   ],
   "source": [
    "df2.date === df.date"
   ]
  },
  {
   "cell_type": "markdown",
   "metadata": {},
   "source": [
    "Using `view` creates a `SubDataFrame`"
   ]
  },
  {
   "cell_type": "code",
   "execution_count": 32,
   "metadata": {},
   "outputs": [
    {
     "data": {
      "text/html": [
       "<table class=\"data-frame\"><thead><tr><th></th><th>date</th><th>volume</th></tr><tr><th></th><th>Date</th><th>Int64</th></tr></thead><tbody><p>2 rows × 2 columns</p><tr><th>1</th><td>2222-07-02</td><td>257500</td></tr><tr><th>2</th><td>2020-07-01</td><td>468100</td></tr></tbody></table>"
      ],
      "text/latex": [
       "\\begin{tabular}{r|cc}\n",
       "\t& date & volume\\\\\n",
       "\t\\hline\n",
       "\t& Date & Int64\\\\\n",
       "\t\\hline\n",
       "\t1 & 2222-07-02 & 257500 \\\\\n",
       "\t2 & 2020-07-01 & 468100 \\\\\n",
       "\\end{tabular}\n"
      ],
      "text/plain": [
       "2×2 SubDataFrame\n",
       "│ Row │ date       │ volume │\n",
       "│     │ \u001b[90mDate\u001b[39m       │ \u001b[90mInt64\u001b[39m  │\n",
       "├─────┼────────────┼────────┤\n",
       "│ 1   │ 2222-07-02 │ 257500 │\n",
       "│ 2   │ 2020-07-01 │ 468100 │"
      ]
     },
     "execution_count": 32,
     "metadata": {},
     "output_type": "execute_result"
    }
   ],
   "source": [
    "df3 = view(df, 1:2, 1:2)"
   ]
  },
  {
   "cell_type": "code",
   "execution_count": 33,
   "metadata": {},
   "outputs": [
    {
     "data": {
      "text/plain": [
       "SubDataFrame{DataFrame,DataFrames.SubIndex{DataFrames.Index,UnitRange{Int64},UnitRange{Int64}},UnitRange{Int64}}"
      ]
     },
     "execution_count": 33,
     "metadata": {},
     "output_type": "execute_result"
    }
   ],
   "source": [
    "typeof(df3)"
   ]
  },
  {
   "cell_type": "markdown",
   "metadata": {},
   "source": [
    "For `view` using `:` and `!` gives you the same result:"
   ]
  },
  {
   "cell_type": "code",
   "execution_count": 34,
   "metadata": {},
   "outputs": [
    {
     "name": "stdout",
     "output_type": "stream",
     "text": [
      "SubDataFrame{DataFrame,DataFrames.Index,Base.OneTo{Int64}}\n",
      "  parent: DataFrame\n",
      "    columns: Array{AbstractArray{T,1} where T}((8,))\n",
      "      1: Array{Date}((6852038,))\n",
      "        1: Date\n",
      "          instant: Dates.UTInstant{Day}\n",
      "            periods: Day\n",
      "              value: Int64 811386\n",
      "        2: Date\n",
      "          instant: Dates.UTInstant{Day}\n",
      "            periods: Day\n",
      "              value: Int64 737607\n",
      "        3: Date\n",
      "          instant: Dates.UTInstant{Day}\n",
      "            periods: Day\n",
      "              value: Int64 737606\n",
      "        4: Date\n",
      "          instant: Dates.UTInstant{Day}\n",
      "            periods: Day\n",
      "              value: Int64 737605\n",
      "        5: Date\n",
      "          instant: Dates.UTInstant{Day}\n",
      "            periods: Day\n",
      "              value: Int64 737602\n",
      "        ...\n",
      "        6852034: Date\n",
      "          instant: Dates.UTInstant{Day}\n",
      "            periods: Day\n",
      "              value: Int64 735610\n",
      "        6852035: Date\n",
      "          instant: Dates.UTInstant{Day}\n",
      "            periods: Day\n",
      "              value: Int64 735607\n",
      "        6852036: Date\n",
      "          instant: Dates.UTInstant{Day}\n",
      "            periods: Day\n",
      "              value: Int64 735605\n",
      "        6852037: Date\n",
      "          instant: Dates.UTInstant{Day}\n",
      "            periods: Day\n",
      "              value: Int64 735603\n",
      "        6852038: Date\n",
      "          instant: Dates.UTInstant{Day}\n",
      "            periods: Day\n",
      "              value: Int64 735600\n",
      "      2: Array{Int64}((6852038,)) [257500, 468100, 319100, 405500, 335100, 246800, 329200, 351800, 308300, 153800  …  7800, 1800, 8000, 33800, 27800, 10000, 200, 8100, 33200, 100]\n",
      "      3: Array{Float64}((6852038,)) [17.639999389648438, 17.729999542236328, 17.649999618530273, 17.670000076293945, 17.489999771118164, 17.600000381469727, 17.610000610351562, 17.549999237060547, 17.5, 17.270000457763672  …  0.12999999523162842, 0.18000000715255735, 0.119999997317791, 0.12999999523162842, 0.14000000059604645, 0.14000000059604645, 0.15000000596046448, 0.14000000059604645, 0.2199999988079071, 0.18000000715255735]\n",
      "      4: Array{Float64}((6852038,)) [17.739999771118164, 17.729999542236328, 17.799999237060547, 17.690000534057614, 17.670000076293945, 17.600000381469727, 17.709999084472656, 17.65999984741211, 17.569999694824222, 17.399999618530273  …  0.18000000715255735, 0.18000000715255735, 0.18000000715255735, 0.1899999976158142, 0.1899999976158142, 0.14000000059604645, 0.15000000596046448, 0.15000000596046448, 0.2199999988079071, 0.18000000715255735]\n",
      "      5: Array{Float64}((6852038,)) [17.6200008392334, 17.540000915527347, 17.610000610351562, 17.6299991607666, 17.420000076293945, 17.520000457763672, 17.559999465942386, 17.549999237060547, 17.440000534057614, 17.260000228881836  …  0.119999997317791, 0.17000000178813934, 0.119999997317791, 0.12999999523162842, 0.14000000059604645, 0.14000000059604645, 0.15000000596046448, 0.12999999523162842, 0.14000000059604645, 0.18000000715255735]\n",
      "      6: Array{Float64}((6852038,)) [17.709999084472656, 17.68000030517578, 17.780000686645508, 17.68000030517578, 17.670000076293945, 17.59000015258789, 17.610000610351562, 17.65999984741211, 17.5, 17.399999618530273  …  0.18000000715255735, 0.18000000715255735, 0.18000000715255735, 0.1899999976158142, 0.1899999976158142, 0.14000000059604645, 0.15000000596046448, 0.15000000596046448, 0.1599999964237213, 0.18000000715255735]\n",
      "      7: Array{Float64}((6852038,)) [17.709999084472656, 17.68000030517578, 17.780000686645508, 17.68000030517578, 17.670000076293945, 17.59000015258789, 17.610000610351562, 17.65999984741211, 17.5, 17.399999618530273  …  0.1752452850341797, 0.1752452850341797, 0.1752452850341797, 0.1849811226129532, 0.1849811226129532, 0.1363018900156021, 0.1460377424955368, 0.1460377424955368, 0.1557735800743103, 0.1752452850341797]\n",
      "      8: PooledArrays.PooledArray{String,UInt32,1,Array{UInt32,1}}\n",
      "        refs: Array{UInt32}((6852038,)) UInt32[0x00000001, 0x00000001, 0x00000001, 0x00000001, 0x00000001, 0x00000001, 0x00000001, 0x00000001, 0x00000001, 0x00000001  …  0x000018bf, 0x000018bf, 0x000018bf, 0x000018bf, 0x000018bf, 0x000018bf, 0x000018bf, 0x000018bf, 0x000018bf, 0x000018bf]\n",
      "        pool: Array{String}((6335,))\n",
      "          1: String \"AAAU\"\n",
      "          2: String \"AACG\"\n",
      "          3: String \"AADR\"\n",
      "          4: String \"AAL\"\n",
      "          5: String \"AAMC\"\n",
      "          ...\n",
      "          6331: String \"ZUO\"\n",
      "          6332: String \"ZVO\"\n",
      "          6333: String \"ZYME\"\n",
      "          6334: String \"ZYNE\"\n",
      "          6335: String \"ZYXI\"\n",
      "        invpool: Dict{String,UInt32}\n",
      "          slots: Array{UInt8}((16384,)) UInt8[0x01, 0x01, 0x00, 0x01, 0x00, 0x00, 0x01, 0x00, 0x00, 0x01  …  0x00, 0x00, 0x00, 0x00, 0x00, 0x01, 0x00, 0x00, 0x00, 0x01]\n",
      "          keys: Array{String}((16384,))\n",
      "            1: String \"IEMG\"\n",
      "            2: String \"NSYS\"\n",
      "            3: #undef\n",
      "            4: String \"STKS\"\n",
      "            5: #undef\n",
      "            ...\n",
      "            16380: String \"TORC\"\n",
      "            16381: #undef\n",
      "            16382: #undef\n",
      "            16383: #undef\n",
      "            16384: String \"TPR\"\n",
      "          vals: Array{UInt32}((16384,)) UInt32[0x00000b34, 0x00000fa9, 0x3114d538, 0x000014f5, 0xfffffff8, 0xffffffff, 0x000011be, 0x00000000, 0xfffffff8, 0x00000990  …  0x3cf51e70, 0x00000000, 0x177ef7b8, 0x00000000, 0x0f00000f, 0x000015f2, 0x30ccffa0, 0x00000000, 0x36b5ee70, 0x00001600]\n",
      "          ndel: Int64 0\n",
      "          count: Int64 6335\n",
      "          age: UInt64 0x00000000000018c4\n",
      "          idxfloor: Int64 1\n",
      "          maxprobe: Int64 10\n",
      "    colindex: DataFrames.Index\n",
      "      lookup: Dict{Symbol,Int64}\n",
      "        slots: Array{UInt8}((16,)) UInt8[0x01, 0x01, 0x01, 0x00, 0x01, 0x00, 0x00, 0x00, 0x01, 0x01, 0x00, 0x00, 0x01, 0x00, 0x00, 0x01]\n",
      "        keys: Array{Symbol}((16,))\n",
      "          1: Symbol symbol\n",
      "          2: Symbol volume\n",
      "          3: Symbol adjclose\n",
      "          4: #undef\n",
      "          5: Symbol high\n",
      "          ...\n",
      "          12: #undef\n",
      "          13: Symbol date\n",
      "          14: #undef\n",
      "          15: #undef\n",
      "          16: Symbol close\n",
      "        vals: Array{Int64}((16,)) [8, 2, 7, 0, 4, 0, 0, 0, 3, 5, 0, 0, 1, 0, 0, 6]\n",
      "        ndel: Int64 0\n",
      "        count: Int64 8\n",
      "        age: UInt64 0x0000000000000008\n",
      "        idxfloor: Int64 1\n",
      "        maxprobe: Int64 1\n",
      "      names: Array{Symbol}((8,))\n",
      "        1: Symbol date\n",
      "        2: Symbol volume\n",
      "        3: Symbol open\n",
      "        4: Symbol high\n",
      "        5: Symbol low\n",
      "        6: Symbol close\n",
      "        7: Symbol adjclose\n",
      "        8: Symbol symbol\n",
      "  colindex: DataFrames.Index\n",
      "    lookup: Dict{Symbol,Int64}\n",
      "      slots: Array{UInt8}((16,)) UInt8[0x01, 0x01, 0x01, 0x00, 0x01, 0x00, 0x00, 0x00, 0x01, 0x01, 0x00, 0x00, 0x01, 0x00, 0x00, 0x01]\n",
      "      keys: Array{Symbol}((16,))\n",
      "        1: Symbol symbol\n",
      "        2: Symbol volume\n",
      "        3: Symbol adjclose\n",
      "        4: #undef\n",
      "        5: Symbol high\n",
      "        ...\n",
      "        12: #undef\n",
      "        13: Symbol date\n",
      "        14: #undef\n",
      "        15: #undef\n",
      "        16: Symbol close\n",
      "      vals: Array{Int64}((16,)) [8, 2, 7, 0, 4, 0, 0, 0, 3, 5, 0, 0, 1, 0, 0, 6]\n",
      "      ndel: Int64 0\n",
      "      count: Int64 8\n",
      "      age: UInt64 0x0000000000000008\n",
      "      idxfloor: Int64 1\n",
      "      maxprobe: Int64 1\n",
      "    names: Array{Symbol}((8,))\n",
      "      1: Symbol date\n",
      "      2: Symbol volume\n",
      "      3: Symbol open\n",
      "      4: Symbol high\n",
      "      5: Symbol low\n",
      "      6: Symbol close\n",
      "      7: Symbol adjclose\n",
      "      8: Symbol symbol\n",
      "  rows: Base.OneTo{Int64}\n",
      "    stop: Int64 6852038\n"
     ]
    }
   ],
   "source": [
    "dump(view(df, !, :))"
   ]
  },
  {
   "cell_type": "code",
   "execution_count": 35,
   "metadata": {},
   "outputs": [
    {
     "name": "stdout",
     "output_type": "stream",
     "text": [
      "SubDataFrame{DataFrame,DataFrames.Index,Base.OneTo{Int64}}\n",
      "  parent: DataFrame\n",
      "    columns: Array{AbstractArray{T,1} where T}((8,))\n",
      "      1: Array{Date}((6852038,))\n",
      "        1: Date\n",
      "          instant: Dates.UTInstant{Day}\n",
      "            periods: Day\n",
      "              value: Int64 811386\n",
      "        2: Date\n",
      "          instant: Dates.UTInstant{Day}\n",
      "            periods: Day\n",
      "              value: Int64 737607\n",
      "        3: Date\n",
      "          instant: Dates.UTInstant{Day}\n",
      "            periods: Day\n",
      "              value: Int64 737606\n",
      "        4: Date\n",
      "          instant: Dates.UTInstant{Day}\n",
      "            periods: Day\n",
      "              value: Int64 737605\n",
      "        5: Date\n",
      "          instant: Dates.UTInstant{Day}\n",
      "            periods: Day\n",
      "              value: Int64 737602\n",
      "        ...\n",
      "        6852034: Date\n",
      "          instant: Dates.UTInstant{Day}\n",
      "            periods: Day\n",
      "              value: Int64 735610\n",
      "        6852035: Date\n",
      "          instant: Dates.UTInstant{Day}\n",
      "            periods: Day\n",
      "              value: Int64 735607\n",
      "        6852036: Date\n",
      "          instant: Dates.UTInstant{Day}\n",
      "            periods: Day\n",
      "              value: Int64 735605\n",
      "        6852037: Date\n",
      "          instant: Dates.UTInstant{Day}\n",
      "            periods: Day\n",
      "              value: Int64 735603\n",
      "        6852038: Date\n",
      "          instant: Dates.UTInstant{Day}\n",
      "            periods: Day\n",
      "              value: Int64 735600\n",
      "      2: Array{Int64}((6852038,)) [257500, 468100, 319100, 405500, 335100, 246800, 329200, 351800, 308300, 153800  …  7800, 1800, 8000, 33800, 27800, 10000, 200, 8100, 33200, 100]\n",
      "      3: Array{Float64}((6852038,)) [17.639999389648438, 17.729999542236328, 17.649999618530273, 17.670000076293945, 17.489999771118164, 17.600000381469727, 17.610000610351562, 17.549999237060547, 17.5, 17.270000457763672  …  0.12999999523162842, 0.18000000715255735, 0.119999997317791, 0.12999999523162842, 0.14000000059604645, 0.14000000059604645, 0.15000000596046448, 0.14000000059604645, 0.2199999988079071, 0.18000000715255735]\n",
      "      4: Array{Float64}((6852038,)) [17.739999771118164, 17.729999542236328, 17.799999237060547, 17.690000534057614, 17.670000076293945, 17.600000381469727, 17.709999084472656, 17.65999984741211, 17.569999694824222, 17.399999618530273  …  0.18000000715255735, 0.18000000715255735, 0.18000000715255735, 0.1899999976158142, 0.1899999976158142, 0.14000000059604645, 0.15000000596046448, 0.15000000596046448, 0.2199999988079071, 0.18000000715255735]\n",
      "      5: Array{Float64}((6852038,)) [17.6200008392334, 17.540000915527347, 17.610000610351562, 17.6299991607666, 17.420000076293945, 17.520000457763672, 17.559999465942386, 17.549999237060547, 17.440000534057614, 17.260000228881836  …  0.119999997317791, 0.17000000178813934, 0.119999997317791, 0.12999999523162842, 0.14000000059604645, 0.14000000059604645, 0.15000000596046448, 0.12999999523162842, 0.14000000059604645, 0.18000000715255735]\n",
      "      6: Array{Float64}((6852038,)) [17.709999084472656, 17.68000030517578, 17.780000686645508, 17.68000030517578, 17.670000076293945, 17.59000015258789, 17.610000610351562, 17.65999984741211, 17.5, 17.399999618530273  …  0.18000000715255735, 0.18000000715255735, 0.18000000715255735, 0.1899999976158142, 0.1899999976158142, 0.14000000059604645, 0.15000000596046448, 0.15000000596046448, 0.1599999964237213, 0.18000000715255735]\n",
      "      7: Array{Float64}((6852038,)) [17.709999084472656, 17.68000030517578, 17.780000686645508, 17.68000030517578, 17.670000076293945, 17.59000015258789, 17.610000610351562, 17.65999984741211, 17.5, 17.399999618530273  …  0.1752452850341797, 0.1752452850341797, 0.1752452850341797, 0.1849811226129532, 0.1849811226129532, 0.1363018900156021, 0.1460377424955368, 0.1460377424955368, 0.1557735800743103, 0.1752452850341797]\n",
      "      8: PooledArrays.PooledArray{String,UInt32,1,Array{UInt32,1}}\n",
      "        refs: Array{UInt32}((6852038,)) UInt32[0x00000001, 0x00000001, 0x00000001, 0x00000001, 0x00000001, 0x00000001, 0x00000001, 0x00000001, 0x00000001, 0x00000001  …  0x000018bf, 0x000018bf, 0x000018bf, 0x000018bf, 0x000018bf, 0x000018bf, 0x000018bf, 0x000018bf, 0x000018bf, 0x000018bf]\n",
      "        pool: Array{String}((6335,))\n",
      "          1: String \"AAAU\"\n",
      "          2: String \"AACG\"\n",
      "          3: String \"AADR\"\n",
      "          4: String \"AAL\"\n",
      "          5: String \"AAMC\"\n",
      "          ...\n",
      "          6331: String \"ZUO\"\n",
      "          6332: String \"ZVO\"\n",
      "          6333: String \"ZYME\"\n",
      "          6334: String \"ZYNE\"\n",
      "          6335: String \"ZYXI\"\n",
      "        invpool: Dict{String,UInt32}\n",
      "          slots: Array{UInt8}((16384,)) UInt8[0x01, 0x01, 0x00, 0x01, 0x00, 0x00, 0x01, 0x00, 0x00, 0x01  …  0x00, 0x00, 0x00, 0x00, 0x00, 0x01, 0x00, 0x00, 0x00, 0x01]\n",
      "          keys: Array{String}((16384,))\n",
      "            1: String \"IEMG\"\n",
      "            2: String \"NSYS\"\n",
      "            3: #undef\n",
      "            4: String \"STKS\"\n",
      "            5: #undef\n",
      "            ...\n",
      "            16380: String \"TORC\"\n",
      "            16381: #undef\n",
      "            16382: #undef\n",
      "            16383: #undef\n",
      "            16384: String \"TPR\"\n",
      "          vals: Array{UInt32}((16384,)) UInt32[0x00000b34, 0x00000fa9, 0x3114d538, 0x000014f5, 0xfffffff8, 0xffffffff, 0x000011be, 0x00000000, 0xfffffff8, 0x00000990  …  0x3cf51e70, 0x00000000, 0x177ef7b8, 0x00000000, 0x0f00000f, 0x000015f2, 0x30ccffa0, 0x00000000, 0x36b5ee70, 0x00001600]\n",
      "          ndel: Int64 0\n",
      "          count: Int64 6335\n",
      "          age: UInt64 0x00000000000018c4\n",
      "          idxfloor: Int64 1\n",
      "          maxprobe: Int64 10\n",
      "    colindex: DataFrames.Index\n",
      "      lookup: Dict{Symbol,Int64}\n",
      "        slots: Array{UInt8}((16,)) UInt8[0x01, 0x01, 0x01, 0x00, 0x01, 0x00, 0x00, 0x00, 0x01, 0x01, 0x00, 0x00, 0x01, 0x00, 0x00, 0x01]\n",
      "        keys: Array{Symbol}((16,))\n",
      "          1: Symbol symbol\n",
      "          2: Symbol volume\n",
      "          3: Symbol adjclose\n",
      "          4: #undef\n",
      "          5: Symbol high\n",
      "          ...\n",
      "          12: #undef\n",
      "          13: Symbol date\n",
      "          14: #undef\n",
      "          15: #undef\n",
      "          16: Symbol close\n",
      "        vals: Array{Int64}((16,)) [8, 2, 7, 0, 4, 0, 0, 0, 3, 5, 0, 0, 1, 0, 0, 6]\n",
      "        ndel: Int64 0\n",
      "        count: Int64 8\n",
      "        age: UInt64 0x0000000000000008\n",
      "        idxfloor: Int64 1\n",
      "        maxprobe: Int64 1\n",
      "      names: Array{Symbol}((8,))\n",
      "        1: Symbol date\n",
      "        2: Symbol volume\n",
      "        3: Symbol open\n",
      "        4: Symbol high\n",
      "        5: Symbol low\n",
      "        6: Symbol close\n",
      "        7: Symbol adjclose\n",
      "        8: Symbol symbol\n",
      "  colindex: DataFrames.Index\n",
      "    lookup: Dict{Symbol,Int64}\n",
      "      slots: Array{UInt8}((16,)) UInt8[0x01, 0x01, 0x01, 0x00, 0x01, 0x00, 0x00, 0x00, 0x01, 0x01, 0x00, 0x00, 0x01, 0x00, 0x00, 0x01]\n",
      "      keys: Array{Symbol}((16,))\n",
      "        1: Symbol symbol\n",
      "        2: Symbol volume\n",
      "        3: Symbol adjclose\n",
      "        4: #undef\n",
      "        5: Symbol high\n",
      "        ...\n",
      "        12: #undef\n",
      "        13: Symbol date\n",
      "        14: #undef\n",
      "        15: #undef\n",
      "        16: Symbol close\n",
      "      vals: Array{Int64}((16,)) [8, 2, 7, 0, 4, 0, 0, 0, 3, 5, 0, 0, 1, 0, 0, 6]\n",
      "      ndel: Int64 0\n",
      "      count: Int64 8\n",
      "      age: UInt64 0x0000000000000008\n",
      "      idxfloor: Int64 1\n",
      "      maxprobe: Int64 1\n",
      "    names: Array{Symbol}((8,))\n",
      "      1: Symbol date\n",
      "      2: Symbol volume\n",
      "      3: Symbol open\n",
      "      4: Symbol high\n",
      "      5: Symbol low\n",
      "      6: Symbol close\n",
      "      7: Symbol adjclose\n",
      "      8: Symbol symbol\n",
      "  rows: Base.OneTo{Int64}\n",
      "    stop: Int64 6852038\n"
     ]
    }
   ],
   "source": [
    "dump(view(df, :, :))"
   ]
  },
  {
   "cell_type": "markdown",
   "metadata": {},
   "source": [
    "Normally when you modify the parent of a `SubDataFrame` (or `DataFrameRow`) you may get an error when trying to access it:"
   ]
  },
  {
   "cell_type": "code",
   "execution_count": 36,
   "metadata": {},
   "outputs": [
    {
     "data": {
      "text/html": [
       "<table class=\"data-frame\"><thead><tr><th></th><th>x1</th><th>x2</th><th>x3</th><th>x4</th></tr><tr><th></th><th>Int64</th><th>Int64</th><th>Int64</th><th>Int64</th></tr></thead><tbody><p>3 rows × 4 columns</p><tr><th>1</th><td>1</td><td>4</td><td>7</td><td>10</td></tr><tr><th>2</th><td>2</td><td>5</td><td>8</td><td>11</td></tr><tr><th>3</th><td>3</td><td>6</td><td>9</td><td>12</td></tr></tbody></table>"
      ],
      "text/latex": [
       "\\begin{tabular}{r|cccc}\n",
       "\t& x1 & x2 & x3 & x4\\\\\n",
       "\t\\hline\n",
       "\t& Int64 & Int64 & Int64 & Int64\\\\\n",
       "\t\\hline\n",
       "\t1 & 1 & 4 & 7 & 10 \\\\\n",
       "\t2 & 2 & 5 & 8 & 11 \\\\\n",
       "\t3 & 3 & 6 & 9 & 12 \\\\\n",
       "\\end{tabular}\n"
      ],
      "text/plain": [
       "3×4 DataFrame\n",
       "│ Row │ x1    │ x2    │ x3    │ x4    │\n",
       "│     │ \u001b[90mInt64\u001b[39m │ \u001b[90mInt64\u001b[39m │ \u001b[90mInt64\u001b[39m │ \u001b[90mInt64\u001b[39m │\n",
       "├─────┼───────┼───────┼───────┼───────┤\n",
       "│ 1   │ 1     │ 4     │ 7     │ 10    │\n",
       "│ 2   │ 2     │ 5     │ 8     │ 11    │\n",
       "│ 3   │ 3     │ 6     │ 9     │ 12    │"
      ]
     },
     "execution_count": 36,
     "metadata": {},
     "output_type": "execute_result"
    }
   ],
   "source": [
    "df4 = DataFrame(reshape(1:12, 3, 4))"
   ]
  },
  {
   "cell_type": "code",
   "execution_count": 37,
   "metadata": {},
   "outputs": [
    {
     "data": {
      "text/html": [
       "<table class=\"data-frame\"><thead><tr><th></th><th>x1</th><th>x2</th><th>x3</th></tr><tr><th></th><th>Int64</th><th>Int64</th><th>Int64</th></tr></thead><tbody><p>2 rows × 3 columns</p><tr><th>1</th><td>1</td><td>4</td><td>7</td></tr><tr><th>2</th><td>2</td><td>5</td><td>8</td></tr></tbody></table>"
      ],
      "text/latex": [
       "\\begin{tabular}{r|ccc}\n",
       "\t& x1 & x2 & x3\\\\\n",
       "\t\\hline\n",
       "\t& Int64 & Int64 & Int64\\\\\n",
       "\t\\hline\n",
       "\t1 & 1 & 4 & 7 \\\\\n",
       "\t2 & 2 & 5 & 8 \\\\\n",
       "\\end{tabular}\n"
      ],
      "text/plain": [
       "2×3 SubDataFrame\n",
       "│ Row │ x1    │ x2    │ x3    │\n",
       "│     │ \u001b[90mInt64\u001b[39m │ \u001b[90mInt64\u001b[39m │ \u001b[90mInt64\u001b[39m │\n",
       "├─────┼───────┼───────┼───────┤\n",
       "│ 1   │ 1     │ 4     │ 7     │\n",
       "│ 2   │ 2     │ 5     │ 8     │"
      ]
     },
     "execution_count": 37,
     "metadata": {},
     "output_type": "execute_result"
    }
   ],
   "source": [
    "df4_v = view(df4, 1:2, 1:3)"
   ]
  },
  {
   "cell_type": "code",
   "execution_count": 38,
   "metadata": {},
   "outputs": [
    {
     "data": {
      "text/html": [
       "<table class=\"data-frame\"><thead><tr><th></th><th>x1</th></tr><tr><th></th><th>Int64</th></tr></thead><tbody><p>3 rows × 1 columns</p><tr><th>1</th><td>1</td></tr><tr><th>2</th><td>2</td></tr><tr><th>3</th><td>3</td></tr></tbody></table>"
      ],
      "text/latex": [
       "\\begin{tabular}{r|c}\n",
       "\t& x1\\\\\n",
       "\t\\hline\n",
       "\t& Int64\\\\\n",
       "\t\\hline\n",
       "\t1 & 1 \\\\\n",
       "\t2 & 2 \\\\\n",
       "\t3 & 3 \\\\\n",
       "\\end{tabular}\n"
      ],
      "text/plain": [
       "3×1 DataFrame\n",
       "│ Row │ x1    │\n",
       "│     │ \u001b[90mInt64\u001b[39m │\n",
       "├─────┼───────┤\n",
       "│ 1   │ 1     │\n",
       "│ 2   │ 2     │\n",
       "│ 3   │ 3     │"
      ]
     },
     "execution_count": 38,
     "metadata": {},
     "output_type": "execute_result"
    }
   ],
   "source": [
    "select!(df4, 1)"
   ]
  },
  {
   "cell_type": "code",
   "execution_count": 39,
   "metadata": {},
   "outputs": [
    {
     "ename": "BoundsError",
     "evalue": "BoundsError: attempt to access 1-element Array{Symbol,1} at index [1:3]",
     "output_type": "error",
     "traceback": [
      "BoundsError: attempt to access 1-element Array{Symbol,1} at index [1:3]",
      "",
      "Stacktrace:",
      " [1] throw_boundserror(::Array{Symbol,1}, ::Tuple{UnitRange{Int64}}) at .\\abstractarray.jl:537",
      " [2] checkbounds at .\\abstractarray.jl:502 [inlined]",
      " [3] view at .\\subarray.jl:155 [inlined]",
      " [4] _names at D:\\AppData\\.julia\\packages\\DataFrames\\htZzm\\src\\other\\index.jl:422 [inlined]",
      " [5] _names at D:\\AppData\\.julia\\packages\\DataFrames\\htZzm\\src\\abstractdataframe\\abstractdataframe.jl:87 [inlined]",
      " [6] propertynames at D:\\AppData\\.julia\\packages\\DataFrames\\htZzm\\src\\abstractdataframe\\abstractdataframe.jl:355 [inlined] (repeats 2 times)",
      " [7] propertynames at D:\\AppData\\.julia\\packages\\DataFrames\\htZzm\\src\\abstractdataframe\\iteration.jl:183 [inlined] (repeats 2 times)",
      " [8] keys at D:\\AppData\\.julia\\packages\\DataFrames\\htZzm\\src\\abstractdataframe\\iteration.jl:191 [inlined]",
      " [9] pairs at D:\\AppData\\.julia\\packages\\DataFrames\\htZzm\\src\\abstractdataframe\\iteration.jl:200 [inlined]",
      " [10] getmaxwidths(::SubDataFrame{DataFrame,DataFrames.SubIndex{DataFrames.Index,UnitRange{Int64},UnitRange{Int64}},UnitRange{Int64}}, ::IOContext{Base.GenericIOBuffer{Array{UInt8,1}}}, ::UnitRange{Int64}, ::UnitRange{Int64}, ::Symbol, ::Nothing, ::Bool, ::Base.GenericIOBuffer{Array{UInt8,1}}) at D:\\AppData\\.julia\\packages\\DataFrames\\htZzm\\src\\abstractdataframe\\show.jl:168",
      " [11] _show(::IOContext{Base.GenericIOBuffer{Array{UInt8,1}}}, ::SubDataFrame{DataFrame,DataFrames.SubIndex{DataFrames.Index,UnitRange{Int64},UnitRange{Int64}},UnitRange{Int64}}; allrows::Bool, allcols::Bool, splitcols::Bool, rowlabel::Symbol, summary::Bool, eltypes::Bool, rowid::Nothing) at D:\\AppData\\.julia\\packages\\DataFrames\\htZzm\\src\\abstractdataframe\\show.jl:588",
      " [12] #show#445 at D:\\AppData\\.julia\\packages\\DataFrames\\htZzm\\src\\abstractdataframe\\show.jl:665 [inlined]",
      " [13] show(::IOContext{Base.GenericIOBuffer{Array{UInt8,1}}}, ::MIME{Symbol(\"text/plain\")}, ::SubDataFrame{DataFrame,DataFrames.SubIndex{DataFrames.Index,UnitRange{Int64},UnitRange{Int64}},UnitRange{Int64}}; allrows::Bool, allcols::Bool, splitcols::Bool, rowlabel::Symbol, summary::Bool, eltypes::Bool) at D:\\AppData\\.julia\\packages\\DataFrames\\htZzm\\src\\abstractdataframe\\io.jl:56",
      " [14] show(::IOContext{Base.GenericIOBuffer{Array{UInt8,1}}}, ::MIME{Symbol(\"text/plain\")}, ::SubDataFrame{DataFrame,DataFrames.SubIndex{DataFrames.Index,UnitRange{Int64},UnitRange{Int64}},UnitRange{Int64}}) at D:\\AppData\\.julia\\packages\\DataFrames\\htZzm\\src\\abstractdataframe\\io.jl:56",
      " [15] limitstringmime(::MIME{Symbol(\"text/plain\")}, ::SubDataFrame{DataFrame,DataFrames.SubIndex{DataFrames.Index,UnitRange{Int64},UnitRange{Int64}},UnitRange{Int64}}) at D:\\AppData\\.julia\\packages\\IJulia\\DrVMH\\src\\inline.jl:43",
      " [16] display_mimestring(::MIME{Symbol(\"text/plain\")}, ::SubDataFrame{DataFrame,DataFrames.SubIndex{DataFrames.Index,UnitRange{Int64},UnitRange{Int64}},UnitRange{Int64}}) at D:\\AppData\\.julia\\packages\\IJulia\\DrVMH\\src\\display.jl:67",
      " [17] display_dict(::SubDataFrame{DataFrame,DataFrames.SubIndex{DataFrames.Index,UnitRange{Int64},UnitRange{Int64}},UnitRange{Int64}}) at D:\\AppData\\.julia\\packages\\IJulia\\DrVMH\\src\\display.jl:96",
      " [18] #invokelatest#1 at .\\essentials.jl:710 [inlined]",
      " [19] invokelatest at .\\essentials.jl:709 [inlined]",
      " [20] execute_request(::ZMQ.Socket, ::IJulia.Msg) at D:\\AppData\\.julia\\packages\\IJulia\\DrVMH\\src\\execute_request.jl:112",
      " [21] #invokelatest#1 at .\\essentials.jl:710 [inlined]",
      " [22] invokelatest at .\\essentials.jl:709 [inlined]",
      " [23] eventloop(::ZMQ.Socket) at D:\\AppData\\.julia\\packages\\IJulia\\DrVMH\\src\\eventloop.jl:8",
      " [24] (::IJulia.var\"#15#18\")() at .\\task.jl:356"
     ]
    }
   ],
   "source": [
    "df4_v"
   ]
  },
  {
   "cell_type": "markdown",
   "metadata": {},
   "source": [
    "A special case is when you use `:` as a column selection with a `view`. In this case the `SubDataFrame` and `DataFrameRow` always get updated with the changed columns:"
   ]
  },
  {
   "cell_type": "code",
   "execution_count": 40,
   "metadata": {},
   "outputs": [
    {
     "data": {
      "text/html": [
       "<table class=\"data-frame\"><thead><tr><th></th><th>x1</th><th>x2</th><th>x3</th><th>x4</th></tr><tr><th></th><th>Int64</th><th>Int64</th><th>Int64</th><th>Int64</th></tr></thead><tbody><p>3 rows × 4 columns</p><tr><th>1</th><td>1</td><td>4</td><td>7</td><td>10</td></tr><tr><th>2</th><td>2</td><td>5</td><td>8</td><td>11</td></tr><tr><th>3</th><td>3</td><td>6</td><td>9</td><td>12</td></tr></tbody></table>"
      ],
      "text/latex": [
       "\\begin{tabular}{r|cccc}\n",
       "\t& x1 & x2 & x3 & x4\\\\\n",
       "\t\\hline\n",
       "\t& Int64 & Int64 & Int64 & Int64\\\\\n",
       "\t\\hline\n",
       "\t1 & 1 & 4 & 7 & 10 \\\\\n",
       "\t2 & 2 & 5 & 8 & 11 \\\\\n",
       "\t3 & 3 & 6 & 9 & 12 \\\\\n",
       "\\end{tabular}\n"
      ],
      "text/plain": [
       "3×4 DataFrame\n",
       "│ Row │ x1    │ x2    │ x3    │ x4    │\n",
       "│     │ \u001b[90mInt64\u001b[39m │ \u001b[90mInt64\u001b[39m │ \u001b[90mInt64\u001b[39m │ \u001b[90mInt64\u001b[39m │\n",
       "├─────┼───────┼───────┼───────┼───────┤\n",
       "│ 1   │ 1     │ 4     │ 7     │ 10    │\n",
       "│ 2   │ 2     │ 5     │ 8     │ 11    │\n",
       "│ 3   │ 3     │ 6     │ 9     │ 12    │"
      ]
     },
     "execution_count": 40,
     "metadata": {},
     "output_type": "execute_result"
    }
   ],
   "source": [
    "df4 = DataFrame(reshape(1:12, 3, 4))"
   ]
  },
  {
   "cell_type": "code",
   "execution_count": 41,
   "metadata": {},
   "outputs": [
    {
     "data": {
      "text/html": [
       "<table class=\"data-frame\"><thead><tr><th></th><th>x1</th><th>x2</th><th>x3</th><th>x4</th></tr><tr><th></th><th>Int64</th><th>Int64</th><th>Int64</th><th>Int64</th></tr></thead><tbody><p>2 rows × 4 columns</p><tr><th>1</th><td>1</td><td>4</td><td>7</td><td>10</td></tr><tr><th>2</th><td>2</td><td>5</td><td>8</td><td>11</td></tr></tbody></table>"
      ],
      "text/latex": [
       "\\begin{tabular}{r|cccc}\n",
       "\t& x1 & x2 & x3 & x4\\\\\n",
       "\t\\hline\n",
       "\t& Int64 & Int64 & Int64 & Int64\\\\\n",
       "\t\\hline\n",
       "\t1 & 1 & 4 & 7 & 10 \\\\\n",
       "\t2 & 2 & 5 & 8 & 11 \\\\\n",
       "\\end{tabular}\n"
      ],
      "text/plain": [
       "2×4 SubDataFrame\n",
       "│ Row │ x1    │ x2    │ x3    │ x4    │\n",
       "│     │ \u001b[90mInt64\u001b[39m │ \u001b[90mInt64\u001b[39m │ \u001b[90mInt64\u001b[39m │ \u001b[90mInt64\u001b[39m │\n",
       "├─────┼───────┼───────┼───────┼───────┤\n",
       "│ 1   │ 1     │ 4     │ 7     │ 10    │\n",
       "│ 2   │ 2     │ 5     │ 8     │ 11    │"
      ]
     },
     "execution_count": 41,
     "metadata": {},
     "output_type": "execute_result"
    }
   ],
   "source": [
    "df4_v = view(df4, 1:2, :)"
   ]
  },
  {
   "cell_type": "code",
   "execution_count": 42,
   "metadata": {},
   "outputs": [
    {
     "data": {
      "text/html": [
       "<table class=\"data-frame\"><thead><tr><th></th><th>x1</th><th>newcol</th></tr><tr><th></th><th>Int64</th><th>Int64</th></tr></thead><tbody><p>3 rows × 2 columns</p><tr><th>1</th><td>1</td><td>4</td></tr><tr><th>2</th><td>2</td><td>5</td></tr><tr><th>3</th><td>3</td><td>6</td></tr></tbody></table>"
      ],
      "text/latex": [
       "\\begin{tabular}{r|cc}\n",
       "\t& x1 & newcol\\\\\n",
       "\t\\hline\n",
       "\t& Int64 & Int64\\\\\n",
       "\t\\hline\n",
       "\t1 & 1 & 4 \\\\\n",
       "\t2 & 2 & 5 \\\\\n",
       "\t3 & 3 & 6 \\\\\n",
       "\\end{tabular}\n"
      ],
      "text/plain": [
       "3×2 DataFrame\n",
       "│ Row │ x1    │ newcol │\n",
       "│     │ \u001b[90mInt64\u001b[39m │ \u001b[90mInt64\u001b[39m  │\n",
       "├─────┼───────┼────────┤\n",
       "│ 1   │ 1     │ 4      │\n",
       "│ 2   │ 2     │ 5      │\n",
       "│ 3   │ 3     │ 6      │"
      ]
     },
     "execution_count": 42,
     "metadata": {},
     "output_type": "execute_result"
    }
   ],
   "source": [
    "select!(df4, 1, :x2 => :newcol)"
   ]
  },
  {
   "cell_type": "code",
   "execution_count": 43,
   "metadata": {},
   "outputs": [
    {
     "data": {
      "text/html": [
       "<table class=\"data-frame\"><thead><tr><th></th><th>x1</th><th>newcol</th></tr><tr><th></th><th>Int64</th><th>Int64</th></tr></thead><tbody><p>2 rows × 2 columns</p><tr><th>1</th><td>1</td><td>4</td></tr><tr><th>2</th><td>2</td><td>5</td></tr></tbody></table>"
      ],
      "text/latex": [
       "\\begin{tabular}{r|cc}\n",
       "\t& x1 & newcol\\\\\n",
       "\t\\hline\n",
       "\t& Int64 & Int64\\\\\n",
       "\t\\hline\n",
       "\t1 & 1 & 4 \\\\\n",
       "\t2 & 2 & 5 \\\\\n",
       "\\end{tabular}\n"
      ],
      "text/plain": [
       "2×2 SubDataFrame\n",
       "│ Row │ x1    │ newcol │\n",
       "│     │ \u001b[90mInt64\u001b[39m │ \u001b[90mInt64\u001b[39m  │\n",
       "├─────┼───────┼────────┤\n",
       "│ 1   │ 1     │ 4      │\n",
       "│ 2   │ 2     │ 5      │"
      ]
     },
     "execution_count": 43,
     "metadata": {},
     "output_type": "execute_result"
    }
   ],
   "source": [
    "df4_v"
   ]
  },
  {
   "cell_type": "markdown",
   "metadata": {},
   "source": [
    "The reason for this behavior is that subsetting of a data frame by only rows (and taking all columns) is very common, and in this case we can create and index such views much faster. In particular `DataFrameRow`s produced by `eachrow` are efficient this way:"
   ]
  },
  {
   "cell_type": "code",
   "execution_count": 44,
   "metadata": {},
   "outputs": [
    {
     "name": "stdout",
     "output_type": "stream",
     "text": [
      "  982.399 ms (34259693 allocations: 522.76 MiB)\n"
     ]
    },
    {
     "data": {
      "text/plain": [
       "298.08612911254846"
      ]
     },
     "execution_count": 44,
     "metadata": {},
     "output_type": "execute_result"
    }
   ],
   "source": [
    "@btime mean(x -> x.open, eachrow(df))"
   ]
  },
  {
   "cell_type": "code",
   "execution_count": 45,
   "metadata": {},
   "outputs": [
    {
     "name": "stdout",
     "output_type": "stream",
     "text": [
      "  1.242 s (41111214 allocations: 627.31 MiB)\n"
     ]
    },
    {
     "data": {
      "text/plain": [
       "298.08612911254846"
      ]
     },
     "execution_count": 45,
     "metadata": {},
     "output_type": "execute_result"
    }
   ],
   "source": [
    "@btime mean(i -> df[i, :open], 1:nrow(df))"
   ]
  },
  {
   "cell_type": "markdown",
   "metadata": {},
   "source": [
    "Of course, type-stable operation would be faster (but sometimes processing data row-wise is more convenient):"
   ]
  },
  {
   "cell_type": "code",
   "execution_count": 46,
   "metadata": {},
   "outputs": [
    {
     "name": "stdout",
     "output_type": "stream",
     "text": [
      "  2.981 ms (1 allocation: 16 bytes)\n"
     ]
    },
    {
     "data": {
      "text/plain": [
       "298.08612911254846"
      ]
     },
     "execution_count": 46,
     "metadata": {},
     "output_type": "execute_result"
    }
   ],
   "source": [
    "@btime mean(df.open)"
   ]
  },
  {
   "cell_type": "markdown",
   "metadata": {},
   "source": [
    "or, if your table is not very wide (so that you are not penalized by the compilation cost of `NamedTuple`) you can use:"
   ]
  },
  {
   "cell_type": "code",
   "execution_count": 47,
   "metadata": {},
   "outputs": [
    {
     "name": "stdout",
     "output_type": "stream",
     "text": [
      "  10.505 ms (18 allocations: 1.31 KiB)\n"
     ]
    },
    {
     "data": {
      "text/plain": [
       "298.0861291125547"
      ]
     },
     "execution_count": 47,
     "metadata": {},
     "output_type": "execute_result"
    }
   ],
   "source": [
    "@btime mean(x -> x.open, Tables.namedtupleiterator(df))"
   ]
  },
  {
   "cell_type": "markdown",
   "metadata": {},
   "source": [
    "Note though that `DataFrameRow` allows you to modify the source data frame, while iterating `NamedTuple`s is read-only (more on `setindex!` later)."
   ]
  },
  {
   "cell_type": "code",
   "execution_count": 48,
   "metadata": {},
   "outputs": [
    {
     "data": {
      "text/html": [
       "<table class=\"data-frame\"><thead><tr><th></th><th>date</th><th>volume</th><th>open</th><th>high</th><th>low</th><th>close</th><th>adjclose</th><th>symbol</th></tr><tr><th></th><th>Date</th><th>Int64</th><th>Float64</th><th>Float64</th><th>Float64</th><th>Float64</th><th>Float64</th><th>String</th></tr></thead><tbody><p>6,852,038 rows × 8 columns</p><tr><th>1</th><td>2222-07-02</td><td>257500</td><td>17.64</td><td>17.74</td><td>17.62</td><td>17.71</td><td>17.71</td><td>AAAU</td></tr><tr><th>2</th><td>2020-07-01</td><td>468100</td><td>17.73</td><td>17.73</td><td>17.54</td><td>17.68</td><td>17.68</td><td>AAAU</td></tr><tr><th>3</th><td>2020-06-30</td><td>319100</td><td>17.65</td><td>17.8</td><td>17.61</td><td>17.78</td><td>17.78</td><td>AAAU</td></tr><tr><th>4</th><td>2020-06-29</td><td>405500</td><td>17.67</td><td>17.69</td><td>17.63</td><td>17.68</td><td>17.68</td><td>AAAU</td></tr><tr><th>5</th><td>2020-06-26</td><td>335100</td><td>17.49</td><td>17.67</td><td>17.42</td><td>17.67</td><td>17.67</td><td>AAAU</td></tr><tr><th>6</th><td>2020-06-25</td><td>246800</td><td>17.6</td><td>17.6</td><td>17.52</td><td>17.59</td><td>17.59</td><td>AAAU</td></tr><tr><th>7</th><td>2020-06-24</td><td>329200</td><td>17.61</td><td>17.71</td><td>17.56</td><td>17.61</td><td>17.61</td><td>AAAU</td></tr><tr><th>8</th><td>2020-06-23</td><td>351800</td><td>17.55</td><td>17.66</td><td>17.55</td><td>17.66</td><td>17.66</td><td>AAAU</td></tr><tr><th>9</th><td>2020-06-22</td><td>308300</td><td>17.5</td><td>17.57</td><td>17.44</td><td>17.5</td><td>17.5</td><td>AAAU</td></tr><tr><th>10</th><td>2020-06-19</td><td>153800</td><td>17.27</td><td>17.4</td><td>17.26</td><td>17.4</td><td>17.4</td><td>AAAU</td></tr><tr><th>11</th><td>2020-06-18</td><td>102200</td><td>17.27</td><td>17.27</td><td>17.14</td><td>17.23</td><td>17.23</td><td>AAAU</td></tr><tr><th>12</th><td>2020-06-17</td><td>153900</td><td>17.19</td><td>17.25</td><td>17.16</td><td>17.25</td><td>17.25</td><td>AAAU</td></tr><tr><th>13</th><td>2020-06-16</td><td>165800</td><td>17.15</td><td>17.25</td><td>17.11</td><td>17.21</td><td>17.21</td><td>AAAU</td></tr><tr><th>14</th><td>2020-06-15</td><td>308700</td><td>17.03</td><td>17.23</td><td>17.0</td><td>17.2</td><td>17.2</td><td>AAAU</td></tr><tr><th>15</th><td>2020-06-12</td><td>161400</td><td>17.34</td><td>17.37</td><td>17.25</td><td>17.27</td><td>17.27</td><td>AAAU</td></tr><tr><th>&vellip;</th><td>&vellip;</td><td>&vellip;</td><td>&vellip;</td><td>&vellip;</td><td>&vellip;</td><td>&vellip;</td><td>&vellip;</td><td>&vellip;</td></tr></tbody></table>"
      ],
      "text/latex": [
       "\\begin{tabular}{r|cccccccc}\n",
       "\t& date & volume & open & high & low & close & adjclose & symbol\\\\\n",
       "\t\\hline\n",
       "\t& Date & Int64 & Float64 & Float64 & Float64 & Float64 & Float64 & String\\\\\n",
       "\t\\hline\n",
       "\t1 & 2222-07-02 & 257500 & 17.64 & 17.74 & 17.62 & 17.71 & 17.71 & AAAU \\\\\n",
       "\t2 & 2020-07-01 & 468100 & 17.73 & 17.73 & 17.54 & 17.68 & 17.68 & AAAU \\\\\n",
       "\t3 & 2020-06-30 & 319100 & 17.65 & 17.8 & 17.61 & 17.78 & 17.78 & AAAU \\\\\n",
       "\t4 & 2020-06-29 & 405500 & 17.67 & 17.69 & 17.63 & 17.68 & 17.68 & AAAU \\\\\n",
       "\t5 & 2020-06-26 & 335100 & 17.49 & 17.67 & 17.42 & 17.67 & 17.67 & AAAU \\\\\n",
       "\t6 & 2020-06-25 & 246800 & 17.6 & 17.6 & 17.52 & 17.59 & 17.59 & AAAU \\\\\n",
       "\t7 & 2020-06-24 & 329200 & 17.61 & 17.71 & 17.56 & 17.61 & 17.61 & AAAU \\\\\n",
       "\t8 & 2020-06-23 & 351800 & 17.55 & 17.66 & 17.55 & 17.66 & 17.66 & AAAU \\\\\n",
       "\t9 & 2020-06-22 & 308300 & 17.5 & 17.57 & 17.44 & 17.5 & 17.5 & AAAU \\\\\n",
       "\t10 & 2020-06-19 & 153800 & 17.27 & 17.4 & 17.26 & 17.4 & 17.4 & AAAU \\\\\n",
       "\t11 & 2020-06-18 & 102200 & 17.27 & 17.27 & 17.14 & 17.23 & 17.23 & AAAU \\\\\n",
       "\t12 & 2020-06-17 & 153900 & 17.19 & 17.25 & 17.16 & 17.25 & 17.25 & AAAU \\\\\n",
       "\t13 & 2020-06-16 & 165800 & 17.15 & 17.25 & 17.11 & 17.21 & 17.21 & AAAU \\\\\n",
       "\t14 & 2020-06-15 & 308700 & 17.03 & 17.23 & 17.0 & 17.2 & 17.2 & AAAU \\\\\n",
       "\t15 & 2020-06-12 & 161400 & 17.34 & 17.37 & 17.25 & 17.27 & 17.27 & AAAU \\\\\n",
       "\t$\\dots$ & $\\dots$ & $\\dots$ & $\\dots$ & $\\dots$ & $\\dots$ & $\\dots$ & $\\dots$ & $\\dots$ \\\\\n",
       "\\end{tabular}\n"
      ],
      "text/plain": [
       "6852038×8 DataFrame\n",
       "│ Row     │ date       │ volume │ open    │ high    │ low     │ close   │ adjclose │ symbol │\n",
       "│         │ \u001b[90mDate\u001b[39m       │ \u001b[90mInt64\u001b[39m  │ \u001b[90mFloat64\u001b[39m │ \u001b[90mFloat64\u001b[39m │ \u001b[90mFloat64\u001b[39m │ \u001b[90mFloat64\u001b[39m │ \u001b[90mFloat64\u001b[39m  │ \u001b[90mString\u001b[39m │\n",
       "├─────────┼────────────┼────────┼─────────┼─────────┼─────────┼─────────┼──────────┼────────┤\n",
       "│ 1       │ 2222-07-02 │ 257500 │ 17.64   │ 17.74   │ 17.62   │ 17.71   │ 17.71    │ AAAU   │\n",
       "│ 2       │ 2020-07-01 │ 468100 │ 17.73   │ 17.73   │ 17.54   │ 17.68   │ 17.68    │ AAAU   │\n",
       "│ 3       │ 2020-06-30 │ 319100 │ 17.65   │ 17.8    │ 17.61   │ 17.78   │ 17.78    │ AAAU   │\n",
       "⋮\n",
       "│ 6852035 │ 2015-01-09 │ 200    │ 0.15    │ 0.15    │ 0.15    │ 0.15    │ 0.146038 │ ZYXI   │\n",
       "│ 6852036 │ 2015-01-07 │ 8100   │ 0.14    │ 0.15    │ 0.13    │ 0.15    │ 0.146038 │ ZYXI   │\n",
       "│ 6852037 │ 2015-01-05 │ 33200  │ 0.22    │ 0.22    │ 0.14    │ 0.16    │ 0.155774 │ ZYXI   │\n",
       "│ 6852038 │ 2015-01-02 │ 100    │ 0.18    │ 0.18    │ 0.18    │ 0.18    │ 0.175245 │ ZYXI   │"
      ]
     },
     "execution_count": 48,
     "metadata": {},
     "output_type": "execute_result"
    }
   ],
   "source": [
    "df5 = copy(df)"
   ]
  },
  {
   "cell_type": "markdown",
   "metadata": {},
   "source": [
    "#### Exercise"
   ]
  },
  {
   "cell_type": "markdown",
   "metadata": {},
   "source": [
    "In `df5` find rows in which `:high` is less than `:low` and swap them."
   ]
  },
  {
   "cell_type": "code",
   "execution_count": null,
   "metadata": {},
   "outputs": [],
   "source": []
  },
  {
   "cell_type": "markdown",
   "metadata": {},
   "source": [
    "I give you the following column selectors. Can you tell the effect of each of them when trying to run `df[1:2, selector]`?\n",
    "Write the code that tests it."
   ]
  },
  {
   "cell_type": "code",
   "execution_count": 49,
   "metadata": {},
   "outputs": [
    {
     "data": {
      "text/plain": [
       "6-element Array{Any,1}:\n",
       " Between{Int64,Int64}(1, 10)\n",
       " Between{Symbol,Symbol}(:low, :high)\n",
       " [:low, :low]\n",
       " All{Tuple{Symbol,Symbol}}((:low, :low))\n",
       " All{Tuple{Symbol,Colon}}((:low, Colon()))\n",
       " All{Tuple{}}(())"
      ]
     },
     "execution_count": 49,
     "metadata": {},
     "output_type": "execute_result"
    }
   ],
   "source": [
    "selectors = [Between(1, 10), Between(:low, :high), [:low, :low], All(:low, :low), All(:low, :), All()]"
   ]
  },
  {
   "cell_type": "code",
   "execution_count": null,
   "metadata": {},
   "outputs": [],
   "source": []
  },
  {
   "cell_type": "markdown",
   "metadata": {},
   "source": [
    "### Indexing `GroupedDataFrame`"
   ]
  },
  {
   "cell_type": "markdown",
   "metadata": {},
   "source": [
    "A `GroupedDataFrame` is a view into a data frame which defines a key allowing a fast lookup (and in particular this key is then automatically used in split-apply-combine operations with `select`, `select!`, `transform`, `transform!` and `combine`)."
   ]
  },
  {
   "cell_type": "code",
   "execution_count": 50,
   "metadata": {},
   "outputs": [
    {
     "data": {
      "text/html": [
       "<p><b>GroupedDataFrame with 6335 groups based on key: symbol</b></p><p><i>First Group (474 rows): symbol = \"AAAU\"</i></p><table class=\"data-frame\"><thead><tr><th></th><th>date</th><th>volume</th><th>open</th><th>high</th><th>low</th><th>close</th><th>adjclose</th><th>symbol</th></tr><tr><th></th><th>Date</th><th>Int64</th><th>Float64</th><th>Float64</th><th>Float64</th><th>Float64</th><th>Float64</th><th>String</th></tr></thead><tbody><tr><th>1</th><td>2222-07-02</td><td>257500</td><td>17.64</td><td>17.74</td><td>17.62</td><td>17.71</td><td>17.71</td><td>AAAU</td></tr><tr><th>2</th><td>2020-07-01</td><td>468100</td><td>17.73</td><td>17.73</td><td>17.54</td><td>17.68</td><td>17.68</td><td>AAAU</td></tr><tr><th>3</th><td>2020-06-30</td><td>319100</td><td>17.65</td><td>17.8</td><td>17.61</td><td>17.78</td><td>17.78</td><td>AAAU</td></tr><tr><th>4</th><td>2020-06-29</td><td>405500</td><td>17.67</td><td>17.69</td><td>17.63</td><td>17.68</td><td>17.68</td><td>AAAU</td></tr><tr><th>5</th><td>2020-06-26</td><td>335100</td><td>17.49</td><td>17.67</td><td>17.42</td><td>17.67</td><td>17.67</td><td>AAAU</td></tr><tr><th>6</th><td>2020-06-25</td><td>246800</td><td>17.6</td><td>17.6</td><td>17.52</td><td>17.59</td><td>17.59</td><td>AAAU</td></tr><tr><th>7</th><td>2020-06-24</td><td>329200</td><td>17.61</td><td>17.71</td><td>17.56</td><td>17.61</td><td>17.61</td><td>AAAU</td></tr><tr><th>8</th><td>2020-06-23</td><td>351800</td><td>17.55</td><td>17.66</td><td>17.55</td><td>17.66</td><td>17.66</td><td>AAAU</td></tr><tr><th>9</th><td>2020-06-22</td><td>308300</td><td>17.5</td><td>17.57</td><td>17.44</td><td>17.5</td><td>17.5</td><td>AAAU</td></tr><tr><th>10</th><td>2020-06-19</td><td>153800</td><td>17.27</td><td>17.4</td><td>17.26</td><td>17.4</td><td>17.4</td><td>AAAU</td></tr><tr><th>11</th><td>2020-06-18</td><td>102200</td><td>17.27</td><td>17.27</td><td>17.14</td><td>17.23</td><td>17.23</td><td>AAAU</td></tr><tr><th>12</th><td>2020-06-17</td><td>153900</td><td>17.19</td><td>17.25</td><td>17.16</td><td>17.25</td><td>17.25</td><td>AAAU</td></tr><tr><th>13</th><td>2020-06-16</td><td>165800</td><td>17.15</td><td>17.25</td><td>17.11</td><td>17.21</td><td>17.21</td><td>AAAU</td></tr><tr><th>14</th><td>2020-06-15</td><td>308700</td><td>17.03</td><td>17.23</td><td>17.0</td><td>17.2</td><td>17.2</td><td>AAAU</td></tr><tr><th>15</th><td>2020-06-12</td><td>161400</td><td>17.34</td><td>17.37</td><td>17.25</td><td>17.27</td><td>17.27</td><td>AAAU</td></tr><tr><th>&vellip;</th><td>&vellip;</td><td>&vellip;</td><td>&vellip;</td><td>&vellip;</td><td>&vellip;</td><td>&vellip;</td><td>&vellip;</td><td>&vellip;</td></tr></tbody></table><p>&vellip;</p><p><i>Last Group (1215 rows): symbol = \"ZYXI\"</i></p><table class=\"data-frame\"><thead><tr><th></th><th>date</th><th>volume</th><th>open</th><th>high</th><th>low</th><th>close</th><th>adjclose</th><th>symbol</th></tr><tr><th></th><th>Date</th><th>Int64</th><th>Float64</th><th>Float64</th><th>Float64</th><th>Float64</th><th>Float64</th><th>String</th></tr></thead><tbody><tr><th>1</th><td>2020-07-02</td><td>1072200</td><td>24.54</td><td>26.84</td><td>24.44</td><td>25.12</td><td>25.12</td><td>ZYXI</td></tr><tr><th>2</th><td>2020-07-01</td><td>630100</td><td>24.77</td><td>24.85</td><td>23.95</td><td>24.41</td><td>24.41</td><td>ZYXI</td></tr><tr><th>3</th><td>2020-06-30</td><td>1054800</td><td>23.05</td><td>25.24</td><td>22.81</td><td>24.87</td><td>24.87</td><td>ZYXI</td></tr><tr><th>4</th><td>2020-06-29</td><td>757500</td><td>22.92</td><td>23.46</td><td>21.94</td><td>23.18</td><td>23.18</td><td>ZYXI</td></tr><tr><th>5</th><td>2020-06-26</td><td>1061400</td><td>25.09</td><td>25.14</td><td>22.75</td><td>22.82</td><td>22.82</td><td>ZYXI</td></tr><tr><th>6</th><td>2020-06-25</td><td>901800</td><td>23.41</td><td>25.49</td><td>23.19</td><td>24.74</td><td>24.74</td><td>ZYXI</td></tr><tr><th>7</th><td>2020-06-24</td><td>777900</td><td>23.86</td><td>24.35</td><td>22.59</td><td>23.59</td><td>23.59</td><td>ZYXI</td></tr><tr><th>8</th><td>2020-06-23</td><td>675800</td><td>24.46</td><td>24.72</td><td>23.8</td><td>24.34</td><td>24.34</td><td>ZYXI</td></tr><tr><th>9</th><td>2020-06-22</td><td>821200</td><td>24.48</td><td>24.49</td><td>23.5</td><td>24.44</td><td>24.44</td><td>ZYXI</td></tr><tr><th>10</th><td>2020-06-19</td><td>1892700</td><td>24.5</td><td>25.71</td><td>22.63</td><td>24.06</td><td>24.06</td><td>ZYXI</td></tr><tr><th>11</th><td>2020-06-18</td><td>745200</td><td>24.55</td><td>25.13</td><td>23.71</td><td>24.5</td><td>24.5</td><td>ZYXI</td></tr><tr><th>12</th><td>2020-06-17</td><td>1504800</td><td>26.8</td><td>27.0</td><td>23.21</td><td>24.08</td><td>24.08</td><td>ZYXI</td></tr><tr><th>13</th><td>2020-06-16</td><td>1732900</td><td>24.75</td><td>26.62</td><td>24.48</td><td>25.84</td><td>25.84</td><td>ZYXI</td></tr><tr><th>14</th><td>2020-06-15</td><td>4673800</td><td>20.88</td><td>25.0</td><td>20.68</td><td>24.52</td><td>24.52</td><td>ZYXI</td></tr><tr><th>15</th><td>2020-06-12</td><td>2422600</td><td>24.25</td><td>24.47</td><td>20.76</td><td>22.19</td><td>22.19</td><td>ZYXI</td></tr><tr><th>&vellip;</th><td>&vellip;</td><td>&vellip;</td><td>&vellip;</td><td>&vellip;</td><td>&vellip;</td><td>&vellip;</td><td>&vellip;</td><td>&vellip;</td></tr></tbody></table>"
      ],
      "text/latex": [
       "GroupedDataFrame with 6335 groups based on key: symbol\n",
       "\n",
       "First Group (474 rows): symbol = \"AAAU\"\n",
       "\n",
       "\\begin{tabular}{r|cccccccc}\n",
       "\t& date & volume & open & high & low & close & adjclose & symbol\\\\\n",
       "\t\\hline\n",
       "\t& Date & Int64 & Float64 & Float64 & Float64 & Float64 & Float64 & String\\\\\n",
       "\t\\hline\n",
       "\t1 & 2222-07-02 & 257500 & 17.64 & 17.74 & 17.62 & 17.71 & 17.71 & AAAU \\\\\n",
       "\t2 & 2020-07-01 & 468100 & 17.73 & 17.73 & 17.54 & 17.68 & 17.68 & AAAU \\\\\n",
       "\t3 & 2020-06-30 & 319100 & 17.65 & 17.8 & 17.61 & 17.78 & 17.78 & AAAU \\\\\n",
       "\t4 & 2020-06-29 & 405500 & 17.67 & 17.69 & 17.63 & 17.68 & 17.68 & AAAU \\\\\n",
       "\t5 & 2020-06-26 & 335100 & 17.49 & 17.67 & 17.42 & 17.67 & 17.67 & AAAU \\\\\n",
       "\t6 & 2020-06-25 & 246800 & 17.6 & 17.6 & 17.52 & 17.59 & 17.59 & AAAU \\\\\n",
       "\t7 & 2020-06-24 & 329200 & 17.61 & 17.71 & 17.56 & 17.61 & 17.61 & AAAU \\\\\n",
       "\t8 & 2020-06-23 & 351800 & 17.55 & 17.66 & 17.55 & 17.66 & 17.66 & AAAU \\\\\n",
       "\t9 & 2020-06-22 & 308300 & 17.5 & 17.57 & 17.44 & 17.5 & 17.5 & AAAU \\\\\n",
       "\t10 & 2020-06-19 & 153800 & 17.27 & 17.4 & 17.26 & 17.4 & 17.4 & AAAU \\\\\n",
       "\t11 & 2020-06-18 & 102200 & 17.27 & 17.27 & 17.14 & 17.23 & 17.23 & AAAU \\\\\n",
       "\t12 & 2020-06-17 & 153900 & 17.19 & 17.25 & 17.16 & 17.25 & 17.25 & AAAU \\\\\n",
       "\t13 & 2020-06-16 & 165800 & 17.15 & 17.25 & 17.11 & 17.21 & 17.21 & AAAU \\\\\n",
       "\t14 & 2020-06-15 & 308700 & 17.03 & 17.23 & 17.0 & 17.2 & 17.2 & AAAU \\\\\n",
       "\t15 & 2020-06-12 & 161400 & 17.34 & 17.37 & 17.25 & 17.27 & 17.27 & AAAU \\\\\n",
       "\t$\\dots$ & $\\dots$ & $\\dots$ & $\\dots$ & $\\dots$ & $\\dots$ & $\\dots$ & $\\dots$ & $\\dots$ \\\\\n",
       "\\end{tabular}\n",
       "\n",
       "$\\dots$\n",
       "\n",
       "Last Group (1215 rows): symbol = \"ZYXI\"\n",
       "\n",
       "\\begin{tabular}{r|cccccccc}\n",
       "\t& date & volume & open & high & low & close & adjclose & symbol\\\\\n",
       "\t\\hline\n",
       "\t& Date & Int64 & Float64 & Float64 & Float64 & Float64 & Float64 & String\\\\\n",
       "\t\\hline\n",
       "\t1 & 2020-07-02 & 1072200 & 24.54 & 26.84 & 24.44 & 25.12 & 25.12 & ZYXI \\\\\n",
       "\t2 & 2020-07-01 & 630100 & 24.77 & 24.85 & 23.95 & 24.41 & 24.41 & ZYXI \\\\\n",
       "\t3 & 2020-06-30 & 1054800 & 23.05 & 25.24 & 22.81 & 24.87 & 24.87 & ZYXI \\\\\n",
       "\t4 & 2020-06-29 & 757500 & 22.92 & 23.46 & 21.94 & 23.18 & 23.18 & ZYXI \\\\\n",
       "\t5 & 2020-06-26 & 1061400 & 25.09 & 25.14 & 22.75 & 22.82 & 22.82 & ZYXI \\\\\n",
       "\t6 & 2020-06-25 & 901800 & 23.41 & 25.49 & 23.19 & 24.74 & 24.74 & ZYXI \\\\\n",
       "\t7 & 2020-06-24 & 777900 & 23.86 & 24.35 & 22.59 & 23.59 & 23.59 & ZYXI \\\\\n",
       "\t8 & 2020-06-23 & 675800 & 24.46 & 24.72 & 23.8 & 24.34 & 24.34 & ZYXI \\\\\n",
       "\t9 & 2020-06-22 & 821200 & 24.48 & 24.49 & 23.5 & 24.44 & 24.44 & ZYXI \\\\\n",
       "\t10 & 2020-06-19 & 1892700 & 24.5 & 25.71 & 22.63 & 24.06 & 24.06 & ZYXI \\\\\n",
       "\t11 & 2020-06-18 & 745200 & 24.55 & 25.13 & 23.71 & 24.5 & 24.5 & ZYXI \\\\\n",
       "\t12 & 2020-06-17 & 1504800 & 26.8 & 27.0 & 23.21 & 24.08 & 24.08 & ZYXI \\\\\n",
       "\t13 & 2020-06-16 & 1732900 & 24.75 & 26.62 & 24.48 & 25.84 & 25.84 & ZYXI \\\\\n",
       "\t14 & 2020-06-15 & 4673800 & 20.88 & 25.0 & 20.68 & 24.52 & 24.52 & ZYXI \\\\\n",
       "\t15 & 2020-06-12 & 2422600 & 24.25 & 24.47 & 20.76 & 22.19 & 22.19 & ZYXI \\\\\n",
       "\t$\\dots$ & $\\dots$ & $\\dots$ & $\\dots$ & $\\dots$ & $\\dots$ & $\\dots$ & $\\dots$ & $\\dots$ \\\\\n",
       "\\end{tabular}\n"
      ],
      "text/plain": [
       "GroupedDataFrame with 6335 groups based on key: symbol\n",
       "First Group (474 rows): symbol = \"AAAU\"\n",
       "│ Row │ date       │ volume │ open    │ high    │ low     │ close   │ adjclose │ symbol │\n",
       "│     │ \u001b[90mDate\u001b[39m       │ \u001b[90mInt64\u001b[39m  │ \u001b[90mFloat64\u001b[39m │ \u001b[90mFloat64\u001b[39m │ \u001b[90mFloat64\u001b[39m │ \u001b[90mFloat64\u001b[39m │ \u001b[90mFloat64\u001b[39m  │ \u001b[90mString\u001b[39m │\n",
       "├─────┼────────────┼────────┼─────────┼─────────┼─────────┼─────────┼──────────┼────────┤\n",
       "│ 1   │ 2222-07-02 │ 257500 │ 17.64   │ 17.74   │ 17.62   │ 17.71   │ 17.71    │ AAAU   │\n",
       "│ 2   │ 2020-07-01 │ 468100 │ 17.73   │ 17.73   │ 17.54   │ 17.68   │ 17.68    │ AAAU   │\n",
       "│ 3   │ 2020-06-30 │ 319100 │ 17.65   │ 17.8    │ 17.61   │ 17.78   │ 17.78    │ AAAU   │\n",
       "⋮\n",
       "│ 471 │ 2018-08-20 │ 28700  │ 11.88   │ 11.91   │ 11.85   │ 11.9    │ 11.9     │ AAAU   │\n",
       "│ 472 │ 2018-08-17 │ 52400  │ 11.8    │ 11.82   │ 11.77   │ 11.82   │ 11.82    │ AAAU   │\n",
       "│ 473 │ 2018-08-16 │ 428400 │ 11.78   │ 11.8    │ 11.74   │ 11.74   │ 11.74    │ AAAU   │\n",
       "│ 474 │ 2018-08-15 │ 27300  │ 11.84   │ 11.84   │ 11.74   │ 11.74   │ 11.74    │ AAAU   │\n",
       "⋮\n",
       "Last Group (1215 rows): symbol = \"ZYXI\"\n",
       "│ Row  │ date       │ volume  │ open    │ high    │ low     │ close   │ adjclose │ symbol │\n",
       "│      │ \u001b[90mDate\u001b[39m       │ \u001b[90mInt64\u001b[39m   │ \u001b[90mFloat64\u001b[39m │ \u001b[90mFloat64\u001b[39m │ \u001b[90mFloat64\u001b[39m │ \u001b[90mFloat64\u001b[39m │ \u001b[90mFloat64\u001b[39m  │ \u001b[90mString\u001b[39m │\n",
       "├──────┼────────────┼─────────┼─────────┼─────────┼─────────┼─────────┼──────────┼────────┤\n",
       "│ 1    │ 2020-07-02 │ 1072200 │ 24.54   │ 26.84   │ 24.44   │ 25.12   │ 25.12    │ ZYXI   │\n",
       "│ 2    │ 2020-07-01 │ 630100  │ 24.77   │ 24.85   │ 23.95   │ 24.41   │ 24.41    │ ZYXI   │\n",
       "│ 3    │ 2020-06-30 │ 1054800 │ 23.05   │ 25.24   │ 22.81   │ 24.87   │ 24.87    │ ZYXI   │\n",
       "⋮\n",
       "│ 1212 │ 2015-01-09 │ 200     │ 0.15    │ 0.15    │ 0.15    │ 0.15    │ 0.146038 │ ZYXI   │\n",
       "│ 1213 │ 2015-01-07 │ 8100    │ 0.14    │ 0.15    │ 0.13    │ 0.15    │ 0.146038 │ ZYXI   │\n",
       "│ 1214 │ 2015-01-05 │ 33200   │ 0.22    │ 0.22    │ 0.14    │ 0.16    │ 0.155774 │ ZYXI   │\n",
       "│ 1215 │ 2015-01-02 │ 100     │ 0.18    │ 0.18    │ 0.18    │ 0.18    │ 0.175245 │ ZYXI   │"
      ]
     },
     "execution_count": 50,
     "metadata": {},
     "output_type": "execute_result"
    }
   ],
   "source": [
    "gdf = groupby(df, :symbol)"
   ]
  },
  {
   "cell_type": "code",
   "execution_count": 51,
   "metadata": {},
   "outputs": [
    {
     "data": {
      "text/plain": [
       "6335-element DataFrames.GroupKeys{GroupedDataFrame{DataFrame}}:\n",
       " GroupKey: (symbol = \"AAAU\",)\n",
       " GroupKey: (symbol = \"AACG\",)\n",
       " GroupKey: (symbol = \"AADR\",)\n",
       " GroupKey: (symbol = \"AAL\",)\n",
       " GroupKey: (symbol = \"AAMC\",)\n",
       " ⋮\n",
       " GroupKey: (symbol = \"ZUO\",)\n",
       " GroupKey: (symbol = \"ZVO\",)\n",
       " GroupKey: (symbol = \"ZYME\",)\n",
       " GroupKey: (symbol = \"ZYNE\",)\n",
       " GroupKey: (symbol = \"ZYXI\",)"
      ]
     },
     "execution_count": 51,
     "metadata": {},
     "output_type": "execute_result"
    }
   ],
   "source": [
    "gdf_keys = keys(gdf)"
   ]
  },
  {
   "cell_type": "markdown",
   "metadata": {},
   "source": [
    "As usual - indexing by a single value drops a dimension (you get a `SubDataFrame`)"
   ]
  },
  {
   "cell_type": "code",
   "execution_count": 52,
   "metadata": {},
   "outputs": [
    {
     "data": {
      "text/html": [
       "<table class=\"data-frame\"><thead><tr><th></th><th>date</th><th>volume</th><th>open</th><th>high</th><th>low</th><th>close</th><th>adjclose</th><th>symbol</th></tr><tr><th></th><th>Date</th><th>Int64</th><th>Float64</th><th>Float64</th><th>Float64</th><th>Float64</th><th>Float64</th><th>String</th></tr></thead><tbody><p>474 rows × 8 columns</p><tr><th>1</th><td>2222-07-02</td><td>257500</td><td>17.64</td><td>17.74</td><td>17.62</td><td>17.71</td><td>17.71</td><td>AAAU</td></tr><tr><th>2</th><td>2020-07-01</td><td>468100</td><td>17.73</td><td>17.73</td><td>17.54</td><td>17.68</td><td>17.68</td><td>AAAU</td></tr><tr><th>3</th><td>2020-06-30</td><td>319100</td><td>17.65</td><td>17.8</td><td>17.61</td><td>17.78</td><td>17.78</td><td>AAAU</td></tr><tr><th>4</th><td>2020-06-29</td><td>405500</td><td>17.67</td><td>17.69</td><td>17.63</td><td>17.68</td><td>17.68</td><td>AAAU</td></tr><tr><th>5</th><td>2020-06-26</td><td>335100</td><td>17.49</td><td>17.67</td><td>17.42</td><td>17.67</td><td>17.67</td><td>AAAU</td></tr><tr><th>6</th><td>2020-06-25</td><td>246800</td><td>17.6</td><td>17.6</td><td>17.52</td><td>17.59</td><td>17.59</td><td>AAAU</td></tr><tr><th>7</th><td>2020-06-24</td><td>329200</td><td>17.61</td><td>17.71</td><td>17.56</td><td>17.61</td><td>17.61</td><td>AAAU</td></tr><tr><th>8</th><td>2020-06-23</td><td>351800</td><td>17.55</td><td>17.66</td><td>17.55</td><td>17.66</td><td>17.66</td><td>AAAU</td></tr><tr><th>9</th><td>2020-06-22</td><td>308300</td><td>17.5</td><td>17.57</td><td>17.44</td><td>17.5</td><td>17.5</td><td>AAAU</td></tr><tr><th>10</th><td>2020-06-19</td><td>153800</td><td>17.27</td><td>17.4</td><td>17.26</td><td>17.4</td><td>17.4</td><td>AAAU</td></tr><tr><th>11</th><td>2020-06-18</td><td>102200</td><td>17.27</td><td>17.27</td><td>17.14</td><td>17.23</td><td>17.23</td><td>AAAU</td></tr><tr><th>12</th><td>2020-06-17</td><td>153900</td><td>17.19</td><td>17.25</td><td>17.16</td><td>17.25</td><td>17.25</td><td>AAAU</td></tr><tr><th>13</th><td>2020-06-16</td><td>165800</td><td>17.15</td><td>17.25</td><td>17.11</td><td>17.21</td><td>17.21</td><td>AAAU</td></tr><tr><th>14</th><td>2020-06-15</td><td>308700</td><td>17.03</td><td>17.23</td><td>17.0</td><td>17.2</td><td>17.2</td><td>AAAU</td></tr><tr><th>15</th><td>2020-06-12</td><td>161400</td><td>17.34</td><td>17.37</td><td>17.25</td><td>17.27</td><td>17.27</td><td>AAAU</td></tr><tr><th>&vellip;</th><td>&vellip;</td><td>&vellip;</td><td>&vellip;</td><td>&vellip;</td><td>&vellip;</td><td>&vellip;</td><td>&vellip;</td><td>&vellip;</td></tr></tbody></table>"
      ],
      "text/latex": [
       "\\begin{tabular}{r|cccccccc}\n",
       "\t& date & volume & open & high & low & close & adjclose & symbol\\\\\n",
       "\t\\hline\n",
       "\t& Date & Int64 & Float64 & Float64 & Float64 & Float64 & Float64 & String\\\\\n",
       "\t\\hline\n",
       "\t1 & 2222-07-02 & 257500 & 17.64 & 17.74 & 17.62 & 17.71 & 17.71 & AAAU \\\\\n",
       "\t2 & 2020-07-01 & 468100 & 17.73 & 17.73 & 17.54 & 17.68 & 17.68 & AAAU \\\\\n",
       "\t3 & 2020-06-30 & 319100 & 17.65 & 17.8 & 17.61 & 17.78 & 17.78 & AAAU \\\\\n",
       "\t4 & 2020-06-29 & 405500 & 17.67 & 17.69 & 17.63 & 17.68 & 17.68 & AAAU \\\\\n",
       "\t5 & 2020-06-26 & 335100 & 17.49 & 17.67 & 17.42 & 17.67 & 17.67 & AAAU \\\\\n",
       "\t6 & 2020-06-25 & 246800 & 17.6 & 17.6 & 17.52 & 17.59 & 17.59 & AAAU \\\\\n",
       "\t7 & 2020-06-24 & 329200 & 17.61 & 17.71 & 17.56 & 17.61 & 17.61 & AAAU \\\\\n",
       "\t8 & 2020-06-23 & 351800 & 17.55 & 17.66 & 17.55 & 17.66 & 17.66 & AAAU \\\\\n",
       "\t9 & 2020-06-22 & 308300 & 17.5 & 17.57 & 17.44 & 17.5 & 17.5 & AAAU \\\\\n",
       "\t10 & 2020-06-19 & 153800 & 17.27 & 17.4 & 17.26 & 17.4 & 17.4 & AAAU \\\\\n",
       "\t11 & 2020-06-18 & 102200 & 17.27 & 17.27 & 17.14 & 17.23 & 17.23 & AAAU \\\\\n",
       "\t12 & 2020-06-17 & 153900 & 17.19 & 17.25 & 17.16 & 17.25 & 17.25 & AAAU \\\\\n",
       "\t13 & 2020-06-16 & 165800 & 17.15 & 17.25 & 17.11 & 17.21 & 17.21 & AAAU \\\\\n",
       "\t14 & 2020-06-15 & 308700 & 17.03 & 17.23 & 17.0 & 17.2 & 17.2 & AAAU \\\\\n",
       "\t15 & 2020-06-12 & 161400 & 17.34 & 17.37 & 17.25 & 17.27 & 17.27 & AAAU \\\\\n",
       "\t$\\dots$ & $\\dots$ & $\\dots$ & $\\dots$ & $\\dots$ & $\\dots$ & $\\dots$ & $\\dots$ & $\\dots$ \\\\\n",
       "\\end{tabular}\n"
      ],
      "text/plain": [
       "474×8 SubDataFrame\n",
       "│ Row │ date       │ volume │ open    │ high    │ low     │ close   │ adjclose │ symbol │\n",
       "│     │ \u001b[90mDate\u001b[39m       │ \u001b[90mInt64\u001b[39m  │ \u001b[90mFloat64\u001b[39m │ \u001b[90mFloat64\u001b[39m │ \u001b[90mFloat64\u001b[39m │ \u001b[90mFloat64\u001b[39m │ \u001b[90mFloat64\u001b[39m  │ \u001b[90mString\u001b[39m │\n",
       "├─────┼────────────┼────────┼─────────┼─────────┼─────────┼─────────┼──────────┼────────┤\n",
       "│ 1   │ 2222-07-02 │ 257500 │ 17.64   │ 17.74   │ 17.62   │ 17.71   │ 17.71    │ AAAU   │\n",
       "│ 2   │ 2020-07-01 │ 468100 │ 17.73   │ 17.73   │ 17.54   │ 17.68   │ 17.68    │ AAAU   │\n",
       "│ 3   │ 2020-06-30 │ 319100 │ 17.65   │ 17.8    │ 17.61   │ 17.78   │ 17.78    │ AAAU   │\n",
       "⋮\n",
       "│ 471 │ 2018-08-20 │ 28700  │ 11.88   │ 11.91   │ 11.85   │ 11.9    │ 11.9     │ AAAU   │\n",
       "│ 472 │ 2018-08-17 │ 52400  │ 11.8    │ 11.82   │ 11.77   │ 11.82   │ 11.82    │ AAAU   │\n",
       "│ 473 │ 2018-08-16 │ 428400 │ 11.78   │ 11.8    │ 11.74   │ 11.74   │ 11.74    │ AAAU   │\n",
       "│ 474 │ 2018-08-15 │ 27300  │ 11.84   │ 11.84   │ 11.74   │ 11.74   │ 11.74    │ AAAU   │"
      ]
     },
     "execution_count": 52,
     "metadata": {},
     "output_type": "execute_result"
    }
   ],
   "source": [
    "gdf[1]"
   ]
  },
  {
   "cell_type": "code",
   "execution_count": 53,
   "metadata": {},
   "outputs": [
    {
     "data": {
      "text/plain": [
       "GroupKey: (symbol = \"AAAU\",)"
      ]
     },
     "execution_count": 53,
     "metadata": {},
     "output_type": "execute_result"
    }
   ],
   "source": [
    "gdf_keys[1]"
   ]
  },
  {
   "cell_type": "code",
   "execution_count": 54,
   "metadata": {},
   "outputs": [
    {
     "data": {
      "text/html": [
       "<table class=\"data-frame\"><thead><tr><th></th><th>date</th><th>volume</th><th>open</th><th>high</th><th>low</th><th>close</th><th>adjclose</th><th>symbol</th></tr><tr><th></th><th>Date</th><th>Int64</th><th>Float64</th><th>Float64</th><th>Float64</th><th>Float64</th><th>Float64</th><th>String</th></tr></thead><tbody><p>474 rows × 8 columns</p><tr><th>1</th><td>2222-07-02</td><td>257500</td><td>17.64</td><td>17.74</td><td>17.62</td><td>17.71</td><td>17.71</td><td>AAAU</td></tr><tr><th>2</th><td>2020-07-01</td><td>468100</td><td>17.73</td><td>17.73</td><td>17.54</td><td>17.68</td><td>17.68</td><td>AAAU</td></tr><tr><th>3</th><td>2020-06-30</td><td>319100</td><td>17.65</td><td>17.8</td><td>17.61</td><td>17.78</td><td>17.78</td><td>AAAU</td></tr><tr><th>4</th><td>2020-06-29</td><td>405500</td><td>17.67</td><td>17.69</td><td>17.63</td><td>17.68</td><td>17.68</td><td>AAAU</td></tr><tr><th>5</th><td>2020-06-26</td><td>335100</td><td>17.49</td><td>17.67</td><td>17.42</td><td>17.67</td><td>17.67</td><td>AAAU</td></tr><tr><th>6</th><td>2020-06-25</td><td>246800</td><td>17.6</td><td>17.6</td><td>17.52</td><td>17.59</td><td>17.59</td><td>AAAU</td></tr><tr><th>7</th><td>2020-06-24</td><td>329200</td><td>17.61</td><td>17.71</td><td>17.56</td><td>17.61</td><td>17.61</td><td>AAAU</td></tr><tr><th>8</th><td>2020-06-23</td><td>351800</td><td>17.55</td><td>17.66</td><td>17.55</td><td>17.66</td><td>17.66</td><td>AAAU</td></tr><tr><th>9</th><td>2020-06-22</td><td>308300</td><td>17.5</td><td>17.57</td><td>17.44</td><td>17.5</td><td>17.5</td><td>AAAU</td></tr><tr><th>10</th><td>2020-06-19</td><td>153800</td><td>17.27</td><td>17.4</td><td>17.26</td><td>17.4</td><td>17.4</td><td>AAAU</td></tr><tr><th>11</th><td>2020-06-18</td><td>102200</td><td>17.27</td><td>17.27</td><td>17.14</td><td>17.23</td><td>17.23</td><td>AAAU</td></tr><tr><th>12</th><td>2020-06-17</td><td>153900</td><td>17.19</td><td>17.25</td><td>17.16</td><td>17.25</td><td>17.25</td><td>AAAU</td></tr><tr><th>13</th><td>2020-06-16</td><td>165800</td><td>17.15</td><td>17.25</td><td>17.11</td><td>17.21</td><td>17.21</td><td>AAAU</td></tr><tr><th>14</th><td>2020-06-15</td><td>308700</td><td>17.03</td><td>17.23</td><td>17.0</td><td>17.2</td><td>17.2</td><td>AAAU</td></tr><tr><th>15</th><td>2020-06-12</td><td>161400</td><td>17.34</td><td>17.37</td><td>17.25</td><td>17.27</td><td>17.27</td><td>AAAU</td></tr><tr><th>&vellip;</th><td>&vellip;</td><td>&vellip;</td><td>&vellip;</td><td>&vellip;</td><td>&vellip;</td><td>&vellip;</td><td>&vellip;</td><td>&vellip;</td></tr></tbody></table>"
      ],
      "text/latex": [
       "\\begin{tabular}{r|cccccccc}\n",
       "\t& date & volume & open & high & low & close & adjclose & symbol\\\\\n",
       "\t\\hline\n",
       "\t& Date & Int64 & Float64 & Float64 & Float64 & Float64 & Float64 & String\\\\\n",
       "\t\\hline\n",
       "\t1 & 2222-07-02 & 257500 & 17.64 & 17.74 & 17.62 & 17.71 & 17.71 & AAAU \\\\\n",
       "\t2 & 2020-07-01 & 468100 & 17.73 & 17.73 & 17.54 & 17.68 & 17.68 & AAAU \\\\\n",
       "\t3 & 2020-06-30 & 319100 & 17.65 & 17.8 & 17.61 & 17.78 & 17.78 & AAAU \\\\\n",
       "\t4 & 2020-06-29 & 405500 & 17.67 & 17.69 & 17.63 & 17.68 & 17.68 & AAAU \\\\\n",
       "\t5 & 2020-06-26 & 335100 & 17.49 & 17.67 & 17.42 & 17.67 & 17.67 & AAAU \\\\\n",
       "\t6 & 2020-06-25 & 246800 & 17.6 & 17.6 & 17.52 & 17.59 & 17.59 & AAAU \\\\\n",
       "\t7 & 2020-06-24 & 329200 & 17.61 & 17.71 & 17.56 & 17.61 & 17.61 & AAAU \\\\\n",
       "\t8 & 2020-06-23 & 351800 & 17.55 & 17.66 & 17.55 & 17.66 & 17.66 & AAAU \\\\\n",
       "\t9 & 2020-06-22 & 308300 & 17.5 & 17.57 & 17.44 & 17.5 & 17.5 & AAAU \\\\\n",
       "\t10 & 2020-06-19 & 153800 & 17.27 & 17.4 & 17.26 & 17.4 & 17.4 & AAAU \\\\\n",
       "\t11 & 2020-06-18 & 102200 & 17.27 & 17.27 & 17.14 & 17.23 & 17.23 & AAAU \\\\\n",
       "\t12 & 2020-06-17 & 153900 & 17.19 & 17.25 & 17.16 & 17.25 & 17.25 & AAAU \\\\\n",
       "\t13 & 2020-06-16 & 165800 & 17.15 & 17.25 & 17.11 & 17.21 & 17.21 & AAAU \\\\\n",
       "\t14 & 2020-06-15 & 308700 & 17.03 & 17.23 & 17.0 & 17.2 & 17.2 & AAAU \\\\\n",
       "\t15 & 2020-06-12 & 161400 & 17.34 & 17.37 & 17.25 & 17.27 & 17.27 & AAAU \\\\\n",
       "\t$\\dots$ & $\\dots$ & $\\dots$ & $\\dots$ & $\\dots$ & $\\dots$ & $\\dots$ & $\\dots$ & $\\dots$ \\\\\n",
       "\\end{tabular}\n"
      ],
      "text/plain": [
       "474×8 SubDataFrame\n",
       "│ Row │ date       │ volume │ open    │ high    │ low     │ close   │ adjclose │ symbol │\n",
       "│     │ \u001b[90mDate\u001b[39m       │ \u001b[90mInt64\u001b[39m  │ \u001b[90mFloat64\u001b[39m │ \u001b[90mFloat64\u001b[39m │ \u001b[90mFloat64\u001b[39m │ \u001b[90mFloat64\u001b[39m │ \u001b[90mFloat64\u001b[39m  │ \u001b[90mString\u001b[39m │\n",
       "├─────┼────────────┼────────┼─────────┼─────────┼─────────┼─────────┼──────────┼────────┤\n",
       "│ 1   │ 2222-07-02 │ 257500 │ 17.64   │ 17.74   │ 17.62   │ 17.71   │ 17.71    │ AAAU   │\n",
       "│ 2   │ 2020-07-01 │ 468100 │ 17.73   │ 17.73   │ 17.54   │ 17.68   │ 17.68    │ AAAU   │\n",
       "│ 3   │ 2020-06-30 │ 319100 │ 17.65   │ 17.8    │ 17.61   │ 17.78   │ 17.78    │ AAAU   │\n",
       "⋮\n",
       "│ 471 │ 2018-08-20 │ 28700  │ 11.88   │ 11.91   │ 11.85   │ 11.9    │ 11.9     │ AAAU   │\n",
       "│ 472 │ 2018-08-17 │ 52400  │ 11.8    │ 11.82   │ 11.77   │ 11.82   │ 11.82    │ AAAU   │\n",
       "│ 473 │ 2018-08-16 │ 428400 │ 11.78   │ 11.8    │ 11.74   │ 11.74   │ 11.74    │ AAAU   │\n",
       "│ 474 │ 2018-08-15 │ 27300  │ 11.84   │ 11.84   │ 11.74   │ 11.74   │ 11.74    │ AAAU   │"
      ]
     },
     "execution_count": 54,
     "metadata": {},
     "output_type": "execute_result"
    }
   ],
   "source": [
    "gdf[gdf_keys[1]]"
   ]
  },
  {
   "cell_type": "code",
   "execution_count": 55,
   "metadata": {},
   "outputs": [
    {
     "data": {
      "text/html": [
       "<table class=\"data-frame\"><thead><tr><th></th><th>date</th><th>volume</th><th>open</th><th>high</th><th>low</th><th>close</th><th>adjclose</th><th>symbol</th></tr><tr><th></th><th>Date</th><th>Int64</th><th>Float64</th><th>Float64</th><th>Float64</th><th>Float64</th><th>Float64</th><th>String</th></tr></thead><tbody><p>474 rows × 8 columns</p><tr><th>1</th><td>2222-07-02</td><td>257500</td><td>17.64</td><td>17.74</td><td>17.62</td><td>17.71</td><td>17.71</td><td>AAAU</td></tr><tr><th>2</th><td>2020-07-01</td><td>468100</td><td>17.73</td><td>17.73</td><td>17.54</td><td>17.68</td><td>17.68</td><td>AAAU</td></tr><tr><th>3</th><td>2020-06-30</td><td>319100</td><td>17.65</td><td>17.8</td><td>17.61</td><td>17.78</td><td>17.78</td><td>AAAU</td></tr><tr><th>4</th><td>2020-06-29</td><td>405500</td><td>17.67</td><td>17.69</td><td>17.63</td><td>17.68</td><td>17.68</td><td>AAAU</td></tr><tr><th>5</th><td>2020-06-26</td><td>335100</td><td>17.49</td><td>17.67</td><td>17.42</td><td>17.67</td><td>17.67</td><td>AAAU</td></tr><tr><th>6</th><td>2020-06-25</td><td>246800</td><td>17.6</td><td>17.6</td><td>17.52</td><td>17.59</td><td>17.59</td><td>AAAU</td></tr><tr><th>7</th><td>2020-06-24</td><td>329200</td><td>17.61</td><td>17.71</td><td>17.56</td><td>17.61</td><td>17.61</td><td>AAAU</td></tr><tr><th>8</th><td>2020-06-23</td><td>351800</td><td>17.55</td><td>17.66</td><td>17.55</td><td>17.66</td><td>17.66</td><td>AAAU</td></tr><tr><th>9</th><td>2020-06-22</td><td>308300</td><td>17.5</td><td>17.57</td><td>17.44</td><td>17.5</td><td>17.5</td><td>AAAU</td></tr><tr><th>10</th><td>2020-06-19</td><td>153800</td><td>17.27</td><td>17.4</td><td>17.26</td><td>17.4</td><td>17.4</td><td>AAAU</td></tr><tr><th>11</th><td>2020-06-18</td><td>102200</td><td>17.27</td><td>17.27</td><td>17.14</td><td>17.23</td><td>17.23</td><td>AAAU</td></tr><tr><th>12</th><td>2020-06-17</td><td>153900</td><td>17.19</td><td>17.25</td><td>17.16</td><td>17.25</td><td>17.25</td><td>AAAU</td></tr><tr><th>13</th><td>2020-06-16</td><td>165800</td><td>17.15</td><td>17.25</td><td>17.11</td><td>17.21</td><td>17.21</td><td>AAAU</td></tr><tr><th>14</th><td>2020-06-15</td><td>308700</td><td>17.03</td><td>17.23</td><td>17.0</td><td>17.2</td><td>17.2</td><td>AAAU</td></tr><tr><th>15</th><td>2020-06-12</td><td>161400</td><td>17.34</td><td>17.37</td><td>17.25</td><td>17.27</td><td>17.27</td><td>AAAU</td></tr><tr><th>&vellip;</th><td>&vellip;</td><td>&vellip;</td><td>&vellip;</td><td>&vellip;</td><td>&vellip;</td><td>&vellip;</td><td>&vellip;</td><td>&vellip;</td></tr></tbody></table>"
      ],
      "text/latex": [
       "\\begin{tabular}{r|cccccccc}\n",
       "\t& date & volume & open & high & low & close & adjclose & symbol\\\\\n",
       "\t\\hline\n",
       "\t& Date & Int64 & Float64 & Float64 & Float64 & Float64 & Float64 & String\\\\\n",
       "\t\\hline\n",
       "\t1 & 2222-07-02 & 257500 & 17.64 & 17.74 & 17.62 & 17.71 & 17.71 & AAAU \\\\\n",
       "\t2 & 2020-07-01 & 468100 & 17.73 & 17.73 & 17.54 & 17.68 & 17.68 & AAAU \\\\\n",
       "\t3 & 2020-06-30 & 319100 & 17.65 & 17.8 & 17.61 & 17.78 & 17.78 & AAAU \\\\\n",
       "\t4 & 2020-06-29 & 405500 & 17.67 & 17.69 & 17.63 & 17.68 & 17.68 & AAAU \\\\\n",
       "\t5 & 2020-06-26 & 335100 & 17.49 & 17.67 & 17.42 & 17.67 & 17.67 & AAAU \\\\\n",
       "\t6 & 2020-06-25 & 246800 & 17.6 & 17.6 & 17.52 & 17.59 & 17.59 & AAAU \\\\\n",
       "\t7 & 2020-06-24 & 329200 & 17.61 & 17.71 & 17.56 & 17.61 & 17.61 & AAAU \\\\\n",
       "\t8 & 2020-06-23 & 351800 & 17.55 & 17.66 & 17.55 & 17.66 & 17.66 & AAAU \\\\\n",
       "\t9 & 2020-06-22 & 308300 & 17.5 & 17.57 & 17.44 & 17.5 & 17.5 & AAAU \\\\\n",
       "\t10 & 2020-06-19 & 153800 & 17.27 & 17.4 & 17.26 & 17.4 & 17.4 & AAAU \\\\\n",
       "\t11 & 2020-06-18 & 102200 & 17.27 & 17.27 & 17.14 & 17.23 & 17.23 & AAAU \\\\\n",
       "\t12 & 2020-06-17 & 153900 & 17.19 & 17.25 & 17.16 & 17.25 & 17.25 & AAAU \\\\\n",
       "\t13 & 2020-06-16 & 165800 & 17.15 & 17.25 & 17.11 & 17.21 & 17.21 & AAAU \\\\\n",
       "\t14 & 2020-06-15 & 308700 & 17.03 & 17.23 & 17.0 & 17.2 & 17.2 & AAAU \\\\\n",
       "\t15 & 2020-06-12 & 161400 & 17.34 & 17.37 & 17.25 & 17.27 & 17.27 & AAAU \\\\\n",
       "\t$\\dots$ & $\\dots$ & $\\dots$ & $\\dots$ & $\\dots$ & $\\dots$ & $\\dots$ & $\\dots$ & $\\dots$ \\\\\n",
       "\\end{tabular}\n"
      ],
      "text/plain": [
       "474×8 SubDataFrame\n",
       "│ Row │ date       │ volume │ open    │ high    │ low     │ close   │ adjclose │ symbol │\n",
       "│     │ \u001b[90mDate\u001b[39m       │ \u001b[90mInt64\u001b[39m  │ \u001b[90mFloat64\u001b[39m │ \u001b[90mFloat64\u001b[39m │ \u001b[90mFloat64\u001b[39m │ \u001b[90mFloat64\u001b[39m │ \u001b[90mFloat64\u001b[39m  │ \u001b[90mString\u001b[39m │\n",
       "├─────┼────────────┼────────┼─────────┼─────────┼─────────┼─────────┼──────────┼────────┤\n",
       "│ 1   │ 2222-07-02 │ 257500 │ 17.64   │ 17.74   │ 17.62   │ 17.71   │ 17.71    │ AAAU   │\n",
       "│ 2   │ 2020-07-01 │ 468100 │ 17.73   │ 17.73   │ 17.54   │ 17.68   │ 17.68    │ AAAU   │\n",
       "│ 3   │ 2020-06-30 │ 319100 │ 17.65   │ 17.8    │ 17.61   │ 17.78   │ 17.78    │ AAAU   │\n",
       "⋮\n",
       "│ 471 │ 2018-08-20 │ 28700  │ 11.88   │ 11.91   │ 11.85   │ 11.9    │ 11.9     │ AAAU   │\n",
       "│ 472 │ 2018-08-17 │ 52400  │ 11.8    │ 11.82   │ 11.77   │ 11.82   │ 11.82    │ AAAU   │\n",
       "│ 473 │ 2018-08-16 │ 428400 │ 11.78   │ 11.8    │ 11.74   │ 11.74   │ 11.74    │ AAAU   │\n",
       "│ 474 │ 2018-08-15 │ 27300  │ 11.84   │ 11.84   │ 11.74   │ 11.74   │ 11.74    │ AAAU   │"
      ]
     },
     "execution_count": 55,
     "metadata": {},
     "output_type": "execute_result"
    }
   ],
   "source": [
    "gdf[(symbol=\"AAAU\",)]"
   ]
  },
  {
   "cell_type": "code",
   "execution_count": 56,
   "metadata": {},
   "outputs": [
    {
     "data": {
      "text/html": [
       "<table class=\"data-frame\"><thead><tr><th></th><th>date</th><th>volume</th><th>open</th><th>high</th><th>low</th><th>close</th><th>adjclose</th><th>symbol</th></tr><tr><th></th><th>Date</th><th>Int64</th><th>Float64</th><th>Float64</th><th>Float64</th><th>Float64</th><th>Float64</th><th>String</th></tr></thead><tbody><p>474 rows × 8 columns</p><tr><th>1</th><td>2222-07-02</td><td>257500</td><td>17.64</td><td>17.74</td><td>17.62</td><td>17.71</td><td>17.71</td><td>AAAU</td></tr><tr><th>2</th><td>2020-07-01</td><td>468100</td><td>17.73</td><td>17.73</td><td>17.54</td><td>17.68</td><td>17.68</td><td>AAAU</td></tr><tr><th>3</th><td>2020-06-30</td><td>319100</td><td>17.65</td><td>17.8</td><td>17.61</td><td>17.78</td><td>17.78</td><td>AAAU</td></tr><tr><th>4</th><td>2020-06-29</td><td>405500</td><td>17.67</td><td>17.69</td><td>17.63</td><td>17.68</td><td>17.68</td><td>AAAU</td></tr><tr><th>5</th><td>2020-06-26</td><td>335100</td><td>17.49</td><td>17.67</td><td>17.42</td><td>17.67</td><td>17.67</td><td>AAAU</td></tr><tr><th>6</th><td>2020-06-25</td><td>246800</td><td>17.6</td><td>17.6</td><td>17.52</td><td>17.59</td><td>17.59</td><td>AAAU</td></tr><tr><th>7</th><td>2020-06-24</td><td>329200</td><td>17.61</td><td>17.71</td><td>17.56</td><td>17.61</td><td>17.61</td><td>AAAU</td></tr><tr><th>8</th><td>2020-06-23</td><td>351800</td><td>17.55</td><td>17.66</td><td>17.55</td><td>17.66</td><td>17.66</td><td>AAAU</td></tr><tr><th>9</th><td>2020-06-22</td><td>308300</td><td>17.5</td><td>17.57</td><td>17.44</td><td>17.5</td><td>17.5</td><td>AAAU</td></tr><tr><th>10</th><td>2020-06-19</td><td>153800</td><td>17.27</td><td>17.4</td><td>17.26</td><td>17.4</td><td>17.4</td><td>AAAU</td></tr><tr><th>11</th><td>2020-06-18</td><td>102200</td><td>17.27</td><td>17.27</td><td>17.14</td><td>17.23</td><td>17.23</td><td>AAAU</td></tr><tr><th>12</th><td>2020-06-17</td><td>153900</td><td>17.19</td><td>17.25</td><td>17.16</td><td>17.25</td><td>17.25</td><td>AAAU</td></tr><tr><th>13</th><td>2020-06-16</td><td>165800</td><td>17.15</td><td>17.25</td><td>17.11</td><td>17.21</td><td>17.21</td><td>AAAU</td></tr><tr><th>14</th><td>2020-06-15</td><td>308700</td><td>17.03</td><td>17.23</td><td>17.0</td><td>17.2</td><td>17.2</td><td>AAAU</td></tr><tr><th>15</th><td>2020-06-12</td><td>161400</td><td>17.34</td><td>17.37</td><td>17.25</td><td>17.27</td><td>17.27</td><td>AAAU</td></tr><tr><th>&vellip;</th><td>&vellip;</td><td>&vellip;</td><td>&vellip;</td><td>&vellip;</td><td>&vellip;</td><td>&vellip;</td><td>&vellip;</td><td>&vellip;</td></tr></tbody></table>"
      ],
      "text/latex": [
       "\\begin{tabular}{r|cccccccc}\n",
       "\t& date & volume & open & high & low & close & adjclose & symbol\\\\\n",
       "\t\\hline\n",
       "\t& Date & Int64 & Float64 & Float64 & Float64 & Float64 & Float64 & String\\\\\n",
       "\t\\hline\n",
       "\t1 & 2222-07-02 & 257500 & 17.64 & 17.74 & 17.62 & 17.71 & 17.71 & AAAU \\\\\n",
       "\t2 & 2020-07-01 & 468100 & 17.73 & 17.73 & 17.54 & 17.68 & 17.68 & AAAU \\\\\n",
       "\t3 & 2020-06-30 & 319100 & 17.65 & 17.8 & 17.61 & 17.78 & 17.78 & AAAU \\\\\n",
       "\t4 & 2020-06-29 & 405500 & 17.67 & 17.69 & 17.63 & 17.68 & 17.68 & AAAU \\\\\n",
       "\t5 & 2020-06-26 & 335100 & 17.49 & 17.67 & 17.42 & 17.67 & 17.67 & AAAU \\\\\n",
       "\t6 & 2020-06-25 & 246800 & 17.6 & 17.6 & 17.52 & 17.59 & 17.59 & AAAU \\\\\n",
       "\t7 & 2020-06-24 & 329200 & 17.61 & 17.71 & 17.56 & 17.61 & 17.61 & AAAU \\\\\n",
       "\t8 & 2020-06-23 & 351800 & 17.55 & 17.66 & 17.55 & 17.66 & 17.66 & AAAU \\\\\n",
       "\t9 & 2020-06-22 & 308300 & 17.5 & 17.57 & 17.44 & 17.5 & 17.5 & AAAU \\\\\n",
       "\t10 & 2020-06-19 & 153800 & 17.27 & 17.4 & 17.26 & 17.4 & 17.4 & AAAU \\\\\n",
       "\t11 & 2020-06-18 & 102200 & 17.27 & 17.27 & 17.14 & 17.23 & 17.23 & AAAU \\\\\n",
       "\t12 & 2020-06-17 & 153900 & 17.19 & 17.25 & 17.16 & 17.25 & 17.25 & AAAU \\\\\n",
       "\t13 & 2020-06-16 & 165800 & 17.15 & 17.25 & 17.11 & 17.21 & 17.21 & AAAU \\\\\n",
       "\t14 & 2020-06-15 & 308700 & 17.03 & 17.23 & 17.0 & 17.2 & 17.2 & AAAU \\\\\n",
       "\t15 & 2020-06-12 & 161400 & 17.34 & 17.37 & 17.25 & 17.27 & 17.27 & AAAU \\\\\n",
       "\t$\\dots$ & $\\dots$ & $\\dots$ & $\\dots$ & $\\dots$ & $\\dots$ & $\\dots$ & $\\dots$ & $\\dots$ \\\\\n",
       "\\end{tabular}\n"
      ],
      "text/plain": [
       "474×8 SubDataFrame\n",
       "│ Row │ date       │ volume │ open    │ high    │ low     │ close   │ adjclose │ symbol │\n",
       "│     │ \u001b[90mDate\u001b[39m       │ \u001b[90mInt64\u001b[39m  │ \u001b[90mFloat64\u001b[39m │ \u001b[90mFloat64\u001b[39m │ \u001b[90mFloat64\u001b[39m │ \u001b[90mFloat64\u001b[39m │ \u001b[90mFloat64\u001b[39m  │ \u001b[90mString\u001b[39m │\n",
       "├─────┼────────────┼────────┼─────────┼─────────┼─────────┼─────────┼──────────┼────────┤\n",
       "│ 1   │ 2222-07-02 │ 257500 │ 17.64   │ 17.74   │ 17.62   │ 17.71   │ 17.71    │ AAAU   │\n",
       "│ 2   │ 2020-07-01 │ 468100 │ 17.73   │ 17.73   │ 17.54   │ 17.68   │ 17.68    │ AAAU   │\n",
       "│ 3   │ 2020-06-30 │ 319100 │ 17.65   │ 17.8    │ 17.61   │ 17.78   │ 17.78    │ AAAU   │\n",
       "⋮\n",
       "│ 471 │ 2018-08-20 │ 28700  │ 11.88   │ 11.91   │ 11.85   │ 11.9    │ 11.9     │ AAAU   │\n",
       "│ 472 │ 2018-08-17 │ 52400  │ 11.8    │ 11.82   │ 11.77   │ 11.82   │ 11.82    │ AAAU   │\n",
       "│ 473 │ 2018-08-16 │ 428400 │ 11.78   │ 11.8    │ 11.74   │ 11.74   │ 11.74    │ AAAU   │\n",
       "│ 474 │ 2018-08-15 │ 27300  │ 11.84   │ 11.84   │ 11.74   │ 11.74   │ 11.74    │ AAAU   │"
      ]
     },
     "execution_count": 56,
     "metadata": {},
     "output_type": "execute_result"
    }
   ],
   "source": [
    "gdf[(\"AAAU\",)]"
   ]
  },
  {
   "cell_type": "markdown",
   "metadata": {},
   "source": [
    "And indexing by a collection produces a subsetted `GroupedDataFrame`:"
   ]
  },
  {
   "cell_type": "code",
   "execution_count": 57,
   "metadata": {},
   "outputs": [
    {
     "data": {
      "text/html": [
       "<p><b>GroupedDataFrame with 2 groups based on key: symbol</b></p><p><i>First Group (474 rows): symbol = \"AAAU\"</i></p><table class=\"data-frame\"><thead><tr><th></th><th>date</th><th>volume</th><th>open</th><th>high</th><th>low</th><th>close</th><th>adjclose</th><th>symbol</th></tr><tr><th></th><th>Date</th><th>Int64</th><th>Float64</th><th>Float64</th><th>Float64</th><th>Float64</th><th>Float64</th><th>String</th></tr></thead><tbody><tr><th>1</th><td>2222-07-02</td><td>257500</td><td>17.64</td><td>17.74</td><td>17.62</td><td>17.71</td><td>17.71</td><td>AAAU</td></tr><tr><th>2</th><td>2020-07-01</td><td>468100</td><td>17.73</td><td>17.73</td><td>17.54</td><td>17.68</td><td>17.68</td><td>AAAU</td></tr><tr><th>3</th><td>2020-06-30</td><td>319100</td><td>17.65</td><td>17.8</td><td>17.61</td><td>17.78</td><td>17.78</td><td>AAAU</td></tr><tr><th>4</th><td>2020-06-29</td><td>405500</td><td>17.67</td><td>17.69</td><td>17.63</td><td>17.68</td><td>17.68</td><td>AAAU</td></tr><tr><th>5</th><td>2020-06-26</td><td>335100</td><td>17.49</td><td>17.67</td><td>17.42</td><td>17.67</td><td>17.67</td><td>AAAU</td></tr><tr><th>6</th><td>2020-06-25</td><td>246800</td><td>17.6</td><td>17.6</td><td>17.52</td><td>17.59</td><td>17.59</td><td>AAAU</td></tr><tr><th>7</th><td>2020-06-24</td><td>329200</td><td>17.61</td><td>17.71</td><td>17.56</td><td>17.61</td><td>17.61</td><td>AAAU</td></tr><tr><th>8</th><td>2020-06-23</td><td>351800</td><td>17.55</td><td>17.66</td><td>17.55</td><td>17.66</td><td>17.66</td><td>AAAU</td></tr><tr><th>9</th><td>2020-06-22</td><td>308300</td><td>17.5</td><td>17.57</td><td>17.44</td><td>17.5</td><td>17.5</td><td>AAAU</td></tr><tr><th>10</th><td>2020-06-19</td><td>153800</td><td>17.27</td><td>17.4</td><td>17.26</td><td>17.4</td><td>17.4</td><td>AAAU</td></tr><tr><th>11</th><td>2020-06-18</td><td>102200</td><td>17.27</td><td>17.27</td><td>17.14</td><td>17.23</td><td>17.23</td><td>AAAU</td></tr><tr><th>12</th><td>2020-06-17</td><td>153900</td><td>17.19</td><td>17.25</td><td>17.16</td><td>17.25</td><td>17.25</td><td>AAAU</td></tr><tr><th>13</th><td>2020-06-16</td><td>165800</td><td>17.15</td><td>17.25</td><td>17.11</td><td>17.21</td><td>17.21</td><td>AAAU</td></tr><tr><th>14</th><td>2020-06-15</td><td>308700</td><td>17.03</td><td>17.23</td><td>17.0</td><td>17.2</td><td>17.2</td><td>AAAU</td></tr><tr><th>15</th><td>2020-06-12</td><td>161400</td><td>17.34</td><td>17.37</td><td>17.25</td><td>17.27</td><td>17.27</td><td>AAAU</td></tr><tr><th>&vellip;</th><td>&vellip;</td><td>&vellip;</td><td>&vellip;</td><td>&vellip;</td><td>&vellip;</td><td>&vellip;</td><td>&vellip;</td><td>&vellip;</td></tr></tbody></table><p>&vellip;</p><p><i>Last Group (333 rows): symbol = \"AACG\"</i></p><table class=\"data-frame\"><thead><tr><th></th><th>date</th><th>volume</th><th>open</th><th>high</th><th>low</th><th>close</th><th>adjclose</th><th>symbol</th></tr><tr><th></th><th>Date</th><th>Int64</th><th>Float64</th><th>Float64</th><th>Float64</th><th>Float64</th><th>Float64</th><th>String</th></tr></thead><tbody><tr><th>1</th><td>2020-07-02</td><td>46800</td><td>1.3</td><td>1.39</td><td>1.3</td><td>1.31</td><td>1.31</td><td>AACG</td></tr><tr><th>2</th><td>2020-07-01</td><td>95400</td><td>1.25</td><td>1.4</td><td>1.18</td><td>1.31</td><td>1.31</td><td>AACG</td></tr><tr><th>3</th><td>2020-06-30</td><td>40200</td><td>1.16</td><td>1.27</td><td>1.16</td><td>1.26</td><td>1.26</td><td>AACG</td></tr><tr><th>4</th><td>2020-06-29</td><td>46900</td><td>1.15</td><td>1.25</td><td>1.15</td><td>1.17</td><td>1.17</td><td>AACG</td></tr><tr><th>5</th><td>2020-06-26</td><td>43700</td><td>1.12</td><td>1.18</td><td>1.12</td><td>1.15</td><td>1.15</td><td>AACG</td></tr><tr><th>6</th><td>2020-06-25</td><td>72900</td><td>1.22</td><td>1.25</td><td>1.11</td><td>1.23</td><td>1.23</td><td>AACG</td></tr><tr><th>7</th><td>2020-06-24</td><td>80400</td><td>1.14</td><td>1.3</td><td>1.14</td><td>1.25</td><td>1.25</td><td>AACG</td></tr><tr><th>8</th><td>2020-06-23</td><td>57000</td><td>1.19</td><td>1.22</td><td>1.14</td><td>1.17</td><td>1.17</td><td>AACG</td></tr><tr><th>9</th><td>2020-06-22</td><td>115500</td><td>1.0</td><td>1.17</td><td>0.97</td><td>1.14</td><td>1.14</td><td>AACG</td></tr><tr><th>10</th><td>2020-06-19</td><td>52500</td><td>0.96</td><td>1.03</td><td>0.95</td><td>0.95</td><td>0.95</td><td>AACG</td></tr><tr><th>11</th><td>2020-06-18</td><td>113400</td><td>1.08</td><td>1.13</td><td>0.93</td><td>1.0</td><td>1.0</td><td>AACG</td></tr><tr><th>12</th><td>2020-06-17</td><td>136600</td><td>1.26</td><td>1.3</td><td>1.11</td><td>1.12</td><td>1.12</td><td>AACG</td></tr><tr><th>13</th><td>2020-06-16</td><td>1621800</td><td>1.33</td><td>1.8</td><td>1.12</td><td>1.12</td><td>1.12</td><td>AACG</td></tr><tr><th>14</th><td>2020-06-15</td><td>159200</td><td>1.14</td><td>1.36</td><td>1.14</td><td>1.29</td><td>1.29</td><td>AACG</td></tr><tr><th>15</th><td>2020-06-12</td><td>64200</td><td>1.2</td><td>1.23</td><td>1.01</td><td>1.14</td><td>1.14</td><td>AACG</td></tr><tr><th>&vellip;</th><td>&vellip;</td><td>&vellip;</td><td>&vellip;</td><td>&vellip;</td><td>&vellip;</td><td>&vellip;</td><td>&vellip;</td><td>&vellip;</td></tr></tbody></table>"
      ],
      "text/latex": [
       "GroupedDataFrame with 2 groups based on key: symbol\n",
       "\n",
       "First Group (474 rows): symbol = \"AAAU\"\n",
       "\n",
       "\\begin{tabular}{r|cccccccc}\n",
       "\t& date & volume & open & high & low & close & adjclose & symbol\\\\\n",
       "\t\\hline\n",
       "\t& Date & Int64 & Float64 & Float64 & Float64 & Float64 & Float64 & String\\\\\n",
       "\t\\hline\n",
       "\t1 & 2222-07-02 & 257500 & 17.64 & 17.74 & 17.62 & 17.71 & 17.71 & AAAU \\\\\n",
       "\t2 & 2020-07-01 & 468100 & 17.73 & 17.73 & 17.54 & 17.68 & 17.68 & AAAU \\\\\n",
       "\t3 & 2020-06-30 & 319100 & 17.65 & 17.8 & 17.61 & 17.78 & 17.78 & AAAU \\\\\n",
       "\t4 & 2020-06-29 & 405500 & 17.67 & 17.69 & 17.63 & 17.68 & 17.68 & AAAU \\\\\n",
       "\t5 & 2020-06-26 & 335100 & 17.49 & 17.67 & 17.42 & 17.67 & 17.67 & AAAU \\\\\n",
       "\t6 & 2020-06-25 & 246800 & 17.6 & 17.6 & 17.52 & 17.59 & 17.59 & AAAU \\\\\n",
       "\t7 & 2020-06-24 & 329200 & 17.61 & 17.71 & 17.56 & 17.61 & 17.61 & AAAU \\\\\n",
       "\t8 & 2020-06-23 & 351800 & 17.55 & 17.66 & 17.55 & 17.66 & 17.66 & AAAU \\\\\n",
       "\t9 & 2020-06-22 & 308300 & 17.5 & 17.57 & 17.44 & 17.5 & 17.5 & AAAU \\\\\n",
       "\t10 & 2020-06-19 & 153800 & 17.27 & 17.4 & 17.26 & 17.4 & 17.4 & AAAU \\\\\n",
       "\t11 & 2020-06-18 & 102200 & 17.27 & 17.27 & 17.14 & 17.23 & 17.23 & AAAU \\\\\n",
       "\t12 & 2020-06-17 & 153900 & 17.19 & 17.25 & 17.16 & 17.25 & 17.25 & AAAU \\\\\n",
       "\t13 & 2020-06-16 & 165800 & 17.15 & 17.25 & 17.11 & 17.21 & 17.21 & AAAU \\\\\n",
       "\t14 & 2020-06-15 & 308700 & 17.03 & 17.23 & 17.0 & 17.2 & 17.2 & AAAU \\\\\n",
       "\t15 & 2020-06-12 & 161400 & 17.34 & 17.37 & 17.25 & 17.27 & 17.27 & AAAU \\\\\n",
       "\t$\\dots$ & $\\dots$ & $\\dots$ & $\\dots$ & $\\dots$ & $\\dots$ & $\\dots$ & $\\dots$ & $\\dots$ \\\\\n",
       "\\end{tabular}\n",
       "\n",
       "$\\dots$\n",
       "\n",
       "Last Group (333 rows): symbol = \"AACG\"\n",
       "\n",
       "\\begin{tabular}{r|cccccccc}\n",
       "\t& date & volume & open & high & low & close & adjclose & symbol\\\\\n",
       "\t\\hline\n",
       "\t& Date & Int64 & Float64 & Float64 & Float64 & Float64 & Float64 & String\\\\\n",
       "\t\\hline\n",
       "\t1 & 2020-07-02 & 46800 & 1.3 & 1.39 & 1.3 & 1.31 & 1.31 & AACG \\\\\n",
       "\t2 & 2020-07-01 & 95400 & 1.25 & 1.4 & 1.18 & 1.31 & 1.31 & AACG \\\\\n",
       "\t3 & 2020-06-30 & 40200 & 1.16 & 1.27 & 1.16 & 1.26 & 1.26 & AACG \\\\\n",
       "\t4 & 2020-06-29 & 46900 & 1.15 & 1.25 & 1.15 & 1.17 & 1.17 & AACG \\\\\n",
       "\t5 & 2020-06-26 & 43700 & 1.12 & 1.18 & 1.12 & 1.15 & 1.15 & AACG \\\\\n",
       "\t6 & 2020-06-25 & 72900 & 1.22 & 1.25 & 1.11 & 1.23 & 1.23 & AACG \\\\\n",
       "\t7 & 2020-06-24 & 80400 & 1.14 & 1.3 & 1.14 & 1.25 & 1.25 & AACG \\\\\n",
       "\t8 & 2020-06-23 & 57000 & 1.19 & 1.22 & 1.14 & 1.17 & 1.17 & AACG \\\\\n",
       "\t9 & 2020-06-22 & 115500 & 1.0 & 1.17 & 0.97 & 1.14 & 1.14 & AACG \\\\\n",
       "\t10 & 2020-06-19 & 52500 & 0.96 & 1.03 & 0.95 & 0.95 & 0.95 & AACG \\\\\n",
       "\t11 & 2020-06-18 & 113400 & 1.08 & 1.13 & 0.93 & 1.0 & 1.0 & AACG \\\\\n",
       "\t12 & 2020-06-17 & 136600 & 1.26 & 1.3 & 1.11 & 1.12 & 1.12 & AACG \\\\\n",
       "\t13 & 2020-06-16 & 1621800 & 1.33 & 1.8 & 1.12 & 1.12 & 1.12 & AACG \\\\\n",
       "\t14 & 2020-06-15 & 159200 & 1.14 & 1.36 & 1.14 & 1.29 & 1.29 & AACG \\\\\n",
       "\t15 & 2020-06-12 & 64200 & 1.2 & 1.23 & 1.01 & 1.14 & 1.14 & AACG \\\\\n",
       "\t$\\dots$ & $\\dots$ & $\\dots$ & $\\dots$ & $\\dots$ & $\\dots$ & $\\dots$ & $\\dots$ & $\\dots$ \\\\\n",
       "\\end{tabular}\n"
      ],
      "text/plain": [
       "GroupedDataFrame with 2 groups based on key: symbol\n",
       "First Group (474 rows): symbol = \"AAAU\"\n",
       "│ Row │ date       │ volume │ open    │ high    │ low     │ close   │ adjclose │ symbol │\n",
       "│     │ \u001b[90mDate\u001b[39m       │ \u001b[90mInt64\u001b[39m  │ \u001b[90mFloat64\u001b[39m │ \u001b[90mFloat64\u001b[39m │ \u001b[90mFloat64\u001b[39m │ \u001b[90mFloat64\u001b[39m │ \u001b[90mFloat64\u001b[39m  │ \u001b[90mString\u001b[39m │\n",
       "├─────┼────────────┼────────┼─────────┼─────────┼─────────┼─────────┼──────────┼────────┤\n",
       "│ 1   │ 2222-07-02 │ 257500 │ 17.64   │ 17.74   │ 17.62   │ 17.71   │ 17.71    │ AAAU   │\n",
       "│ 2   │ 2020-07-01 │ 468100 │ 17.73   │ 17.73   │ 17.54   │ 17.68   │ 17.68    │ AAAU   │\n",
       "│ 3   │ 2020-06-30 │ 319100 │ 17.65   │ 17.8    │ 17.61   │ 17.78   │ 17.78    │ AAAU   │\n",
       "⋮\n",
       "│ 471 │ 2018-08-20 │ 28700  │ 11.88   │ 11.91   │ 11.85   │ 11.9    │ 11.9     │ AAAU   │\n",
       "│ 472 │ 2018-08-17 │ 52400  │ 11.8    │ 11.82   │ 11.77   │ 11.82   │ 11.82    │ AAAU   │\n",
       "│ 473 │ 2018-08-16 │ 428400 │ 11.78   │ 11.8    │ 11.74   │ 11.74   │ 11.74    │ AAAU   │\n",
       "│ 474 │ 2018-08-15 │ 27300  │ 11.84   │ 11.84   │ 11.74   │ 11.74   │ 11.74    │ AAAU   │\n",
       "⋮\n",
       "Last Group (333 rows): symbol = \"AACG\"\n",
       "│ Row │ date       │ volume │ open    │ high    │ low     │ close   │ adjclose │ symbol │\n",
       "│     │ \u001b[90mDate\u001b[39m       │ \u001b[90mInt64\u001b[39m  │ \u001b[90mFloat64\u001b[39m │ \u001b[90mFloat64\u001b[39m │ \u001b[90mFloat64\u001b[39m │ \u001b[90mFloat64\u001b[39m │ \u001b[90mFloat64\u001b[39m  │ \u001b[90mString\u001b[39m │\n",
       "├─────┼────────────┼────────┼─────────┼─────────┼─────────┼─────────┼──────────┼────────┤\n",
       "│ 1   │ 2020-07-02 │ 46800  │ 1.3     │ 1.39    │ 1.3     │ 1.31    │ 1.31     │ AACG   │\n",
       "│ 2   │ 2020-07-01 │ 95400  │ 1.25    │ 1.4     │ 1.18    │ 1.31    │ 1.31     │ AACG   │\n",
       "│ 3   │ 2020-06-30 │ 40200  │ 1.16    │ 1.27    │ 1.16    │ 1.26    │ 1.26     │ AACG   │\n",
       "⋮\n",
       "│ 330 │ 2019-03-14 │ 29900  │ 1.06    │ 1.11    │ 1.06    │ 1.08    │ 1.08     │ AACG   │\n",
       "│ 331 │ 2019-03-13 │ 23100  │ 1.06    │ 1.08    │ 1.04    │ 1.07    │ 1.07     │ AACG   │\n",
       "│ 332 │ 2019-03-12 │ 20200  │ 1.08    │ 1.09    │ 1.05    │ 1.05    │ 1.05     │ AACG   │\n",
       "│ 333 │ 2019-03-11 │ 32100  │ 1.08    │ 1.1     │ 1.08    │ 1.08    │ 1.08     │ AACG   │"
      ]
     },
     "execution_count": 57,
     "metadata": {},
     "output_type": "execute_result"
    }
   ],
   "source": [
    "gdf[1:2]"
   ]
  },
  {
   "cell_type": "code",
   "execution_count": 58,
   "metadata": {},
   "outputs": [
    {
     "data": {
      "text/html": [
       "<p><b>GroupedDataFrame with 2 groups based on key: symbol</b></p><p><i>First Group (474 rows): symbol = \"AAAU\"</i></p><table class=\"data-frame\"><thead><tr><th></th><th>date</th><th>volume</th><th>open</th><th>high</th><th>low</th><th>close</th><th>adjclose</th><th>symbol</th></tr><tr><th></th><th>Date</th><th>Int64</th><th>Float64</th><th>Float64</th><th>Float64</th><th>Float64</th><th>Float64</th><th>String</th></tr></thead><tbody><tr><th>1</th><td>2222-07-02</td><td>257500</td><td>17.64</td><td>17.74</td><td>17.62</td><td>17.71</td><td>17.71</td><td>AAAU</td></tr><tr><th>2</th><td>2020-07-01</td><td>468100</td><td>17.73</td><td>17.73</td><td>17.54</td><td>17.68</td><td>17.68</td><td>AAAU</td></tr><tr><th>3</th><td>2020-06-30</td><td>319100</td><td>17.65</td><td>17.8</td><td>17.61</td><td>17.78</td><td>17.78</td><td>AAAU</td></tr><tr><th>4</th><td>2020-06-29</td><td>405500</td><td>17.67</td><td>17.69</td><td>17.63</td><td>17.68</td><td>17.68</td><td>AAAU</td></tr><tr><th>5</th><td>2020-06-26</td><td>335100</td><td>17.49</td><td>17.67</td><td>17.42</td><td>17.67</td><td>17.67</td><td>AAAU</td></tr><tr><th>6</th><td>2020-06-25</td><td>246800</td><td>17.6</td><td>17.6</td><td>17.52</td><td>17.59</td><td>17.59</td><td>AAAU</td></tr><tr><th>7</th><td>2020-06-24</td><td>329200</td><td>17.61</td><td>17.71</td><td>17.56</td><td>17.61</td><td>17.61</td><td>AAAU</td></tr><tr><th>8</th><td>2020-06-23</td><td>351800</td><td>17.55</td><td>17.66</td><td>17.55</td><td>17.66</td><td>17.66</td><td>AAAU</td></tr><tr><th>9</th><td>2020-06-22</td><td>308300</td><td>17.5</td><td>17.57</td><td>17.44</td><td>17.5</td><td>17.5</td><td>AAAU</td></tr><tr><th>10</th><td>2020-06-19</td><td>153800</td><td>17.27</td><td>17.4</td><td>17.26</td><td>17.4</td><td>17.4</td><td>AAAU</td></tr><tr><th>11</th><td>2020-06-18</td><td>102200</td><td>17.27</td><td>17.27</td><td>17.14</td><td>17.23</td><td>17.23</td><td>AAAU</td></tr><tr><th>12</th><td>2020-06-17</td><td>153900</td><td>17.19</td><td>17.25</td><td>17.16</td><td>17.25</td><td>17.25</td><td>AAAU</td></tr><tr><th>13</th><td>2020-06-16</td><td>165800</td><td>17.15</td><td>17.25</td><td>17.11</td><td>17.21</td><td>17.21</td><td>AAAU</td></tr><tr><th>14</th><td>2020-06-15</td><td>308700</td><td>17.03</td><td>17.23</td><td>17.0</td><td>17.2</td><td>17.2</td><td>AAAU</td></tr><tr><th>15</th><td>2020-06-12</td><td>161400</td><td>17.34</td><td>17.37</td><td>17.25</td><td>17.27</td><td>17.27</td><td>AAAU</td></tr><tr><th>&vellip;</th><td>&vellip;</td><td>&vellip;</td><td>&vellip;</td><td>&vellip;</td><td>&vellip;</td><td>&vellip;</td><td>&vellip;</td><td>&vellip;</td></tr></tbody></table><p>&vellip;</p><p><i>Last Group (333 rows): symbol = \"AACG\"</i></p><table class=\"data-frame\"><thead><tr><th></th><th>date</th><th>volume</th><th>open</th><th>high</th><th>low</th><th>close</th><th>adjclose</th><th>symbol</th></tr><tr><th></th><th>Date</th><th>Int64</th><th>Float64</th><th>Float64</th><th>Float64</th><th>Float64</th><th>Float64</th><th>String</th></tr></thead><tbody><tr><th>1</th><td>2020-07-02</td><td>46800</td><td>1.3</td><td>1.39</td><td>1.3</td><td>1.31</td><td>1.31</td><td>AACG</td></tr><tr><th>2</th><td>2020-07-01</td><td>95400</td><td>1.25</td><td>1.4</td><td>1.18</td><td>1.31</td><td>1.31</td><td>AACG</td></tr><tr><th>3</th><td>2020-06-30</td><td>40200</td><td>1.16</td><td>1.27</td><td>1.16</td><td>1.26</td><td>1.26</td><td>AACG</td></tr><tr><th>4</th><td>2020-06-29</td><td>46900</td><td>1.15</td><td>1.25</td><td>1.15</td><td>1.17</td><td>1.17</td><td>AACG</td></tr><tr><th>5</th><td>2020-06-26</td><td>43700</td><td>1.12</td><td>1.18</td><td>1.12</td><td>1.15</td><td>1.15</td><td>AACG</td></tr><tr><th>6</th><td>2020-06-25</td><td>72900</td><td>1.22</td><td>1.25</td><td>1.11</td><td>1.23</td><td>1.23</td><td>AACG</td></tr><tr><th>7</th><td>2020-06-24</td><td>80400</td><td>1.14</td><td>1.3</td><td>1.14</td><td>1.25</td><td>1.25</td><td>AACG</td></tr><tr><th>8</th><td>2020-06-23</td><td>57000</td><td>1.19</td><td>1.22</td><td>1.14</td><td>1.17</td><td>1.17</td><td>AACG</td></tr><tr><th>9</th><td>2020-06-22</td><td>115500</td><td>1.0</td><td>1.17</td><td>0.97</td><td>1.14</td><td>1.14</td><td>AACG</td></tr><tr><th>10</th><td>2020-06-19</td><td>52500</td><td>0.96</td><td>1.03</td><td>0.95</td><td>0.95</td><td>0.95</td><td>AACG</td></tr><tr><th>11</th><td>2020-06-18</td><td>113400</td><td>1.08</td><td>1.13</td><td>0.93</td><td>1.0</td><td>1.0</td><td>AACG</td></tr><tr><th>12</th><td>2020-06-17</td><td>136600</td><td>1.26</td><td>1.3</td><td>1.11</td><td>1.12</td><td>1.12</td><td>AACG</td></tr><tr><th>13</th><td>2020-06-16</td><td>1621800</td><td>1.33</td><td>1.8</td><td>1.12</td><td>1.12</td><td>1.12</td><td>AACG</td></tr><tr><th>14</th><td>2020-06-15</td><td>159200</td><td>1.14</td><td>1.36</td><td>1.14</td><td>1.29</td><td>1.29</td><td>AACG</td></tr><tr><th>15</th><td>2020-06-12</td><td>64200</td><td>1.2</td><td>1.23</td><td>1.01</td><td>1.14</td><td>1.14</td><td>AACG</td></tr><tr><th>&vellip;</th><td>&vellip;</td><td>&vellip;</td><td>&vellip;</td><td>&vellip;</td><td>&vellip;</td><td>&vellip;</td><td>&vellip;</td><td>&vellip;</td></tr></tbody></table>"
      ],
      "text/latex": [
       "GroupedDataFrame with 2 groups based on key: symbol\n",
       "\n",
       "First Group (474 rows): symbol = \"AAAU\"\n",
       "\n",
       "\\begin{tabular}{r|cccccccc}\n",
       "\t& date & volume & open & high & low & close & adjclose & symbol\\\\\n",
       "\t\\hline\n",
       "\t& Date & Int64 & Float64 & Float64 & Float64 & Float64 & Float64 & String\\\\\n",
       "\t\\hline\n",
       "\t1 & 2222-07-02 & 257500 & 17.64 & 17.74 & 17.62 & 17.71 & 17.71 & AAAU \\\\\n",
       "\t2 & 2020-07-01 & 468100 & 17.73 & 17.73 & 17.54 & 17.68 & 17.68 & AAAU \\\\\n",
       "\t3 & 2020-06-30 & 319100 & 17.65 & 17.8 & 17.61 & 17.78 & 17.78 & AAAU \\\\\n",
       "\t4 & 2020-06-29 & 405500 & 17.67 & 17.69 & 17.63 & 17.68 & 17.68 & AAAU \\\\\n",
       "\t5 & 2020-06-26 & 335100 & 17.49 & 17.67 & 17.42 & 17.67 & 17.67 & AAAU \\\\\n",
       "\t6 & 2020-06-25 & 246800 & 17.6 & 17.6 & 17.52 & 17.59 & 17.59 & AAAU \\\\\n",
       "\t7 & 2020-06-24 & 329200 & 17.61 & 17.71 & 17.56 & 17.61 & 17.61 & AAAU \\\\\n",
       "\t8 & 2020-06-23 & 351800 & 17.55 & 17.66 & 17.55 & 17.66 & 17.66 & AAAU \\\\\n",
       "\t9 & 2020-06-22 & 308300 & 17.5 & 17.57 & 17.44 & 17.5 & 17.5 & AAAU \\\\\n",
       "\t10 & 2020-06-19 & 153800 & 17.27 & 17.4 & 17.26 & 17.4 & 17.4 & AAAU \\\\\n",
       "\t11 & 2020-06-18 & 102200 & 17.27 & 17.27 & 17.14 & 17.23 & 17.23 & AAAU \\\\\n",
       "\t12 & 2020-06-17 & 153900 & 17.19 & 17.25 & 17.16 & 17.25 & 17.25 & AAAU \\\\\n",
       "\t13 & 2020-06-16 & 165800 & 17.15 & 17.25 & 17.11 & 17.21 & 17.21 & AAAU \\\\\n",
       "\t14 & 2020-06-15 & 308700 & 17.03 & 17.23 & 17.0 & 17.2 & 17.2 & AAAU \\\\\n",
       "\t15 & 2020-06-12 & 161400 & 17.34 & 17.37 & 17.25 & 17.27 & 17.27 & AAAU \\\\\n",
       "\t$\\dots$ & $\\dots$ & $\\dots$ & $\\dots$ & $\\dots$ & $\\dots$ & $\\dots$ & $\\dots$ & $\\dots$ \\\\\n",
       "\\end{tabular}\n",
       "\n",
       "$\\dots$\n",
       "\n",
       "Last Group (333 rows): symbol = \"AACG\"\n",
       "\n",
       "\\begin{tabular}{r|cccccccc}\n",
       "\t& date & volume & open & high & low & close & adjclose & symbol\\\\\n",
       "\t\\hline\n",
       "\t& Date & Int64 & Float64 & Float64 & Float64 & Float64 & Float64 & String\\\\\n",
       "\t\\hline\n",
       "\t1 & 2020-07-02 & 46800 & 1.3 & 1.39 & 1.3 & 1.31 & 1.31 & AACG \\\\\n",
       "\t2 & 2020-07-01 & 95400 & 1.25 & 1.4 & 1.18 & 1.31 & 1.31 & AACG \\\\\n",
       "\t3 & 2020-06-30 & 40200 & 1.16 & 1.27 & 1.16 & 1.26 & 1.26 & AACG \\\\\n",
       "\t4 & 2020-06-29 & 46900 & 1.15 & 1.25 & 1.15 & 1.17 & 1.17 & AACG \\\\\n",
       "\t5 & 2020-06-26 & 43700 & 1.12 & 1.18 & 1.12 & 1.15 & 1.15 & AACG \\\\\n",
       "\t6 & 2020-06-25 & 72900 & 1.22 & 1.25 & 1.11 & 1.23 & 1.23 & AACG \\\\\n",
       "\t7 & 2020-06-24 & 80400 & 1.14 & 1.3 & 1.14 & 1.25 & 1.25 & AACG \\\\\n",
       "\t8 & 2020-06-23 & 57000 & 1.19 & 1.22 & 1.14 & 1.17 & 1.17 & AACG \\\\\n",
       "\t9 & 2020-06-22 & 115500 & 1.0 & 1.17 & 0.97 & 1.14 & 1.14 & AACG \\\\\n",
       "\t10 & 2020-06-19 & 52500 & 0.96 & 1.03 & 0.95 & 0.95 & 0.95 & AACG \\\\\n",
       "\t11 & 2020-06-18 & 113400 & 1.08 & 1.13 & 0.93 & 1.0 & 1.0 & AACG \\\\\n",
       "\t12 & 2020-06-17 & 136600 & 1.26 & 1.3 & 1.11 & 1.12 & 1.12 & AACG \\\\\n",
       "\t13 & 2020-06-16 & 1621800 & 1.33 & 1.8 & 1.12 & 1.12 & 1.12 & AACG \\\\\n",
       "\t14 & 2020-06-15 & 159200 & 1.14 & 1.36 & 1.14 & 1.29 & 1.29 & AACG \\\\\n",
       "\t15 & 2020-06-12 & 64200 & 1.2 & 1.23 & 1.01 & 1.14 & 1.14 & AACG \\\\\n",
       "\t$\\dots$ & $\\dots$ & $\\dots$ & $\\dots$ & $\\dots$ & $\\dots$ & $\\dots$ & $\\dots$ & $\\dots$ \\\\\n",
       "\\end{tabular}\n"
      ],
      "text/plain": [
       "GroupedDataFrame with 2 groups based on key: symbol\n",
       "First Group (474 rows): symbol = \"AAAU\"\n",
       "│ Row │ date       │ volume │ open    │ high    │ low     │ close   │ adjclose │ symbol │\n",
       "│     │ \u001b[90mDate\u001b[39m       │ \u001b[90mInt64\u001b[39m  │ \u001b[90mFloat64\u001b[39m │ \u001b[90mFloat64\u001b[39m │ \u001b[90mFloat64\u001b[39m │ \u001b[90mFloat64\u001b[39m │ \u001b[90mFloat64\u001b[39m  │ \u001b[90mString\u001b[39m │\n",
       "├─────┼────────────┼────────┼─────────┼─────────┼─────────┼─────────┼──────────┼────────┤\n",
       "│ 1   │ 2222-07-02 │ 257500 │ 17.64   │ 17.74   │ 17.62   │ 17.71   │ 17.71    │ AAAU   │\n",
       "│ 2   │ 2020-07-01 │ 468100 │ 17.73   │ 17.73   │ 17.54   │ 17.68   │ 17.68    │ AAAU   │\n",
       "│ 3   │ 2020-06-30 │ 319100 │ 17.65   │ 17.8    │ 17.61   │ 17.78   │ 17.78    │ AAAU   │\n",
       "⋮\n",
       "│ 471 │ 2018-08-20 │ 28700  │ 11.88   │ 11.91   │ 11.85   │ 11.9    │ 11.9     │ AAAU   │\n",
       "│ 472 │ 2018-08-17 │ 52400  │ 11.8    │ 11.82   │ 11.77   │ 11.82   │ 11.82    │ AAAU   │\n",
       "│ 473 │ 2018-08-16 │ 428400 │ 11.78   │ 11.8    │ 11.74   │ 11.74   │ 11.74    │ AAAU   │\n",
       "│ 474 │ 2018-08-15 │ 27300  │ 11.84   │ 11.84   │ 11.74   │ 11.74   │ 11.74    │ AAAU   │\n",
       "⋮\n",
       "Last Group (333 rows): symbol = \"AACG\"\n",
       "│ Row │ date       │ volume │ open    │ high    │ low     │ close   │ adjclose │ symbol │\n",
       "│     │ \u001b[90mDate\u001b[39m       │ \u001b[90mInt64\u001b[39m  │ \u001b[90mFloat64\u001b[39m │ \u001b[90mFloat64\u001b[39m │ \u001b[90mFloat64\u001b[39m │ \u001b[90mFloat64\u001b[39m │ \u001b[90mFloat64\u001b[39m  │ \u001b[90mString\u001b[39m │\n",
       "├─────┼────────────┼────────┼─────────┼─────────┼─────────┼─────────┼──────────┼────────┤\n",
       "│ 1   │ 2020-07-02 │ 46800  │ 1.3     │ 1.39    │ 1.3     │ 1.31    │ 1.31     │ AACG   │\n",
       "│ 2   │ 2020-07-01 │ 95400  │ 1.25    │ 1.4     │ 1.18    │ 1.31    │ 1.31     │ AACG   │\n",
       "│ 3   │ 2020-06-30 │ 40200  │ 1.16    │ 1.27    │ 1.16    │ 1.26    │ 1.26     │ AACG   │\n",
       "⋮\n",
       "│ 330 │ 2019-03-14 │ 29900  │ 1.06    │ 1.11    │ 1.06    │ 1.08    │ 1.08     │ AACG   │\n",
       "│ 331 │ 2019-03-13 │ 23100  │ 1.06    │ 1.08    │ 1.04    │ 1.07    │ 1.07     │ AACG   │\n",
       "│ 332 │ 2019-03-12 │ 20200  │ 1.08    │ 1.09    │ 1.05    │ 1.05    │ 1.05     │ AACG   │\n",
       "│ 333 │ 2019-03-11 │ 32100  │ 1.08    │ 1.1     │ 1.08    │ 1.08    │ 1.08     │ AACG   │"
      ]
     },
     "execution_count": 58,
     "metadata": {},
     "output_type": "execute_result"
    }
   ],
   "source": [
    "gdf[tuple.([\"AAAU\", \"AACG\"])]"
   ]
  },
  {
   "cell_type": "markdown",
   "metadata": {},
   "source": [
    "## setindex!"
   ]
  },
  {
   "cell_type": "markdown",
   "metadata": {},
   "source": [
    "`setindex!` is defined only for `DataFrame`, `SubDataFrame` and `DataFrameRow` (other types are read-only)."
   ]
  },
  {
   "cell_type": "markdown",
   "metadata": {},
   "source": [
    "General rules:\n",
    "* the dimensions of left hand side and right hand side must match;\n",
    "* if right hand side has names they must match the names in left hand side."
   ]
  },
  {
   "cell_type": "markdown",
   "metadata": {},
   "source": [
    "special cases (that might be surprising):"
   ]
  },
  {
   "cell_type": "code",
   "execution_count": 9,
   "metadata": {},
   "outputs": [
    {
     "data": {
      "text/plain": [
       "5×5 Array{Float64,2}:\n",
       " 0.514032   0.756018   0.509723   0.239683   0.791479\n",
       " 0.0816587  0.0347316  0.0556727  0.0882911  0.393864\n",
       " 0.0469209  0.0887824  0.534098   0.561604   0.651513\n",
       " 0.251061   0.79126    0.759959   0.920141   0.971915\n",
       " 0.333516   0.605214   0.664496   0.158667   0.72381"
      ]
     },
     "execution_count": 9,
     "metadata": {},
     "output_type": "execute_result"
    }
   ],
   "source": [
    "x = rand(5, 5)"
   ]
  },
  {
   "cell_type": "code",
   "execution_count": 10,
   "metadata": {},
   "outputs": [
    {
     "data": {
      "text/html": [
       "<table class=\"data-frame\"><thead><tr><th></th><th>x1</th><th>x2</th><th>x3</th><th>x4</th><th>x5</th></tr><tr><th></th><th>Float64</th><th>Float64</th><th>Float64</th><th>Float64</th><th>Float64</th></tr></thead><tbody><p>5 rows × 5 columns</p><tr><th>1</th><td>0.514032</td><td>0.756018</td><td>0.509723</td><td>0.239683</td><td>0.791479</td></tr><tr><th>2</th><td>0.0816587</td><td>0.0347316</td><td>0.0556727</td><td>0.0882911</td><td>0.393864</td></tr><tr><th>3</th><td>0.0469209</td><td>0.0887824</td><td>0.534098</td><td>0.561604</td><td>0.651513</td></tr><tr><th>4</th><td>0.251061</td><td>0.79126</td><td>0.759959</td><td>0.920141</td><td>0.971915</td></tr><tr><th>5</th><td>0.333516</td><td>0.605214</td><td>0.664496</td><td>0.158667</td><td>0.72381</td></tr></tbody></table>"
      ],
      "text/latex": [
       "\\begin{tabular}{r|ccccc}\n",
       "\t& x1 & x2 & x3 & x4 & x5\\\\\n",
       "\t\\hline\n",
       "\t& Float64 & Float64 & Float64 & Float64 & Float64\\\\\n",
       "\t\\hline\n",
       "\t1 & 0.514032 & 0.756018 & 0.509723 & 0.239683 & 0.791479 \\\\\n",
       "\t2 & 0.0816587 & 0.0347316 & 0.0556727 & 0.0882911 & 0.393864 \\\\\n",
       "\t3 & 0.0469209 & 0.0887824 & 0.534098 & 0.561604 & 0.651513 \\\\\n",
       "\t4 & 0.251061 & 0.79126 & 0.759959 & 0.920141 & 0.971915 \\\\\n",
       "\t5 & 0.333516 & 0.605214 & 0.664496 & 0.158667 & 0.72381 \\\\\n",
       "\\end{tabular}\n"
      ],
      "text/plain": [
       "5×5 DataFrame\n",
       "│ Row │ x1        │ x2        │ x3        │ x4        │ x5       │\n",
       "│     │ \u001b[90mFloat64\u001b[39m   │ \u001b[90mFloat64\u001b[39m   │ \u001b[90mFloat64\u001b[39m   │ \u001b[90mFloat64\u001b[39m   │ \u001b[90mFloat64\u001b[39m  │\n",
       "├─────┼───────────┼───────────┼───────────┼───────────┼──────────┤\n",
       "│ 1   │ 0.514032  │ 0.756018  │ 0.509723  │ 0.239683  │ 0.791479 │\n",
       "│ 2   │ 0.0816587 │ 0.0347316 │ 0.0556727 │ 0.0882911 │ 0.393864 │\n",
       "│ 3   │ 0.0469209 │ 0.0887824 │ 0.534098  │ 0.561604  │ 0.651513 │\n",
       "│ 4   │ 0.251061  │ 0.79126   │ 0.759959  │ 0.920141  │ 0.971915 │\n",
       "│ 5   │ 0.333516  │ 0.605214  │ 0.664496  │ 0.158667  │ 0.72381  │"
      ]
     },
     "execution_count": 10,
     "metadata": {},
     "output_type": "execute_result"
    }
   ],
   "source": [
    "df = DataFrame(x)"
   ]
  },
  {
   "cell_type": "code",
   "execution_count": 11,
   "metadata": {},
   "outputs": [
    {
     "data": {
      "text/plain": [
       "2×2 Array{Int64,2}:\n",
       " 1  2\n",
       " 3  4"
      ]
     },
     "execution_count": 11,
     "metadata": {},
     "output_type": "execute_result"
    }
   ],
   "source": [
    "x[1, 1:4] = [1 2; 3 4]"
   ]
  },
  {
   "cell_type": "code",
   "execution_count": 12,
   "metadata": {},
   "outputs": [
    {
     "data": {
      "text/plain": [
       "5×5 Array{Float64,2}:\n",
       " 1.0        3.0        2.0        4.0        0.791479\n",
       " 0.0816587  0.0347316  0.0556727  0.0882911  0.393864\n",
       " 0.0469209  0.0887824  0.534098   0.561604   0.651513\n",
       " 0.251061   0.79126    0.759959   0.920141   0.971915\n",
       " 0.333516   0.605214   0.664496   0.158667   0.72381"
      ]
     },
     "execution_count": 12,
     "metadata": {},
     "output_type": "execute_result"
    }
   ],
   "source": [
    "x"
   ]
  },
  {
   "cell_type": "code",
   "execution_count": 13,
   "metadata": {},
   "outputs": [
    {
     "ename": "DimensionMismatch",
     "evalue": "DimensionMismatch(\"tried to assign 2×2 array to 4×1 destination\")",
     "output_type": "error",
     "traceback": [
      "DimensionMismatch(\"tried to assign 2×2 array to 4×1 destination\")",
      "",
      "Stacktrace:",
      " [1] throw_setindex_mismatch(::Array{Int64,2}, ::Tuple{Int64,Int64}) at .\\indices.jl:193",
      " [2] setindex_shape_check at .\\indices.jl:254 [inlined]",
      " [3] macro expansion at .\\multidimensional.jl:795 [inlined]",
      " [4] _unsafe_setindex!(::IndexLinear, ::Array{Float64,2}, ::Array{Int64,2}, ::UnitRange{Int64}, ::Int64) at .\\multidimensional.jl:789",
      " [5] _setindex! at .\\multidimensional.jl:785 [inlined]",
      " [6] setindex!(::Array{Float64,2}, ::Array{Int64,2}, ::UnitRange{Int64}, ::Int64) at .\\abstractarray.jl:1149",
      " [7] top-level scope at In[13]:1"
     ]
    }
   ],
   "source": [
    "x[1:4, 1] = [1 2; 3 4]"
   ]
  },
  {
   "cell_type": "markdown",
   "metadata": {},
   "source": [
    "#### Exercise"
   ]
  },
  {
   "cell_type": "markdown",
   "metadata": {},
   "source": [
    "Check what happens if you try the same operation on `df`."
   ]
  },
  {
   "cell_type": "code",
   "execution_count": null,
   "metadata": {},
   "outputs": [],
   "source": []
  },
  {
   "cell_type": "markdown",
   "metadata": {},
   "source": [
    "As a general rule - we want DataFrames.jl to match 100% what Base does. If you find cases when it does not please report an issue."
   ]
  },
  {
   "cell_type": "markdown",
   "metadata": {},
   "source": [
    "A special case, that cannot work as in Base (as `Matrix` is not resizable) is creation of new columns."
   ]
  },
  {
   "cell_type": "code",
   "execution_count": 24,
   "metadata": {},
   "outputs": [
    {
     "data": {
      "text/html": [
       "<table class=\"data-frame\"><thead><tr><th></th><th>x1</th><th>x2</th></tr><tr><th></th><th>Float64</th><th>Float64</th></tr></thead><tbody><p>2 rows × 2 columns</p><tr><th>1</th><td>0.415772</td><td>0.68895</td></tr><tr><th>2</th><td>0.374918</td><td>0.867334</td></tr></tbody></table>"
      ],
      "text/latex": [
       "\\begin{tabular}{r|cc}\n",
       "\t& x1 & x2\\\\\n",
       "\t\\hline\n",
       "\t& Float64 & Float64\\\\\n",
       "\t\\hline\n",
       "\t1 & 0.415772 & 0.68895 \\\\\n",
       "\t2 & 0.374918 & 0.867334 \\\\\n",
       "\\end{tabular}\n"
      ],
      "text/plain": [
       "2×2 DataFrame\n",
       "│ Row │ x1       │ x2       │\n",
       "│     │ \u001b[90mFloat64\u001b[39m  │ \u001b[90mFloat64\u001b[39m  │\n",
       "├─────┼──────────┼──────────┤\n",
       "│ 1   │ 0.415772 │ 0.68895  │\n",
       "│ 2   │ 0.374918 │ 0.867334 │"
      ]
     },
     "execution_count": 24,
     "metadata": {},
     "output_type": "execute_result"
    }
   ],
   "source": [
    "df = DataFrame(rand(2, 2))"
   ]
  },
  {
   "cell_type": "code",
   "execution_count": 25,
   "metadata": {},
   "outputs": [
    {
     "data": {
      "text/plain": [
       "2-element Array{Int64,1}:\n",
       " 1\n",
       " 2"
      ]
     },
     "execution_count": 25,
     "metadata": {},
     "output_type": "execute_result"
    }
   ],
   "source": [
    "x3 = [1, 2]"
   ]
  },
  {
   "cell_type": "code",
   "execution_count": 26,
   "metadata": {},
   "outputs": [
    {
     "data": {
      "text/plain": [
       "2-element Array{Int64,1}:\n",
       " 1\n",
       " 2"
      ]
     },
     "execution_count": 26,
     "metadata": {},
     "output_type": "execute_result"
    }
   ],
   "source": [
    "df.x3_1 = x3"
   ]
  },
  {
   "cell_type": "code",
   "execution_count": 27,
   "metadata": {},
   "outputs": [
    {
     "data": {
      "text/plain": [
       "2-element Array{Int64,1}:\n",
       " 1\n",
       " 2"
      ]
     },
     "execution_count": 27,
     "metadata": {},
     "output_type": "execute_result"
    }
   ],
   "source": [
    "df[:, :x3_2] = x3"
   ]
  },
  {
   "cell_type": "code",
   "execution_count": 28,
   "metadata": {},
   "outputs": [
    {
     "data": {
      "text/plain": [
       "2-element Array{Int64,1}:\n",
       " 1\n",
       " 2"
      ]
     },
     "execution_count": 28,
     "metadata": {},
     "output_type": "execute_result"
    }
   ],
   "source": [
    "df[!, :x3_3] = x3"
   ]
  },
  {
   "cell_type": "code",
   "execution_count": 29,
   "metadata": {},
   "outputs": [
    {
     "data": {
      "text/html": [
       "<table class=\"data-frame\"><thead><tr><th></th><th>x1</th><th>x2</th><th>x3_1</th><th>x3_2</th><th>x3_3</th></tr><tr><th></th><th>Float64</th><th>Float64</th><th>Int64</th><th>Int64</th><th>Int64</th></tr></thead><tbody><p>2 rows × 5 columns</p><tr><th>1</th><td>0.415772</td><td>0.68895</td><td>1</td><td>1</td><td>1</td></tr><tr><th>2</th><td>0.374918</td><td>0.867334</td><td>2</td><td>2</td><td>2</td></tr></tbody></table>"
      ],
      "text/latex": [
       "\\begin{tabular}{r|ccccc}\n",
       "\t& x1 & x2 & x3\\_1 & x3\\_2 & x3\\_3\\\\\n",
       "\t\\hline\n",
       "\t& Float64 & Float64 & Int64 & Int64 & Int64\\\\\n",
       "\t\\hline\n",
       "\t1 & 0.415772 & 0.68895 & 1 & 1 & 1 \\\\\n",
       "\t2 & 0.374918 & 0.867334 & 2 & 2 & 2 \\\\\n",
       "\\end{tabular}\n"
      ],
      "text/plain": [
       "2×5 DataFrame\n",
       "│ Row │ x1       │ x2       │ x3_1  │ x3_2  │ x3_3  │\n",
       "│     │ \u001b[90mFloat64\u001b[39m  │ \u001b[90mFloat64\u001b[39m  │ \u001b[90mInt64\u001b[39m │ \u001b[90mInt64\u001b[39m │ \u001b[90mInt64\u001b[39m │\n",
       "├─────┼──────────┼──────────┼───────┼───────┼───────┤\n",
       "│ 1   │ 0.415772 │ 0.68895  │ 1     │ 1     │ 1     │\n",
       "│ 2   │ 0.374918 │ 0.867334 │ 2     │ 2     │ 2     │"
      ]
     },
     "execution_count": 29,
     "metadata": {},
     "output_type": "execute_result"
    }
   ],
   "source": [
    "df"
   ]
  },
  {
   "cell_type": "markdown",
   "metadata": {},
   "source": [
    "#### Exercise\n",
    "Check in which cases `x3` got copied."
   ]
  },
  {
   "cell_type": "code",
   "execution_count": null,
   "metadata": {},
   "outputs": [],
   "source": []
  },
  {
   "cell_type": "markdown",
   "metadata": {},
   "source": [
    "Let us try `setindex!` for multi-column indexing."
   ]
  },
  {
   "cell_type": "code",
   "execution_count": 36,
   "metadata": {},
   "outputs": [
    {
     "data": {
      "text/html": [
       "<table class=\"data-frame\"><thead><tr><th></th><th>x1</th><th>x3</th></tr><tr><th></th><th>Int64</th><th>String</th></tr></thead><tbody><p>2 rows × 2 columns</p><tr><th>1</th><td>10</td><td>3</td></tr><tr><th>2</th><td>20</td><td>4</td></tr></tbody></table>"
      ],
      "text/latex": [
       "\\begin{tabular}{r|cc}\n",
       "\t& x1 & x3\\\\\n",
       "\t\\hline\n",
       "\t& Int64 & String\\\\\n",
       "\t\\hline\n",
       "\t1 & 10 & 3 \\\\\n",
       "\t2 & 20 & 4 \\\\\n",
       "\\end{tabular}\n"
      ],
      "text/plain": [
       "2×2 DataFrame\n",
       "│ Row │ x1    │ x3     │\n",
       "│     │ \u001b[90mInt64\u001b[39m │ \u001b[90mString\u001b[39m │\n",
       "├─────┼───────┼────────┤\n",
       "│ 1   │ 10    │ 3      │\n",
       "│ 2   │ 20    │ 4      │"
      ]
     },
     "execution_count": 36,
     "metadata": {},
     "output_type": "execute_result"
    }
   ],
   "source": [
    "df2 = DataFrame(x1=[10,20], x3=[\"3\",\"4\"])"
   ]
  },
  {
   "cell_type": "code",
   "execution_count": 37,
   "metadata": {},
   "outputs": [
    {
     "ename": "MethodError",
     "evalue": "MethodError: Cannot `convert` an object of type String to an object of type Float64\nClosest candidates are:\n  convert(::Type{T}, !Matched::T) where T<:Number at number.jl:6\n  convert(::Type{T}, !Matched::Number) where T<:Number at number.jl:7\n  convert(::Type{T}, !Matched::Base.TwicePrecision) where T<:Number at twiceprecision.jl:250\n  ...",
     "output_type": "error",
     "traceback": [
      "MethodError: Cannot `convert` an object of type String to an object of type Float64\nClosest candidates are:\n  convert(::Type{T}, !Matched::T) where T<:Number at number.jl:6\n  convert(::Type{T}, !Matched::Number) where T<:Number at number.jl:7\n  convert(::Type{T}, !Matched::Base.TwicePrecision) where T<:Number at twiceprecision.jl:250\n  ...",
      "",
      "Stacktrace:",
      " [1] setindex!(::Array{Float64,1}, ::String, ::Int64) at .\\array.jl:849",
      " [2] setindex! at .\\subarray.jl:319 [inlined]",
      " [3] copyto_unaliased! at .\\abstractarray.jl:856 [inlined]",
      " [4] copyto!(::SubArray{Float64,1,Array{Float64,1},Tuple{Base.OneTo{Int64}},true}, ::Array{String,1}) at .\\abstractarray.jl:836",
      " [5] copyto! at .\\broadcast.jl:927 [inlined]",
      " [6] copyto! at .\\broadcast.jl:886 [inlined]",
      " [7] materialize! at .\\broadcast.jl:848 [inlined]",
      " [8] materialize!(::SubArray{Float64,1,Array{Float64,1},Tuple{Base.OneTo{Int64}},true}, ::Base.Broadcast.Broadcasted{Base.Broadcast.DefaultArrayStyle{1},Nothing,typeof(identity),Tuple{Array{String,1}}}) at .\\broadcast.jl:845",
      " [9] insert_multiple_entries!(::DataFrame, ::Array{String,1}, ::Base.OneTo{Int64}, ::Int64) at D:\\AppData\\.julia\\packages\\DataFrames\\htZzm\\src\\dataframe\\dataframe.jl:535",
      " [10] setindex!(::DataFrame, ::Array{String,1}, ::Colon, ::Int64) at D:\\AppData\\.julia\\packages\\DataFrames\\htZzm\\src\\dataframe\\dataframe.jl:596",
      " [11] setindex!(::DataFrame, ::DataFrame, ::Colon, ::UnitRange{Int64}) at D:\\AppData\\.julia\\packages\\DataFrames\\htZzm\\src\\dataframe\\dataframe.jl:613",
      " [12] top-level scope at In[37]:1"
     ]
    }
   ],
   "source": [
    "df[:, 1:2] = df2"
   ]
  },
  {
   "cell_type": "markdown",
   "metadata": {},
   "source": [
    "#### Exercise"
   ]
  },
  {
   "cell_type": "markdown",
   "metadata": {},
   "source": [
    "Check what is the state of `df` after this operation."
   ]
  },
  {
   "cell_type": "code",
   "execution_count": null,
   "metadata": {},
   "outputs": [],
   "source": []
  },
  {
   "cell_type": "markdown",
   "metadata": {},
   "source": [
    "Now check what would happen if we switched `:` to `!` in the above operation:"
   ]
  },
  {
   "cell_type": "code",
   "execution_count": null,
   "metadata": {},
   "outputs": [],
   "source": []
  },
  {
   "cell_type": "markdown",
   "metadata": {},
   "source": [
    "Summary:\n",
    "* when `:` is used to select rows it operates in-place (it works just as any row selector); except when adding a new column, in which case it copies a column;\n",
    "* when `!` is used to select rows it always allocates a new column; if a single column is selected - this is a no-copy operation; if multiple columns are selected a copy is always made"
   ]
  },
  {
   "cell_type": "markdown",
   "metadata": {},
   "source": [
    "## broadcast"
   ]
  },
  {
   "cell_type": "markdown",
   "metadata": {},
   "source": [
    "Data frame behaves in broadcasting just like a matrix, with two exceptions:\n",
    "* it forces the style of the result to be a `DataFrame`\n",
    "* in particular this means that if several data frames take part in broadcasting they must have matching column names"
   ]
  },
  {
   "cell_type": "code",
   "execution_count": 34,
   "metadata": {},
   "outputs": [
    {
     "data": {
      "text/html": [
       "<table class=\"data-frame\"><thead><tr><th></th><th>date</th><th>volume</th><th>open</th><th>high</th><th>low</th><th>close</th><th>adjclose</th><th>symbol</th></tr><tr><th></th><th>Date</th><th>Int64</th><th>Float64</th><th>Float64</th><th>Float64</th><th>Float64</th><th>Float64</th><th>String</th></tr></thead><tbody><p>6,852,038 rows × 8 columns</p><tr><th>1</th><td>2020-07-02</td><td>257500</td><td>17.64</td><td>17.74</td><td>17.62</td><td>17.71</td><td>17.71</td><td>AAAU</td></tr><tr><th>2</th><td>2020-07-01</td><td>468100</td><td>17.73</td><td>17.73</td><td>17.54</td><td>17.68</td><td>17.68</td><td>AAAU</td></tr><tr><th>3</th><td>2020-06-30</td><td>319100</td><td>17.65</td><td>17.8</td><td>17.61</td><td>17.78</td><td>17.78</td><td>AAAU</td></tr><tr><th>4</th><td>2020-06-29</td><td>405500</td><td>17.67</td><td>17.69</td><td>17.63</td><td>17.68</td><td>17.68</td><td>AAAU</td></tr><tr><th>5</th><td>2020-06-26</td><td>335100</td><td>17.49</td><td>17.67</td><td>17.42</td><td>17.67</td><td>17.67</td><td>AAAU</td></tr><tr><th>6</th><td>2020-06-25</td><td>246800</td><td>17.6</td><td>17.6</td><td>17.52</td><td>17.59</td><td>17.59</td><td>AAAU</td></tr><tr><th>7</th><td>2020-06-24</td><td>329200</td><td>17.61</td><td>17.71</td><td>17.56</td><td>17.61</td><td>17.61</td><td>AAAU</td></tr><tr><th>8</th><td>2020-06-23</td><td>351800</td><td>17.55</td><td>17.66</td><td>17.55</td><td>17.66</td><td>17.66</td><td>AAAU</td></tr><tr><th>9</th><td>2020-06-22</td><td>308300</td><td>17.5</td><td>17.57</td><td>17.44</td><td>17.5</td><td>17.5</td><td>AAAU</td></tr><tr><th>10</th><td>2020-06-19</td><td>153800</td><td>17.27</td><td>17.4</td><td>17.26</td><td>17.4</td><td>17.4</td><td>AAAU</td></tr><tr><th>11</th><td>2020-06-18</td><td>102200</td><td>17.27</td><td>17.27</td><td>17.14</td><td>17.23</td><td>17.23</td><td>AAAU</td></tr><tr><th>12</th><td>2020-06-17</td><td>153900</td><td>17.19</td><td>17.25</td><td>17.16</td><td>17.25</td><td>17.25</td><td>AAAU</td></tr><tr><th>13</th><td>2020-06-16</td><td>165800</td><td>17.15</td><td>17.25</td><td>17.11</td><td>17.21</td><td>17.21</td><td>AAAU</td></tr><tr><th>14</th><td>2020-06-15</td><td>308700</td><td>17.03</td><td>17.23</td><td>17.0</td><td>17.2</td><td>17.2</td><td>AAAU</td></tr><tr><th>15</th><td>2020-06-12</td><td>161400</td><td>17.34</td><td>17.37</td><td>17.25</td><td>17.27</td><td>17.27</td><td>AAAU</td></tr><tr><th>&vellip;</th><td>&vellip;</td><td>&vellip;</td><td>&vellip;</td><td>&vellip;</td><td>&vellip;</td><td>&vellip;</td><td>&vellip;</td><td>&vellip;</td></tr></tbody></table>"
      ],
      "text/latex": [
       "\\begin{tabular}{r|cccccccc}\n",
       "\t& date & volume & open & high & low & close & adjclose & symbol\\\\\n",
       "\t\\hline\n",
       "\t& Date & Int64 & Float64 & Float64 & Float64 & Float64 & Float64 & String\\\\\n",
       "\t\\hline\n",
       "\t1 & 2020-07-02 & 257500 & 17.64 & 17.74 & 17.62 & 17.71 & 17.71 & AAAU \\\\\n",
       "\t2 & 2020-07-01 & 468100 & 17.73 & 17.73 & 17.54 & 17.68 & 17.68 & AAAU \\\\\n",
       "\t3 & 2020-06-30 & 319100 & 17.65 & 17.8 & 17.61 & 17.78 & 17.78 & AAAU \\\\\n",
       "\t4 & 2020-06-29 & 405500 & 17.67 & 17.69 & 17.63 & 17.68 & 17.68 & AAAU \\\\\n",
       "\t5 & 2020-06-26 & 335100 & 17.49 & 17.67 & 17.42 & 17.67 & 17.67 & AAAU \\\\\n",
       "\t6 & 2020-06-25 & 246800 & 17.6 & 17.6 & 17.52 & 17.59 & 17.59 & AAAU \\\\\n",
       "\t7 & 2020-06-24 & 329200 & 17.61 & 17.71 & 17.56 & 17.61 & 17.61 & AAAU \\\\\n",
       "\t8 & 2020-06-23 & 351800 & 17.55 & 17.66 & 17.55 & 17.66 & 17.66 & AAAU \\\\\n",
       "\t9 & 2020-06-22 & 308300 & 17.5 & 17.57 & 17.44 & 17.5 & 17.5 & AAAU \\\\\n",
       "\t10 & 2020-06-19 & 153800 & 17.27 & 17.4 & 17.26 & 17.4 & 17.4 & AAAU \\\\\n",
       "\t11 & 2020-06-18 & 102200 & 17.27 & 17.27 & 17.14 & 17.23 & 17.23 & AAAU \\\\\n",
       "\t12 & 2020-06-17 & 153900 & 17.19 & 17.25 & 17.16 & 17.25 & 17.25 & AAAU \\\\\n",
       "\t13 & 2020-06-16 & 165800 & 17.15 & 17.25 & 17.11 & 17.21 & 17.21 & AAAU \\\\\n",
       "\t14 & 2020-06-15 & 308700 & 17.03 & 17.23 & 17.0 & 17.2 & 17.2 & AAAU \\\\\n",
       "\t15 & 2020-06-12 & 161400 & 17.34 & 17.37 & 17.25 & 17.27 & 17.27 & AAAU \\\\\n",
       "\t$\\dots$ & $\\dots$ & $\\dots$ & $\\dots$ & $\\dots$ & $\\dots$ & $\\dots$ & $\\dots$ & $\\dots$ \\\\\n",
       "\\end{tabular}\n"
      ],
      "text/plain": [
       "6852038×8 DataFrame\n",
       "│ Row     │ date       │ volume │ open    │ high    │ low     │ close   │ adjclose │ symbol │\n",
       "│         │ \u001b[90mDate\u001b[39m       │ \u001b[90mInt64\u001b[39m  │ \u001b[90mFloat64\u001b[39m │ \u001b[90mFloat64\u001b[39m │ \u001b[90mFloat64\u001b[39m │ \u001b[90mFloat64\u001b[39m │ \u001b[90mFloat64\u001b[39m  │ \u001b[90mString\u001b[39m │\n",
       "├─────────┼────────────┼────────┼─────────┼─────────┼─────────┼─────────┼──────────┼────────┤\n",
       "│ 1       │ 2020-07-02 │ 257500 │ 17.64   │ 17.74   │ 17.62   │ 17.71   │ 17.71    │ AAAU   │\n",
       "│ 2       │ 2020-07-01 │ 468100 │ 17.73   │ 17.73   │ 17.54   │ 17.68   │ 17.68    │ AAAU   │\n",
       "│ 3       │ 2020-06-30 │ 319100 │ 17.65   │ 17.8    │ 17.61   │ 17.78   │ 17.78    │ AAAU   │\n",
       "⋮\n",
       "│ 6852035 │ 2015-01-09 │ 200    │ 0.15    │ 0.15    │ 0.15    │ 0.15    │ 0.146038 │ ZYXI   │\n",
       "│ 6852036 │ 2015-01-07 │ 8100   │ 0.14    │ 0.15    │ 0.13    │ 0.15    │ 0.146038 │ ZYXI   │\n",
       "│ 6852037 │ 2015-01-05 │ 33200  │ 0.22    │ 0.22    │ 0.14    │ 0.16    │ 0.155774 │ ZYXI   │\n",
       "│ 6852038 │ 2015-01-02 │ 100    │ 0.18    │ 0.18    │ 0.18    │ 0.18    │ 0.175245 │ ZYXI   │"
      ]
     },
     "execution_count": 34,
     "metadata": {},
     "output_type": "execute_result"
    }
   ],
   "source": [
    "df = CSV.File(\"fh_5yrs.csv\") |> DataFrame"
   ]
  },
  {
   "cell_type": "code",
   "execution_count": 28,
   "metadata": {},
   "outputs": [
    {
     "data": {
      "text/html": [
       "<table class=\"data-frame\"><thead><tr><th></th><th>open</th><th>high</th><th>low</th><th>close</th></tr><tr><th></th><th>Float64</th><th>Float64</th><th>Float64</th><th>Float64</th></tr></thead><tbody><p>6,852,038 rows × 4 columns</p><tr><th>1</th><td>2.87017</td><td>2.87582</td><td>2.86903</td><td>2.87413</td></tr><tr><th>2</th><td>2.87526</td><td>2.87526</td><td>2.86448</td><td>2.87243</td></tr><tr><th>3</th><td>2.87074</td><td>2.8792</td><td>2.86847</td><td>2.87807</td></tr><tr><th>4</th><td>2.87187</td><td>2.873</td><td>2.8696</td><td>2.87243</td></tr><tr><th>5</th><td>2.86163</td><td>2.87187</td><td>2.85762</td><td>2.87187</td></tr><tr><th>6</th><td>2.8679</td><td>2.8679</td><td>2.86334</td><td>2.86733</td></tr><tr><th>7</th><td>2.86847</td><td>2.87413</td><td>2.86562</td><td>2.86847</td></tr><tr><th>8</th><td>2.86505</td><td>2.8713</td><td>2.86505</td><td>2.8713</td></tr><tr><th>9</th><td>2.8622</td><td>2.86619</td><td>2.85877</td><td>2.8622</td></tr><tr><th>10</th><td>2.84897</td><td>2.85647</td><td>2.84839</td><td>2.85647</td></tr><tr><th>11</th><td>2.84897</td><td>2.84897</td><td>2.84141</td><td>2.84665</td></tr><tr><th>12</th><td>2.84433</td><td>2.84781</td><td>2.84258</td><td>2.84781</td></tr><tr><th>13</th><td>2.842</td><td>2.84781</td><td>2.83966</td><td>2.84549</td></tr><tr><th>14</th><td>2.83498</td><td>2.84665</td><td>2.83321</td><td>2.84491</td></tr><tr><th>15</th><td>2.85302</td><td>2.85474</td><td>2.84781</td><td>2.84897</td></tr><tr><th>&vellip;</th><td>&vellip;</td><td>&vellip;</td><td>&vellip;</td><td>&vellip;</td></tr></tbody></table>"
      ],
      "text/latex": [
       "\\begin{tabular}{r|cccc}\n",
       "\t& open & high & low & close\\\\\n",
       "\t\\hline\n",
       "\t& Float64 & Float64 & Float64 & Float64\\\\\n",
       "\t\\hline\n",
       "\t1 & 2.87017 & 2.87582 & 2.86903 & 2.87413 \\\\\n",
       "\t2 & 2.87526 & 2.87526 & 2.86448 & 2.87243 \\\\\n",
       "\t3 & 2.87074 & 2.8792 & 2.86847 & 2.87807 \\\\\n",
       "\t4 & 2.87187 & 2.873 & 2.8696 & 2.87243 \\\\\n",
       "\t5 & 2.86163 & 2.87187 & 2.85762 & 2.87187 \\\\\n",
       "\t6 & 2.8679 & 2.8679 & 2.86334 & 2.86733 \\\\\n",
       "\t7 & 2.86847 & 2.87413 & 2.86562 & 2.86847 \\\\\n",
       "\t8 & 2.86505 & 2.8713 & 2.86505 & 2.8713 \\\\\n",
       "\t9 & 2.8622 & 2.86619 & 2.85877 & 2.8622 \\\\\n",
       "\t10 & 2.84897 & 2.85647 & 2.84839 & 2.85647 \\\\\n",
       "\t11 & 2.84897 & 2.84897 & 2.84141 & 2.84665 \\\\\n",
       "\t12 & 2.84433 & 2.84781 & 2.84258 & 2.84781 \\\\\n",
       "\t13 & 2.842 & 2.84781 & 2.83966 & 2.84549 \\\\\n",
       "\t14 & 2.83498 & 2.84665 & 2.83321 & 2.84491 \\\\\n",
       "\t15 & 2.85302 & 2.85474 & 2.84781 & 2.84897 \\\\\n",
       "\t$\\dots$ & $\\dots$ & $\\dots$ & $\\dots$ & $\\dots$ \\\\\n",
       "\\end{tabular}\n"
      ],
      "text/plain": [
       "6852038×4 DataFrame\n",
       "│ Row     │ open     │ high     │ low      │ close    │\n",
       "│         │ \u001b[90mFloat64\u001b[39m  │ \u001b[90mFloat64\u001b[39m  │ \u001b[90mFloat64\u001b[39m  │ \u001b[90mFloat64\u001b[39m  │\n",
       "├─────────┼──────────┼──────────┼──────────┼──────────┤\n",
       "│ 1       │ 2.87017  │ 2.87582  │ 2.86903  │ 2.87413  │\n",
       "│ 2       │ 2.87526  │ 2.87526  │ 2.86448  │ 2.87243  │\n",
       "│ 3       │ 2.87074  │ 2.8792   │ 2.86847  │ 2.87807  │\n",
       "⋮\n",
       "│ 6852035 │ -1.89712 │ -1.89712 │ -1.89712 │ -1.89712 │\n",
       "│ 6852036 │ -1.96611 │ -1.89712 │ -2.04022 │ -1.89712 │\n",
       "│ 6852037 │ -1.51413 │ -1.51413 │ -1.96611 │ -1.83258 │\n",
       "│ 6852038 │ -1.7148  │ -1.7148  │ -1.7148  │ -1.7148  │"
      ]
     },
     "execution_count": 28,
     "metadata": {},
     "output_type": "execute_result"
    }
   ],
   "source": [
    "log.(df[!, Between(:open, :close)])"
   ]
  },
  {
   "cell_type": "code",
   "execution_count": 29,
   "metadata": {},
   "outputs": [
    {
     "ename": "DomainError",
     "evalue": "DomainError with -0.8700000643730164:\nlog will only return a complex result if called with a complex argument. Try log(Complex(x)).",
     "output_type": "error",
     "traceback": [
      "DomainError with -0.8700000643730164:\nlog will only return a complex result if called with a complex argument. Try log(Complex(x)).",
      "",
      "Stacktrace:",
      " [1] throw_complex_domainerror(::Symbol, ::Float64) at .\\math.jl:33",
      " [2] log(::Float64) at .\\special\\log.jl:285",
      " [3] _broadcast_getindex_evalf at .\\broadcast.jl:648 [inlined]",
      " [4] _broadcast_getindex at .\\broadcast.jl:621 [inlined]",
      " [5] getindex at .\\broadcast.jl:575 [inlined]",
      " [6] copyto_widen!(::Array{Float64,1}, ::Base.Broadcast.Broadcasted{DataFrames.DataFrameStyle,Tuple{Base.OneTo{Int64},Base.OneTo{Int64}},typeof(log),Tuple{Base.Broadcast.Extruded{Array{Float64,1},Tuple{Bool},Tuple{Int64}}}}, ::Int64, ::Int64) at D:\\AppData\\.julia\\packages\\DataFrames\\htZzm\\src\\other\\broadcasting.jl:24",
      " [7] copy(::Base.Broadcast.Broadcasted{DataFrames.DataFrameStyle,Tuple{Base.OneTo{Int64},Base.OneTo{Int64}},typeof(log),Tuple{DataFrame}}) at D:\\AppData\\.julia\\packages\\DataFrames\\htZzm\\src\\other\\broadcasting.jl:74",
      " [8] materialize(::Base.Broadcast.Broadcasted{DataFrames.DataFrameStyle,Nothing,typeof(log),Tuple{DataFrame}}) at .\\broadcast.jl:837",
      " [9] top-level scope at In[29]:1"
     ]
    }
   ],
   "source": [
    "log.(df[!, Between(:open, :adjclose)])"
   ]
  },
  {
   "cell_type": "code",
   "execution_count": 30,
   "metadata": {},
   "outputs": [
    {
     "data": {
      "text/html": [
       "<table class=\"data-frame\"><thead><tr><th></th><th>date</th><th>volume</th><th>open</th><th>high</th><th>low</th><th>close</th><th>adjclose</th><th>symbol</th></tr><tr><th></th><th>Date</th><th>Int64</th><th>Float64</th><th>Float64</th><th>Float64</th><th>Float64</th><th>Float64</th><th>String</th></tr></thead><tbody><p>1,350 rows × 8 columns</p><tr><th>1</th><td>2020-05-13</td><td>507400</td><td>3.4</td><td>3.4</td><td>2.99</td><td>3.02</td><td>-0.87</td><td>HCHC</td></tr><tr><th>2</th><td>2020-05-12</td><td>658600</td><td>3.22</td><td>3.48</td><td>3.11</td><td>3.19</td><td>-0.918974</td><td>HCHC</td></tr><tr><th>3</th><td>2020-05-11</td><td>564700</td><td>3.17</td><td>3.43</td><td>3.12</td><td>3.18</td><td>-0.916093</td><td>HCHC</td></tr><tr><th>4</th><td>2020-05-08</td><td>264600</td><td>2.92</td><td>3.08</td><td>2.8</td><td>3.06</td><td>-0.881523</td><td>HCHC</td></tr><tr><th>5</th><td>2020-05-07</td><td>246900</td><td>3.06</td><td>3.06</td><td>2.67</td><td>2.8</td><td>-0.806623</td><td>HCHC</td></tr><tr><th>6</th><td>2020-05-06</td><td>219500</td><td>2.87</td><td>3.08</td><td>2.78</td><td>2.98</td><td>-0.858477</td><td>HCHC</td></tr><tr><th>7</th><td>2020-05-05</td><td>190900</td><td>2.7</td><td>2.84</td><td>2.7</td><td>2.8</td><td>-0.806623</td><td>HCHC</td></tr><tr><th>8</th><td>2020-05-04</td><td>139800</td><td>2.58</td><td>2.8</td><td>2.58</td><td>2.69</td><td>-0.774934</td><td>HCHC</td></tr><tr><th>9</th><td>2020-05-01</td><td>288800</td><td>2.64</td><td>2.77</td><td>2.54</td><td>2.65</td><td>-0.763411</td><td>HCHC</td></tr><tr><th>10</th><td>2020-04-30</td><td>199700</td><td>2.88</td><td>2.88</td><td>2.61</td><td>2.69</td><td>-0.774934</td><td>HCHC</td></tr><tr><th>11</th><td>2020-04-29</td><td>300800</td><td>2.56</td><td>2.9</td><td>2.51</td><td>2.85</td><td>-0.821027</td><td>HCHC</td></tr><tr><th>12</th><td>2020-04-28</td><td>258300</td><td>2.55</td><td>2.76</td><td>2.52</td><td>2.56</td><td>-0.737484</td><td>HCHC</td></tr><tr><th>13</th><td>2020-04-27</td><td>155300</td><td>2.6</td><td>2.73</td><td>2.51</td><td>2.55</td><td>-0.734603</td><td>HCHC</td></tr><tr><th>14</th><td>2020-04-24</td><td>177300</td><td>2.83</td><td>2.84</td><td>2.63</td><td>2.66</td><td>-0.766291</td><td>HCHC</td></tr><tr><th>15</th><td>2020-04-23</td><td>349700</td><td>2.51</td><td>2.79</td><td>2.38</td><td>2.76</td><td>-0.795099</td><td>HCHC</td></tr><tr><th>&vellip;</th><td>&vellip;</td><td>&vellip;</td><td>&vellip;</td><td>&vellip;</td><td>&vellip;</td><td>&vellip;</td><td>&vellip;</td><td>&vellip;</td></tr></tbody></table>"
      ],
      "text/latex": [
       "\\begin{tabular}{r|cccccccc}\n",
       "\t& date & volume & open & high & low & close & adjclose & symbol\\\\\n",
       "\t\\hline\n",
       "\t& Date & Int64 & Float64 & Float64 & Float64 & Float64 & Float64 & String\\\\\n",
       "\t\\hline\n",
       "\t1 & 2020-05-13 & 507400 & 3.4 & 3.4 & 2.99 & 3.02 & -0.87 & HCHC \\\\\n",
       "\t2 & 2020-05-12 & 658600 & 3.22 & 3.48 & 3.11 & 3.19 & -0.918974 & HCHC \\\\\n",
       "\t3 & 2020-05-11 & 564700 & 3.17 & 3.43 & 3.12 & 3.18 & -0.916093 & HCHC \\\\\n",
       "\t4 & 2020-05-08 & 264600 & 2.92 & 3.08 & 2.8 & 3.06 & -0.881523 & HCHC \\\\\n",
       "\t5 & 2020-05-07 & 246900 & 3.06 & 3.06 & 2.67 & 2.8 & -0.806623 & HCHC \\\\\n",
       "\t6 & 2020-05-06 & 219500 & 2.87 & 3.08 & 2.78 & 2.98 & -0.858477 & HCHC \\\\\n",
       "\t7 & 2020-05-05 & 190900 & 2.7 & 2.84 & 2.7 & 2.8 & -0.806623 & HCHC \\\\\n",
       "\t8 & 2020-05-04 & 139800 & 2.58 & 2.8 & 2.58 & 2.69 & -0.774934 & HCHC \\\\\n",
       "\t9 & 2020-05-01 & 288800 & 2.64 & 2.77 & 2.54 & 2.65 & -0.763411 & HCHC \\\\\n",
       "\t10 & 2020-04-30 & 199700 & 2.88 & 2.88 & 2.61 & 2.69 & -0.774934 & HCHC \\\\\n",
       "\t11 & 2020-04-29 & 300800 & 2.56 & 2.9 & 2.51 & 2.85 & -0.821027 & HCHC \\\\\n",
       "\t12 & 2020-04-28 & 258300 & 2.55 & 2.76 & 2.52 & 2.56 & -0.737484 & HCHC \\\\\n",
       "\t13 & 2020-04-27 & 155300 & 2.6 & 2.73 & 2.51 & 2.55 & -0.734603 & HCHC \\\\\n",
       "\t14 & 2020-04-24 & 177300 & 2.83 & 2.84 & 2.63 & 2.66 & -0.766291 & HCHC \\\\\n",
       "\t15 & 2020-04-23 & 349700 & 2.51 & 2.79 & 2.38 & 2.76 & -0.795099 & HCHC \\\\\n",
       "\t$\\dots$ & $\\dots$ & $\\dots$ & $\\dots$ & $\\dots$ & $\\dots$ & $\\dots$ & $\\dots$ & $\\dots$ \\\\\n",
       "\\end{tabular}\n"
      ],
      "text/plain": [
       "1350×8 DataFrame\n",
       "│ Row  │ date       │ volume │ open    │ high    │ low     │ close   │ adjclose  │ symbol │\n",
       "│      │ \u001b[90mDate\u001b[39m       │ \u001b[90mInt64\u001b[39m  │ \u001b[90mFloat64\u001b[39m │ \u001b[90mFloat64\u001b[39m │ \u001b[90mFloat64\u001b[39m │ \u001b[90mFloat64\u001b[39m │ \u001b[90mFloat64\u001b[39m   │ \u001b[90mString\u001b[39m │\n",
       "├──────┼────────────┼────────┼─────────┼─────────┼─────────┼─────────┼───────────┼────────┤\n",
       "│ 1    │ 2020-05-13 │ 507400 │ 3.4     │ 3.4     │ 2.99    │ 3.02    │ -0.87     │ HCHC   │\n",
       "│ 2    │ 2020-05-12 │ 658600 │ 3.22    │ 3.48    │ 3.11    │ 3.19    │ -0.918974 │ HCHC   │\n",
       "│ 3    │ 2020-05-11 │ 564700 │ 3.17    │ 3.43    │ 3.12    │ 3.18    │ -0.916093 │ HCHC   │\n",
       "⋮\n",
       "│ 1347 │ 2015-01-07 │ 17600  │ 8.3     │ 8.35    │ 8.11    │ 8.2     │ -2.36225  │ HCHC   │\n",
       "│ 1348 │ 2015-01-06 │ 231500 │ 8.15    │ 8.37    │ 8.05    │ 8.25    │ -2.37666  │ HCHC   │\n",
       "│ 1349 │ 2015-01-05 │ 33400  │ 8.34    │ 8.34    │ 7.92    │ 8.0     │ -2.30464  │ HCHC   │\n",
       "│ 1350 │ 2015-01-02 │ 28700  │ 8.41    │ 8.45    │ 8.21    │ 8.31    │ -2.39394  │ HCHC   │"
      ]
     },
     "execution_count": 30,
     "metadata": {},
     "output_type": "execute_result"
    }
   ],
   "source": [
    "filter(:adjclose => <=(0), df)"
   ]
  },
  {
   "cell_type": "code",
   "execution_count": 31,
   "metadata": {},
   "outputs": [
    {
     "data": {
      "text/html": [
       "<table class=\"data-frame\"><thead><tr><th></th><th>variable</th><th>mean</th><th>min</th><th>median</th><th>max</th><th>nunique</th><th>nmissing</th><th>eltype</th></tr><tr><th></th><th>Symbol</th><th>Union…</th><th>Any</th><th>Union…</th><th>Any</th><th>Union…</th><th>Nothing</th><th>DataType</th></tr></thead><tbody><p>8 rows × 8 columns</p><tr><th>1</th><td>date</td><td></td><td>2015-01-02</td><td></td><td>2020-07-02</td><td>1385</td><td></td><td>Date</td></tr><tr><th>2</th><td>volume</td><td>1.01541e6</td><td>1</td><td>120600.0</td><td>2156725200</td><td></td><td></td><td>Int64</td></tr><tr><th>3</th><td>open</td><td>298.086</td><td>0.001</td><td>24.95</td><td>6.91553e7</td><td></td><td></td><td>Float64</td></tr><tr><th>4</th><td>high</td><td>305.876</td><td>0.0</td><td>25.11</td><td>7.05886e7</td><td></td><td></td><td>Float64</td></tr><tr><th>5</th><td>low</td><td>291.014</td><td>0.0</td><td>24.75</td><td>6.84387e7</td><td></td><td></td><td>Float64</td></tr><tr><th>6</th><td>close</td><td>296.783</td><td>0.001</td><td>24.94</td><td>6.95136e7</td><td></td><td></td><td>Float64</td></tr><tr><th>7</th><td>adjclose</td><td>293.231</td><td>-3.77096</td><td>23.3258</td><td>6.90222e7</td><td></td><td></td><td>Float64</td></tr><tr><th>8</th><td>symbol</td><td></td><td>AAAU</td><td></td><td>ZYXI</td><td>6335</td><td></td><td>String</td></tr></tbody></table>"
      ],
      "text/latex": [
       "\\begin{tabular}{r|cccccccc}\n",
       "\t& variable & mean & min & median & max & nunique & nmissing & eltype\\\\\n",
       "\t\\hline\n",
       "\t& Symbol & Union… & Any & Union… & Any & Union… & Nothing & DataType\\\\\n",
       "\t\\hline\n",
       "\t1 & date &  & 2015-01-02 &  & 2020-07-02 & 1385 &  & Date \\\\\n",
       "\t2 & volume & 1.01541e6 & 1 & 120600.0 & 2156725200 &  &  & Int64 \\\\\n",
       "\t3 & open & 298.086 & 0.001 & 24.95 & 6.91553e7 &  &  & Float64 \\\\\n",
       "\t4 & high & 305.876 & 0.0 & 25.11 & 7.05886e7 &  &  & Float64 \\\\\n",
       "\t5 & low & 291.014 & 0.0 & 24.75 & 6.84387e7 &  &  & Float64 \\\\\n",
       "\t6 & close & 296.783 & 0.001 & 24.94 & 6.95136e7 &  &  & Float64 \\\\\n",
       "\t7 & adjclose & 293.231 & -3.77096 & 23.3258 & 6.90222e7 &  &  & Float64 \\\\\n",
       "\t8 & symbol &  & AAAU &  & ZYXI & 6335 &  & String \\\\\n",
       "\\end{tabular}\n"
      ],
      "text/plain": [
       "8×8 DataFrame\n",
       "│ Row │ variable │ mean      │ min        │ median   │ max        │ nunique │ nmissing │ eltype   │\n",
       "│     │ \u001b[90mSymbol\u001b[39m   │ \u001b[90mUnion…\u001b[39m    │ \u001b[90mAny\u001b[39m        │ \u001b[90mUnion…\u001b[39m   │ \u001b[90mAny\u001b[39m        │ \u001b[90mUnion…\u001b[39m  │ \u001b[90mNothing\u001b[39m  │ \u001b[90mDataType\u001b[39m │\n",
       "├─────┼──────────┼───────────┼────────────┼──────────┼────────────┼─────────┼──────────┼──────────┤\n",
       "│ 1   │ date     │           │ 2015-01-02 │          │ 2020-07-02 │ 1385    │          │ Date     │\n",
       "│ 2   │ volume   │ 1.01541e6 │ 1          │ 120600.0 │ 2156725200 │         │          │ Int64    │\n",
       "│ 3   │ open     │ 298.086   │ 0.001      │ 24.95    │ 6.91553e7  │         │          │ Float64  │\n",
       "│ 4   │ high     │ 305.876   │ 0.0        │ 25.11    │ 7.05886e7  │         │          │ Float64  │\n",
       "│ 5   │ low      │ 291.014   │ 0.0        │ 24.75    │ 6.84387e7  │         │          │ Float64  │\n",
       "│ 6   │ close    │ 296.783   │ 0.001      │ 24.94    │ 6.95136e7  │         │          │ Float64  │\n",
       "│ 7   │ adjclose │ 293.231   │ -3.77096   │ 23.3258  │ 6.90222e7  │         │          │ Float64  │\n",
       "│ 8   │ symbol   │           │ AAAU       │          │ ZYXI       │ 6335    │          │ String   │"
      ]
     },
     "execution_count": 31,
     "metadata": {},
     "output_type": "execute_result"
    }
   ],
   "source": [
    "describe(df)"
   ]
  },
  {
   "cell_type": "markdown",
   "metadata": {},
   "source": [
    "#### Exercise"
   ]
  },
  {
   "cell_type": "markdown",
   "metadata": {},
   "source": [
    "Replace non-positive values in `:adjclose` by a value in `:close` and store it in a variable `:adjclose_fix`."
   ]
  },
  {
   "cell_type": "code",
   "execution_count": null,
   "metadata": {},
   "outputs": [],
   "source": []
  },
  {
   "cell_type": "markdown",
   "metadata": {},
   "source": [
    "and something more advanced now for each stock calculate a column with log-returns of `:close` and store it in `:close_returns`:"
   ]
  },
  {
   "cell_type": "code",
   "execution_count": 32,
   "metadata": {},
   "outputs": [],
   "source": [
    "using ShiftedArrays"
   ]
  },
  {
   "cell_type": "code",
   "execution_count": 35,
   "metadata": {},
   "outputs": [
    {
     "data": {
      "text/html": [
       "<table class=\"data-frame\"><thead><tr><th></th><th>date</th><th>volume</th><th>open</th><th>high</th><th>low</th><th>close</th><th>adjclose</th><th>symbol</th></tr><tr><th></th><th>Date</th><th>Int64</th><th>Float64</th><th>Float64</th><th>Float64</th><th>Float64</th><th>Float64</th><th>String</th></tr></thead><tbody><p>6,852,038 rows × 8 columns</p><tr><th>1</th><td>2015-01-02</td><td>2000</td><td>37.25</td><td>37.25</td><td>36.64</td><td>36.64</td><td>35.3998</td><td>AADR</td></tr><tr><th>2</th><td>2015-01-02</td><td>10748600</td><td>54.28</td><td>54.6</td><td>53.07</td><td>53.91</td><td>51.0799</td><td>AAL</td></tr><tr><th>3</th><td>2015-01-02</td><td>11500</td><td>308.0</td><td>348.59</td><td>308.0</td><td>327.18</td><td>327.18</td><td>AAMC</td></tr><tr><th>4</th><td>2015-01-02</td><td>11400</td><td>3.99</td><td>4.03</td><td>3.98</td><td>4.03</td><td>3.91772</td><td>AAME</td></tr><tr><th>5</th><td>2015-01-02</td><td>898900</td><td>30.81</td><td>30.86</td><td>30.04</td><td>30.62</td><td>30.0588</td><td>AAN</td></tr><tr><th>6</th><td>2015-01-02</td><td>184600</td><td>11.28</td><td>11.28</td><td>10.72</td><td>10.79</td><td>10.79</td><td>AAOI</td></tr><tr><th>7</th><td>2015-01-02</td><td>90700</td><td>22.55</td><td>22.68</td><td>21.6</td><td>21.93</td><td>20.9958</td><td>AAON</td></tr><tr><th>8</th><td>2015-01-02</td><td>509800</td><td>160.85</td><td>162.5</td><td>157.47</td><td>158.56</td><td>156.251</td><td>AAP</td></tr><tr><th>9</th><td>2015-01-02</td><td>53204600</td><td>111.39</td><td>111.44</td><td>107.35</td><td>109.33</td><td>99.9459</td><td>AAPL</td></tr><tr><th>10</th><td>2015-01-02</td><td>107500</td><td>40.12</td><td>40.46</td><td>39.95</td><td>40.37</td><td>35.0019</td><td>AAT</td></tr><tr><th>11</th><td>2015-01-02</td><td>182200</td><td>0.95</td><td>0.98</td><td>0.94</td><td>0.95</td><td>0.95</td><td>AAU</td></tr><tr><th>12</th><td>2015-01-02</td><td>225900</td><td>49.71</td><td>49.82</td><td>47.73</td><td>48.42</td><td>48.42</td><td>AAWW</td></tr><tr><th>13</th><td>2015-01-02</td><td>509500</td><td>61.17</td><td>61.17</td><td>60.49</td><td>60.63</td><td>54.6193</td><td>AAXJ</td></tr><tr><th>14</th><td>2015-01-02</td><td>135200</td><td>26.15</td><td>26.22</td><td>25.62</td><td>26.1</td><td>26.1</td><td>AB</td></tr><tr><th>15</th><td>2015-01-02</td><td>1255500</td><td>21.15</td><td>21.21</td><td>20.97</td><td>21.08</td><td>16.7124</td><td>ABB</td></tr><tr><th>&vellip;</th><td>&vellip;</td><td>&vellip;</td><td>&vellip;</td><td>&vellip;</td><td>&vellip;</td><td>&vellip;</td><td>&vellip;</td><td>&vellip;</td></tr></tbody></table>"
      ],
      "text/latex": [
       "\\begin{tabular}{r|cccccccc}\n",
       "\t& date & volume & open & high & low & close & adjclose & symbol\\\\\n",
       "\t\\hline\n",
       "\t& Date & Int64 & Float64 & Float64 & Float64 & Float64 & Float64 & String\\\\\n",
       "\t\\hline\n",
       "\t1 & 2015-01-02 & 2000 & 37.25 & 37.25 & 36.64 & 36.64 & 35.3998 & AADR \\\\\n",
       "\t2 & 2015-01-02 & 10748600 & 54.28 & 54.6 & 53.07 & 53.91 & 51.0799 & AAL \\\\\n",
       "\t3 & 2015-01-02 & 11500 & 308.0 & 348.59 & 308.0 & 327.18 & 327.18 & AAMC \\\\\n",
       "\t4 & 2015-01-02 & 11400 & 3.99 & 4.03 & 3.98 & 4.03 & 3.91772 & AAME \\\\\n",
       "\t5 & 2015-01-02 & 898900 & 30.81 & 30.86 & 30.04 & 30.62 & 30.0588 & AAN \\\\\n",
       "\t6 & 2015-01-02 & 184600 & 11.28 & 11.28 & 10.72 & 10.79 & 10.79 & AAOI \\\\\n",
       "\t7 & 2015-01-02 & 90700 & 22.55 & 22.68 & 21.6 & 21.93 & 20.9958 & AAON \\\\\n",
       "\t8 & 2015-01-02 & 509800 & 160.85 & 162.5 & 157.47 & 158.56 & 156.251 & AAP \\\\\n",
       "\t9 & 2015-01-02 & 53204600 & 111.39 & 111.44 & 107.35 & 109.33 & 99.9459 & AAPL \\\\\n",
       "\t10 & 2015-01-02 & 107500 & 40.12 & 40.46 & 39.95 & 40.37 & 35.0019 & AAT \\\\\n",
       "\t11 & 2015-01-02 & 182200 & 0.95 & 0.98 & 0.94 & 0.95 & 0.95 & AAU \\\\\n",
       "\t12 & 2015-01-02 & 225900 & 49.71 & 49.82 & 47.73 & 48.42 & 48.42 & AAWW \\\\\n",
       "\t13 & 2015-01-02 & 509500 & 61.17 & 61.17 & 60.49 & 60.63 & 54.6193 & AAXJ \\\\\n",
       "\t14 & 2015-01-02 & 135200 & 26.15 & 26.22 & 25.62 & 26.1 & 26.1 & AB \\\\\n",
       "\t15 & 2015-01-02 & 1255500 & 21.15 & 21.21 & 20.97 & 21.08 & 16.7124 & ABB \\\\\n",
       "\t$\\dots$ & $\\dots$ & $\\dots$ & $\\dots$ & $\\dots$ & $\\dots$ & $\\dots$ & $\\dots$ & $\\dots$ \\\\\n",
       "\\end{tabular}\n"
      ],
      "text/plain": [
       "6852038×8 DataFrame\n",
       "│ Row     │ date       │ volume   │ open    │ high    │ low     │ close   │ adjclose │ symbol │\n",
       "│         │ \u001b[90mDate\u001b[39m       │ \u001b[90mInt64\u001b[39m    │ \u001b[90mFloat64\u001b[39m │ \u001b[90mFloat64\u001b[39m │ \u001b[90mFloat64\u001b[39m │ \u001b[90mFloat64\u001b[39m │ \u001b[90mFloat64\u001b[39m  │ \u001b[90mString\u001b[39m │\n",
       "├─────────┼────────────┼──────────┼─────────┼─────────┼─────────┼─────────┼──────────┼────────┤\n",
       "│ 1       │ 2015-01-02 │ 2000     │ 37.25   │ 37.25   │ 36.64   │ 36.64   │ 35.3998  │ AADR   │\n",
       "│ 2       │ 2015-01-02 │ 10748600 │ 54.28   │ 54.6    │ 53.07   │ 53.91   │ 51.0799  │ AAL    │\n",
       "│ 3       │ 2015-01-02 │ 11500    │ 308.0   │ 348.59  │ 308.0   │ 327.18  │ 327.18   │ AAMC   │\n",
       "⋮\n",
       "│ 6852035 │ 2020-07-02 │ 538000   │ 3.2     │ 3.43    │ 3.18    │ 3.27    │ 3.27     │ ZVO    │\n",
       "│ 6852036 │ 2020-07-02 │ 214200   │ 36.53   │ 37.04   │ 35.73   │ 35.98   │ 35.98    │ ZYME   │\n",
       "│ 6852037 │ 2020-07-02 │ 2857200  │ 3.66    │ 3.69    │ 3.4     │ 3.5     │ 3.5      │ ZYNE   │\n",
       "│ 6852038 │ 2020-07-02 │ 1072200  │ 24.54   │ 26.84   │ 24.44   │ 25.12   │ 25.12    │ ZYXI   │"
      ]
     },
     "execution_count": 35,
     "metadata": {},
     "output_type": "execute_result"
    }
   ],
   "source": [
    "sort!(df, :date)"
   ]
  },
  {
   "cell_type": "code",
   "execution_count": 36,
   "metadata": {},
   "outputs": [
    {
     "data": {
      "text/html": [
       "<p><b>GroupedDataFrame with 6335 groups based on key: symbol</b></p><p><i>First Group (474 rows): symbol = \"AAAU\"</i></p><table class=\"data-frame\"><thead><tr><th></th><th>date</th><th>volume</th><th>open</th><th>high</th><th>low</th><th>close</th><th>adjclose</th><th>symbol</th></tr><tr><th></th><th>Date</th><th>Int64</th><th>Float64</th><th>Float64</th><th>Float64</th><th>Float64</th><th>Float64</th><th>String</th></tr></thead><tbody><tr><th>1</th><td>2018-08-15</td><td>27300</td><td>11.84</td><td>11.84</td><td>11.74</td><td>11.74</td><td>11.74</td><td>AAAU</td></tr><tr><th>2</th><td>2018-08-16</td><td>428400</td><td>11.78</td><td>11.8</td><td>11.74</td><td>11.74</td><td>11.74</td><td>AAAU</td></tr><tr><th>3</th><td>2018-08-17</td><td>52400</td><td>11.8</td><td>11.82</td><td>11.77</td><td>11.82</td><td>11.82</td><td>AAAU</td></tr><tr><th>4</th><td>2018-08-20</td><td>28700</td><td>11.88</td><td>11.91</td><td>11.85</td><td>11.9</td><td>11.9</td><td>AAAU</td></tr><tr><th>5</th><td>2018-08-21</td><td>30600</td><td>11.92</td><td>11.95</td><td>11.89</td><td>11.93</td><td>11.93</td><td>AAAU</td></tr><tr><th>6</th><td>2018-08-22</td><td>101200</td><td>11.98</td><td>11.98</td><td>11.94</td><td>11.96</td><td>11.96</td><td>AAAU</td></tr><tr><th>7</th><td>2018-08-23</td><td>54800</td><td>11.91</td><td>11.92</td><td>11.85</td><td>11.85</td><td>11.85</td><td>AAAU</td></tr><tr><th>8</th><td>2018-08-24</td><td>106500</td><td>11.97</td><td>12.08</td><td>11.96</td><td>12.05</td><td>12.05</td><td>AAAU</td></tr><tr><th>9</th><td>2018-08-27</td><td>295100</td><td>12.06</td><td>12.13</td><td>12.06</td><td>12.1</td><td>12.1</td><td>AAAU</td></tr><tr><th>10</th><td>2018-08-28</td><td>30400</td><td>12.13</td><td>12.13</td><td>12.01</td><td>12.01</td><td>12.01</td><td>AAAU</td></tr><tr><th>11</th><td>2018-08-29</td><td>31800</td><td>12.06</td><td>12.06</td><td>12.03</td><td>12.05</td><td>12.05</td><td>AAAU</td></tr><tr><th>12</th><td>2018-08-30</td><td>804500</td><td>12.03</td><td>12.03</td><td>11.97</td><td>12.01</td><td>12.01</td><td>AAAU</td></tr><tr><th>13</th><td>2018-08-31</td><td>39500</td><td>12.04</td><td>12.05</td><td>11.99</td><td>12.0</td><td>12.0</td><td>AAAU</td></tr><tr><th>14</th><td>2018-09-04</td><td>6000</td><td>11.91</td><td>11.94</td><td>11.9</td><td>11.92</td><td>11.92</td><td>AAAU</td></tr><tr><th>15</th><td>2018-09-05</td><td>1032800</td><td>11.98</td><td>11.98</td><td>11.96</td><td>11.97</td><td>11.97</td><td>AAAU</td></tr><tr><th>&vellip;</th><td>&vellip;</td><td>&vellip;</td><td>&vellip;</td><td>&vellip;</td><td>&vellip;</td><td>&vellip;</td><td>&vellip;</td><td>&vellip;</td></tr></tbody></table><p>&vellip;</p><p><i>Last Group (1215 rows): symbol = \"ZYXI\"</i></p><table class=\"data-frame\"><thead><tr><th></th><th>date</th><th>volume</th><th>open</th><th>high</th><th>low</th><th>close</th><th>adjclose</th><th>symbol</th></tr><tr><th></th><th>Date</th><th>Int64</th><th>Float64</th><th>Float64</th><th>Float64</th><th>Float64</th><th>Float64</th><th>String</th></tr></thead><tbody><tr><th>1</th><td>2015-01-02</td><td>100</td><td>0.18</td><td>0.18</td><td>0.18</td><td>0.18</td><td>0.175245</td><td>ZYXI</td></tr><tr><th>2</th><td>2015-01-05</td><td>33200</td><td>0.22</td><td>0.22</td><td>0.14</td><td>0.16</td><td>0.155774</td><td>ZYXI</td></tr><tr><th>3</th><td>2015-01-07</td><td>8100</td><td>0.14</td><td>0.15</td><td>0.13</td><td>0.15</td><td>0.146038</td><td>ZYXI</td></tr><tr><th>4</th><td>2015-01-09</td><td>200</td><td>0.15</td><td>0.15</td><td>0.15</td><td>0.15</td><td>0.146038</td><td>ZYXI</td></tr><tr><th>5</th><td>2015-01-12</td><td>10000</td><td>0.14</td><td>0.14</td><td>0.14</td><td>0.14</td><td>0.136302</td><td>ZYXI</td></tr><tr><th>6</th><td>2015-01-13</td><td>27800</td><td>0.14</td><td>0.19</td><td>0.14</td><td>0.19</td><td>0.184981</td><td>ZYXI</td></tr><tr><th>7</th><td>2015-01-14</td><td>33800</td><td>0.13</td><td>0.19</td><td>0.13</td><td>0.19</td><td>0.184981</td><td>ZYXI</td></tr><tr><th>8</th><td>2015-01-16</td><td>8000</td><td>0.12</td><td>0.18</td><td>0.12</td><td>0.18</td><td>0.175245</td><td>ZYXI</td></tr><tr><th>9</th><td>2015-01-20</td><td>1800</td><td>0.18</td><td>0.18</td><td>0.17</td><td>0.18</td><td>0.175245</td><td>ZYXI</td></tr><tr><th>10</th><td>2015-01-21</td><td>7800</td><td>0.13</td><td>0.18</td><td>0.12</td><td>0.18</td><td>0.175245</td><td>ZYXI</td></tr><tr><th>11</th><td>2015-01-22</td><td>5000</td><td>0.12</td><td>0.18</td><td>0.12</td><td>0.18</td><td>0.175245</td><td>ZYXI</td></tr><tr><th>12</th><td>2015-01-23</td><td>800</td><td>0.13</td><td>0.18</td><td>0.13</td><td>0.18</td><td>0.175245</td><td>ZYXI</td></tr><tr><th>13</th><td>2015-01-26</td><td>7300</td><td>0.18</td><td>0.18</td><td>0.18</td><td>0.18</td><td>0.175245</td><td>ZYXI</td></tr><tr><th>14</th><td>2015-01-27</td><td>1800</td><td>0.13</td><td>0.18</td><td>0.13</td><td>0.18</td><td>0.175245</td><td>ZYXI</td></tr><tr><th>15</th><td>2015-02-02</td><td>14000</td><td>0.16</td><td>0.16</td><td>0.16</td><td>0.16</td><td>0.155774</td><td>ZYXI</td></tr><tr><th>&vellip;</th><td>&vellip;</td><td>&vellip;</td><td>&vellip;</td><td>&vellip;</td><td>&vellip;</td><td>&vellip;</td><td>&vellip;</td><td>&vellip;</td></tr></tbody></table>"
      ],
      "text/latex": [
       "GroupedDataFrame with 6335 groups based on key: symbol\n",
       "\n",
       "First Group (474 rows): symbol = \"AAAU\"\n",
       "\n",
       "\\begin{tabular}{r|cccccccc}\n",
       "\t& date & volume & open & high & low & close & adjclose & symbol\\\\\n",
       "\t\\hline\n",
       "\t& Date & Int64 & Float64 & Float64 & Float64 & Float64 & Float64 & String\\\\\n",
       "\t\\hline\n",
       "\t1 & 2018-08-15 & 27300 & 11.84 & 11.84 & 11.74 & 11.74 & 11.74 & AAAU \\\\\n",
       "\t2 & 2018-08-16 & 428400 & 11.78 & 11.8 & 11.74 & 11.74 & 11.74 & AAAU \\\\\n",
       "\t3 & 2018-08-17 & 52400 & 11.8 & 11.82 & 11.77 & 11.82 & 11.82 & AAAU \\\\\n",
       "\t4 & 2018-08-20 & 28700 & 11.88 & 11.91 & 11.85 & 11.9 & 11.9 & AAAU \\\\\n",
       "\t5 & 2018-08-21 & 30600 & 11.92 & 11.95 & 11.89 & 11.93 & 11.93 & AAAU \\\\\n",
       "\t6 & 2018-08-22 & 101200 & 11.98 & 11.98 & 11.94 & 11.96 & 11.96 & AAAU \\\\\n",
       "\t7 & 2018-08-23 & 54800 & 11.91 & 11.92 & 11.85 & 11.85 & 11.85 & AAAU \\\\\n",
       "\t8 & 2018-08-24 & 106500 & 11.97 & 12.08 & 11.96 & 12.05 & 12.05 & AAAU \\\\\n",
       "\t9 & 2018-08-27 & 295100 & 12.06 & 12.13 & 12.06 & 12.1 & 12.1 & AAAU \\\\\n",
       "\t10 & 2018-08-28 & 30400 & 12.13 & 12.13 & 12.01 & 12.01 & 12.01 & AAAU \\\\\n",
       "\t11 & 2018-08-29 & 31800 & 12.06 & 12.06 & 12.03 & 12.05 & 12.05 & AAAU \\\\\n",
       "\t12 & 2018-08-30 & 804500 & 12.03 & 12.03 & 11.97 & 12.01 & 12.01 & AAAU \\\\\n",
       "\t13 & 2018-08-31 & 39500 & 12.04 & 12.05 & 11.99 & 12.0 & 12.0 & AAAU \\\\\n",
       "\t14 & 2018-09-04 & 6000 & 11.91 & 11.94 & 11.9 & 11.92 & 11.92 & AAAU \\\\\n",
       "\t15 & 2018-09-05 & 1032800 & 11.98 & 11.98 & 11.96 & 11.97 & 11.97 & AAAU \\\\\n",
       "\t$\\dots$ & $\\dots$ & $\\dots$ & $\\dots$ & $\\dots$ & $\\dots$ & $\\dots$ & $\\dots$ & $\\dots$ \\\\\n",
       "\\end{tabular}\n",
       "\n",
       "$\\dots$\n",
       "\n",
       "Last Group (1215 rows): symbol = \"ZYXI\"\n",
       "\n",
       "\\begin{tabular}{r|cccccccc}\n",
       "\t& date & volume & open & high & low & close & adjclose & symbol\\\\\n",
       "\t\\hline\n",
       "\t& Date & Int64 & Float64 & Float64 & Float64 & Float64 & Float64 & String\\\\\n",
       "\t\\hline\n",
       "\t1 & 2015-01-02 & 100 & 0.18 & 0.18 & 0.18 & 0.18 & 0.175245 & ZYXI \\\\\n",
       "\t2 & 2015-01-05 & 33200 & 0.22 & 0.22 & 0.14 & 0.16 & 0.155774 & ZYXI \\\\\n",
       "\t3 & 2015-01-07 & 8100 & 0.14 & 0.15 & 0.13 & 0.15 & 0.146038 & ZYXI \\\\\n",
       "\t4 & 2015-01-09 & 200 & 0.15 & 0.15 & 0.15 & 0.15 & 0.146038 & ZYXI \\\\\n",
       "\t5 & 2015-01-12 & 10000 & 0.14 & 0.14 & 0.14 & 0.14 & 0.136302 & ZYXI \\\\\n",
       "\t6 & 2015-01-13 & 27800 & 0.14 & 0.19 & 0.14 & 0.19 & 0.184981 & ZYXI \\\\\n",
       "\t7 & 2015-01-14 & 33800 & 0.13 & 0.19 & 0.13 & 0.19 & 0.184981 & ZYXI \\\\\n",
       "\t8 & 2015-01-16 & 8000 & 0.12 & 0.18 & 0.12 & 0.18 & 0.175245 & ZYXI \\\\\n",
       "\t9 & 2015-01-20 & 1800 & 0.18 & 0.18 & 0.17 & 0.18 & 0.175245 & ZYXI \\\\\n",
       "\t10 & 2015-01-21 & 7800 & 0.13 & 0.18 & 0.12 & 0.18 & 0.175245 & ZYXI \\\\\n",
       "\t11 & 2015-01-22 & 5000 & 0.12 & 0.18 & 0.12 & 0.18 & 0.175245 & ZYXI \\\\\n",
       "\t12 & 2015-01-23 & 800 & 0.13 & 0.18 & 0.13 & 0.18 & 0.175245 & ZYXI \\\\\n",
       "\t13 & 2015-01-26 & 7300 & 0.18 & 0.18 & 0.18 & 0.18 & 0.175245 & ZYXI \\\\\n",
       "\t14 & 2015-01-27 & 1800 & 0.13 & 0.18 & 0.13 & 0.18 & 0.175245 & ZYXI \\\\\n",
       "\t15 & 2015-02-02 & 14000 & 0.16 & 0.16 & 0.16 & 0.16 & 0.155774 & ZYXI \\\\\n",
       "\t$\\dots$ & $\\dots$ & $\\dots$ & $\\dots$ & $\\dots$ & $\\dots$ & $\\dots$ & $\\dots$ & $\\dots$ \\\\\n",
       "\\end{tabular}\n"
      ],
      "text/plain": [
       "GroupedDataFrame with 6335 groups based on key: symbol\n",
       "First Group (474 rows): symbol = \"AAAU\"\n",
       "│ Row │ date       │ volume │ open    │ high    │ low     │ close   │ adjclose │ symbol │\n",
       "│     │ \u001b[90mDate\u001b[39m       │ \u001b[90mInt64\u001b[39m  │ \u001b[90mFloat64\u001b[39m │ \u001b[90mFloat64\u001b[39m │ \u001b[90mFloat64\u001b[39m │ \u001b[90mFloat64\u001b[39m │ \u001b[90mFloat64\u001b[39m  │ \u001b[90mString\u001b[39m │\n",
       "├─────┼────────────┼────────┼─────────┼─────────┼─────────┼─────────┼──────────┼────────┤\n",
       "│ 1   │ 2018-08-15 │ 27300  │ 11.84   │ 11.84   │ 11.74   │ 11.74   │ 11.74    │ AAAU   │\n",
       "│ 2   │ 2018-08-16 │ 428400 │ 11.78   │ 11.8    │ 11.74   │ 11.74   │ 11.74    │ AAAU   │\n",
       "│ 3   │ 2018-08-17 │ 52400  │ 11.8    │ 11.82   │ 11.77   │ 11.82   │ 11.82    │ AAAU   │\n",
       "⋮\n",
       "│ 471 │ 2020-06-29 │ 405500 │ 17.67   │ 17.69   │ 17.63   │ 17.68   │ 17.68    │ AAAU   │\n",
       "│ 472 │ 2020-06-30 │ 319100 │ 17.65   │ 17.8    │ 17.61   │ 17.78   │ 17.78    │ AAAU   │\n",
       "│ 473 │ 2020-07-01 │ 468100 │ 17.73   │ 17.73   │ 17.54   │ 17.68   │ 17.68    │ AAAU   │\n",
       "│ 474 │ 2020-07-02 │ 257500 │ 17.64   │ 17.74   │ 17.62   │ 17.71   │ 17.71    │ AAAU   │\n",
       "⋮\n",
       "Last Group (1215 rows): symbol = \"ZYXI\"\n",
       "│ Row  │ date       │ volume  │ open    │ high    │ low     │ close   │ adjclose │ symbol │\n",
       "│      │ \u001b[90mDate\u001b[39m       │ \u001b[90mInt64\u001b[39m   │ \u001b[90mFloat64\u001b[39m │ \u001b[90mFloat64\u001b[39m │ \u001b[90mFloat64\u001b[39m │ \u001b[90mFloat64\u001b[39m │ \u001b[90mFloat64\u001b[39m  │ \u001b[90mString\u001b[39m │\n",
       "├──────┼────────────┼─────────┼─────────┼─────────┼─────────┼─────────┼──────────┼────────┤\n",
       "│ 1    │ 2015-01-02 │ 100     │ 0.18    │ 0.18    │ 0.18    │ 0.18    │ 0.175245 │ ZYXI   │\n",
       "│ 2    │ 2015-01-05 │ 33200   │ 0.22    │ 0.22    │ 0.14    │ 0.16    │ 0.155774 │ ZYXI   │\n",
       "│ 3    │ 2015-01-07 │ 8100    │ 0.14    │ 0.15    │ 0.13    │ 0.15    │ 0.146038 │ ZYXI   │\n",
       "⋮\n",
       "│ 1212 │ 2020-06-29 │ 757500  │ 22.92   │ 23.46   │ 21.94   │ 23.18   │ 23.18    │ ZYXI   │\n",
       "│ 1213 │ 2020-06-30 │ 1054800 │ 23.05   │ 25.24   │ 22.81   │ 24.87   │ 24.87    │ ZYXI   │\n",
       "│ 1214 │ 2020-07-01 │ 630100  │ 24.77   │ 24.85   │ 23.95   │ 24.41   │ 24.41    │ ZYXI   │\n",
       "│ 1215 │ 2020-07-02 │ 1072200 │ 24.54   │ 26.84   │ 24.44   │ 25.12   │ 25.12    │ ZYXI   │"
      ]
     },
     "execution_count": 36,
     "metadata": {},
     "output_type": "execute_result"
    }
   ],
   "source": [
    "gdf = groupby(df, :symbol)"
   ]
  },
  {
   "cell_type": "code",
   "execution_count": 37,
   "metadata": {},
   "outputs": [
    {
     "data": {
      "text/html": [
       "<table class=\"data-frame\"><thead><tr><th></th><th>symbol</th><th>date</th><th>volume</th><th>open</th><th>high</th><th>low</th><th>close</th><th>adjclose</th><th>close_returns</th></tr><tr><th></th><th>String</th><th>Date</th><th>Int64</th><th>Float64</th><th>Float64</th><th>Float64</th><th>Float64</th><th>Float64</th><th>Float64?</th></tr></thead><tbody><p>6,852,038 rows × 9 columns</p><tr><th>1</th><td>AADR</td><td>2015-01-02</td><td>2000</td><td>37.25</td><td>37.25</td><td>36.64</td><td>36.64</td><td>35.3998</td><td><em>missing</em></td></tr><tr><th>2</th><td>AAL</td><td>2015-01-02</td><td>10748600</td><td>54.28</td><td>54.6</td><td>53.07</td><td>53.91</td><td>51.0799</td><td><em>missing</em></td></tr><tr><th>3</th><td>AAMC</td><td>2015-01-02</td><td>11500</td><td>308.0</td><td>348.59</td><td>308.0</td><td>327.18</td><td>327.18</td><td><em>missing</em></td></tr><tr><th>4</th><td>AAME</td><td>2015-01-02</td><td>11400</td><td>3.99</td><td>4.03</td><td>3.98</td><td>4.03</td><td>3.91772</td><td><em>missing</em></td></tr><tr><th>5</th><td>AAN</td><td>2015-01-02</td><td>898900</td><td>30.81</td><td>30.86</td><td>30.04</td><td>30.62</td><td>30.0588</td><td><em>missing</em></td></tr><tr><th>6</th><td>AAOI</td><td>2015-01-02</td><td>184600</td><td>11.28</td><td>11.28</td><td>10.72</td><td>10.79</td><td>10.79</td><td><em>missing</em></td></tr><tr><th>7</th><td>AAON</td><td>2015-01-02</td><td>90700</td><td>22.55</td><td>22.68</td><td>21.6</td><td>21.93</td><td>20.9958</td><td><em>missing</em></td></tr><tr><th>8</th><td>AAP</td><td>2015-01-02</td><td>509800</td><td>160.85</td><td>162.5</td><td>157.47</td><td>158.56</td><td>156.251</td><td><em>missing</em></td></tr><tr><th>9</th><td>AAPL</td><td>2015-01-02</td><td>53204600</td><td>111.39</td><td>111.44</td><td>107.35</td><td>109.33</td><td>99.9459</td><td><em>missing</em></td></tr><tr><th>10</th><td>AAT</td><td>2015-01-02</td><td>107500</td><td>40.12</td><td>40.46</td><td>39.95</td><td>40.37</td><td>35.0019</td><td><em>missing</em></td></tr><tr><th>11</th><td>AAU</td><td>2015-01-02</td><td>182200</td><td>0.95</td><td>0.98</td><td>0.94</td><td>0.95</td><td>0.95</td><td><em>missing</em></td></tr><tr><th>12</th><td>AAWW</td><td>2015-01-02</td><td>225900</td><td>49.71</td><td>49.82</td><td>47.73</td><td>48.42</td><td>48.42</td><td><em>missing</em></td></tr><tr><th>13</th><td>AAXJ</td><td>2015-01-02</td><td>509500</td><td>61.17</td><td>61.17</td><td>60.49</td><td>60.63</td><td>54.6193</td><td><em>missing</em></td></tr><tr><th>14</th><td>AB</td><td>2015-01-02</td><td>135200</td><td>26.15</td><td>26.22</td><td>25.62</td><td>26.1</td><td>26.1</td><td><em>missing</em></td></tr><tr><th>15</th><td>ABB</td><td>2015-01-02</td><td>1255500</td><td>21.15</td><td>21.21</td><td>20.97</td><td>21.08</td><td>16.7124</td><td><em>missing</em></td></tr><tr><th>&vellip;</th><td>&vellip;</td><td>&vellip;</td><td>&vellip;</td><td>&vellip;</td><td>&vellip;</td><td>&vellip;</td><td>&vellip;</td><td>&vellip;</td><td>&vellip;</td></tr></tbody></table>"
      ],
      "text/latex": [
       "\\begin{tabular}{r|ccccccccc}\n",
       "\t& symbol & date & volume & open & high & low & close & adjclose & close\\_returns\\\\\n",
       "\t\\hline\n",
       "\t& String & Date & Int64 & Float64 & Float64 & Float64 & Float64 & Float64 & Float64?\\\\\n",
       "\t\\hline\n",
       "\t1 & AADR & 2015-01-02 & 2000 & 37.25 & 37.25 & 36.64 & 36.64 & 35.3998 & \\emph{missing} \\\\\n",
       "\t2 & AAL & 2015-01-02 & 10748600 & 54.28 & 54.6 & 53.07 & 53.91 & 51.0799 & \\emph{missing} \\\\\n",
       "\t3 & AAMC & 2015-01-02 & 11500 & 308.0 & 348.59 & 308.0 & 327.18 & 327.18 & \\emph{missing} \\\\\n",
       "\t4 & AAME & 2015-01-02 & 11400 & 3.99 & 4.03 & 3.98 & 4.03 & 3.91772 & \\emph{missing} \\\\\n",
       "\t5 & AAN & 2015-01-02 & 898900 & 30.81 & 30.86 & 30.04 & 30.62 & 30.0588 & \\emph{missing} \\\\\n",
       "\t6 & AAOI & 2015-01-02 & 184600 & 11.28 & 11.28 & 10.72 & 10.79 & 10.79 & \\emph{missing} \\\\\n",
       "\t7 & AAON & 2015-01-02 & 90700 & 22.55 & 22.68 & 21.6 & 21.93 & 20.9958 & \\emph{missing} \\\\\n",
       "\t8 & AAP & 2015-01-02 & 509800 & 160.85 & 162.5 & 157.47 & 158.56 & 156.251 & \\emph{missing} \\\\\n",
       "\t9 & AAPL & 2015-01-02 & 53204600 & 111.39 & 111.44 & 107.35 & 109.33 & 99.9459 & \\emph{missing} \\\\\n",
       "\t10 & AAT & 2015-01-02 & 107500 & 40.12 & 40.46 & 39.95 & 40.37 & 35.0019 & \\emph{missing} \\\\\n",
       "\t11 & AAU & 2015-01-02 & 182200 & 0.95 & 0.98 & 0.94 & 0.95 & 0.95 & \\emph{missing} \\\\\n",
       "\t12 & AAWW & 2015-01-02 & 225900 & 49.71 & 49.82 & 47.73 & 48.42 & 48.42 & \\emph{missing} \\\\\n",
       "\t13 & AAXJ & 2015-01-02 & 509500 & 61.17 & 61.17 & 60.49 & 60.63 & 54.6193 & \\emph{missing} \\\\\n",
       "\t14 & AB & 2015-01-02 & 135200 & 26.15 & 26.22 & 25.62 & 26.1 & 26.1 & \\emph{missing} \\\\\n",
       "\t15 & ABB & 2015-01-02 & 1255500 & 21.15 & 21.21 & 20.97 & 21.08 & 16.7124 & \\emph{missing} \\\\\n",
       "\t$\\dots$ & $\\dots$ & $\\dots$ & $\\dots$ & $\\dots$ & $\\dots$ & $\\dots$ & $\\dots$ & $\\dots$ & $\\dots$ \\\\\n",
       "\\end{tabular}\n"
      ],
      "text/plain": [
       "6852038×9 DataFrame\n",
       "│ Row     │ symbol │ date       │ volume   │ open    │ high    │ low     │ close   │ adjclose │ close_returns │\n",
       "│         │ \u001b[90mString\u001b[39m │ \u001b[90mDate\u001b[39m       │ \u001b[90mInt64\u001b[39m    │ \u001b[90mFloat64\u001b[39m │ \u001b[90mFloat64\u001b[39m │ \u001b[90mFloat64\u001b[39m │ \u001b[90mFloat64\u001b[39m │ \u001b[90mFloat64\u001b[39m  │ \u001b[90mFloat64?\u001b[39m      │\n",
       "├─────────┼────────┼────────────┼──────────┼─────────┼─────────┼─────────┼─────────┼──────────┼───────────────┤\n",
       "│ 1       │ AADR   │ 2015-01-02 │ 2000     │ 37.25   │ 37.25   │ 36.64   │ 36.64   │ 35.3998  │ \u001b[90mmissing\u001b[39m       │\n",
       "│ 2       │ AAL    │ 2015-01-02 │ 10748600 │ 54.28   │ 54.6    │ 53.07   │ 53.91   │ 51.0799  │ \u001b[90mmissing\u001b[39m       │\n",
       "│ 3       │ AAMC   │ 2015-01-02 │ 11500    │ 308.0   │ 348.59  │ 308.0   │ 327.18  │ 327.18   │ \u001b[90mmissing\u001b[39m       │\n",
       "⋮\n",
       "│ 6852035 │ ZVO    │ 2020-07-02 │ 538000   │ 3.2     │ 3.43    │ 3.18    │ 3.27    │ 3.27     │ 0.0373875     │\n",
       "│ 6852036 │ ZYME   │ 2020-07-02 │ 214200   │ 36.53   │ 37.04   │ 35.73   │ 35.98   │ 35.98    │ -0.010781     │\n",
       "│ 6852037 │ ZYNE   │ 2020-07-02 │ 2857200  │ 3.66    │ 3.69    │ 3.4     │ 3.5     │ 3.5      │ -0.0569203    │\n",
       "│ 6852038 │ ZYXI   │ 2020-07-02 │ 1072200  │ 24.54   │ 26.84   │ 24.44   │ 25.12   │ 25.12    │ 0.0286715     │"
      ]
     },
     "execution_count": 37,
     "metadata": {},
     "output_type": "execute_result"
    }
   ],
   "source": [
    "transform!(gdf, :close => (x -> log.(x ./ lag(x))) => :close_returns)"
   ]
  },
  {
   "cell_type": "markdown",
   "metadata": {},
   "source": [
    "note that `GroupedDataFrame` got automatically updated"
   ]
  },
  {
   "cell_type": "code",
   "execution_count": 38,
   "metadata": {},
   "outputs": [
    {
     "data": {
      "text/html": [
       "<p><b>GroupedDataFrame with 6335 groups based on key: adjclose</b></p><p><i>First Group (474 rows): adjclose = 11.739999771118164</i></p><table class=\"data-frame\"><thead><tr><th></th><th>symbol</th><th>date</th><th>volume</th><th>open</th><th>high</th><th>low</th><th>close</th><th>adjclose</th><th>close_returns</th></tr><tr><th></th><th>String</th><th>Date</th><th>Int64</th><th>Float64</th><th>Float64</th><th>Float64</th><th>Float64</th><th>Float64</th><th>Float64?</th></tr></thead><tbody><tr><th>1</th><td>AAAU</td><td>2018-08-15</td><td>27300</td><td>11.84</td><td>11.84</td><td>11.74</td><td>11.74</td><td>11.74</td><td><em>missing</em></td></tr><tr><th>2</th><td>AAAU</td><td>2018-08-16</td><td>428400</td><td>11.78</td><td>11.8</td><td>11.74</td><td>11.74</td><td>11.74</td><td>0.0</td></tr><tr><th>3</th><td>AAAU</td><td>2018-08-17</td><td>52400</td><td>11.8</td><td>11.82</td><td>11.77</td><td>11.82</td><td>11.82</td><td>0.00679119</td></tr><tr><th>4</th><td>AAAU</td><td>2018-08-20</td><td>28700</td><td>11.88</td><td>11.91</td><td>11.85</td><td>11.9</td><td>11.9</td><td>0.00674538</td></tr><tr><th>5</th><td>AAAU</td><td>2018-08-21</td><td>30600</td><td>11.92</td><td>11.95</td><td>11.89</td><td>11.93</td><td>11.93</td><td>0.00251789</td></tr><tr><th>6</th><td>AAAU</td><td>2018-08-22</td><td>101200</td><td>11.98</td><td>11.98</td><td>11.94</td><td>11.96</td><td>11.96</td><td>0.00251149</td></tr><tr><th>7</th><td>AAAU</td><td>2018-08-23</td><td>54800</td><td>11.91</td><td>11.92</td><td>11.85</td><td>11.85</td><td>11.85</td><td>-0.00923985</td></tr><tr><th>8</th><td>AAAU</td><td>2018-08-24</td><td>106500</td><td>11.97</td><td>12.08</td><td>11.96</td><td>12.05</td><td>12.05</td><td>0.0167368</td></tr><tr><th>9</th><td>AAAU</td><td>2018-08-27</td><td>295100</td><td>12.06</td><td>12.13</td><td>12.06</td><td>12.1</td><td>12.1</td><td>0.00414081</td></tr><tr><th>10</th><td>AAAU</td><td>2018-08-28</td><td>30400</td><td>12.13</td><td>12.13</td><td>12.01</td><td>12.01</td><td>12.01</td><td>-0.00746583</td></tr><tr><th>11</th><td>AAAU</td><td>2018-08-29</td><td>31800</td><td>12.06</td><td>12.06</td><td>12.03</td><td>12.05</td><td>12.05</td><td>0.00332502</td></tr><tr><th>12</th><td>AAAU</td><td>2018-08-30</td><td>804500</td><td>12.03</td><td>12.03</td><td>11.97</td><td>12.01</td><td>12.01</td><td>-0.00332502</td></tr><tr><th>13</th><td>AAAU</td><td>2018-08-31</td><td>39500</td><td>12.04</td><td>12.05</td><td>11.99</td><td>12.0</td><td>12.0</td><td>-0.000833005</td></tr><tr><th>14</th><td>AAAU</td><td>2018-09-04</td><td>6000</td><td>11.91</td><td>11.94</td><td>11.9</td><td>11.92</td><td>11.92</td><td>-0.00668898</td></tr><tr><th>15</th><td>AAAU</td><td>2018-09-05</td><td>1032800</td><td>11.98</td><td>11.98</td><td>11.96</td><td>11.97</td><td>11.97</td><td>0.00418587</td></tr><tr><th>&vellip;</th><td>&vellip;</td><td>&vellip;</td><td>&vellip;</td><td>&vellip;</td><td>&vellip;</td><td>&vellip;</td><td>&vellip;</td><td>&vellip;</td><td>&vellip;</td></tr></tbody></table><p>&vellip;</p><p><i>Last Group (1215 rows): adjclose = 0.1752452850341797</i></p><table class=\"data-frame\"><thead><tr><th></th><th>symbol</th><th>date</th><th>volume</th><th>open</th><th>high</th><th>low</th><th>close</th><th>adjclose</th><th>close_returns</th></tr><tr><th></th><th>String</th><th>Date</th><th>Int64</th><th>Float64</th><th>Float64</th><th>Float64</th><th>Float64</th><th>Float64</th><th>Float64?</th></tr></thead><tbody><tr><th>1</th><td>ZYXI</td><td>2015-01-02</td><td>100</td><td>0.18</td><td>0.18</td><td>0.18</td><td>0.18</td><td>0.175245</td><td><em>missing</em></td></tr><tr><th>2</th><td>ZYXI</td><td>2015-01-05</td><td>33200</td><td>0.22</td><td>0.22</td><td>0.14</td><td>0.16</td><td>0.155774</td><td>-0.117783</td></tr><tr><th>3</th><td>ZYXI</td><td>2015-01-07</td><td>8100</td><td>0.14</td><td>0.15</td><td>0.13</td><td>0.15</td><td>0.146038</td><td>-0.0645385</td></tr><tr><th>4</th><td>ZYXI</td><td>2015-01-09</td><td>200</td><td>0.15</td><td>0.15</td><td>0.15</td><td>0.15</td><td>0.146038</td><td>0.0</td></tr><tr><th>5</th><td>ZYXI</td><td>2015-01-12</td><td>10000</td><td>0.14</td><td>0.14</td><td>0.14</td><td>0.14</td><td>0.136302</td><td>-0.0689929</td></tr><tr><th>6</th><td>ZYXI</td><td>2015-01-13</td><td>27800</td><td>0.14</td><td>0.19</td><td>0.14</td><td>0.19</td><td>0.184981</td><td>0.305382</td></tr><tr><th>7</th><td>ZYXI</td><td>2015-01-14</td><td>33800</td><td>0.13</td><td>0.19</td><td>0.13</td><td>0.19</td><td>0.184981</td><td>0.0</td></tr><tr><th>8</th><td>ZYXI</td><td>2015-01-16</td><td>8000</td><td>0.12</td><td>0.18</td><td>0.12</td><td>0.18</td><td>0.175245</td><td>-0.0540672</td></tr><tr><th>9</th><td>ZYXI</td><td>2015-01-20</td><td>1800</td><td>0.18</td><td>0.18</td><td>0.17</td><td>0.18</td><td>0.175245</td><td>0.0</td></tr><tr><th>10</th><td>ZYXI</td><td>2015-01-21</td><td>7800</td><td>0.13</td><td>0.18</td><td>0.12</td><td>0.18</td><td>0.175245</td><td>0.0</td></tr><tr><th>11</th><td>ZYXI</td><td>2015-01-22</td><td>5000</td><td>0.12</td><td>0.18</td><td>0.12</td><td>0.18</td><td>0.175245</td><td>0.0</td></tr><tr><th>12</th><td>ZYXI</td><td>2015-01-23</td><td>800</td><td>0.13</td><td>0.18</td><td>0.13</td><td>0.18</td><td>0.175245</td><td>0.0</td></tr><tr><th>13</th><td>ZYXI</td><td>2015-01-26</td><td>7300</td><td>0.18</td><td>0.18</td><td>0.18</td><td>0.18</td><td>0.175245</td><td>0.0</td></tr><tr><th>14</th><td>ZYXI</td><td>2015-01-27</td><td>1800</td><td>0.13</td><td>0.18</td><td>0.13</td><td>0.18</td><td>0.175245</td><td>0.0</td></tr><tr><th>15</th><td>ZYXI</td><td>2015-02-02</td><td>14000</td><td>0.16</td><td>0.16</td><td>0.16</td><td>0.16</td><td>0.155774</td><td>-0.117783</td></tr><tr><th>&vellip;</th><td>&vellip;</td><td>&vellip;</td><td>&vellip;</td><td>&vellip;</td><td>&vellip;</td><td>&vellip;</td><td>&vellip;</td><td>&vellip;</td><td>&vellip;</td></tr></tbody></table>"
      ],
      "text/latex": [
       "GroupedDataFrame with 6335 groups based on key: adjclose\n",
       "\n",
       "First Group (474 rows): adjclose = 11.739999771118164\n",
       "\n",
       "\\begin{tabular}{r|ccccccccc}\n",
       "\t& symbol & date & volume & open & high & low & close & adjclose & close\\_returns\\\\\n",
       "\t\\hline\n",
       "\t& String & Date & Int64 & Float64 & Float64 & Float64 & Float64 & Float64 & Float64?\\\\\n",
       "\t\\hline\n",
       "\t1 & AAAU & 2018-08-15 & 27300 & 11.84 & 11.84 & 11.74 & 11.74 & 11.74 & \\emph{missing} \\\\\n",
       "\t2 & AAAU & 2018-08-16 & 428400 & 11.78 & 11.8 & 11.74 & 11.74 & 11.74 & 0.0 \\\\\n",
       "\t3 & AAAU & 2018-08-17 & 52400 & 11.8 & 11.82 & 11.77 & 11.82 & 11.82 & 0.00679119 \\\\\n",
       "\t4 & AAAU & 2018-08-20 & 28700 & 11.88 & 11.91 & 11.85 & 11.9 & 11.9 & 0.00674538 \\\\\n",
       "\t5 & AAAU & 2018-08-21 & 30600 & 11.92 & 11.95 & 11.89 & 11.93 & 11.93 & 0.00251789 \\\\\n",
       "\t6 & AAAU & 2018-08-22 & 101200 & 11.98 & 11.98 & 11.94 & 11.96 & 11.96 & 0.00251149 \\\\\n",
       "\t7 & AAAU & 2018-08-23 & 54800 & 11.91 & 11.92 & 11.85 & 11.85 & 11.85 & -0.00923985 \\\\\n",
       "\t8 & AAAU & 2018-08-24 & 106500 & 11.97 & 12.08 & 11.96 & 12.05 & 12.05 & 0.0167368 \\\\\n",
       "\t9 & AAAU & 2018-08-27 & 295100 & 12.06 & 12.13 & 12.06 & 12.1 & 12.1 & 0.00414081 \\\\\n",
       "\t10 & AAAU & 2018-08-28 & 30400 & 12.13 & 12.13 & 12.01 & 12.01 & 12.01 & -0.00746583 \\\\\n",
       "\t11 & AAAU & 2018-08-29 & 31800 & 12.06 & 12.06 & 12.03 & 12.05 & 12.05 & 0.00332502 \\\\\n",
       "\t12 & AAAU & 2018-08-30 & 804500 & 12.03 & 12.03 & 11.97 & 12.01 & 12.01 & -0.00332502 \\\\\n",
       "\t13 & AAAU & 2018-08-31 & 39500 & 12.04 & 12.05 & 11.99 & 12.0 & 12.0 & -0.000833005 \\\\\n",
       "\t14 & AAAU & 2018-09-04 & 6000 & 11.91 & 11.94 & 11.9 & 11.92 & 11.92 & -0.00668898 \\\\\n",
       "\t15 & AAAU & 2018-09-05 & 1032800 & 11.98 & 11.98 & 11.96 & 11.97 & 11.97 & 0.00418587 \\\\\n",
       "\t$\\dots$ & $\\dots$ & $\\dots$ & $\\dots$ & $\\dots$ & $\\dots$ & $\\dots$ & $\\dots$ & $\\dots$ & $\\dots$ \\\\\n",
       "\\end{tabular}\n",
       "\n",
       "$\\dots$\n",
       "\n",
       "Last Group (1215 rows): adjclose = 0.1752452850341797\n",
       "\n",
       "\\begin{tabular}{r|ccccccccc}\n",
       "\t& symbol & date & volume & open & high & low & close & adjclose & close\\_returns\\\\\n",
       "\t\\hline\n",
       "\t& String & Date & Int64 & Float64 & Float64 & Float64 & Float64 & Float64 & Float64?\\\\\n",
       "\t\\hline\n",
       "\t1 & ZYXI & 2015-01-02 & 100 & 0.18 & 0.18 & 0.18 & 0.18 & 0.175245 & \\emph{missing} \\\\\n",
       "\t2 & ZYXI & 2015-01-05 & 33200 & 0.22 & 0.22 & 0.14 & 0.16 & 0.155774 & -0.117783 \\\\\n",
       "\t3 & ZYXI & 2015-01-07 & 8100 & 0.14 & 0.15 & 0.13 & 0.15 & 0.146038 & -0.0645385 \\\\\n",
       "\t4 & ZYXI & 2015-01-09 & 200 & 0.15 & 0.15 & 0.15 & 0.15 & 0.146038 & 0.0 \\\\\n",
       "\t5 & ZYXI & 2015-01-12 & 10000 & 0.14 & 0.14 & 0.14 & 0.14 & 0.136302 & -0.0689929 \\\\\n",
       "\t6 & ZYXI & 2015-01-13 & 27800 & 0.14 & 0.19 & 0.14 & 0.19 & 0.184981 & 0.305382 \\\\\n",
       "\t7 & ZYXI & 2015-01-14 & 33800 & 0.13 & 0.19 & 0.13 & 0.19 & 0.184981 & 0.0 \\\\\n",
       "\t8 & ZYXI & 2015-01-16 & 8000 & 0.12 & 0.18 & 0.12 & 0.18 & 0.175245 & -0.0540672 \\\\\n",
       "\t9 & ZYXI & 2015-01-20 & 1800 & 0.18 & 0.18 & 0.17 & 0.18 & 0.175245 & 0.0 \\\\\n",
       "\t10 & ZYXI & 2015-01-21 & 7800 & 0.13 & 0.18 & 0.12 & 0.18 & 0.175245 & 0.0 \\\\\n",
       "\t11 & ZYXI & 2015-01-22 & 5000 & 0.12 & 0.18 & 0.12 & 0.18 & 0.175245 & 0.0 \\\\\n",
       "\t12 & ZYXI & 2015-01-23 & 800 & 0.13 & 0.18 & 0.13 & 0.18 & 0.175245 & 0.0 \\\\\n",
       "\t13 & ZYXI & 2015-01-26 & 7300 & 0.18 & 0.18 & 0.18 & 0.18 & 0.175245 & 0.0 \\\\\n",
       "\t14 & ZYXI & 2015-01-27 & 1800 & 0.13 & 0.18 & 0.13 & 0.18 & 0.175245 & 0.0 \\\\\n",
       "\t15 & ZYXI & 2015-02-02 & 14000 & 0.16 & 0.16 & 0.16 & 0.16 & 0.155774 & -0.117783 \\\\\n",
       "\t$\\dots$ & $\\dots$ & $\\dots$ & $\\dots$ & $\\dots$ & $\\dots$ & $\\dots$ & $\\dots$ & $\\dots$ & $\\dots$ \\\\\n",
       "\\end{tabular}\n"
      ],
      "text/plain": [
       "GroupedDataFrame with 6335 groups based on key: adjclose\n",
       "First Group (474 rows): adjclose = 11.739999771118164\n",
       "│ Row │ symbol │ date       │ volume │ open    │ high    │ low     │ close   │ adjclose │ close_returns │\n",
       "│     │ \u001b[90mString\u001b[39m │ \u001b[90mDate\u001b[39m       │ \u001b[90mInt64\u001b[39m  │ \u001b[90mFloat64\u001b[39m │ \u001b[90mFloat64\u001b[39m │ \u001b[90mFloat64\u001b[39m │ \u001b[90mFloat64\u001b[39m │ \u001b[90mFloat64\u001b[39m  │ \u001b[90mFloat64?\u001b[39m      │\n",
       "├─────┼────────┼────────────┼────────┼─────────┼─────────┼─────────┼─────────┼──────────┼───────────────┤\n",
       "│ 1   │ AAAU   │ 2018-08-15 │ 27300  │ 11.84   │ 11.84   │ 11.74   │ 11.74   │ 11.74    │ \u001b[90mmissing\u001b[39m       │\n",
       "│ 2   │ AAAU   │ 2018-08-16 │ 428400 │ 11.78   │ 11.8    │ 11.74   │ 11.74   │ 11.74    │ 0.0           │\n",
       "│ 3   │ AAAU   │ 2018-08-17 │ 52400  │ 11.8    │ 11.82   │ 11.77   │ 11.82   │ 11.82    │ 0.00679119    │\n",
       "⋮\n",
       "│ 471 │ AAAU   │ 2020-06-29 │ 405500 │ 17.67   │ 17.69   │ 17.63   │ 17.68   │ 17.68    │ 0.000565784   │\n",
       "│ 472 │ AAAU   │ 2020-06-30 │ 319100 │ 17.65   │ 17.8    │ 17.61   │ 17.78   │ 17.78    │ 0.00564019    │\n",
       "│ 473 │ AAAU   │ 2020-07-01 │ 468100 │ 17.73   │ 17.73   │ 17.54   │ 17.68   │ 17.68    │ -0.00564019   │\n",
       "│ 474 │ AAAU   │ 2020-07-02 │ 257500 │ 17.64   │ 17.74   │ 17.62   │ 17.71   │ 17.71    │ 0.00169533    │\n",
       "⋮\n",
       "Last Group (1215 rows): adjclose = 0.1752452850341797\n",
       "│ Row  │ symbol │ date       │ volume  │ open    │ high    │ low     │ close   │ adjclose │ close_returns │\n",
       "│      │ \u001b[90mString\u001b[39m │ \u001b[90mDate\u001b[39m       │ \u001b[90mInt64\u001b[39m   │ \u001b[90mFloat64\u001b[39m │ \u001b[90mFloat64\u001b[39m │ \u001b[90mFloat64\u001b[39m │ \u001b[90mFloat64\u001b[39m │ \u001b[90mFloat64\u001b[39m  │ \u001b[90mFloat64?\u001b[39m      │\n",
       "├──────┼────────┼────────────┼─────────┼─────────┼─────────┼─────────┼─────────┼──────────┼───────────────┤\n",
       "│ 1    │ ZYXI   │ 2015-01-02 │ 100     │ 0.18    │ 0.18    │ 0.18    │ 0.18    │ 0.175245 │ \u001b[90mmissing\u001b[39m       │\n",
       "│ 2    │ ZYXI   │ 2015-01-05 │ 33200   │ 0.22    │ 0.22    │ 0.14    │ 0.16    │ 0.155774 │ -0.117783     │\n",
       "│ 3    │ ZYXI   │ 2015-01-07 │ 8100    │ 0.14    │ 0.15    │ 0.13    │ 0.15    │ 0.146038 │ -0.0645385    │\n",
       "⋮\n",
       "│ 1212 │ ZYXI   │ 2020-06-29 │ 757500  │ 22.92   │ 23.46   │ 21.94   │ 23.18   │ 23.18    │ 0.0156525     │\n",
       "│ 1213 │ ZYXI   │ 2020-06-30 │ 1054800 │ 23.05   │ 25.24   │ 22.81   │ 24.87   │ 24.87    │ 0.0703724     │\n",
       "│ 1214 │ ZYXI   │ 2020-07-01 │ 630100  │ 24.77   │ 24.85   │ 23.95   │ 24.41   │ 24.41    │ -0.0186694    │\n",
       "│ 1215 │ ZYXI   │ 2020-07-02 │ 1072200 │ 24.54   │ 26.84   │ 24.44   │ 25.12   │ 25.12    │ 0.0286715     │"
      ]
     },
     "execution_count": 38,
     "metadata": {},
     "output_type": "execute_result"
    }
   ],
   "source": [
    "gdf"
   ]
  },
  {
   "cell_type": "code",
   "execution_count": 45,
   "metadata": {},
   "outputs": [
    {
     "data": {
      "text/html": [
       "<p><b>GroupedDataFrame with 6335 groups based on key: adjclose</b></p><p><i>First Group (474 rows): adjclose = 11.739999771118164</i></p><table class=\"data-frame\"><thead><tr><th></th><th>symbol</th><th>adjclose</th><th>date</th><th>volume</th><th>open</th><th>high</th><th>low</th><th>close</th><th>close_returns</th></tr><tr><th></th><th>String</th><th>Float64</th><th>Date</th><th>Int64</th><th>Float64</th><th>Float64</th><th>Float64</th><th>Float64</th><th>Float64?</th></tr></thead><tbody><tr><th>1</th><td>AAAU</td><td>11.74</td><td>2018-08-15</td><td>27300</td><td>11.84</td><td>11.84</td><td>11.74</td><td>11.74</td><td><em>missing</em></td></tr><tr><th>2</th><td>AAAU</td><td>11.74</td><td>2018-08-16</td><td>428400</td><td>11.78</td><td>11.8</td><td>11.74</td><td>11.74</td><td>0.0</td></tr><tr><th>3</th><td>AAAU</td><td>11.82</td><td>2018-08-17</td><td>52400</td><td>11.8</td><td>11.82</td><td>11.77</td><td>11.82</td><td>0.00679119</td></tr><tr><th>4</th><td>AAAU</td><td>11.9</td><td>2018-08-20</td><td>28700</td><td>11.88</td><td>11.91</td><td>11.85</td><td>11.9</td><td>0.00674538</td></tr><tr><th>5</th><td>AAAU</td><td>11.93</td><td>2018-08-21</td><td>30600</td><td>11.92</td><td>11.95</td><td>11.89</td><td>11.93</td><td>0.00251789</td></tr><tr><th>6</th><td>AAAU</td><td>11.96</td><td>2018-08-22</td><td>101200</td><td>11.98</td><td>11.98</td><td>11.94</td><td>11.96</td><td>0.00251149</td></tr><tr><th>7</th><td>AAAU</td><td>11.85</td><td>2018-08-23</td><td>54800</td><td>11.91</td><td>11.92</td><td>11.85</td><td>11.85</td><td>-0.00923985</td></tr><tr><th>8</th><td>AAAU</td><td>12.05</td><td>2018-08-24</td><td>106500</td><td>11.97</td><td>12.08</td><td>11.96</td><td>12.05</td><td>0.0167368</td></tr><tr><th>9</th><td>AAAU</td><td>12.1</td><td>2018-08-27</td><td>295100</td><td>12.06</td><td>12.13</td><td>12.06</td><td>12.1</td><td>0.00414081</td></tr><tr><th>10</th><td>AAAU</td><td>12.01</td><td>2018-08-28</td><td>30400</td><td>12.13</td><td>12.13</td><td>12.01</td><td>12.01</td><td>-0.00746583</td></tr><tr><th>11</th><td>AAAU</td><td>12.05</td><td>2018-08-29</td><td>31800</td><td>12.06</td><td>12.06</td><td>12.03</td><td>12.05</td><td>0.00332502</td></tr><tr><th>12</th><td>AAAU</td><td>12.01</td><td>2018-08-30</td><td>804500</td><td>12.03</td><td>12.03</td><td>11.97</td><td>12.01</td><td>-0.00332502</td></tr><tr><th>13</th><td>AAAU</td><td>12.0</td><td>2018-08-31</td><td>39500</td><td>12.04</td><td>12.05</td><td>11.99</td><td>12.0</td><td>-0.000833005</td></tr><tr><th>14</th><td>AAAU</td><td>11.92</td><td>2018-09-04</td><td>6000</td><td>11.91</td><td>11.94</td><td>11.9</td><td>11.92</td><td>-0.00668898</td></tr><tr><th>15</th><td>AAAU</td><td>11.97</td><td>2018-09-05</td><td>1032800</td><td>11.98</td><td>11.98</td><td>11.96</td><td>11.97</td><td>0.00418587</td></tr><tr><th>&vellip;</th><td>&vellip;</td><td>&vellip;</td><td>&vellip;</td><td>&vellip;</td><td>&vellip;</td><td>&vellip;</td><td>&vellip;</td><td>&vellip;</td><td>&vellip;</td></tr></tbody></table><p>&vellip;</p><p><i>Last Group (1215 rows): adjclose = 0.1752452850341797</i></p><table class=\"data-frame\"><thead><tr><th></th><th>symbol</th><th>adjclose</th><th>date</th><th>volume</th><th>open</th><th>high</th><th>low</th><th>close</th><th>close_returns</th></tr><tr><th></th><th>String</th><th>Float64</th><th>Date</th><th>Int64</th><th>Float64</th><th>Float64</th><th>Float64</th><th>Float64</th><th>Float64?</th></tr></thead><tbody><tr><th>1</th><td>ZYXI</td><td>0.175245</td><td>2015-01-02</td><td>100</td><td>0.18</td><td>0.18</td><td>0.18</td><td>0.18</td><td><em>missing</em></td></tr><tr><th>2</th><td>ZYXI</td><td>0.155774</td><td>2015-01-05</td><td>33200</td><td>0.22</td><td>0.22</td><td>0.14</td><td>0.16</td><td>-0.117783</td></tr><tr><th>3</th><td>ZYXI</td><td>0.146038</td><td>2015-01-07</td><td>8100</td><td>0.14</td><td>0.15</td><td>0.13</td><td>0.15</td><td>-0.0645385</td></tr><tr><th>4</th><td>ZYXI</td><td>0.146038</td><td>2015-01-09</td><td>200</td><td>0.15</td><td>0.15</td><td>0.15</td><td>0.15</td><td>0.0</td></tr><tr><th>5</th><td>ZYXI</td><td>0.136302</td><td>2015-01-12</td><td>10000</td><td>0.14</td><td>0.14</td><td>0.14</td><td>0.14</td><td>-0.0689929</td></tr><tr><th>6</th><td>ZYXI</td><td>0.184981</td><td>2015-01-13</td><td>27800</td><td>0.14</td><td>0.19</td><td>0.14</td><td>0.19</td><td>0.305382</td></tr><tr><th>7</th><td>ZYXI</td><td>0.184981</td><td>2015-01-14</td><td>33800</td><td>0.13</td><td>0.19</td><td>0.13</td><td>0.19</td><td>0.0</td></tr><tr><th>8</th><td>ZYXI</td><td>0.175245</td><td>2015-01-16</td><td>8000</td><td>0.12</td><td>0.18</td><td>0.12</td><td>0.18</td><td>-0.0540672</td></tr><tr><th>9</th><td>ZYXI</td><td>0.175245</td><td>2015-01-20</td><td>1800</td><td>0.18</td><td>0.18</td><td>0.17</td><td>0.18</td><td>0.0</td></tr><tr><th>10</th><td>ZYXI</td><td>0.175245</td><td>2015-01-21</td><td>7800</td><td>0.13</td><td>0.18</td><td>0.12</td><td>0.18</td><td>0.0</td></tr><tr><th>11</th><td>ZYXI</td><td>0.175245</td><td>2015-01-22</td><td>5000</td><td>0.12</td><td>0.18</td><td>0.12</td><td>0.18</td><td>0.0</td></tr><tr><th>12</th><td>ZYXI</td><td>0.175245</td><td>2015-01-23</td><td>800</td><td>0.13</td><td>0.18</td><td>0.13</td><td>0.18</td><td>0.0</td></tr><tr><th>13</th><td>ZYXI</td><td>0.175245</td><td>2015-01-26</td><td>7300</td><td>0.18</td><td>0.18</td><td>0.18</td><td>0.18</td><td>0.0</td></tr><tr><th>14</th><td>ZYXI</td><td>0.175245</td><td>2015-01-27</td><td>1800</td><td>0.13</td><td>0.18</td><td>0.13</td><td>0.18</td><td>0.0</td></tr><tr><th>15</th><td>ZYXI</td><td>0.155774</td><td>2015-02-02</td><td>14000</td><td>0.16</td><td>0.16</td><td>0.16</td><td>0.16</td><td>-0.117783</td></tr><tr><th>&vellip;</th><td>&vellip;</td><td>&vellip;</td><td>&vellip;</td><td>&vellip;</td><td>&vellip;</td><td>&vellip;</td><td>&vellip;</td><td>&vellip;</td><td>&vellip;</td></tr></tbody></table>"
      ],
      "text/latex": [
       "GroupedDataFrame with 6335 groups based on key: adjclose\n",
       "\n",
       "First Group (474 rows): adjclose = 11.739999771118164\n",
       "\n",
       "\\begin{tabular}{r|ccccccccc}\n",
       "\t& symbol & adjclose & date & volume & open & high & low & close & close\\_returns\\\\\n",
       "\t\\hline\n",
       "\t& String & Float64 & Date & Int64 & Float64 & Float64 & Float64 & Float64 & Float64?\\\\\n",
       "\t\\hline\n",
       "\t1 & AAAU & 11.74 & 2018-08-15 & 27300 & 11.84 & 11.84 & 11.74 & 11.74 & \\emph{missing} \\\\\n",
       "\t2 & AAAU & 11.74 & 2018-08-16 & 428400 & 11.78 & 11.8 & 11.74 & 11.74 & 0.0 \\\\\n",
       "\t3 & AAAU & 11.82 & 2018-08-17 & 52400 & 11.8 & 11.82 & 11.77 & 11.82 & 0.00679119 \\\\\n",
       "\t4 & AAAU & 11.9 & 2018-08-20 & 28700 & 11.88 & 11.91 & 11.85 & 11.9 & 0.00674538 \\\\\n",
       "\t5 & AAAU & 11.93 & 2018-08-21 & 30600 & 11.92 & 11.95 & 11.89 & 11.93 & 0.00251789 \\\\\n",
       "\t6 & AAAU & 11.96 & 2018-08-22 & 101200 & 11.98 & 11.98 & 11.94 & 11.96 & 0.00251149 \\\\\n",
       "\t7 & AAAU & 11.85 & 2018-08-23 & 54800 & 11.91 & 11.92 & 11.85 & 11.85 & -0.00923985 \\\\\n",
       "\t8 & AAAU & 12.05 & 2018-08-24 & 106500 & 11.97 & 12.08 & 11.96 & 12.05 & 0.0167368 \\\\\n",
       "\t9 & AAAU & 12.1 & 2018-08-27 & 295100 & 12.06 & 12.13 & 12.06 & 12.1 & 0.00414081 \\\\\n",
       "\t10 & AAAU & 12.01 & 2018-08-28 & 30400 & 12.13 & 12.13 & 12.01 & 12.01 & -0.00746583 \\\\\n",
       "\t11 & AAAU & 12.05 & 2018-08-29 & 31800 & 12.06 & 12.06 & 12.03 & 12.05 & 0.00332502 \\\\\n",
       "\t12 & AAAU & 12.01 & 2018-08-30 & 804500 & 12.03 & 12.03 & 11.97 & 12.01 & -0.00332502 \\\\\n",
       "\t13 & AAAU & 12.0 & 2018-08-31 & 39500 & 12.04 & 12.05 & 11.99 & 12.0 & -0.000833005 \\\\\n",
       "\t14 & AAAU & 11.92 & 2018-09-04 & 6000 & 11.91 & 11.94 & 11.9 & 11.92 & -0.00668898 \\\\\n",
       "\t15 & AAAU & 11.97 & 2018-09-05 & 1032800 & 11.98 & 11.98 & 11.96 & 11.97 & 0.00418587 \\\\\n",
       "\t$\\dots$ & $\\dots$ & $\\dots$ & $\\dots$ & $\\dots$ & $\\dots$ & $\\dots$ & $\\dots$ & $\\dots$ & $\\dots$ \\\\\n",
       "\\end{tabular}\n",
       "\n",
       "$\\dots$\n",
       "\n",
       "Last Group (1215 rows): adjclose = 0.1752452850341797\n",
       "\n",
       "\\begin{tabular}{r|ccccccccc}\n",
       "\t& symbol & adjclose & date & volume & open & high & low & close & close\\_returns\\\\\n",
       "\t\\hline\n",
       "\t& String & Float64 & Date & Int64 & Float64 & Float64 & Float64 & Float64 & Float64?\\\\\n",
       "\t\\hline\n",
       "\t1 & ZYXI & 0.175245 & 2015-01-02 & 100 & 0.18 & 0.18 & 0.18 & 0.18 & \\emph{missing} \\\\\n",
       "\t2 & ZYXI & 0.155774 & 2015-01-05 & 33200 & 0.22 & 0.22 & 0.14 & 0.16 & -0.117783 \\\\\n",
       "\t3 & ZYXI & 0.146038 & 2015-01-07 & 8100 & 0.14 & 0.15 & 0.13 & 0.15 & -0.0645385 \\\\\n",
       "\t4 & ZYXI & 0.146038 & 2015-01-09 & 200 & 0.15 & 0.15 & 0.15 & 0.15 & 0.0 \\\\\n",
       "\t5 & ZYXI & 0.136302 & 2015-01-12 & 10000 & 0.14 & 0.14 & 0.14 & 0.14 & -0.0689929 \\\\\n",
       "\t6 & ZYXI & 0.184981 & 2015-01-13 & 27800 & 0.14 & 0.19 & 0.14 & 0.19 & 0.305382 \\\\\n",
       "\t7 & ZYXI & 0.184981 & 2015-01-14 & 33800 & 0.13 & 0.19 & 0.13 & 0.19 & 0.0 \\\\\n",
       "\t8 & ZYXI & 0.175245 & 2015-01-16 & 8000 & 0.12 & 0.18 & 0.12 & 0.18 & -0.0540672 \\\\\n",
       "\t9 & ZYXI & 0.175245 & 2015-01-20 & 1800 & 0.18 & 0.18 & 0.17 & 0.18 & 0.0 \\\\\n",
       "\t10 & ZYXI & 0.175245 & 2015-01-21 & 7800 & 0.13 & 0.18 & 0.12 & 0.18 & 0.0 \\\\\n",
       "\t11 & ZYXI & 0.175245 & 2015-01-22 & 5000 & 0.12 & 0.18 & 0.12 & 0.18 & 0.0 \\\\\n",
       "\t12 & ZYXI & 0.175245 & 2015-01-23 & 800 & 0.13 & 0.18 & 0.13 & 0.18 & 0.0 \\\\\n",
       "\t13 & ZYXI & 0.175245 & 2015-01-26 & 7300 & 0.18 & 0.18 & 0.18 & 0.18 & 0.0 \\\\\n",
       "\t14 & ZYXI & 0.175245 & 2015-01-27 & 1800 & 0.13 & 0.18 & 0.13 & 0.18 & 0.0 \\\\\n",
       "\t15 & ZYXI & 0.155774 & 2015-02-02 & 14000 & 0.16 & 0.16 & 0.16 & 0.16 & -0.117783 \\\\\n",
       "\t$\\dots$ & $\\dots$ & $\\dots$ & $\\dots$ & $\\dots$ & $\\dots$ & $\\dots$ & $\\dots$ & $\\dots$ & $\\dots$ \\\\\n",
       "\\end{tabular}\n"
      ],
      "text/plain": [
       "GroupedDataFrame with 6335 groups based on key: adjclose\n",
       "First Group (474 rows): adjclose = 11.739999771118164\n",
       "│ Row │ symbol │ adjclose │ date       │ volume │ open    │ high    │ low     │ close   │ close_returns │\n",
       "│     │ \u001b[90mString\u001b[39m │ \u001b[90mFloat64\u001b[39m  │ \u001b[90mDate\u001b[39m       │ \u001b[90mInt64\u001b[39m  │ \u001b[90mFloat64\u001b[39m │ \u001b[90mFloat64\u001b[39m │ \u001b[90mFloat64\u001b[39m │ \u001b[90mFloat64\u001b[39m │ \u001b[90mFloat64?\u001b[39m      │\n",
       "├─────┼────────┼──────────┼────────────┼────────┼─────────┼─────────┼─────────┼─────────┼───────────────┤\n",
       "│ 1   │ AAAU   │ 11.74    │ 2018-08-15 │ 27300  │ 11.84   │ 11.84   │ 11.74   │ 11.74   │ \u001b[90mmissing\u001b[39m       │\n",
       "│ 2   │ AAAU   │ 11.74    │ 2018-08-16 │ 428400 │ 11.78   │ 11.8    │ 11.74   │ 11.74   │ 0.0           │\n",
       "│ 3   │ AAAU   │ 11.82    │ 2018-08-17 │ 52400  │ 11.8    │ 11.82   │ 11.77   │ 11.82   │ 0.00679119    │\n",
       "⋮\n",
       "│ 471 │ AAAU   │ 17.68    │ 2020-06-29 │ 405500 │ 17.67   │ 17.69   │ 17.63   │ 17.68   │ 0.000565784   │\n",
       "│ 472 │ AAAU   │ 17.78    │ 2020-06-30 │ 319100 │ 17.65   │ 17.8    │ 17.61   │ 17.78   │ 0.00564019    │\n",
       "│ 473 │ AAAU   │ 17.68    │ 2020-07-01 │ 468100 │ 17.73   │ 17.73   │ 17.54   │ 17.68   │ -0.00564019   │\n",
       "│ 474 │ AAAU   │ 17.71    │ 2020-07-02 │ 257500 │ 17.64   │ 17.74   │ 17.62   │ 17.71   │ 0.00169533    │\n",
       "⋮\n",
       "Last Group (1215 rows): adjclose = 0.1752452850341797\n",
       "│ Row  │ symbol │ adjclose │ date       │ volume  │ open    │ high    │ low     │ close   │ close_returns │\n",
       "│      │ \u001b[90mString\u001b[39m │ \u001b[90mFloat64\u001b[39m  │ \u001b[90mDate\u001b[39m       │ \u001b[90mInt64\u001b[39m   │ \u001b[90mFloat64\u001b[39m │ \u001b[90mFloat64\u001b[39m │ \u001b[90mFloat64\u001b[39m │ \u001b[90mFloat64\u001b[39m │ \u001b[90mFloat64?\u001b[39m      │\n",
       "├──────┼────────┼──────────┼────────────┼─────────┼─────────┼─────────┼─────────┼─────────┼───────────────┤\n",
       "│ 1    │ ZYXI   │ 0.175245 │ 2015-01-02 │ 100     │ 0.18    │ 0.18    │ 0.18    │ 0.18    │ \u001b[90mmissing\u001b[39m       │\n",
       "│ 2    │ ZYXI   │ 0.155774 │ 2015-01-05 │ 33200   │ 0.22    │ 0.22    │ 0.14    │ 0.16    │ -0.117783     │\n",
       "│ 3    │ ZYXI   │ 0.146038 │ 2015-01-07 │ 8100    │ 0.14    │ 0.15    │ 0.13    │ 0.15    │ -0.0645385    │\n",
       "⋮\n",
       "│ 1212 │ ZYXI   │ 23.18    │ 2020-06-29 │ 757500  │ 22.92   │ 23.46   │ 21.94   │ 23.18   │ 0.0156525     │\n",
       "│ 1213 │ ZYXI   │ 24.87    │ 2020-06-30 │ 1054800 │ 23.05   │ 25.24   │ 22.81   │ 24.87   │ 0.0703724     │\n",
       "│ 1214 │ ZYXI   │ 24.41    │ 2020-07-01 │ 630100  │ 24.77   │ 24.85   │ 23.95   │ 24.41   │ -0.0186694    │\n",
       "│ 1215 │ ZYXI   │ 25.12    │ 2020-07-02 │ 1072200 │ 24.54   │ 26.84   │ 24.44   │ 25.12   │ 0.0286715     │"
      ]
     },
     "execution_count": 45,
     "metadata": {},
     "output_type": "execute_result"
    }
   ],
   "source": [
    "gdf2 = transform!(groupby(df, :symbol), :close => (x -> log.(x ./ lag(x))) => :close_returns, ungroup=false)"
   ]
  },
  {
   "cell_type": "markdown",
   "metadata": {},
   "source": [
    "#### Exercise (advanced)"
   ]
  },
  {
   "cell_type": "markdown",
   "metadata": {},
   "source": [
    "Check our codes to make sure that in each group first and only the fist element of `:close_returns` is `missing`"
   ]
  },
  {
   "cell_type": "code",
   "execution_count": null,
   "metadata": {},
   "outputs": [],
   "source": []
  },
  {
   "cell_type": "markdown",
   "metadata": {},
   "source": [
    "#### Exercises"
   ]
  },
  {
   "cell_type": "markdown",
   "metadata": {},
   "source": [
    "Check what happens if you try to broadcast a sum of a 1-row `DataFrame` with an array having multiple rows"
   ]
  },
  {
   "cell_type": "code",
   "execution_count": null,
   "metadata": {},
   "outputs": [],
   "source": []
  },
  {
   "cell_type": "markdown",
   "metadata": {},
   "source": [
    "Check what happens if you try to broadcast a sum of a 0-row `DataFrame` with an array having multiple rows"
   ]
  },
  {
   "cell_type": "code",
   "execution_count": null,
   "metadata": {},
   "outputs": [],
   "source": []
  },
  {
   "cell_type": "markdown",
   "metadata": {},
   "source": [
    "Check what happens when you try to broadcast a sum of a `DataFrame` with a 3D array."
   ]
  },
  {
   "cell_type": "code",
   "execution_count": null,
   "metadata": {},
   "outputs": [],
   "source": []
  },
  {
   "cell_type": "markdown",
   "metadata": {},
   "source": [
    "Check if broadcasting is defined for `DataFrameRow`."
   ]
  },
  {
   "cell_type": "code",
   "execution_count": null,
   "metadata": {},
   "outputs": [],
   "source": []
  }
 ],
 "metadata": {
  "@webio": {
   "lastCommId": null,
   "lastKernelId": null
  },
  "kernelspec": {
   "display_name": "Julia 1.5.0-rc1",
   "language": "julia",
   "name": "julia-1.5"
  },
  "language_info": {
   "file_extension": ".jl",
   "mimetype": "application/julia",
   "name": "julia",
   "version": "1.5.0"
  }
 },
 "nbformat": 4,
 "nbformat_minor": 2
}
