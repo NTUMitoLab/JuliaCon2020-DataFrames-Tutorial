{
 "cells": [
  {
   "cell_type": "markdown",
   "metadata": {},
   "source": [
    "# A deep dive into DataFrames.jl indexing\n",
    "# Part 1: indexing in DataFrames.jl by example\n",
    "### Bogumił Kamiński"
   ]
  },
  {
   "cell_type": "markdown",
   "metadata": {},
   "source": [
    "What are we going to cover:\n",
    "* `getindex`, a.k.a. `x[...]`\n",
    "* `setindex`, a.k.a. `x[...] =`\n",
    "* `broadcast`, a.k.a. `fun.(x)`\n",
    "* `broadcat`, a.k.a. `x .= ...`\n",
    "\n",
    "Indexable types that DataFrames.jl defines:\n",
    "* `DataFrame`\n",
    "* `SubDataFrame`\n",
    "* `DataFrameRow`\n",
    "* `DataFrameRows`\n",
    "* `DataFrameColumns`\n",
    "* `GroupedDataFrame`\n",
    "* `GroupKeys`\n",
    "* `GroupKey`\n",
    "* `StackedVector`\n",
    "* `RepeatedVector`"
   ]
  },
  {
   "cell_type": "markdown",
   "metadata": {},
   "source": [
    "### Environment setup"
   ]
  },
  {
   "cell_type": "code",
   "execution_count": 1,
   "metadata": {},
   "outputs": [],
   "source": [
    "using DataFrames"
   ]
  },
  {
   "cell_type": "code",
   "execution_count": 2,
   "metadata": {},
   "outputs": [],
   "source": [
    "using CSV"
   ]
  },
  {
   "cell_type": "code",
   "execution_count": 3,
   "metadata": {},
   "outputs": [],
   "source": [
    "using BenchmarkTools"
   ]
  },
  {
   "cell_type": "code",
   "execution_count": 4,
   "metadata": {},
   "outputs": [],
   "source": [
    "using Dates"
   ]
  },
  {
   "cell_type": "code",
   "execution_count": 5,
   "metadata": {},
   "outputs": [],
   "source": [
    "using Statistics"
   ]
  },
  {
   "cell_type": "code",
   "execution_count": 6,
   "metadata": {},
   "outputs": [
    {
     "data": {
      "text/plain": [
       "500"
      ]
     },
     "execution_count": 6,
     "metadata": {},
     "output_type": "execute_result"
    }
   ],
   "source": [
    "ENV[\"COLUMNS\"] = 500 # allow output up to 500 characters wide not to be truncated when displayed"
   ]
  },
  {
   "cell_type": "code",
   "execution_count": 7,
   "metadata": {},
   "outputs": [
    {
     "data": {
      "text/plain": [
       "15"
      ]
     },
     "execution_count": 7,
     "metadata": {},
     "output_type": "execute_result"
    }
   ],
   "source": [
    "ENV[\"LINES\"] = 15 # we do not need to see too many lines in the examples we work with"
   ]
  },
  {
   "cell_type": "code",
   "execution_count": 8,
   "metadata": {
    "scrolled": false
   },
   "outputs": [
    {
     "data": {
      "text/html": [
       "<table class=\"data-frame\"><thead><tr><th></th><th>date</th><th>volume</th><th>open</th><th>high</th><th>low</th><th>close</th><th>adjclose</th><th>symbol</th></tr><tr><th></th><th>Date</th><th>Int64</th><th>Float64</th><th>Float64</th><th>Float64</th><th>Float64</th><th>Float64</th><th>String</th></tr></thead><tbody><p>6,852,038 rows × 8 columns</p><tr><th>1</th><td>2020-07-02</td><td>257500</td><td>17.64</td><td>17.74</td><td>17.62</td><td>17.71</td><td>17.71</td><td>AAAU</td></tr><tr><th>2</th><td>2020-07-01</td><td>468100</td><td>17.73</td><td>17.73</td><td>17.54</td><td>17.68</td><td>17.68</td><td>AAAU</td></tr><tr><th>3</th><td>2020-06-30</td><td>319100</td><td>17.65</td><td>17.8</td><td>17.61</td><td>17.78</td><td>17.78</td><td>AAAU</td></tr><tr><th>4</th><td>2020-06-29</td><td>405500</td><td>17.67</td><td>17.69</td><td>17.63</td><td>17.68</td><td>17.68</td><td>AAAU</td></tr><tr><th>5</th><td>2020-06-26</td><td>335100</td><td>17.49</td><td>17.67</td><td>17.42</td><td>17.67</td><td>17.67</td><td>AAAU</td></tr><tr><th>6</th><td>2020-06-25</td><td>246800</td><td>17.6</td><td>17.6</td><td>17.52</td><td>17.59</td><td>17.59</td><td>AAAU</td></tr><tr><th>7</th><td>2020-06-24</td><td>329200</td><td>17.61</td><td>17.71</td><td>17.56</td><td>17.61</td><td>17.61</td><td>AAAU</td></tr><tr><th>8</th><td>2020-06-23</td><td>351800</td><td>17.55</td><td>17.66</td><td>17.55</td><td>17.66</td><td>17.66</td><td>AAAU</td></tr><tr><th>9</th><td>2020-06-22</td><td>308300</td><td>17.5</td><td>17.57</td><td>17.44</td><td>17.5</td><td>17.5</td><td>AAAU</td></tr><tr><th>10</th><td>2020-06-19</td><td>153800</td><td>17.27</td><td>17.4</td><td>17.26</td><td>17.4</td><td>17.4</td><td>AAAU</td></tr><tr><th>11</th><td>2020-06-18</td><td>102200</td><td>17.27</td><td>17.27</td><td>17.14</td><td>17.23</td><td>17.23</td><td>AAAU</td></tr><tr><th>12</th><td>2020-06-17</td><td>153900</td><td>17.19</td><td>17.25</td><td>17.16</td><td>17.25</td><td>17.25</td><td>AAAU</td></tr><tr><th>13</th><td>2020-06-16</td><td>165800</td><td>17.15</td><td>17.25</td><td>17.11</td><td>17.21</td><td>17.21</td><td>AAAU</td></tr><tr><th>14</th><td>2020-06-15</td><td>308700</td><td>17.03</td><td>17.23</td><td>17.0</td><td>17.2</td><td>17.2</td><td>AAAU</td></tr><tr><th>15</th><td>2020-06-12</td><td>161400</td><td>17.34</td><td>17.37</td><td>17.25</td><td>17.27</td><td>17.27</td><td>AAAU</td></tr><tr><th>&vellip;</th><td>&vellip;</td><td>&vellip;</td><td>&vellip;</td><td>&vellip;</td><td>&vellip;</td><td>&vellip;</td><td>&vellip;</td><td>&vellip;</td></tr></tbody></table>"
      ],
      "text/latex": [
       "\\begin{tabular}{r|cccccccc}\n",
       "\t& date & volume & open & high & low & close & adjclose & symbol\\\\\n",
       "\t\\hline\n",
       "\t& Date & Int64 & Float64 & Float64 & Float64 & Float64 & Float64 & String\\\\\n",
       "\t\\hline\n",
       "\t1 & 2020-07-02 & 257500 & 17.64 & 17.74 & 17.62 & 17.71 & 17.71 & AAAU \\\\\n",
       "\t2 & 2020-07-01 & 468100 & 17.73 & 17.73 & 17.54 & 17.68 & 17.68 & AAAU \\\\\n",
       "\t3 & 2020-06-30 & 319100 & 17.65 & 17.8 & 17.61 & 17.78 & 17.78 & AAAU \\\\\n",
       "\t4 & 2020-06-29 & 405500 & 17.67 & 17.69 & 17.63 & 17.68 & 17.68 & AAAU \\\\\n",
       "\t5 & 2020-06-26 & 335100 & 17.49 & 17.67 & 17.42 & 17.67 & 17.67 & AAAU \\\\\n",
       "\t6 & 2020-06-25 & 246800 & 17.6 & 17.6 & 17.52 & 17.59 & 17.59 & AAAU \\\\\n",
       "\t7 & 2020-06-24 & 329200 & 17.61 & 17.71 & 17.56 & 17.61 & 17.61 & AAAU \\\\\n",
       "\t8 & 2020-06-23 & 351800 & 17.55 & 17.66 & 17.55 & 17.66 & 17.66 & AAAU \\\\\n",
       "\t9 & 2020-06-22 & 308300 & 17.5 & 17.57 & 17.44 & 17.5 & 17.5 & AAAU \\\\\n",
       "\t10 & 2020-06-19 & 153800 & 17.27 & 17.4 & 17.26 & 17.4 & 17.4 & AAAU \\\\\n",
       "\t11 & 2020-06-18 & 102200 & 17.27 & 17.27 & 17.14 & 17.23 & 17.23 & AAAU \\\\\n",
       "\t12 & 2020-06-17 & 153900 & 17.19 & 17.25 & 17.16 & 17.25 & 17.25 & AAAU \\\\\n",
       "\t13 & 2020-06-16 & 165800 & 17.15 & 17.25 & 17.11 & 17.21 & 17.21 & AAAU \\\\\n",
       "\t14 & 2020-06-15 & 308700 & 17.03 & 17.23 & 17.0 & 17.2 & 17.2 & AAAU \\\\\n",
       "\t15 & 2020-06-12 & 161400 & 17.34 & 17.37 & 17.25 & 17.27 & 17.27 & AAAU \\\\\n",
       "\t$\\dots$ & $\\dots$ & $\\dots$ & $\\dots$ & $\\dots$ & $\\dots$ & $\\dots$ & $\\dots$ & $\\dots$ \\\\\n",
       "\\end{tabular}\n"
      ],
      "text/plain": [
       "6852038×8 DataFrame\n",
       "│ Row     │ date       │ volume │ open    │ high    │ low     │ close   │ adjclose │ symbol │\n",
       "│         │ \u001b[90mDate\u001b[39m       │ \u001b[90mInt64\u001b[39m  │ \u001b[90mFloat64\u001b[39m │ \u001b[90mFloat64\u001b[39m │ \u001b[90mFloat64\u001b[39m │ \u001b[90mFloat64\u001b[39m │ \u001b[90mFloat64\u001b[39m  │ \u001b[90mString\u001b[39m │\n",
       "├─────────┼────────────┼────────┼─────────┼─────────┼─────────┼─────────┼──────────┼────────┤\n",
       "│ 1       │ 2020-07-02 │ 257500 │ 17.64   │ 17.74   │ 17.62   │ 17.71   │ 17.71    │ AAAU   │\n",
       "│ 2       │ 2020-07-01 │ 468100 │ 17.73   │ 17.73   │ 17.54   │ 17.68   │ 17.68    │ AAAU   │\n",
       "│ 3       │ 2020-06-30 │ 319100 │ 17.65   │ 17.8    │ 17.61   │ 17.78   │ 17.78    │ AAAU   │\n",
       "⋮\n",
       "│ 6852035 │ 2015-01-09 │ 200    │ 0.15    │ 0.15    │ 0.15    │ 0.15    │ 0.146038 │ ZYXI   │\n",
       "│ 6852036 │ 2015-01-07 │ 8100   │ 0.14    │ 0.15    │ 0.13    │ 0.15    │ 0.146038 │ ZYXI   │\n",
       "│ 6852037 │ 2015-01-05 │ 33200  │ 0.22    │ 0.22    │ 0.14    │ 0.16    │ 0.155774 │ ZYXI   │\n",
       "│ 6852038 │ 2015-01-02 │ 100    │ 0.18    │ 0.18    │ 0.18    │ 0.18    │ 0.175245 │ ZYXI   │"
      ]
     },
     "execution_count": 8,
     "metadata": {},
     "output_type": "execute_result"
    }
   ],
   "source": [
    "df = CSV.File(\"fh_5yrs.csv\") |> DataFrame"
   ]
  },
  {
   "cell_type": "markdown",
   "metadata": {},
   "source": [
    "#### Warm up exercises"
   ]
  },
  {
   "cell_type": "markdown",
   "metadata": {},
   "source": [
    "*Get short description of columns in our data frame*"
   ]
  },
  {
   "cell_type": "code",
   "execution_count": null,
   "metadata": {},
   "outputs": [],
   "source": []
  },
  {
   "cell_type": "markdown",
   "metadata": {},
   "source": [
    "(see https://github.com/JuliaData/DataFrames.jl/issues/2269 for a discussion of the design decisions here, feel free to comment there if you have an opinion)"
   ]
  },
  {
   "cell_type": "markdown",
   "metadata": {},
   "source": [
    "*Get information about exact types of the columns stored in the data frame*"
   ]
  },
  {
   "cell_type": "code",
   "execution_count": null,
   "metadata": {},
   "outputs": [],
   "source": []
  },
  {
   "cell_type": "markdown",
   "metadata": {},
   "source": [
    "*Get names of columns as strings*"
   ]
  },
  {
   "cell_type": "code",
   "execution_count": null,
   "metadata": {},
   "outputs": [],
   "source": []
  },
  {
   "cell_type": "markdown",
   "metadata": {},
   "source": [
    "*Get names of columns as `Symbol`s*"
   ]
  },
  {
   "cell_type": "code",
   "execution_count": null,
   "metadata": {},
   "outputs": [],
   "source": []
  },
  {
   "cell_type": "markdown",
   "metadata": {},
   "source": [
    "## DataFrame and SubDataFrame"
   ]
  },
  {
   "cell_type": "markdown",
   "metadata": {},
   "source": [
    "### `getindex`"
   ]
  },
  {
   "cell_type": "markdown",
   "metadata": {},
   "source": [
    "Get a single column as a whole without copying"
   ]
  },
  {
   "cell_type": "code",
   "execution_count": 9,
   "metadata": {},
   "outputs": [
    {
     "data": {
      "text/plain": [
       "1-element Array{Array{Date,1},1}:\n",
       " [Date(\"2020-07-02\"), Date(\"2020-07-01\"), Date(\"2020-06-30\"), Date(\"2020-06-29\"), Date(\"2020-06-26\"), Date(\"2020-06-25\"), Date(\"2020-06-24\"), Date(\"2020-06-23\"), Date(\"2020-06-22\"), Date(\"2020-06-19\")  …  Date(\"2015-01-21\"), Date(\"2015-01-20\"), Date(\"2015-01-16\"), Date(\"2015-01-14\"), Date(\"2015-01-13\"), Date(\"2015-01-12\"), Date(\"2015-01-09\"), Date(\"2015-01-07\"), Date(\"2015-01-05\"), Date(\"2015-01-02\")]"
      ]
     },
     "execution_count": 9,
     "metadata": {},
     "output_type": "execute_result"
    }
   ],
   "source": [
    "unique([df.date,\n",
    "        df.\"date\",\n",
    "        df[!, 1],\n",
    "        df[!, :date],\n",
    "        df[!, \"date\"]])"
   ]
  },
  {
   "cell_type": "code",
   "execution_count": 10,
   "metadata": {},
   "outputs": [
    {
     "data": {
      "text/plain": [
       "1-element Array{Array{Date,1},1}:\n",
       " [Date(\"2020-07-02\"), Date(\"2020-07-01\"), Date(\"2020-06-30\"), Date(\"2020-06-29\"), Date(\"2020-06-26\"), Date(\"2020-06-25\"), Date(\"2020-06-24\"), Date(\"2020-06-23\"), Date(\"2020-06-22\"), Date(\"2020-06-19\")  …  Date(\"2015-01-21\"), Date(\"2015-01-20\"), Date(\"2015-01-16\"), Date(\"2015-01-14\"), Date(\"2015-01-13\"), Date(\"2015-01-12\"), Date(\"2015-01-09\"), Date(\"2015-01-07\"), Date(\"2015-01-05\"), Date(\"2015-01-02\")]"
      ]
     },
     "execution_count": 10,
     "metadata": {},
     "output_type": "execute_result"
    }
   ],
   "source": [
    "unique([getproperty(df, :date),\n",
    "        getproperty(df, \"date\"),\n",
    "        getindex(df, !, 1),\n",
    "        getindex(df, !, :date),\n",
    "        getindex(df,!, \"date\")])"
   ]
  },
  {
   "cell_type": "markdown",
   "metadata": {},
   "source": [
    "Get a single column as a whole with copying"
   ]
  },
  {
   "cell_type": "code",
   "execution_count": 11,
   "metadata": {},
   "outputs": [
    {
     "data": {
      "text/plain": [
       "1-element Array{Array{Date,1},1}:\n",
       " [Date(\"2020-07-02\"), Date(\"2020-07-01\"), Date(\"2020-06-30\"), Date(\"2020-06-29\"), Date(\"2020-06-26\"), Date(\"2020-06-25\"), Date(\"2020-06-24\"), Date(\"2020-06-23\"), Date(\"2020-06-22\"), Date(\"2020-06-19\")  …  Date(\"2015-01-21\"), Date(\"2015-01-20\"), Date(\"2015-01-16\"), Date(\"2015-01-14\"), Date(\"2015-01-13\"), Date(\"2015-01-12\"), Date(\"2015-01-09\"), Date(\"2015-01-07\"), Date(\"2015-01-05\"), Date(\"2015-01-02\")]"
      ]
     },
     "execution_count": 11,
     "metadata": {},
     "output_type": "execute_result"
    }
   ],
   "source": [
    "unique([copy(df.date),\n",
    "        copy(df.\"date\"),\n",
    "        df[:, 1],\n",
    "        df[:, :date],\n",
    "        df[:, \"date\"]])"
   ]
  },
  {
   "cell_type": "markdown",
   "metadata": {},
   "source": [
    "Let us compare the performance of various ways to get a column without copying"
   ]
  },
  {
   "cell_type": "code",
   "execution_count": 12,
   "metadata": {},
   "outputs": [
    {
     "name": "stdout",
     "output_type": "stream",
     "text": [
      "  13.326 ns (0 allocations: 0 bytes)\n",
      "  36.995 ns (0 allocations: 0 bytes)\n",
      "  4.599 ns (0 allocations: 0 bytes)\n",
      "  13.327 ns (0 allocations: 0 bytes)\n",
      "  36.894 ns (0 allocations: 0 bytes)\n"
     ]
    }
   ],
   "source": [
    "@btime $df.date\n",
    "@btime $df.\"date\"\n",
    "@btime $df[!, 1]\n",
    "@btime $df[!, :date]\n",
    "@btime $df[!, \"date\"];"
   ]
  },
  {
   "cell_type": "markdown",
   "metadata": {},
   "source": [
    "#### Exercise"
   ]
  },
  {
   "cell_type": "markdown",
   "metadata": {},
   "source": [
    "Check the same but with copying"
   ]
  },
  {
   "cell_type": "code",
   "execution_count": null,
   "metadata": {},
   "outputs": [],
   "source": []
  },
  {
   "cell_type": "markdown",
   "metadata": {},
   "source": [
    "Do you think it really matters in practice how fast is an access to column of a data frame?"
   ]
  },
  {
   "cell_type": "markdown",
   "metadata": {},
   "source": [
    "Let us check how lookup speed scales with the number of columns:"
   ]
  },
  {
   "cell_type": "code",
   "execution_count": 13,
   "metadata": {},
   "outputs": [
    {
     "name": "stdout",
     "output_type": "stream",
     "text": [
      "  0.069699 seconds (599.57 k allocations: 47.574 MiB)\n"
     ]
    },
    {
     "data": {
      "text/html": [
       "<table class=\"data-frame\"><thead><tr><th></th><th>x1</th><th>x2</th><th>x3</th><th>x4</th><th>x5</th><th>x6</th><th>x7</th><th>x8</th><th>x9</th><th>x10</th><th>x11</th><th>x12</th><th>x13</th><th>x14</th><th>x15</th><th>x16</th><th>x17</th><th>x18</th><th>x19</th><th>x20</th><th>x21</th><th>x22</th><th>x23</th><th>x24</th><th>x25</th><th>x26</th><th>x27</th><th>x28</th><th>x29</th><th>x30</th><th>x31</th><th>x32</th><th>x33</th><th>x34</th><th>x35</th><th>x36</th><th>x37</th><th>x38</th><th>x39</th><th>x40</th><th>x41</th><th>x42</th><th>x43</th><th>x44</th><th>x45</th><th>x46</th><th>x47</th><th>x48</th><th>x49</th><th>x50</th><th>x51</th><th>x52</th><th>x53</th><th>x54</th><th>x55</th><th>x56</th></tr><tr><th></th><th>Float64</th><th>Float64</th><th>Float64</th><th>Float64</th><th>Float64</th><th>Float64</th><th>Float64</th><th>Float64</th><th>Float64</th><th>Float64</th><th>Float64</th><th>Float64</th><th>Float64</th><th>Float64</th><th>Float64</th><th>Float64</th><th>Float64</th><th>Float64</th><th>Float64</th><th>Float64</th><th>Float64</th><th>Float64</th><th>Float64</th><th>Float64</th><th>Float64</th><th>Float64</th><th>Float64</th><th>Float64</th><th>Float64</th><th>Float64</th><th>Float64</th><th>Float64</th><th>Float64</th><th>Float64</th><th>Float64</th><th>Float64</th><th>Float64</th><th>Float64</th><th>Float64</th><th>Float64</th><th>Float64</th><th>Float64</th><th>Float64</th><th>Float64</th><th>Float64</th><th>Float64</th><th>Float64</th><th>Float64</th><th>Float64</th><th>Float64</th><th>Float64</th><th>Float64</th><th>Float64</th><th>Float64</th><th>Float64</th><th>Float64</th></tr></thead><tbody><p>1 rows × 100,000 columns (omitted printing of 99944 columns)</p><tr><th>1</th><td>1.0</td><td>1.0</td><td>1.0</td><td>1.0</td><td>1.0</td><td>1.0</td><td>1.0</td><td>1.0</td><td>1.0</td><td>1.0</td><td>1.0</td><td>1.0</td><td>1.0</td><td>1.0</td><td>1.0</td><td>1.0</td><td>1.0</td><td>1.0</td><td>1.0</td><td>1.0</td><td>1.0</td><td>1.0</td><td>1.0</td><td>1.0</td><td>1.0</td><td>1.0</td><td>1.0</td><td>1.0</td><td>1.0</td><td>1.0</td><td>1.0</td><td>1.0</td><td>1.0</td><td>1.0</td><td>1.0</td><td>1.0</td><td>1.0</td><td>1.0</td><td>1.0</td><td>1.0</td><td>1.0</td><td>1.0</td><td>1.0</td><td>1.0</td><td>1.0</td><td>1.0</td><td>1.0</td><td>1.0</td><td>1.0</td><td>1.0</td><td>1.0</td><td>1.0</td><td>1.0</td><td>1.0</td><td>1.0</td><td>1.0</td></tr></tbody></table>"
      ],
      "text/latex": [
       "\\begin{tabular}{r|ccccccccccccccccccccccccccccccccccccccccccccccccccccccccc}\n",
       "\t& x1 & x2 & x3 & x4 & x5 & x6 & x7 & x8 & x9 & x10 & x11 & x12 & x13 & x14 & x15 & x16 & x17 & x18 & x19 & x20 & x21 & x22 & x23 & x24 & x25 & x26 & x27 & x28 & x29 & x30 & x31 & x32 & x33 & x34 & x35 & x36 & x37 & x38 & x39 & x40 & x41 & x42 & x43 & x44 & x45 & x46 & x47 & x48 & x49 & x50 & x51 & x52 & x53 & x54 & x55 & x56 & \\\\\n",
       "\t\\hline\n",
       "\t& Float64 & Float64 & Float64 & Float64 & Float64 & Float64 & Float64 & Float64 & Float64 & Float64 & Float64 & Float64 & Float64 & Float64 & Float64 & Float64 & Float64 & Float64 & Float64 & Float64 & Float64 & Float64 & Float64 & Float64 & Float64 & Float64 & Float64 & Float64 & Float64 & Float64 & Float64 & Float64 & Float64 & Float64 & Float64 & Float64 & Float64 & Float64 & Float64 & Float64 & Float64 & Float64 & Float64 & Float64 & Float64 & Float64 & Float64 & Float64 & Float64 & Float64 & Float64 & Float64 & Float64 & Float64 & Float64 & Float64 & \\\\\n",
       "\t\\hline\n",
       "\t1 & 1.0 & 1.0 & 1.0 & 1.0 & 1.0 & 1.0 & 1.0 & 1.0 & 1.0 & 1.0 & 1.0 & 1.0 & 1.0 & 1.0 & 1.0 & 1.0 & 1.0 & 1.0 & 1.0 & 1.0 & 1.0 & 1.0 & 1.0 & 1.0 & 1.0 & 1.0 & 1.0 & 1.0 & 1.0 & 1.0 & 1.0 & 1.0 & 1.0 & 1.0 & 1.0 & 1.0 & 1.0 & 1.0 & 1.0 & 1.0 & 1.0 & 1.0 & 1.0 & 1.0 & 1.0 & 1.0 & 1.0 & 1.0 & 1.0 & 1.0 & 1.0 & 1.0 & 1.0 & 1.0 & 1.0 & 1.0 & $\\dots$ \\\\\n",
       "\\end{tabular}\n"
      ],
      "text/plain": [
       "1×100000 DataFrame. Omitted printing of 99951 columns\n",
       "│ Row │ x1      │ x2      │ x3      │ x4      │ x5      │ x6      │ x7      │ x8      │ x9      │ x10     │ x11     │ x12     │ x13     │ x14     │ x15     │ x16     │ x17     │ x18     │ x19     │ x20     │ x21     │ x22     │ x23     │ x24     │ x25     │ x26     │ x27     │ x28     │ x29     │ x30     │ x31     │ x32     │ x33     │ x34     │ x35     │ x36     │ x37     │ x38     │ x39     │ x40     │ x41     │ x42     │ x43     │ x44     │ x45     │ x46     │ x47     │ x48     │ x49     │\n",
       "│     │ \u001b[90mFloat64\u001b[39m │ \u001b[90mFloat64\u001b[39m │ \u001b[90mFloat64\u001b[39m │ \u001b[90mFloat64\u001b[39m │ \u001b[90mFloat64\u001b[39m │ \u001b[90mFloat64\u001b[39m │ \u001b[90mFloat64\u001b[39m │ \u001b[90mFloat64\u001b[39m │ \u001b[90mFloat64\u001b[39m │ \u001b[90mFloat64\u001b[39m │ \u001b[90mFloat64\u001b[39m │ \u001b[90mFloat64\u001b[39m │ \u001b[90mFloat64\u001b[39m │ \u001b[90mFloat64\u001b[39m │ \u001b[90mFloat64\u001b[39m │ \u001b[90mFloat64\u001b[39m │ \u001b[90mFloat64\u001b[39m │ \u001b[90mFloat64\u001b[39m │ \u001b[90mFloat64\u001b[39m │ \u001b[90mFloat64\u001b[39m │ \u001b[90mFloat64\u001b[39m │ \u001b[90mFloat64\u001b[39m │ \u001b[90mFloat64\u001b[39m │ \u001b[90mFloat64\u001b[39m │ \u001b[90mFloat64\u001b[39m │ \u001b[90mFloat64\u001b[39m │ \u001b[90mFloat64\u001b[39m │ \u001b[90mFloat64\u001b[39m │ \u001b[90mFloat64\u001b[39m │ \u001b[90mFloat64\u001b[39m │ \u001b[90mFloat64\u001b[39m │ \u001b[90mFloat64\u001b[39m │ \u001b[90mFloat64\u001b[39m │ \u001b[90mFloat64\u001b[39m │ \u001b[90mFloat64\u001b[39m │ \u001b[90mFloat64\u001b[39m │ \u001b[90mFloat64\u001b[39m │ \u001b[90mFloat64\u001b[39m │ \u001b[90mFloat64\u001b[39m │ \u001b[90mFloat64\u001b[39m │ \u001b[90mFloat64\u001b[39m │ \u001b[90mFloat64\u001b[39m │ \u001b[90mFloat64\u001b[39m │ \u001b[90mFloat64\u001b[39m │ \u001b[90mFloat64\u001b[39m │ \u001b[90mFloat64\u001b[39m │ \u001b[90mFloat64\u001b[39m │ \u001b[90mFloat64\u001b[39m │ \u001b[90mFloat64\u001b[39m │\n",
       "├─────┼─────────┼─────────┼─────────┼─────────┼─────────┼─────────┼─────────┼─────────┼─────────┼─────────┼─────────┼─────────┼─────────┼─────────┼─────────┼─────────┼─────────┼─────────┼─────────┼─────────┼─────────┼─────────┼─────────┼─────────┼─────────┼─────────┼─────────┼─────────┼─────────┼─────────┼─────────┼─────────┼─────────┼─────────┼─────────┼─────────┼─────────┼─────────┼─────────┼─────────┼─────────┼─────────┼─────────┼─────────┼─────────┼─────────┼─────────┼─────────┼─────────┤\n",
       "│ 1   │ 1.0     │ 1.0     │ 1.0     │ 1.0     │ 1.0     │ 1.0     │ 1.0     │ 1.0     │ 1.0     │ 1.0     │ 1.0     │ 1.0     │ 1.0     │ 1.0     │ 1.0     │ 1.0     │ 1.0     │ 1.0     │ 1.0     │ 1.0     │ 1.0     │ 1.0     │ 1.0     │ 1.0     │ 1.0     │ 1.0     │ 1.0     │ 1.0     │ 1.0     │ 1.0     │ 1.0     │ 1.0     │ 1.0     │ 1.0     │ 1.0     │ 1.0     │ 1.0     │ 1.0     │ 1.0     │ 1.0     │ 1.0     │ 1.0     │ 1.0     │ 1.0     │ 1.0     │ 1.0     │ 1.0     │ 1.0     │ 1.0     │"
      ]
     },
     "execution_count": 13,
     "metadata": {},
     "output_type": "execute_result"
    }
   ],
   "source": [
    "@time df_tmp = DataFrame(ones(1, 100_000))"
   ]
  },
  {
   "cell_type": "code",
   "execution_count": 14,
   "metadata": {},
   "outputs": [
    {
     "name": "stdout",
     "output_type": "stream",
     "text": [
      "  15.029 ns (0 allocations: 0 bytes)\n",
      "  50.100 ns (0 allocations: 0 bytes)\n",
      "  4.599 ns (0 allocations: 0 bytes)\n"
     ]
    }
   ],
   "source": [
    "@btime $df_tmp.x100000\n",
    "@btime $df_tmp.\"x100000\"\n",
    "@btime $df_tmp[!, 100000];"
   ]
  },
  {
   "cell_type": "markdown",
   "metadata": {},
   "source": [
    "Get a single column, but take a subset of rows: you can either make a copy or get a view"
   ]
  },
  {
   "cell_type": "code",
   "execution_count": 15,
   "metadata": {},
   "outputs": [
    {
     "data": {
      "text/plain": [
       "2-element Array{Date,1}:\n",
       " 2020-07-02\n",
       " 2020-07-01"
      ]
     },
     "execution_count": 15,
     "metadata": {},
     "output_type": "execute_result"
    }
   ],
   "source": [
    "df[1:2, :date]"
   ]
  },
  {
   "cell_type": "code",
   "execution_count": 16,
   "metadata": {},
   "outputs": [
    {
     "data": {
      "text/plain": [
       "2-element view(::Array{Date,1}, 1:2) with eltype Date:\n",
       " 2020-07-02\n",
       " 2020-07-01"
      ]
     },
     "execution_count": 16,
     "metadata": {},
     "output_type": "execute_result"
    }
   ],
   "source": [
    "view(df, 1:2, :date)"
   ]
  },
  {
   "cell_type": "markdown",
   "metadata": {},
   "source": [
    "this is the same as:"
   ]
  },
  {
   "cell_type": "code",
   "execution_count": 17,
   "metadata": {},
   "outputs": [
    {
     "data": {
      "text/plain": [
       "2-element Array{Date,1}:\n",
       " 2020-07-02\n",
       " 2020-07-01"
      ]
     },
     "execution_count": 17,
     "metadata": {},
     "output_type": "execute_result"
    }
   ],
   "source": [
    "df.date[1:2]"
   ]
  },
  {
   "cell_type": "code",
   "execution_count": 18,
   "metadata": {},
   "outputs": [
    {
     "data": {
      "text/plain": [
       "2-element view(::Array{Date,1}, 1:2) with eltype Date:\n",
       " 2020-07-02\n",
       " 2020-07-01"
      ]
     },
     "execution_count": 18,
     "metadata": {},
     "output_type": "execute_result"
    }
   ],
   "source": [
    "view(df.date, 1:2)"
   ]
  },
  {
   "cell_type": "markdown",
   "metadata": {},
   "source": [
    "you can use `Not` for inverted selection"
   ]
  },
  {
   "cell_type": "code",
   "execution_count": 19,
   "metadata": {},
   "outputs": [
    {
     "data": {
      "text/plain": [
       "2-element Array{Date,1}:\n",
       " 2020-07-02\n",
       " 2020-07-01"
      ]
     },
     "execution_count": 19,
     "metadata": {},
     "output_type": "execute_result"
    }
   ],
   "source": [
    "df[Not(3:end), :date]"
   ]
  },
  {
   "cell_type": "markdown",
   "metadata": {},
   "source": [
    "Get a single cell in a data frame: you can either get a value or a view"
   ]
  },
  {
   "cell_type": "code",
   "execution_count": 20,
   "metadata": {},
   "outputs": [
    {
     "data": {
      "text/plain": [
       "2020-07-02"
      ]
     },
     "execution_count": 20,
     "metadata": {},
     "output_type": "execute_result"
    }
   ],
   "source": [
    "df[1, :date]"
   ]
  },
  {
   "cell_type": "code",
   "execution_count": 21,
   "metadata": {},
   "outputs": [
    {
     "data": {
      "text/plain": [
       "0-dimensional view(::Array{Date,1}, 1) with eltype Date:\n",
       "Date(\"2020-07-02\")"
      ]
     },
     "execution_count": 21,
     "metadata": {},
     "output_type": "execute_result"
    }
   ],
   "source": [
    "view(df, 1, :date)"
   ]
  },
  {
   "cell_type": "markdown",
   "metadata": {},
   "source": [
    "#### Exercise"
   ]
  },
  {
   "cell_type": "markdown",
   "metadata": {},
   "source": [
    "In what case you might want to use a view instead of getting a value?"
   ]
  },
  {
   "cell_type": "markdown",
   "metadata": {},
   "source": [
    "Check what is the consequence of running the following lines:"
   ]
  },
  {
   "cell_type": "code",
   "execution_count": 22,
   "metadata": {},
   "outputs": [
    {
     "data": {
      "text/plain": [
       "0-dimensional view(::Array{Date,1}, 1) with eltype Date:\n",
       "Date(\"2020-07-02\")"
      ]
     },
     "execution_count": 22,
     "metadata": {},
     "output_type": "execute_result"
    }
   ],
   "source": [
    "tmp_cell = view(df, 1, :date)"
   ]
  },
  {
   "cell_type": "code",
   "execution_count": 23,
   "metadata": {},
   "outputs": [
    {
     "data": {
      "text/plain": [
       "2020-07-02"
      ]
     },
     "execution_count": 23,
     "metadata": {},
     "output_type": "execute_result"
    }
   ],
   "source": [
    "tmp_cell2 = getindex(df, 1, :date)"
   ]
  },
  {
   "cell_type": "code",
   "execution_count": 24,
   "metadata": {},
   "outputs": [
    {
     "data": {
      "text/plain": [
       "2222-07-02"
      ]
     },
     "execution_count": 24,
     "metadata": {},
     "output_type": "execute_result"
    }
   ],
   "source": [
    "tmp_cell[] = Date(\"2222-07-02\")"
   ]
  },
  {
   "cell_type": "code",
   "execution_count": null,
   "metadata": {},
   "outputs": [],
   "source": []
  },
  {
   "cell_type": "markdown",
   "metadata": {},
   "source": [
    "Revert the change we have just made"
   ]
  },
  {
   "cell_type": "markdown",
   "metadata": {},
   "source": [
    "To conclude note that with `view` there is not difference between `!` and `:`:"
   ]
  },
  {
   "cell_type": "code",
   "execution_count": 25,
   "metadata": {},
   "outputs": [
    {
     "data": {
      "text/plain": [
       "6852038-element view(::Array{Date,1}, :) with eltype Date:\n",
       " 2222-07-02\n",
       " 2020-07-01\n",
       " 2020-06-30\n",
       " 2020-06-29\n",
       " 2020-06-26\n",
       " ⋮\n",
       " 2015-01-12\n",
       " 2015-01-09\n",
       " 2015-01-07\n",
       " 2015-01-05\n",
       " 2015-01-02"
      ]
     },
     "execution_count": 25,
     "metadata": {},
     "output_type": "execute_result"
    }
   ],
   "source": [
    "@view df[!, 1]"
   ]
  },
  {
   "cell_type": "code",
   "execution_count": 26,
   "metadata": {},
   "outputs": [
    {
     "data": {
      "text/plain": [
       "6852038-element view(::Array{Date,1}, :) with eltype Date:\n",
       " 2222-07-02\n",
       " 2020-07-01\n",
       " 2020-06-30\n",
       " 2020-06-29\n",
       " 2020-06-26\n",
       " ⋮\n",
       " 2015-01-12\n",
       " 2015-01-09\n",
       " 2015-01-07\n",
       " 2015-01-05\n",
       " 2015-01-02"
      ]
     },
     "execution_count": 26,
     "metadata": {},
     "output_type": "execute_result"
    }
   ],
   "source": [
    "@view df[:, 1]"
   ]
  },
  {
   "cell_type": "markdown",
   "metadata": {},
   "source": [
    "Summary:\n",
    "\n",
    "> passing a single column as an integer, `Symbol` or string drops one dimension of\n",
    "> a data frame and allows you to select or subset a column from it"
   ]
  },
  {
   "cell_type": "markdown",
   "metadata": {},
   "source": [
    "Multiple column selection options:\n",
    "* a vector of `Symbol` (does not have to be a subtype of `AbstractVector{Symbol}`);\n",
    "* a vector of `AbstractString` (does not have to be a subtype of `AbstractVector{<:AbstractString}`);\n",
    "* a vector of `Integer` other than `Bool` (does not have to be a subtype of `AbstractVector{<:Integer}`);\n",
    "* a vector of `Bool` that has to be a subtype of `AbstractVector{Bool}`;\n",
    "* a regular expression, which gets expanded to a vector of matching column names;\n",
    "* a `Not` expression;\n",
    "* an `All` or `Between` expression;\n",
    "* a colon literal :."
   ]
  },
  {
   "cell_type": "markdown",
   "metadata": {},
   "source": [
    "The type of output depends on the row selecor:\n",
    "* if it is a single row you get a `DataFrameRow` (a dimension is dropped)\n",
    "* if it is a collection of rows you get a data frame"
   ]
  },
  {
   "cell_type": "markdown",
   "metadata": {},
   "source": [
    "Single row selection is always a view that is `DataFrameRow`:"
   ]
  },
  {
   "cell_type": "code",
   "execution_count": 27,
   "metadata": {},
   "outputs": [
    {
     "data": {
      "text/html": [
       "<p>DataFrameRow (1 columns)</p><table class=\"data-frame\"><thead><tr><th></th><th>date</th></tr><tr><th></th><th>Date</th></tr></thead><tbody><tr><th>1</th><td>2222-07-02</td></tr></tbody></table>"
      ],
      "text/latex": [
       "\\begin{tabular}{r|c}\n",
       "\t& date\\\\\n",
       "\t\\hline\n",
       "\t& Date\\\\\n",
       "\t\\hline\n",
       "\t1 & 2222-07-02 \\\\\n",
       "\\end{tabular}\n"
      ],
      "text/plain": [
       "DataFrameRow\n",
       "│ Row │ date       │\n",
       "│     │ \u001b[90mDate\u001b[39m       │\n",
       "├─────┼────────────┤\n",
       "│ 1   │ 2222-07-02 │"
      ]
     },
     "execution_count": 27,
     "metadata": {},
     "output_type": "execute_result"
    }
   ],
   "source": [
    "df[1, [:date]]"
   ]
  },
  {
   "cell_type": "code",
   "execution_count": 28,
   "metadata": {},
   "outputs": [
    {
     "data": {
      "text/html": [
       "<p>DataFrameRow (1 columns)</p><table class=\"data-frame\"><thead><tr><th></th><th>date</th></tr><tr><th></th><th>Date</th></tr></thead><tbody><tr><th>1</th><td>2222-07-02</td></tr></tbody></table>"
      ],
      "text/latex": [
       "\\begin{tabular}{r|c}\n",
       "\t& date\\\\\n",
       "\t\\hline\n",
       "\t& Date\\\\\n",
       "\t\\hline\n",
       "\t1 & 2222-07-02 \\\\\n",
       "\\end{tabular}\n"
      ],
      "text/plain": [
       "DataFrameRow\n",
       "│ Row │ date       │\n",
       "│     │ \u001b[90mDate\u001b[39m       │\n",
       "├─────┼────────────┤\n",
       "│ 1   │ 2222-07-02 │"
      ]
     },
     "execution_count": 28,
     "metadata": {},
     "output_type": "execute_result"
    }
   ],
   "source": [
    "@view df[1, [:date]]"
   ]
  },
  {
   "cell_type": "markdown",
   "metadata": {},
   "source": [
    "Multiple row selection is a `DataFrame` for `getindex`:"
   ]
  },
  {
   "cell_type": "code",
   "execution_count": 29,
   "metadata": {},
   "outputs": [
    {
     "data": {
      "text/html": [
       "<table class=\"data-frame\"><thead><tr><th></th><th>date</th><th>volume</th></tr><tr><th></th><th>Date</th><th>Int64</th></tr></thead><tbody><p>2 rows × 2 columns</p><tr><th>1</th><td>2222-07-02</td><td>257500</td></tr><tr><th>2</th><td>2020-07-01</td><td>468100</td></tr></tbody></table>"
      ],
      "text/latex": [
       "\\begin{tabular}{r|cc}\n",
       "\t& date & volume\\\\\n",
       "\t\\hline\n",
       "\t& Date & Int64\\\\\n",
       "\t\\hline\n",
       "\t1 & 2222-07-02 & 257500 \\\\\n",
       "\t2 & 2020-07-01 & 468100 \\\\\n",
       "\\end{tabular}\n"
      ],
      "text/plain": [
       "2×2 DataFrame\n",
       "│ Row │ date       │ volume │\n",
       "│     │ \u001b[90mDate\u001b[39m       │ \u001b[90mInt64\u001b[39m  │\n",
       "├─────┼────────────┼────────┤\n",
       "│ 1   │ 2222-07-02 │ 257500 │\n",
       "│ 2   │ 2020-07-01 │ 468100 │"
      ]
     },
     "execution_count": 29,
     "metadata": {},
     "output_type": "execute_result"
    }
   ],
   "source": [
    "df[1:2, 1:2]"
   ]
  },
  {
   "cell_type": "code",
   "execution_count": 30,
   "metadata": {},
   "outputs": [
    {
     "data": {
      "text/html": [
       "<table class=\"data-frame\"><thead><tr><th></th><th>date</th><th>volume</th></tr><tr><th></th><th>Date</th><th>Int64</th></tr></thead><tbody><p>6,852,038 rows × 2 columns</p><tr><th>1</th><td>2222-07-02</td><td>257500</td></tr><tr><th>2</th><td>2020-07-01</td><td>468100</td></tr><tr><th>3</th><td>2020-06-30</td><td>319100</td></tr><tr><th>4</th><td>2020-06-29</td><td>405500</td></tr><tr><th>5</th><td>2020-06-26</td><td>335100</td></tr><tr><th>6</th><td>2020-06-25</td><td>246800</td></tr><tr><th>7</th><td>2020-06-24</td><td>329200</td></tr><tr><th>8</th><td>2020-06-23</td><td>351800</td></tr><tr><th>9</th><td>2020-06-22</td><td>308300</td></tr><tr><th>10</th><td>2020-06-19</td><td>153800</td></tr><tr><th>11</th><td>2020-06-18</td><td>102200</td></tr><tr><th>12</th><td>2020-06-17</td><td>153900</td></tr><tr><th>13</th><td>2020-06-16</td><td>165800</td></tr><tr><th>14</th><td>2020-06-15</td><td>308700</td></tr><tr><th>15</th><td>2020-06-12</td><td>161400</td></tr><tr><th>&vellip;</th><td>&vellip;</td><td>&vellip;</td></tr></tbody></table>"
      ],
      "text/latex": [
       "\\begin{tabular}{r|cc}\n",
       "\t& date & volume\\\\\n",
       "\t\\hline\n",
       "\t& Date & Int64\\\\\n",
       "\t\\hline\n",
       "\t1 & 2222-07-02 & 257500 \\\\\n",
       "\t2 & 2020-07-01 & 468100 \\\\\n",
       "\t3 & 2020-06-30 & 319100 \\\\\n",
       "\t4 & 2020-06-29 & 405500 \\\\\n",
       "\t5 & 2020-06-26 & 335100 \\\\\n",
       "\t6 & 2020-06-25 & 246800 \\\\\n",
       "\t7 & 2020-06-24 & 329200 \\\\\n",
       "\t8 & 2020-06-23 & 351800 \\\\\n",
       "\t9 & 2020-06-22 & 308300 \\\\\n",
       "\t10 & 2020-06-19 & 153800 \\\\\n",
       "\t11 & 2020-06-18 & 102200 \\\\\n",
       "\t12 & 2020-06-17 & 153900 \\\\\n",
       "\t13 & 2020-06-16 & 165800 \\\\\n",
       "\t14 & 2020-06-15 & 308700 \\\\\n",
       "\t15 & 2020-06-12 & 161400 \\\\\n",
       "\t$\\dots$ & $\\dots$ & $\\dots$ \\\\\n",
       "\\end{tabular}\n"
      ],
      "text/plain": [
       "6852038×2 DataFrame\n",
       "│ Row     │ date       │ volume │\n",
       "│         │ \u001b[90mDate\u001b[39m       │ \u001b[90mInt64\u001b[39m  │\n",
       "├─────────┼────────────┼────────┤\n",
       "│ 1       │ 2222-07-02 │ 257500 │\n",
       "│ 2       │ 2020-07-01 │ 468100 │\n",
       "│ 3       │ 2020-06-30 │ 319100 │\n",
       "⋮\n",
       "│ 6852035 │ 2015-01-09 │ 200    │\n",
       "│ 6852036 │ 2015-01-07 │ 8100   │\n",
       "│ 6852037 │ 2015-01-05 │ 33200  │\n",
       "│ 6852038 │ 2015-01-02 │ 100    │"
      ]
     },
     "execution_count": 30,
     "metadata": {},
     "output_type": "execute_result"
    }
   ],
   "source": [
    "df2 = df[!, 1:2] # this does not copy columns"
   ]
  },
  {
   "cell_type": "code",
   "execution_count": 31,
   "metadata": {},
   "outputs": [
    {
     "data": {
      "text/plain": [
       "true"
      ]
     },
     "execution_count": 31,
     "metadata": {},
     "output_type": "execute_result"
    }
   ],
   "source": [
    "df2.date === df.date"
   ]
  },
  {
   "cell_type": "markdown",
   "metadata": {},
   "source": [
    "Using `view` creates a `SubDataFrame`"
   ]
  },
  {
   "cell_type": "code",
   "execution_count": 32,
   "metadata": {},
   "outputs": [
    {
     "data": {
      "text/html": [
       "<table class=\"data-frame\"><thead><tr><th></th><th>date</th><th>volume</th></tr><tr><th></th><th>Date</th><th>Int64</th></tr></thead><tbody><p>2 rows × 2 columns</p><tr><th>1</th><td>2222-07-02</td><td>257500</td></tr><tr><th>2</th><td>2020-07-01</td><td>468100</td></tr></tbody></table>"
      ],
      "text/latex": [
       "\\begin{tabular}{r|cc}\n",
       "\t& date & volume\\\\\n",
       "\t\\hline\n",
       "\t& Date & Int64\\\\\n",
       "\t\\hline\n",
       "\t1 & 2222-07-02 & 257500 \\\\\n",
       "\t2 & 2020-07-01 & 468100 \\\\\n",
       "\\end{tabular}\n"
      ],
      "text/plain": [
       "2×2 SubDataFrame\n",
       "│ Row │ date       │ volume │\n",
       "│     │ \u001b[90mDate\u001b[39m       │ \u001b[90mInt64\u001b[39m  │\n",
       "├─────┼────────────┼────────┤\n",
       "│ 1   │ 2222-07-02 │ 257500 │\n",
       "│ 2   │ 2020-07-01 │ 468100 │"
      ]
     },
     "execution_count": 32,
     "metadata": {},
     "output_type": "execute_result"
    }
   ],
   "source": [
    "df3 = view(df, 1:2, 1:2)"
   ]
  },
  {
   "cell_type": "code",
   "execution_count": 33,
   "metadata": {},
   "outputs": [
    {
     "data": {
      "text/plain": [
       "SubDataFrame{DataFrame,DataFrames.SubIndex{DataFrames.Index,UnitRange{Int64},UnitRange{Int64}},UnitRange{Int64}}"
      ]
     },
     "execution_count": 33,
     "metadata": {},
     "output_type": "execute_result"
    }
   ],
   "source": [
    "typeof(df3)"
   ]
  },
  {
   "cell_type": "markdown",
   "metadata": {},
   "source": [
    "For `view` using `:` and `!` gives you the same result:"
   ]
  },
  {
   "cell_type": "code",
   "execution_count": 34,
   "metadata": {},
   "outputs": [
    {
     "name": "stdout",
     "output_type": "stream",
     "text": [
      "SubDataFrame{DataFrame,DataFrames.Index,Base.OneTo{Int64}}\n",
      "  parent: DataFrame\n",
      "    columns: Array{AbstractArray{T,1} where T}((8,))\n",
      "      1: Array{Date}((6852038,))\n",
      "        1: Date\n",
      "          instant: Dates.UTInstant{Day}\n",
      "            periods: Day\n",
      "              value: Int64 811386\n",
      "        2: Date\n",
      "          instant: Dates.UTInstant{Day}\n",
      "            periods: Day\n",
      "              value: Int64 737607\n",
      "        3: Date\n",
      "          instant: Dates.UTInstant{Day}\n",
      "            periods: Day\n",
      "              value: Int64 737606\n",
      "        4: Date\n",
      "          instant: Dates.UTInstant{Day}\n",
      "            periods: Day\n",
      "              value: Int64 737605\n",
      "        5: Date\n",
      "          instant: Dates.UTInstant{Day}\n",
      "            periods: Day\n",
      "              value: Int64 737602\n",
      "        ...\n",
      "        6852034: Date\n",
      "          instant: Dates.UTInstant{Day}\n",
      "            periods: Day\n",
      "              value: Int64 735610\n",
      "        6852035: Date\n",
      "          instant: Dates.UTInstant{Day}\n",
      "            periods: Day\n",
      "              value: Int64 735607\n",
      "        6852036: Date\n",
      "          instant: Dates.UTInstant{Day}\n",
      "            periods: Day\n",
      "              value: Int64 735605\n",
      "        6852037: Date\n",
      "          instant: Dates.UTInstant{Day}\n",
      "            periods: Day\n",
      "              value: Int64 735603\n",
      "        6852038: Date\n",
      "          instant: Dates.UTInstant{Day}\n",
      "            periods: Day\n",
      "              value: Int64 735600\n",
      "      2: Array{Int64}((6852038,)) [257500, 468100, 319100, 405500, 335100, 246800, 329200, 351800, 308300, 153800  …  7800, 1800, 8000, 33800, 27800, 10000, 200, 8100, 33200, 100]\n",
      "      3: Array{Float64}((6852038,)) [17.639999389648438, 17.729999542236328, 17.649999618530273, 17.670000076293945, 17.489999771118164, 17.600000381469727, 17.610000610351562, 17.549999237060547, 17.5, 17.270000457763672  …  0.12999999523162842, 0.18000000715255735, 0.119999997317791, 0.12999999523162842, 0.14000000059604645, 0.14000000059604645, 0.15000000596046448, 0.14000000059604645, 0.2199999988079071, 0.18000000715255735]\n",
      "      4: Array{Float64}((6852038,)) [17.739999771118164, 17.729999542236328, 17.799999237060547, 17.690000534057614, 17.670000076293945, 17.600000381469727, 17.709999084472656, 17.65999984741211, 17.569999694824222, 17.399999618530273  …  0.18000000715255735, 0.18000000715255735, 0.18000000715255735, 0.1899999976158142, 0.1899999976158142, 0.14000000059604645, 0.15000000596046448, 0.15000000596046448, 0.2199999988079071, 0.18000000715255735]\n",
      "      5: Array{Float64}((6852038,)) [17.6200008392334, 17.540000915527347, 17.610000610351562, 17.6299991607666, 17.420000076293945, 17.520000457763672, 17.559999465942386, 17.549999237060547, 17.440000534057614, 17.260000228881836  …  0.119999997317791, 0.17000000178813934, 0.119999997317791, 0.12999999523162842, 0.14000000059604645, 0.14000000059604645, 0.15000000596046448, 0.12999999523162842, 0.14000000059604645, 0.18000000715255735]\n",
      "      6: Array{Float64}((6852038,)) [17.709999084472656, 17.68000030517578, 17.780000686645508, 17.68000030517578, 17.670000076293945, 17.59000015258789, 17.610000610351562, 17.65999984741211, 17.5, 17.399999618530273  …  0.18000000715255735, 0.18000000715255735, 0.18000000715255735, 0.1899999976158142, 0.1899999976158142, 0.14000000059604645, 0.15000000596046448, 0.15000000596046448, 0.1599999964237213, 0.18000000715255735]\n",
      "      7: Array{Float64}((6852038,)) [17.709999084472656, 17.68000030517578, 17.780000686645508, 17.68000030517578, 17.670000076293945, 17.59000015258789, 17.610000610351562, 17.65999984741211, 17.5, 17.399999618530273  …  0.1752452850341797, 0.1752452850341797, 0.1752452850341797, 0.1849811226129532, 0.1849811226129532, 0.1363018900156021, 0.1460377424955368, 0.1460377424955368, 0.1557735800743103, 0.1752452850341797]\n",
      "      8: PooledArrays.PooledArray{String,UInt32,1,Array{UInt32,1}}\n",
      "        refs: Array{UInt32}((6852038,)) UInt32[0x00000001, 0x00000001, 0x00000001, 0x00000001, 0x00000001, 0x00000001, 0x00000001, 0x00000001, 0x00000001, 0x00000001  …  0x000018bf, 0x000018bf, 0x000018bf, 0x000018bf, 0x000018bf, 0x000018bf, 0x000018bf, 0x000018bf, 0x000018bf, 0x000018bf]\n",
      "        pool: Array{String}((6335,))\n",
      "          1: String \"AAAU\"\n",
      "          2: String \"AACG\"\n",
      "          3: String \"AADR\"\n",
      "          4: String \"AAL\"\n",
      "          5: String \"AAMC\"\n",
      "          ...\n",
      "          6331: String \"ZUO\"\n",
      "          6332: String \"ZVO\"\n",
      "          6333: String \"ZYME\"\n",
      "          6334: String \"ZYNE\"\n",
      "          6335: String \"ZYXI\"\n",
      "        invpool: Dict{String,UInt32}\n",
      "          slots: Array{UInt8}((16384,)) UInt8[0x01, 0x01, 0x00, 0x01, 0x00, 0x00, 0x01, 0x00, 0x00, 0x01  …  0x00, 0x00, 0x00, 0x00, 0x00, 0x01, 0x00, 0x00, 0x00, 0x01]\n",
      "          keys: Array{String}((16384,))\n",
      "            1: String \"IEMG\"\n",
      "            2: String \"NSYS\"\n",
      "            3: #undef\n",
      "            4: String \"STKS\"\n",
      "            5: #undef\n",
      "            ...\n",
      "            16380: String \"TORC\"\n",
      "            16381: #undef\n",
      "            16382: #undef\n",
      "            16383: #undef\n",
      "            16384: String \"TPR\"\n",
      "          vals: Array{UInt32}((16384,)) UInt32[0x00000b34, 0x00000fa9, 0x00000001, 0x000014f5, 0x32a8e836, 0x00000000, 0x000011be, 0x00000000, 0x32a8e836, 0x00000990  …  0x00000000, 0x00000000, 0x00000000, 0x00000000, 0x00000000, 0x000015f2, 0x00000000, 0x00000000, 0x00000000, 0x00001600]\n",
      "          ndel: Int64 0\n",
      "          count: Int64 6335\n",
      "          age: UInt64 0x00000000000018c4\n",
      "          idxfloor: Int64 1\n",
      "          maxprobe: Int64 10\n",
      "    colindex: DataFrames.Index\n",
      "      lookup: Dict{Symbol,Int64}\n",
      "        slots: Array{UInt8}((16,)) UInt8[0x01, 0x01, 0x01, 0x00, 0x01, 0x00, 0x00, 0x00, 0x01, 0x01, 0x00, 0x00, 0x01, 0x00, 0x00, 0x01]\n",
      "        keys: Array{Symbol}((16,))\n",
      "          1: Symbol symbol\n",
      "          2: Symbol volume\n",
      "          3: Symbol adjclose\n",
      "          4: #undef\n",
      "          5: Symbol high\n",
      "          ...\n",
      "          12: #undef\n",
      "          13: Symbol date\n",
      "          14: #undef\n",
      "          15: #undef\n",
      "          16: Symbol close\n",
      "        vals: Array{Int64}((16,)) [8, 2, 7, 0, 4, 0, 0, 0, 3, 5, 0, 0, 1, 0, 0, 6]\n",
      "        ndel: Int64 0\n",
      "        count: Int64 8\n",
      "        age: UInt64 0x0000000000000008\n",
      "        idxfloor: Int64 1\n",
      "        maxprobe: Int64 1\n",
      "      names: Array{Symbol}((8,))\n",
      "        1: Symbol date\n",
      "        2: Symbol volume\n",
      "        3: Symbol open\n",
      "        4: Symbol high\n",
      "        5: Symbol low\n",
      "        6: Symbol close\n",
      "        7: Symbol adjclose\n",
      "        8: Symbol symbol\n",
      "  colindex: DataFrames.Index\n",
      "    lookup: Dict{Symbol,Int64}\n",
      "      slots: Array{UInt8}((16,)) UInt8[0x01, 0x01, 0x01, 0x00, 0x01, 0x00, 0x00, 0x00, 0x01, 0x01, 0x00, 0x00, 0x01, 0x00, 0x00, 0x01]\n",
      "      keys: Array{Symbol}((16,))\n",
      "        1: Symbol symbol\n",
      "        2: Symbol volume\n",
      "        3: Symbol adjclose\n",
      "        4: #undef\n",
      "        5: Symbol high\n",
      "        ...\n",
      "        12: #undef\n",
      "        13: Symbol date\n",
      "        14: #undef\n",
      "        15: #undef\n",
      "        16: Symbol close\n",
      "      vals: Array{Int64}((16,)) [8, 2, 7, 0, 4, 0, 0, 0, 3, 5, 0, 0, 1, 0, 0, 6]\n",
      "      ndel: Int64 0\n",
      "      count: Int64 8\n",
      "      age: UInt64 0x0000000000000008\n",
      "      idxfloor: Int64 1\n",
      "      maxprobe: Int64 1\n",
      "    names: Array{Symbol}((8,))\n",
      "      1: Symbol date\n",
      "      2: Symbol volume\n",
      "      3: Symbol open\n",
      "      4: Symbol high\n",
      "      5: Symbol low\n",
      "      6: Symbol close\n",
      "      7: Symbol adjclose\n",
      "      8: Symbol symbol\n",
      "  rows: Base.OneTo{Int64}\n",
      "    stop: Int64 6852038\n"
     ]
    }
   ],
   "source": [
    "dump(view(df, !, :))"
   ]
  },
  {
   "cell_type": "code",
   "execution_count": 35,
   "metadata": {},
   "outputs": [
    {
     "name": "stdout",
     "output_type": "stream",
     "text": [
      "SubDataFrame{DataFrame,DataFrames.Index,Base.OneTo{Int64}}\n",
      "  parent: DataFrame\n",
      "    columns: Array{AbstractArray{T,1} where T}((8,))\n",
      "      1: Array{Date}((6852038,))\n",
      "        1: Date\n",
      "          instant: Dates.UTInstant{Day}\n",
      "            periods: Day\n",
      "              value: Int64 811386\n",
      "        2: Date\n",
      "          instant: Dates.UTInstant{Day}\n",
      "            periods: Day\n",
      "              value: Int64 737607\n",
      "        3: Date\n",
      "          instant: Dates.UTInstant{Day}\n",
      "            periods: Day\n",
      "              value: Int64 737606\n",
      "        4: Date\n",
      "          instant: Dates.UTInstant{Day}\n",
      "            periods: Day\n",
      "              value: Int64 737605\n",
      "        5: Date\n",
      "          instant: Dates.UTInstant{Day}\n",
      "            periods: Day\n",
      "              value: Int64 737602\n",
      "        ...\n",
      "        6852034: Date\n",
      "          instant: Dates.UTInstant{Day}\n",
      "            periods: Day\n",
      "              value: Int64 735610\n",
      "        6852035: Date\n",
      "          instant: Dates.UTInstant{Day}\n",
      "            periods: Day\n",
      "              value: Int64 735607\n",
      "        6852036: Date\n",
      "          instant: Dates.UTInstant{Day}\n",
      "            periods: Day\n",
      "              value: Int64 735605\n",
      "        6852037: Date\n",
      "          instant: Dates.UTInstant{Day}\n",
      "            periods: Day\n",
      "              value: Int64 735603\n",
      "        6852038: Date\n",
      "          instant: Dates.UTInstant{Day}\n",
      "            periods: Day\n",
      "              value: Int64 735600\n",
      "      2: Array{Int64}((6852038,)) [257500, 468100, 319100, 405500, 335100, 246800, 329200, 351800, 308300, 153800  …  7800, 1800, 8000, 33800, 27800, 10000, 200, 8100, 33200, 100]\n",
      "      3: Array{Float64}((6852038,)) [17.639999389648438, 17.729999542236328, 17.649999618530273, 17.670000076293945, 17.489999771118164, 17.600000381469727, 17.610000610351562, 17.549999237060547, 17.5, 17.270000457763672  …  0.12999999523162842, 0.18000000715255735, 0.119999997317791, 0.12999999523162842, 0.14000000059604645, 0.14000000059604645, 0.15000000596046448, 0.14000000059604645, 0.2199999988079071, 0.18000000715255735]\n",
      "      4: Array{Float64}((6852038,)) [17.739999771118164, 17.729999542236328, 17.799999237060547, 17.690000534057614, 17.670000076293945, 17.600000381469727, 17.709999084472656, 17.65999984741211, 17.569999694824222, 17.399999618530273  …  0.18000000715255735, 0.18000000715255735, 0.18000000715255735, 0.1899999976158142, 0.1899999976158142, 0.14000000059604645, 0.15000000596046448, 0.15000000596046448, 0.2199999988079071, 0.18000000715255735]\n",
      "      5: Array{Float64}((6852038,)) [17.6200008392334, 17.540000915527347, 17.610000610351562, 17.6299991607666, 17.420000076293945, 17.520000457763672, 17.559999465942386, 17.549999237060547, 17.440000534057614, 17.260000228881836  …  0.119999997317791, 0.17000000178813934, 0.119999997317791, 0.12999999523162842, 0.14000000059604645, 0.14000000059604645, 0.15000000596046448, 0.12999999523162842, 0.14000000059604645, 0.18000000715255735]\n",
      "      6: Array{Float64}((6852038,)) [17.709999084472656, 17.68000030517578, 17.780000686645508, 17.68000030517578, 17.670000076293945, 17.59000015258789, 17.610000610351562, 17.65999984741211, 17.5, 17.399999618530273  …  0.18000000715255735, 0.18000000715255735, 0.18000000715255735, 0.1899999976158142, 0.1899999976158142, 0.14000000059604645, 0.15000000596046448, 0.15000000596046448, 0.1599999964237213, 0.18000000715255735]\n",
      "      7: Array{Float64}((6852038,)) [17.709999084472656, 17.68000030517578, 17.780000686645508, 17.68000030517578, 17.670000076293945, 17.59000015258789, 17.610000610351562, 17.65999984741211, 17.5, 17.399999618530273  …  0.1752452850341797, 0.1752452850341797, 0.1752452850341797, 0.1849811226129532, 0.1849811226129532, 0.1363018900156021, 0.1460377424955368, 0.1460377424955368, 0.1557735800743103, 0.1752452850341797]\n",
      "      8: PooledArrays.PooledArray{String,UInt32,1,Array{UInt32,1}}\n",
      "        refs: Array{UInt32}((6852038,)) UInt32[0x00000001, 0x00000001, 0x00000001, 0x00000001, 0x00000001, 0x00000001, 0x00000001, 0x00000001, 0x00000001, 0x00000001  …  0x000018bf, 0x000018bf, 0x000018bf, 0x000018bf, 0x000018bf, 0x000018bf, 0x000018bf, 0x000018bf, 0x000018bf, 0x000018bf]\n",
      "        pool: Array{String}((6335,))\n",
      "          1: String \"AAAU\"\n",
      "          2: String \"AACG\"\n",
      "          3: String \"AADR\"\n",
      "          4: String \"AAL\"\n",
      "          5: String \"AAMC\"\n",
      "          ...\n",
      "          6331: String \"ZUO\"\n",
      "          6332: String \"ZVO\"\n",
      "          6333: String \"ZYME\"\n",
      "          6334: String \"ZYNE\"\n",
      "          6335: String \"ZYXI\"\n",
      "        invpool: Dict{String,UInt32}\n",
      "          slots: Array{UInt8}((16384,)) UInt8[0x01, 0x01, 0x00, 0x01, 0x00, 0x00, 0x01, 0x00, 0x00, 0x01  …  0x00, 0x00, 0x00, 0x00, 0x00, 0x01, 0x00, 0x00, 0x00, 0x01]\n",
      "          keys: Array{String}((16384,))\n",
      "            1: String \"IEMG\"\n",
      "            2: String \"NSYS\"\n",
      "            3: #undef\n",
      "            4: String \"STKS\"\n",
      "            5: #undef\n",
      "            ...\n",
      "            16380: String \"TORC\"\n",
      "            16381: #undef\n",
      "            16382: #undef\n",
      "            16383: #undef\n",
      "            16384: String \"TPR\"\n",
      "          vals: Array{UInt32}((16384,)) UInt32[0x00000b34, 0x00000fa9, 0x00000001, 0x000014f5, 0x32a8e836, 0x00000000, 0x000011be, 0x00000000, 0x32a8e836, 0x00000990  …  0x00000000, 0x00000000, 0x00000000, 0x00000000, 0x00000000, 0x000015f2, 0x00000000, 0x00000000, 0x00000000, 0x00001600]\n",
      "          ndel: Int64 0\n",
      "          count: Int64 6335\n",
      "          age: UInt64 0x00000000000018c4\n",
      "          idxfloor: Int64 1\n",
      "          maxprobe: Int64 10\n",
      "    colindex: DataFrames.Index\n",
      "      lookup: Dict{Symbol,Int64}\n",
      "        slots: Array{UInt8}((16,)) UInt8[0x01, 0x01, 0x01, 0x00, 0x01, 0x00, 0x00, 0x00, 0x01, 0x01, 0x00, 0x00, 0x01, 0x00, 0x00, 0x01]\n",
      "        keys: Array{Symbol}((16,))\n",
      "          1: Symbol symbol\n",
      "          2: Symbol volume\n",
      "          3: Symbol adjclose\n",
      "          4: #undef\n",
      "          5: Symbol high\n",
      "          ...\n",
      "          12: #undef\n",
      "          13: Symbol date\n",
      "          14: #undef\n",
      "          15: #undef\n",
      "          16: Symbol close\n",
      "        vals: Array{Int64}((16,)) [8, 2, 7, 0, 4, 0, 0, 0, 3, 5, 0, 0, 1, 0, 0, 6]\n",
      "        ndel: Int64 0\n",
      "        count: Int64 8\n",
      "        age: UInt64 0x0000000000000008\n",
      "        idxfloor: Int64 1\n",
      "        maxprobe: Int64 1\n",
      "      names: Array{Symbol}((8,))\n",
      "        1: Symbol date\n",
      "        2: Symbol volume\n",
      "        3: Symbol open\n",
      "        4: Symbol high\n",
      "        5: Symbol low\n",
      "        6: Symbol close\n",
      "        7: Symbol adjclose\n",
      "        8: Symbol symbol\n",
      "  colindex: DataFrames.Index\n",
      "    lookup: Dict{Symbol,Int64}\n",
      "      slots: Array{UInt8}((16,)) UInt8[0x01, 0x01, 0x01, 0x00, 0x01, 0x00, 0x00, 0x00, 0x01, 0x01, 0x00, 0x00, 0x01, 0x00, 0x00, 0x01]\n",
      "      keys: Array{Symbol}((16,))\n",
      "        1: Symbol symbol\n",
      "        2: Symbol volume\n",
      "        3: Symbol adjclose\n",
      "        4: #undef\n",
      "        5: Symbol high\n",
      "        ...\n",
      "        12: #undef\n",
      "        13: Symbol date\n",
      "        14: #undef\n",
      "        15: #undef\n",
      "        16: Symbol close\n",
      "      vals: Array{Int64}((16,)) [8, 2, 7, 0, 4, 0, 0, 0, 3, 5, 0, 0, 1, 0, 0, 6]\n",
      "      ndel: Int64 0\n",
      "      count: Int64 8\n",
      "      age: UInt64 0x0000000000000008\n",
      "      idxfloor: Int64 1\n",
      "      maxprobe: Int64 1\n",
      "    names: Array{Symbol}((8,))\n",
      "      1: Symbol date\n",
      "      2: Symbol volume\n",
      "      3: Symbol open\n",
      "      4: Symbol high\n",
      "      5: Symbol low\n",
      "      6: Symbol close\n",
      "      7: Symbol adjclose\n",
      "      8: Symbol symbol\n",
      "  rows: Base.OneTo{Int64}\n",
      "    stop: Int64 6852038\n"
     ]
    }
   ],
   "source": [
    "dump(view(df, :, :))"
   ]
  },
  {
   "cell_type": "markdown",
   "metadata": {},
   "source": [
    "Normally when you modify the parent of a `SubDataFrame` (or `DataFrameRow`) you may get an error when trying to access it:"
   ]
  },
  {
   "cell_type": "code",
   "execution_count": 36,
   "metadata": {},
   "outputs": [
    {
     "data": {
      "text/html": [
       "<table class=\"data-frame\"><thead><tr><th></th><th>x1</th><th>x2</th><th>x3</th><th>x4</th></tr><tr><th></th><th>Int64</th><th>Int64</th><th>Int64</th><th>Int64</th></tr></thead><tbody><p>3 rows × 4 columns</p><tr><th>1</th><td>1</td><td>4</td><td>7</td><td>10</td></tr><tr><th>2</th><td>2</td><td>5</td><td>8</td><td>11</td></tr><tr><th>3</th><td>3</td><td>6</td><td>9</td><td>12</td></tr></tbody></table>"
      ],
      "text/latex": [
       "\\begin{tabular}{r|cccc}\n",
       "\t& x1 & x2 & x3 & x4\\\\\n",
       "\t\\hline\n",
       "\t& Int64 & Int64 & Int64 & Int64\\\\\n",
       "\t\\hline\n",
       "\t1 & 1 & 4 & 7 & 10 \\\\\n",
       "\t2 & 2 & 5 & 8 & 11 \\\\\n",
       "\t3 & 3 & 6 & 9 & 12 \\\\\n",
       "\\end{tabular}\n"
      ],
      "text/plain": [
       "3×4 DataFrame\n",
       "│ Row │ x1    │ x2    │ x3    │ x4    │\n",
       "│     │ \u001b[90mInt64\u001b[39m │ \u001b[90mInt64\u001b[39m │ \u001b[90mInt64\u001b[39m │ \u001b[90mInt64\u001b[39m │\n",
       "├─────┼───────┼───────┼───────┼───────┤\n",
       "│ 1   │ 1     │ 4     │ 7     │ 10    │\n",
       "│ 2   │ 2     │ 5     │ 8     │ 11    │\n",
       "│ 3   │ 3     │ 6     │ 9     │ 12    │"
      ]
     },
     "execution_count": 36,
     "metadata": {},
     "output_type": "execute_result"
    }
   ],
   "source": [
    "df4 = DataFrame(reshape(1:12, 3, 4))"
   ]
  },
  {
   "cell_type": "code",
   "execution_count": 37,
   "metadata": {},
   "outputs": [
    {
     "data": {
      "text/html": [
       "<table class=\"data-frame\"><thead><tr><th></th><th>x1</th><th>x2</th><th>x3</th></tr><tr><th></th><th>Int64</th><th>Int64</th><th>Int64</th></tr></thead><tbody><p>2 rows × 3 columns</p><tr><th>1</th><td>1</td><td>4</td><td>7</td></tr><tr><th>2</th><td>2</td><td>5</td><td>8</td></tr></tbody></table>"
      ],
      "text/latex": [
       "\\begin{tabular}{r|ccc}\n",
       "\t& x1 & x2 & x3\\\\\n",
       "\t\\hline\n",
       "\t& Int64 & Int64 & Int64\\\\\n",
       "\t\\hline\n",
       "\t1 & 1 & 4 & 7 \\\\\n",
       "\t2 & 2 & 5 & 8 \\\\\n",
       "\\end{tabular}\n"
      ],
      "text/plain": [
       "2×3 SubDataFrame\n",
       "│ Row │ x1    │ x2    │ x3    │\n",
       "│     │ \u001b[90mInt64\u001b[39m │ \u001b[90mInt64\u001b[39m │ \u001b[90mInt64\u001b[39m │\n",
       "├─────┼───────┼───────┼───────┤\n",
       "│ 1   │ 1     │ 4     │ 7     │\n",
       "│ 2   │ 2     │ 5     │ 8     │"
      ]
     },
     "execution_count": 37,
     "metadata": {},
     "output_type": "execute_result"
    }
   ],
   "source": [
    "df4_v = view(df4, 1:2, 1:3)"
   ]
  },
  {
   "cell_type": "code",
   "execution_count": 38,
   "metadata": {},
   "outputs": [
    {
     "data": {
      "text/html": [
       "<table class=\"data-frame\"><thead><tr><th></th><th>x1</th></tr><tr><th></th><th>Int64</th></tr></thead><tbody><p>3 rows × 1 columns</p><tr><th>1</th><td>1</td></tr><tr><th>2</th><td>2</td></tr><tr><th>3</th><td>3</td></tr></tbody></table>"
      ],
      "text/latex": [
       "\\begin{tabular}{r|c}\n",
       "\t& x1\\\\\n",
       "\t\\hline\n",
       "\t& Int64\\\\\n",
       "\t\\hline\n",
       "\t1 & 1 \\\\\n",
       "\t2 & 2 \\\\\n",
       "\t3 & 3 \\\\\n",
       "\\end{tabular}\n"
      ],
      "text/plain": [
       "3×1 DataFrame\n",
       "│ Row │ x1    │\n",
       "│     │ \u001b[90mInt64\u001b[39m │\n",
       "├─────┼───────┤\n",
       "│ 1   │ 1     │\n",
       "│ 2   │ 2     │\n",
       "│ 3   │ 3     │"
      ]
     },
     "execution_count": 38,
     "metadata": {},
     "output_type": "execute_result"
    }
   ],
   "source": [
    "select!(df4, 1)"
   ]
  },
  {
   "cell_type": "code",
   "execution_count": 39,
   "metadata": {},
   "outputs": [
    {
     "ename": "BoundsError",
     "evalue": "BoundsError: attempt to access 1-element Array{Symbol,1} at index [1:3]",
     "output_type": "error",
     "traceback": [
      "BoundsError: attempt to access 1-element Array{Symbol,1} at index [1:3]",
      "",
      "Stacktrace:",
      " [1] throw_boundserror(::Array{Symbol,1}, ::Tuple{UnitRange{Int64}}) at .\\abstractarray.jl:537",
      " [2] checkbounds at .\\abstractarray.jl:502 [inlined]",
      " [3] view at .\\subarray.jl:155 [inlined]",
      " [4] _names at D:\\AppData\\.julia\\packages\\DataFrames\\htZzm\\src\\other\\index.jl:422 [inlined]",
      " [5] _names at D:\\AppData\\.julia\\packages\\DataFrames\\htZzm\\src\\abstractdataframe\\abstractdataframe.jl:87 [inlined]",
      " [6] propertynames at D:\\AppData\\.julia\\packages\\DataFrames\\htZzm\\src\\abstractdataframe\\abstractdataframe.jl:355 [inlined] (repeats 2 times)",
      " [7] propertynames at D:\\AppData\\.julia\\packages\\DataFrames\\htZzm\\src\\abstractdataframe\\iteration.jl:183 [inlined] (repeats 2 times)",
      " [8] keys at D:\\AppData\\.julia\\packages\\DataFrames\\htZzm\\src\\abstractdataframe\\iteration.jl:191 [inlined]",
      " [9] pairs at D:\\AppData\\.julia\\packages\\DataFrames\\htZzm\\src\\abstractdataframe\\iteration.jl:200 [inlined]",
      " [10] getmaxwidths(::SubDataFrame{DataFrame,DataFrames.SubIndex{DataFrames.Index,UnitRange{Int64},UnitRange{Int64}},UnitRange{Int64}}, ::IOContext{Base.GenericIOBuffer{Array{UInt8,1}}}, ::UnitRange{Int64}, ::UnitRange{Int64}, ::Symbol, ::Nothing, ::Bool, ::Base.GenericIOBuffer{Array{UInt8,1}}) at D:\\AppData\\.julia\\packages\\DataFrames\\htZzm\\src\\abstractdataframe\\show.jl:168",
      " [11] _show(::IOContext{Base.GenericIOBuffer{Array{UInt8,1}}}, ::SubDataFrame{DataFrame,DataFrames.SubIndex{DataFrames.Index,UnitRange{Int64},UnitRange{Int64}},UnitRange{Int64}}; allrows::Bool, allcols::Bool, splitcols::Bool, rowlabel::Symbol, summary::Bool, eltypes::Bool, rowid::Nothing) at D:\\AppData\\.julia\\packages\\DataFrames\\htZzm\\src\\abstractdataframe\\show.jl:588",
      " [12] #show#445 at D:\\AppData\\.julia\\packages\\DataFrames\\htZzm\\src\\abstractdataframe\\show.jl:665 [inlined]",
      " [13] show(::IOContext{Base.GenericIOBuffer{Array{UInt8,1}}}, ::MIME{Symbol(\"text/plain\")}, ::SubDataFrame{DataFrame,DataFrames.SubIndex{DataFrames.Index,UnitRange{Int64},UnitRange{Int64}},UnitRange{Int64}}; allrows::Bool, allcols::Bool, splitcols::Bool, rowlabel::Symbol, summary::Bool, eltypes::Bool) at D:\\AppData\\.julia\\packages\\DataFrames\\htZzm\\src\\abstractdataframe\\io.jl:56",
      " [14] show(::IOContext{Base.GenericIOBuffer{Array{UInt8,1}}}, ::MIME{Symbol(\"text/plain\")}, ::SubDataFrame{DataFrame,DataFrames.SubIndex{DataFrames.Index,UnitRange{Int64},UnitRange{Int64}},UnitRange{Int64}}) at D:\\AppData\\.julia\\packages\\DataFrames\\htZzm\\src\\abstractdataframe\\io.jl:56",
      " [15] limitstringmime(::MIME{Symbol(\"text/plain\")}, ::SubDataFrame{DataFrame,DataFrames.SubIndex{DataFrames.Index,UnitRange{Int64},UnitRange{Int64}},UnitRange{Int64}}) at D:\\AppData\\.julia\\packages\\IJulia\\DrVMH\\src\\inline.jl:43",
      " [16] display_mimestring(::MIME{Symbol(\"text/plain\")}, ::SubDataFrame{DataFrame,DataFrames.SubIndex{DataFrames.Index,UnitRange{Int64},UnitRange{Int64}},UnitRange{Int64}}) at D:\\AppData\\.julia\\packages\\IJulia\\DrVMH\\src\\display.jl:67",
      " [17] display_dict(::SubDataFrame{DataFrame,DataFrames.SubIndex{DataFrames.Index,UnitRange{Int64},UnitRange{Int64}},UnitRange{Int64}}) at D:\\AppData\\.julia\\packages\\IJulia\\DrVMH\\src\\display.jl:96",
      " [18] #invokelatest#1 at .\\essentials.jl:710 [inlined]",
      " [19] invokelatest at .\\essentials.jl:709 [inlined]",
      " [20] execute_request(::ZMQ.Socket, ::IJulia.Msg) at D:\\AppData\\.julia\\packages\\IJulia\\DrVMH\\src\\execute_request.jl:112",
      " [21] #invokelatest#1 at .\\essentials.jl:710 [inlined]",
      " [22] invokelatest at .\\essentials.jl:709 [inlined]",
      " [23] eventloop(::ZMQ.Socket) at D:\\AppData\\.julia\\packages\\IJulia\\DrVMH\\src\\eventloop.jl:8",
      " [24] (::IJulia.var\"#15#18\")() at .\\task.jl:356"
     ]
    }
   ],
   "source": [
    "df4_v"
   ]
  },
  {
   "cell_type": "markdown",
   "metadata": {},
   "source": [
    "A special case is when you use `:` as a column selection with a `view`. In this case the `SubDataFrame` and `DataFrameRow` always get updated with the changed columns:"
   ]
  },
  {
   "cell_type": "code",
   "execution_count": 40,
   "metadata": {},
   "outputs": [
    {
     "data": {
      "text/html": [
       "<table class=\"data-frame\"><thead><tr><th></th><th>x1</th><th>x2</th><th>x3</th><th>x4</th></tr><tr><th></th><th>Int64</th><th>Int64</th><th>Int64</th><th>Int64</th></tr></thead><tbody><p>3 rows × 4 columns</p><tr><th>1</th><td>1</td><td>4</td><td>7</td><td>10</td></tr><tr><th>2</th><td>2</td><td>5</td><td>8</td><td>11</td></tr><tr><th>3</th><td>3</td><td>6</td><td>9</td><td>12</td></tr></tbody></table>"
      ],
      "text/latex": [
       "\\begin{tabular}{r|cccc}\n",
       "\t& x1 & x2 & x3 & x4\\\\\n",
       "\t\\hline\n",
       "\t& Int64 & Int64 & Int64 & Int64\\\\\n",
       "\t\\hline\n",
       "\t1 & 1 & 4 & 7 & 10 \\\\\n",
       "\t2 & 2 & 5 & 8 & 11 \\\\\n",
       "\t3 & 3 & 6 & 9 & 12 \\\\\n",
       "\\end{tabular}\n"
      ],
      "text/plain": [
       "3×4 DataFrame\n",
       "│ Row │ x1    │ x2    │ x3    │ x4    │\n",
       "│     │ \u001b[90mInt64\u001b[39m │ \u001b[90mInt64\u001b[39m │ \u001b[90mInt64\u001b[39m │ \u001b[90mInt64\u001b[39m │\n",
       "├─────┼───────┼───────┼───────┼───────┤\n",
       "│ 1   │ 1     │ 4     │ 7     │ 10    │\n",
       "│ 2   │ 2     │ 5     │ 8     │ 11    │\n",
       "│ 3   │ 3     │ 6     │ 9     │ 12    │"
      ]
     },
     "execution_count": 40,
     "metadata": {},
     "output_type": "execute_result"
    }
   ],
   "source": [
    "df4 = DataFrame(reshape(1:12, 3, 4))"
   ]
  },
  {
   "cell_type": "code",
   "execution_count": 41,
   "metadata": {},
   "outputs": [
    {
     "data": {
      "text/html": [
       "<table class=\"data-frame\"><thead><tr><th></th><th>x1</th><th>x2</th><th>x3</th><th>x4</th></tr><tr><th></th><th>Int64</th><th>Int64</th><th>Int64</th><th>Int64</th></tr></thead><tbody><p>2 rows × 4 columns</p><tr><th>1</th><td>1</td><td>4</td><td>7</td><td>10</td></tr><tr><th>2</th><td>2</td><td>5</td><td>8</td><td>11</td></tr></tbody></table>"
      ],
      "text/latex": [
       "\\begin{tabular}{r|cccc}\n",
       "\t& x1 & x2 & x3 & x4\\\\\n",
       "\t\\hline\n",
       "\t& Int64 & Int64 & Int64 & Int64\\\\\n",
       "\t\\hline\n",
       "\t1 & 1 & 4 & 7 & 10 \\\\\n",
       "\t2 & 2 & 5 & 8 & 11 \\\\\n",
       "\\end{tabular}\n"
      ],
      "text/plain": [
       "2×4 SubDataFrame\n",
       "│ Row │ x1    │ x2    │ x3    │ x4    │\n",
       "│     │ \u001b[90mInt64\u001b[39m │ \u001b[90mInt64\u001b[39m │ \u001b[90mInt64\u001b[39m │ \u001b[90mInt64\u001b[39m │\n",
       "├─────┼───────┼───────┼───────┼───────┤\n",
       "│ 1   │ 1     │ 4     │ 7     │ 10    │\n",
       "│ 2   │ 2     │ 5     │ 8     │ 11    │"
      ]
     },
     "execution_count": 41,
     "metadata": {},
     "output_type": "execute_result"
    }
   ],
   "source": [
    "df4_v = view(df4, 1:2, :)"
   ]
  },
  {
   "cell_type": "code",
   "execution_count": 42,
   "metadata": {},
   "outputs": [
    {
     "data": {
      "text/html": [
       "<table class=\"data-frame\"><thead><tr><th></th><th>x1</th><th>newcol</th></tr><tr><th></th><th>Int64</th><th>Int64</th></tr></thead><tbody><p>3 rows × 2 columns</p><tr><th>1</th><td>1</td><td>4</td></tr><tr><th>2</th><td>2</td><td>5</td></tr><tr><th>3</th><td>3</td><td>6</td></tr></tbody></table>"
      ],
      "text/latex": [
       "\\begin{tabular}{r|cc}\n",
       "\t& x1 & newcol\\\\\n",
       "\t\\hline\n",
       "\t& Int64 & Int64\\\\\n",
       "\t\\hline\n",
       "\t1 & 1 & 4 \\\\\n",
       "\t2 & 2 & 5 \\\\\n",
       "\t3 & 3 & 6 \\\\\n",
       "\\end{tabular}\n"
      ],
      "text/plain": [
       "3×2 DataFrame\n",
       "│ Row │ x1    │ newcol │\n",
       "│     │ \u001b[90mInt64\u001b[39m │ \u001b[90mInt64\u001b[39m  │\n",
       "├─────┼───────┼────────┤\n",
       "│ 1   │ 1     │ 4      │\n",
       "│ 2   │ 2     │ 5      │\n",
       "│ 3   │ 3     │ 6      │"
      ]
     },
     "execution_count": 42,
     "metadata": {},
     "output_type": "execute_result"
    }
   ],
   "source": [
    "select!(df4, 1, :x2 => :newcol)"
   ]
  },
  {
   "cell_type": "code",
   "execution_count": 43,
   "metadata": {},
   "outputs": [
    {
     "data": {
      "text/html": [
       "<table class=\"data-frame\"><thead><tr><th></th><th>x1</th><th>newcol</th></tr><tr><th></th><th>Int64</th><th>Int64</th></tr></thead><tbody><p>2 rows × 2 columns</p><tr><th>1</th><td>1</td><td>4</td></tr><tr><th>2</th><td>2</td><td>5</td></tr></tbody></table>"
      ],
      "text/latex": [
       "\\begin{tabular}{r|cc}\n",
       "\t& x1 & newcol\\\\\n",
       "\t\\hline\n",
       "\t& Int64 & Int64\\\\\n",
       "\t\\hline\n",
       "\t1 & 1 & 4 \\\\\n",
       "\t2 & 2 & 5 \\\\\n",
       "\\end{tabular}\n"
      ],
      "text/plain": [
       "2×2 SubDataFrame\n",
       "│ Row │ x1    │ newcol │\n",
       "│     │ \u001b[90mInt64\u001b[39m │ \u001b[90mInt64\u001b[39m  │\n",
       "├─────┼───────┼────────┤\n",
       "│ 1   │ 1     │ 4      │\n",
       "│ 2   │ 2     │ 5      │"
      ]
     },
     "execution_count": 43,
     "metadata": {},
     "output_type": "execute_result"
    }
   ],
   "source": [
    "df4_v"
   ]
  },
  {
   "cell_type": "markdown",
   "metadata": {},
   "source": [
    "The reason for this behavior is that subsetting of a data frame by only rows (and taking all columns) is very common, and in this case we can create and index such views much faster. In particular `DataFrameRow`s produced by `eachrow` are efficient this way:"
   ]
  },
  {
   "cell_type": "code",
   "execution_count": 44,
   "metadata": {},
   "outputs": [
    {
     "name": "stdout",
     "output_type": "stream",
     "text": [
      "  1.033 s (34259693 allocations: 522.76 MiB)\n"
     ]
    },
    {
     "data": {
      "text/plain": [
       "298.08612911254846"
      ]
     },
     "execution_count": 44,
     "metadata": {},
     "output_type": "execute_result"
    }
   ],
   "source": [
    "@btime mean(x -> x.open, eachrow(df))"
   ]
  },
  {
   "cell_type": "code",
   "execution_count": 45,
   "metadata": {},
   "outputs": [
    {
     "name": "stdout",
     "output_type": "stream",
     "text": [
      "  1.276 s (41111214 allocations: 627.31 MiB)\n"
     ]
    },
    {
     "data": {
      "text/plain": [
       "298.08612911254846"
      ]
     },
     "execution_count": 45,
     "metadata": {},
     "output_type": "execute_result"
    }
   ],
   "source": [
    "@btime mean(i -> df[i, :open], 1:nrow(df))"
   ]
  },
  {
   "cell_type": "markdown",
   "metadata": {},
   "source": [
    "Of course, type-stable operation would be faster (but sometimes processing data row-wise is more convenient):"
   ]
  },
  {
   "cell_type": "code",
   "execution_count": 46,
   "metadata": {},
   "outputs": [
    {
     "name": "stdout",
     "output_type": "stream",
     "text": [
      "  2.980 ms (1 allocation: 16 bytes)\n"
     ]
    },
    {
     "data": {
      "text/plain": [
       "298.08612911254846"
      ]
     },
     "execution_count": 46,
     "metadata": {},
     "output_type": "execute_result"
    }
   ],
   "source": [
    "@btime mean(df.open)"
   ]
  },
  {
   "cell_type": "markdown",
   "metadata": {},
   "source": [
    "or, if your table is not very wide (so that you are not penalized by the compilation cost of `NamedTuple`) you can use:"
   ]
  },
  {
   "cell_type": "code",
   "execution_count": 47,
   "metadata": {},
   "outputs": [
    {
     "name": "stdout",
     "output_type": "stream",
     "text": [
      "  10.506 ms (18 allocations: 1.31 KiB)\n"
     ]
    },
    {
     "data": {
      "text/plain": [
       "298.0861291125547"
      ]
     },
     "execution_count": 47,
     "metadata": {},
     "output_type": "execute_result"
    }
   ],
   "source": [
    "@btime mean(x -> x.open, Tables.namedtupleiterator(df))"
   ]
  },
  {
   "cell_type": "markdown",
   "metadata": {},
   "source": [
    "Note though that `DataFrameRow` allows you to modify the source data frame, while iterating `NamedTuple`s is read-only (more on `setindex!` later)."
   ]
  }
 ],
 "metadata": {
  "@webio": {
   "lastCommId": null,
   "lastKernelId": null
  },
  "kernelspec": {
   "display_name": "Julia 1.5.0-rc1",
   "language": "julia",
   "name": "julia-1.5"
  },
  "language_info": {
   "file_extension": ".jl",
   "mimetype": "application/julia",
   "name": "julia",
   "version": "1.5.0"
  }
 },
 "nbformat": 4,
 "nbformat_minor": 2
}
