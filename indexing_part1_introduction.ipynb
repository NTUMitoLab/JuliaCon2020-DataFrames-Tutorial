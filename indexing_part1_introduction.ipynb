{
 "cells": [
  {
   "cell_type": "markdown",
   "metadata": {},
   "source": [
    "# A deep dive into DataFrames.jl indexing\n",
    "# Part 1: indexing in DataFrames.jl by example\n",
    "### Bogumił Kamiński"
   ]
  },
  {
   "cell_type": "markdown",
   "metadata": {},
   "source": [
    "What are we going to cover:\n",
    "* `getindex`, a.k.a. `x[...]`\n",
    "* `setindex`, a.k.a. `x[...] =`\n",
    "* `broadcast`, a.k.a. `fun.(x)`\n",
    "* `broadcat`, a.k.a. `x .= ...`\n",
    "\n",
    "Indexable types that DataFrames.jl defines:\n",
    "* `DataFrame`\n",
    "* `SubDataFrame`\n",
    "* `DataFrameRow`\n",
    "* `DataFrameRows`\n",
    "* `DataFrameColumns`\n",
    "* `GroupedDataFrame`\n",
    "* `GroupKeys`\n",
    "* `GroupKey`\n",
    "* `StackedVector`\n",
    "* `RepeatedVector`"
   ]
  },
  {
   "cell_type": "markdown",
   "metadata": {},
   "source": [
    "### Environment setup"
   ]
  },
  {
   "cell_type": "code",
   "execution_count": 1,
   "metadata": {},
   "outputs": [],
   "source": [
    "using DataFrames"
   ]
  },
  {
   "cell_type": "code",
   "execution_count": 2,
   "metadata": {},
   "outputs": [],
   "source": [
    "using CSV"
   ]
  },
  {
   "cell_type": "code",
   "execution_count": 20,
   "metadata": {},
   "outputs": [
    {
     "name": "stderr",
     "output_type": "stream",
     "text": [
      "┌ Info: Precompiling BenchmarkTools [6e4b80f9-dd63-53aa-95a3-0cdb28fa8baf]\n",
      "└ @ Base loading.jl:1278\n"
     ]
    }
   ],
   "source": [
    "using BenchmarkTools"
   ]
  },
  {
   "cell_type": "code",
   "execution_count": 25,
   "metadata": {},
   "outputs": [],
   "source": [
    "using Dates"
   ]
  },
  {
   "cell_type": "code",
   "execution_count": 3,
   "metadata": {},
   "outputs": [
    {
     "data": {
      "text/plain": [
       "500"
      ]
     },
     "execution_count": 3,
     "metadata": {},
     "output_type": "execute_result"
    }
   ],
   "source": [
    "ENV[\"COLUMNS\"] = 500 # allow output up to 500 characters wide not to be truncated when displayed"
   ]
  },
  {
   "cell_type": "code",
   "execution_count": 15,
   "metadata": {},
   "outputs": [
    {
     "data": {
      "text/plain": [
       "15"
      ]
     },
     "execution_count": 15,
     "metadata": {},
     "output_type": "execute_result"
    }
   ],
   "source": [
    "ENV[\"LINES\"] = 15 # we do not need to see too many lines in the examples we work with"
   ]
  },
  {
   "cell_type": "code",
   "execution_count": 16,
   "metadata": {
    "scrolled": false
   },
   "outputs": [
    {
     "data": {
      "text/html": [
       "<table class=\"data-frame\"><thead><tr><th></th><th>date</th><th>volume</th><th>open</th><th>high</th><th>low</th><th>close</th><th>adjclose</th><th>symbol</th></tr><tr><th></th><th>Date…</th><th>Int64</th><th>Float64</th><th>Float64</th><th>Float64</th><th>Float64</th><th>Float64</th><th>String</th></tr></thead><tbody><p>6,852,038 rows × 8 columns</p><tr><th>1</th><td>2020-07-02</td><td>257500</td><td>17.64</td><td>17.74</td><td>17.62</td><td>17.71</td><td>17.71</td><td>AAAU</td></tr><tr><th>2</th><td>2020-07-01</td><td>468100</td><td>17.73</td><td>17.73</td><td>17.54</td><td>17.68</td><td>17.68</td><td>AAAU</td></tr><tr><th>3</th><td>2020-06-30</td><td>319100</td><td>17.65</td><td>17.8</td><td>17.61</td><td>17.78</td><td>17.78</td><td>AAAU</td></tr><tr><th>4</th><td>2020-06-29</td><td>405500</td><td>17.67</td><td>17.69</td><td>17.63</td><td>17.68</td><td>17.68</td><td>AAAU</td></tr><tr><th>5</th><td>2020-06-26</td><td>335100</td><td>17.49</td><td>17.67</td><td>17.42</td><td>17.67</td><td>17.67</td><td>AAAU</td></tr><tr><th>6</th><td>2020-06-25</td><td>246800</td><td>17.6</td><td>17.6</td><td>17.52</td><td>17.59</td><td>17.59</td><td>AAAU</td></tr><tr><th>7</th><td>2020-06-24</td><td>329200</td><td>17.61</td><td>17.71</td><td>17.56</td><td>17.61</td><td>17.61</td><td>AAAU</td></tr><tr><th>8</th><td>2020-06-23</td><td>351800</td><td>17.55</td><td>17.66</td><td>17.55</td><td>17.66</td><td>17.66</td><td>AAAU</td></tr><tr><th>9</th><td>2020-06-22</td><td>308300</td><td>17.5</td><td>17.57</td><td>17.44</td><td>17.5</td><td>17.5</td><td>AAAU</td></tr><tr><th>10</th><td>2020-06-19</td><td>153800</td><td>17.27</td><td>17.4</td><td>17.26</td><td>17.4</td><td>17.4</td><td>AAAU</td></tr><tr><th>11</th><td>2020-06-18</td><td>102200</td><td>17.27</td><td>17.27</td><td>17.14</td><td>17.23</td><td>17.23</td><td>AAAU</td></tr><tr><th>12</th><td>2020-06-17</td><td>153900</td><td>17.19</td><td>17.25</td><td>17.16</td><td>17.25</td><td>17.25</td><td>AAAU</td></tr><tr><th>13</th><td>2020-06-16</td><td>165800</td><td>17.15</td><td>17.25</td><td>17.11</td><td>17.21</td><td>17.21</td><td>AAAU</td></tr><tr><th>14</th><td>2020-06-15</td><td>308700</td><td>17.03</td><td>17.23</td><td>17.0</td><td>17.2</td><td>17.2</td><td>AAAU</td></tr><tr><th>15</th><td>2020-06-12</td><td>161400</td><td>17.34</td><td>17.37</td><td>17.25</td><td>17.27</td><td>17.27</td><td>AAAU</td></tr><tr><th>&vellip;</th><td>&vellip;</td><td>&vellip;</td><td>&vellip;</td><td>&vellip;</td><td>&vellip;</td><td>&vellip;</td><td>&vellip;</td><td>&vellip;</td></tr></tbody></table>"
      ],
      "text/latex": [
       "\\begin{tabular}{r|cccccccc}\n",
       "\t& date & volume & open & high & low & close & adjclose & symbol\\\\\n",
       "\t\\hline\n",
       "\t& Date… & Int64 & Float64 & Float64 & Float64 & Float64 & Float64 & String\\\\\n",
       "\t\\hline\n",
       "\t1 & 2020-07-02 & 257500 & 17.64 & 17.74 & 17.62 & 17.71 & 17.71 & AAAU \\\\\n",
       "\t2 & 2020-07-01 & 468100 & 17.73 & 17.73 & 17.54 & 17.68 & 17.68 & AAAU \\\\\n",
       "\t3 & 2020-06-30 & 319100 & 17.65 & 17.8 & 17.61 & 17.78 & 17.78 & AAAU \\\\\n",
       "\t4 & 2020-06-29 & 405500 & 17.67 & 17.69 & 17.63 & 17.68 & 17.68 & AAAU \\\\\n",
       "\t5 & 2020-06-26 & 335100 & 17.49 & 17.67 & 17.42 & 17.67 & 17.67 & AAAU \\\\\n",
       "\t6 & 2020-06-25 & 246800 & 17.6 & 17.6 & 17.52 & 17.59 & 17.59 & AAAU \\\\\n",
       "\t7 & 2020-06-24 & 329200 & 17.61 & 17.71 & 17.56 & 17.61 & 17.61 & AAAU \\\\\n",
       "\t8 & 2020-06-23 & 351800 & 17.55 & 17.66 & 17.55 & 17.66 & 17.66 & AAAU \\\\\n",
       "\t9 & 2020-06-22 & 308300 & 17.5 & 17.57 & 17.44 & 17.5 & 17.5 & AAAU \\\\\n",
       "\t10 & 2020-06-19 & 153800 & 17.27 & 17.4 & 17.26 & 17.4 & 17.4 & AAAU \\\\\n",
       "\t11 & 2020-06-18 & 102200 & 17.27 & 17.27 & 17.14 & 17.23 & 17.23 & AAAU \\\\\n",
       "\t12 & 2020-06-17 & 153900 & 17.19 & 17.25 & 17.16 & 17.25 & 17.25 & AAAU \\\\\n",
       "\t13 & 2020-06-16 & 165800 & 17.15 & 17.25 & 17.11 & 17.21 & 17.21 & AAAU \\\\\n",
       "\t14 & 2020-06-15 & 308700 & 17.03 & 17.23 & 17.0 & 17.2 & 17.2 & AAAU \\\\\n",
       "\t15 & 2020-06-12 & 161400 & 17.34 & 17.37 & 17.25 & 17.27 & 17.27 & AAAU \\\\\n",
       "\t$\\dots$ & $\\dots$ & $\\dots$ & $\\dots$ & $\\dots$ & $\\dots$ & $\\dots$ & $\\dots$ & $\\dots$ \\\\\n",
       "\\end{tabular}\n"
      ],
      "text/plain": [
       "6852038×8 DataFrame\n",
       "│ Row     │ date       │ volume │ open    │ high    │ low     │ close   │ adjclose │ symbol │\n",
       "│         │ \u001b[90mDates.Date\u001b[39m │ \u001b[90mInt64\u001b[39m  │ \u001b[90mFloat64\u001b[39m │ \u001b[90mFloat64\u001b[39m │ \u001b[90mFloat64\u001b[39m │ \u001b[90mFloat64\u001b[39m │ \u001b[90mFloat64\u001b[39m  │ \u001b[90mString\u001b[39m │\n",
       "├─────────┼────────────┼────────┼─────────┼─────────┼─────────┼─────────┼──────────┼────────┤\n",
       "│ 1       │ 2020-07-02 │ 257500 │ 17.64   │ 17.74   │ 17.62   │ 17.71   │ 17.71    │ AAAU   │\n",
       "│ 2       │ 2020-07-01 │ 468100 │ 17.73   │ 17.73   │ 17.54   │ 17.68   │ 17.68    │ AAAU   │\n",
       "│ 3       │ 2020-06-30 │ 319100 │ 17.65   │ 17.8    │ 17.61   │ 17.78   │ 17.78    │ AAAU   │\n",
       "⋮\n",
       "│ 6852035 │ 2015-01-09 │ 200    │ 0.15    │ 0.15    │ 0.15    │ 0.15    │ 0.146038 │ ZYXI   │\n",
       "│ 6852036 │ 2015-01-07 │ 8100   │ 0.14    │ 0.15    │ 0.13    │ 0.15    │ 0.146038 │ ZYXI   │\n",
       "│ 6852037 │ 2015-01-05 │ 33200  │ 0.22    │ 0.22    │ 0.14    │ 0.16    │ 0.155774 │ ZYXI   │\n",
       "│ 6852038 │ 2015-01-02 │ 100    │ 0.18    │ 0.18    │ 0.18    │ 0.18    │ 0.175245 │ ZYXI   │"
      ]
     },
     "execution_count": 16,
     "metadata": {},
     "output_type": "execute_result"
    }
   ],
   "source": [
    "df = CSV.File(\"fh_5yrs.csv\") |> DataFrame"
   ]
  },
  {
   "cell_type": "markdown",
   "metadata": {},
   "source": [
    "#### Warm up exercises"
   ]
  },
  {
   "cell_type": "markdown",
   "metadata": {},
   "source": [
    "*Get short description of columns in our data frame*"
   ]
  },
  {
   "cell_type": "code",
   "execution_count": null,
   "metadata": {},
   "outputs": [],
   "source": []
  },
  {
   "cell_type": "markdown",
   "metadata": {},
   "source": [
    "(see https://github.com/JuliaData/DataFrames.jl/issues/2269 for a discussion of the design decisions here, feel free to comment there if you have an opinion)"
   ]
  },
  {
   "cell_type": "markdown",
   "metadata": {},
   "source": [
    "*Get information about exact types of the columns stored in the data frame*"
   ]
  },
  {
   "cell_type": "code",
   "execution_count": null,
   "metadata": {},
   "outputs": [],
   "source": []
  },
  {
   "cell_type": "markdown",
   "metadata": {},
   "source": [
    "*Get names of columns as strings*"
   ]
  },
  {
   "cell_type": "code",
   "execution_count": null,
   "metadata": {},
   "outputs": [],
   "source": []
  },
  {
   "cell_type": "markdown",
   "metadata": {},
   "source": [
    "*Get names of columns as `Symbol`s*"
   ]
  },
  {
   "cell_type": "code",
   "execution_count": null,
   "metadata": {},
   "outputs": [],
   "source": []
  },
  {
   "cell_type": "markdown",
   "metadata": {},
   "source": [
    "## DataFrame and SubDataFrame"
   ]
  },
  {
   "cell_type": "markdown",
   "metadata": {},
   "source": [
    "### `getindex`"
   ]
  },
  {
   "cell_type": "markdown",
   "metadata": {},
   "source": [
    "Get a single column as a whole without copying"
   ]
  },
  {
   "cell_type": "code",
   "execution_count": 17,
   "metadata": {},
   "outputs": [
    {
     "data": {
      "text/plain": [
       "1-element Array{Array{Dates.Date,1},1}:\n",
       " [Dates.Date(\"2020-07-02\"), Dates.Date(\"2020-07-01\"), Dates.Date(\"2020-06-30\"), Dates.Date(\"2020-06-29\"), Dates.Date(\"2020-06-26\"), Dates.Date(\"2020-06-25\"), Dates.Date(\"2020-06-24\"), Dates.Date(\"2020-06-23\"), Dates.Date(\"2020-06-22\"), Dates.Date(\"2020-06-19\")  …  Dates.Date(\"2015-01-21\"), Dates.Date(\"2015-01-20\"), Dates.Date(\"2015-01-16\"), Dates.Date(\"2015-01-14\"), Dates.Date(\"2015-01-13\"), Dates.Date(\"2015-01-12\"), Dates.Date(\"2015-01-09\"), Dates.Date(\"2015-01-07\"), Dates.Date(\"2015-01-05\"), Dates.Date(\"2015-01-02\")]"
      ]
     },
     "execution_count": 17,
     "metadata": {},
     "output_type": "execute_result"
    }
   ],
   "source": [
    "unique([df.date, df.\"date\", df[!, 1], df[!, :date], df[!, \"date\"]])"
   ]
  },
  {
   "cell_type": "code",
   "execution_count": 18,
   "metadata": {},
   "outputs": [
    {
     "data": {
      "text/plain": [
       "1-element Array{Array{Dates.Date,1},1}:\n",
       " [Dates.Date(\"2020-07-02\"), Dates.Date(\"2020-07-01\"), Dates.Date(\"2020-06-30\"), Dates.Date(\"2020-06-29\"), Dates.Date(\"2020-06-26\"), Dates.Date(\"2020-06-25\"), Dates.Date(\"2020-06-24\"), Dates.Date(\"2020-06-23\"), Dates.Date(\"2020-06-22\"), Dates.Date(\"2020-06-19\")  …  Dates.Date(\"2015-01-21\"), Dates.Date(\"2015-01-20\"), Dates.Date(\"2015-01-16\"), Dates.Date(\"2015-01-14\"), Dates.Date(\"2015-01-13\"), Dates.Date(\"2015-01-12\"), Dates.Date(\"2015-01-09\"), Dates.Date(\"2015-01-07\"), Dates.Date(\"2015-01-05\"), Dates.Date(\"2015-01-02\")]"
      ]
     },
     "execution_count": 18,
     "metadata": {},
     "output_type": "execute_result"
    }
   ],
   "source": [
    "unique([getproperty(df, :date), getproperty(df, \"date\"), getindex(df, !, 1), getindex(df, !, :date), getindex(df,!, \"date\")])"
   ]
  },
  {
   "cell_type": "markdown",
   "metadata": {},
   "source": [
    "Get a single column as a whole with copying"
   ]
  },
  {
   "cell_type": "code",
   "execution_count": 13,
   "metadata": {},
   "outputs": [
    {
     "data": {
      "text/plain": [
       "1-element Array{Array{Dates.Date,1},1}:\n",
       " [Dates.Date(\"2020-07-02\"), Dates.Date(\"2020-07-01\"), Dates.Date(\"2020-06-30\"), Dates.Date(\"2020-06-29\"), Dates.Date(\"2020-06-26\"), Dates.Date(\"2020-06-25\"), Dates.Date(\"2020-06-24\"), Dates.Date(\"2020-06-23\"), Dates.Date(\"2020-06-22\"), Dates.Date(\"2020-06-19\")  …  Dates.Date(\"2015-01-21\"), Dates.Date(\"2015-01-20\"), Dates.Date(\"2015-01-16\"), Dates.Date(\"2015-01-14\"), Dates.Date(\"2015-01-13\"), Dates.Date(\"2015-01-12\"), Dates.Date(\"2015-01-09\"), Dates.Date(\"2015-01-07\"), Dates.Date(\"2015-01-05\"), Dates.Date(\"2015-01-02\")]"
      ]
     },
     "execution_count": 13,
     "metadata": {},
     "output_type": "execute_result"
    }
   ],
   "source": [
    "unique([copy(df.date), copy(df.\"date\"), df[:, 1], df[:, :date], df[:, \"date\"]])"
   ]
  },
  {
   "cell_type": "markdown",
   "metadata": {},
   "source": [
    "Let us compare the performance of various ways to get a column without copying"
   ]
  },
  {
   "cell_type": "code",
   "execution_count": 21,
   "metadata": {},
   "outputs": [
    {
     "name": "stdout",
     "output_type": "stream",
     "text": [
      "  13.326 ns (0 allocations: 0 bytes)\n",
      "  39.011 ns (0 allocations: 0 bytes)\n",
      "  4.604 ns (0 allocations: 0 bytes)\n",
      "  13.426 ns (0 allocations: 0 bytes)\n",
      "  38.950 ns (0 allocations: 0 bytes)\n"
     ]
    }
   ],
   "source": [
    "@btime $df.date\n",
    "@btime $df.\"date\"\n",
    "@btime $df[!, 1]\n",
    "@btime $df[!, :date]\n",
    "@btime $df[!, \"date\"];"
   ]
  },
  {
   "cell_type": "markdown",
   "metadata": {},
   "source": [
    "#### Exercise"
   ]
  },
  {
   "cell_type": "markdown",
   "metadata": {},
   "source": [
    "Check the same but with copying"
   ]
  },
  {
   "cell_type": "code",
   "execution_count": null,
   "metadata": {},
   "outputs": [],
   "source": []
  },
  {
   "cell_type": "markdown",
   "metadata": {},
   "source": [
    "Do you think it really matters in practice how fast is an access to column of a data frame?"
   ]
  },
  {
   "cell_type": "markdown",
   "metadata": {},
   "source": [
    "Let us check how lookup speed scales with the number of columns:"
   ]
  },
  {
   "cell_type": "code",
   "execution_count": 40,
   "metadata": {},
   "outputs": [
    {
     "name": "stdout",
     "output_type": "stream",
     "text": [
      "  0.078036 seconds (599.57 k allocations: 47.574 MiB)\n"
     ]
    },
    {
     "data": {
      "text/html": [
       "<table class=\"data-frame\"><thead><tr><th></th><th>x1</th><th>x2</th><th>x3</th><th>x4</th><th>x5</th><th>x6</th><th>x7</th><th>x8</th><th>x9</th><th>x10</th><th>x11</th><th>x12</th><th>x13</th><th>x14</th><th>x15</th><th>x16</th><th>x17</th><th>x18</th><th>x19</th><th>x20</th><th>x21</th><th>x22</th><th>x23</th><th>x24</th><th>x25</th><th>x26</th><th>x27</th><th>x28</th><th>x29</th><th>x30</th><th>x31</th><th>x32</th><th>x33</th><th>x34</th><th>x35</th><th>x36</th><th>x37</th><th>x38</th><th>x39</th><th>x40</th><th>x41</th><th>x42</th><th>x43</th><th>x44</th><th>x45</th><th>x46</th><th>x47</th><th>x48</th><th>x49</th><th>x50</th><th>x51</th><th>x52</th><th>x53</th><th>x54</th><th>x55</th><th>x56</th></tr><tr><th></th><th>Float64</th><th>Float64</th><th>Float64</th><th>Float64</th><th>Float64</th><th>Float64</th><th>Float64</th><th>Float64</th><th>Float64</th><th>Float64</th><th>Float64</th><th>Float64</th><th>Float64</th><th>Float64</th><th>Float64</th><th>Float64</th><th>Float64</th><th>Float64</th><th>Float64</th><th>Float64</th><th>Float64</th><th>Float64</th><th>Float64</th><th>Float64</th><th>Float64</th><th>Float64</th><th>Float64</th><th>Float64</th><th>Float64</th><th>Float64</th><th>Float64</th><th>Float64</th><th>Float64</th><th>Float64</th><th>Float64</th><th>Float64</th><th>Float64</th><th>Float64</th><th>Float64</th><th>Float64</th><th>Float64</th><th>Float64</th><th>Float64</th><th>Float64</th><th>Float64</th><th>Float64</th><th>Float64</th><th>Float64</th><th>Float64</th><th>Float64</th><th>Float64</th><th>Float64</th><th>Float64</th><th>Float64</th><th>Float64</th><th>Float64</th></tr></thead><tbody><p>1 rows × 100,000 columns (omitted printing of 99944 columns)</p><tr><th>1</th><td>1.0</td><td>1.0</td><td>1.0</td><td>1.0</td><td>1.0</td><td>1.0</td><td>1.0</td><td>1.0</td><td>1.0</td><td>1.0</td><td>1.0</td><td>1.0</td><td>1.0</td><td>1.0</td><td>1.0</td><td>1.0</td><td>1.0</td><td>1.0</td><td>1.0</td><td>1.0</td><td>1.0</td><td>1.0</td><td>1.0</td><td>1.0</td><td>1.0</td><td>1.0</td><td>1.0</td><td>1.0</td><td>1.0</td><td>1.0</td><td>1.0</td><td>1.0</td><td>1.0</td><td>1.0</td><td>1.0</td><td>1.0</td><td>1.0</td><td>1.0</td><td>1.0</td><td>1.0</td><td>1.0</td><td>1.0</td><td>1.0</td><td>1.0</td><td>1.0</td><td>1.0</td><td>1.0</td><td>1.0</td><td>1.0</td><td>1.0</td><td>1.0</td><td>1.0</td><td>1.0</td><td>1.0</td><td>1.0</td><td>1.0</td></tr></tbody></table>"
      ],
      "text/latex": [
       "\\begin{tabular}{r|ccccccccccccccccccccccccccccccccccccccccccccccccccccccccc}\n",
       "\t& x1 & x2 & x3 & x4 & x5 & x6 & x7 & x8 & x9 & x10 & x11 & x12 & x13 & x14 & x15 & x16 & x17 & x18 & x19 & x20 & x21 & x22 & x23 & x24 & x25 & x26 & x27 & x28 & x29 & x30 & x31 & x32 & x33 & x34 & x35 & x36 & x37 & x38 & x39 & x40 & x41 & x42 & x43 & x44 & x45 & x46 & x47 & x48 & x49 & x50 & x51 & x52 & x53 & x54 & x55 & x56 & \\\\\n",
       "\t\\hline\n",
       "\t& Float64 & Float64 & Float64 & Float64 & Float64 & Float64 & Float64 & Float64 & Float64 & Float64 & Float64 & Float64 & Float64 & Float64 & Float64 & Float64 & Float64 & Float64 & Float64 & Float64 & Float64 & Float64 & Float64 & Float64 & Float64 & Float64 & Float64 & Float64 & Float64 & Float64 & Float64 & Float64 & Float64 & Float64 & Float64 & Float64 & Float64 & Float64 & Float64 & Float64 & Float64 & Float64 & Float64 & Float64 & Float64 & Float64 & Float64 & Float64 & Float64 & Float64 & Float64 & Float64 & Float64 & Float64 & Float64 & Float64 & \\\\\n",
       "\t\\hline\n",
       "\t1 & 1.0 & 1.0 & 1.0 & 1.0 & 1.0 & 1.0 & 1.0 & 1.0 & 1.0 & 1.0 & 1.0 & 1.0 & 1.0 & 1.0 & 1.0 & 1.0 & 1.0 & 1.0 & 1.0 & 1.0 & 1.0 & 1.0 & 1.0 & 1.0 & 1.0 & 1.0 & 1.0 & 1.0 & 1.0 & 1.0 & 1.0 & 1.0 & 1.0 & 1.0 & 1.0 & 1.0 & 1.0 & 1.0 & 1.0 & 1.0 & 1.0 & 1.0 & 1.0 & 1.0 & 1.0 & 1.0 & 1.0 & 1.0 & 1.0 & 1.0 & 1.0 & 1.0 & 1.0 & 1.0 & 1.0 & 1.0 & $\\dots$ \\\\\n",
       "\\end{tabular}\n"
      ],
      "text/plain": [
       "1×100000 DataFrame. Omitted printing of 99951 columns\n",
       "│ Row │ x1      │ x2      │ x3      │ x4      │ x5      │ x6      │ x7      │ x8      │ x9      │ x10     │ x11     │ x12     │ x13     │ x14     │ x15     │ x16     │ x17     │ x18     │ x19     │ x20     │ x21     │ x22     │ x23     │ x24     │ x25     │ x26     │ x27     │ x28     │ x29     │ x30     │ x31     │ x32     │ x33     │ x34     │ x35     │ x36     │ x37     │ x38     │ x39     │ x40     │ x41     │ x42     │ x43     │ x44     │ x45     │ x46     │ x47     │ x48     │ x49     │\n",
       "│     │ \u001b[90mFloat64\u001b[39m │ \u001b[90mFloat64\u001b[39m │ \u001b[90mFloat64\u001b[39m │ \u001b[90mFloat64\u001b[39m │ \u001b[90mFloat64\u001b[39m │ \u001b[90mFloat64\u001b[39m │ \u001b[90mFloat64\u001b[39m │ \u001b[90mFloat64\u001b[39m │ \u001b[90mFloat64\u001b[39m │ \u001b[90mFloat64\u001b[39m │ \u001b[90mFloat64\u001b[39m │ \u001b[90mFloat64\u001b[39m │ \u001b[90mFloat64\u001b[39m │ \u001b[90mFloat64\u001b[39m │ \u001b[90mFloat64\u001b[39m │ \u001b[90mFloat64\u001b[39m │ \u001b[90mFloat64\u001b[39m │ \u001b[90mFloat64\u001b[39m │ \u001b[90mFloat64\u001b[39m │ \u001b[90mFloat64\u001b[39m │ \u001b[90mFloat64\u001b[39m │ \u001b[90mFloat64\u001b[39m │ \u001b[90mFloat64\u001b[39m │ \u001b[90mFloat64\u001b[39m │ \u001b[90mFloat64\u001b[39m │ \u001b[90mFloat64\u001b[39m │ \u001b[90mFloat64\u001b[39m │ \u001b[90mFloat64\u001b[39m │ \u001b[90mFloat64\u001b[39m │ \u001b[90mFloat64\u001b[39m │ \u001b[90mFloat64\u001b[39m │ \u001b[90mFloat64\u001b[39m │ \u001b[90mFloat64\u001b[39m │ \u001b[90mFloat64\u001b[39m │ \u001b[90mFloat64\u001b[39m │ \u001b[90mFloat64\u001b[39m │ \u001b[90mFloat64\u001b[39m │ \u001b[90mFloat64\u001b[39m │ \u001b[90mFloat64\u001b[39m │ \u001b[90mFloat64\u001b[39m │ \u001b[90mFloat64\u001b[39m │ \u001b[90mFloat64\u001b[39m │ \u001b[90mFloat64\u001b[39m │ \u001b[90mFloat64\u001b[39m │ \u001b[90mFloat64\u001b[39m │ \u001b[90mFloat64\u001b[39m │ \u001b[90mFloat64\u001b[39m │ \u001b[90mFloat64\u001b[39m │ \u001b[90mFloat64\u001b[39m │\n",
       "├─────┼─────────┼─────────┼─────────┼─────────┼─────────┼─────────┼─────────┼─────────┼─────────┼─────────┼─────────┼─────────┼─────────┼─────────┼─────────┼─────────┼─────────┼─────────┼─────────┼─────────┼─────────┼─────────┼─────────┼─────────┼─────────┼─────────┼─────────┼─────────┼─────────┼─────────┼─────────┼─────────┼─────────┼─────────┼─────────┼─────────┼─────────┼─────────┼─────────┼─────────┼─────────┼─────────┼─────────┼─────────┼─────────┼─────────┼─────────┼─────────┼─────────┤\n",
       "│ 1   │ 1.0     │ 1.0     │ 1.0     │ 1.0     │ 1.0     │ 1.0     │ 1.0     │ 1.0     │ 1.0     │ 1.0     │ 1.0     │ 1.0     │ 1.0     │ 1.0     │ 1.0     │ 1.0     │ 1.0     │ 1.0     │ 1.0     │ 1.0     │ 1.0     │ 1.0     │ 1.0     │ 1.0     │ 1.0     │ 1.0     │ 1.0     │ 1.0     │ 1.0     │ 1.0     │ 1.0     │ 1.0     │ 1.0     │ 1.0     │ 1.0     │ 1.0     │ 1.0     │ 1.0     │ 1.0     │ 1.0     │ 1.0     │ 1.0     │ 1.0     │ 1.0     │ 1.0     │ 1.0     │ 1.0     │ 1.0     │ 1.0     │"
      ]
     },
     "execution_count": 40,
     "metadata": {},
     "output_type": "execute_result"
    }
   ],
   "source": [
    "@time df_tmp = DataFrame(ones(1, 100_000))"
   ]
  },
  {
   "cell_type": "code",
   "execution_count": 44,
   "metadata": {},
   "outputs": [
    {
     "name": "stdout",
     "output_type": "stream",
     "text": [
      "  15.029 ns (0 allocations: 0 bytes)\n",
      "  57.739 ns (0 allocations: 0 bytes)\n",
      "  4.599 ns (0 allocations: 0 bytes)\n"
     ]
    }
   ],
   "source": [
    "@btime $df_tmp.x100000\n",
    "@btime $df_tmp.\"x100000\"\n",
    "@btime $df_tmp[!, 100000];"
   ]
  }
 ],
 "metadata": {
  "@webio": {
   "lastCommId": null,
   "lastKernelId": null
  },
  "kernelspec": {
   "display_name": "Julia 1.5.0-rc1",
   "language": "julia",
   "name": "julia-1.5"
  },
  "language_info": {
   "file_extension": ".jl",
   "mimetype": "application/julia",
   "name": "julia",
   "version": "1.5.0"
  }
 },
 "nbformat": 4,
 "nbformat_minor": 2
}
